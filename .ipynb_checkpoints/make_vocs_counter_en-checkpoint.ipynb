{
 "cells": [
  {
   "cell_type": "code",
   "execution_count": 8,
   "id": "addressed-funds",
   "metadata": {},
   "outputs": [
    {
     "data": {
      "application/vnd.jupyter.widget-view+json": {
       "model_id": "3cbc88de650f4dfc809676c3c4541964",
       "version_major": 2,
       "version_minor": 0
      },
      "text/plain": [
       "  0%|          | 0/27 [00:00<?, ?it/s]"
      ]
     },
     "metadata": {},
     "output_type": "display_data"
    },
    {
     "name": "stdout",
     "output_type": "stream",
     "text": [
      "len(en_wk) :114926\n",
      "len(en_wk) :86289\n",
      "len(en_wk) :71021\n",
      "len(en_wk) :63422\n",
      "len(en_wk) :57171\n",
      "len(en_wk) :57669\n",
      "len(en_wk) :52276\n",
      "len(en_wk) :51512\n",
      "len(en_wk) :53461\n",
      "len(en_wk) :54986\n",
      "len(en_wk) :57859\n",
      "len(en_wk) :52640\n",
      "len(en_wk) :49950\n",
      "len(en_wk) :54590\n",
      "len(en_wk) :50741\n",
      "len(en_wk) :49065\n",
      "len(en_wk) :51917\n",
      "len(en_wk) :50856\n",
      "len(en_wk) :48980\n",
      "len(en_wk) :41059\n",
      "len(en_wk) :47454\n",
      "len(en_wk) :45084\n",
      "len(en_wk) :45516\n",
      "len(en_wk) :43400\n",
      "len(en_wk) :42190\n",
      "len(en_wk) :41879\n",
      "len(en_wk) :43270\n"
     ]
    },
    {
     "data": {
      "application/vnd.jupyter.widget-view+json": {
       "model_id": "0dcc27b5a3244800b582d356ddab89a0",
       "version_major": 2,
       "version_minor": 0
      },
      "text/plain": [
       "  0%|          | 0/3 [00:00<?, ?it/s]"
      ]
     },
     "metadata": {},
     "output_type": "display_data"
    },
    {
     "name": "stdout",
     "output_type": "stream",
     "text": [
      "len(en_news) :259628\n"
     ]
    },
    {
     "ename": "KeyboardInterrupt",
     "evalue": "",
     "output_type": "error",
     "traceback": [
      "\u001b[0;31m---------------------------------------------------------------------------\u001b[0m",
      "\u001b[0;31mKeyboardInterrupt\u001b[0m                         Traceback (most recent call last)",
      "\u001b[0;32m<ipython-input-8-494f99e94c58>\u001b[0m in \u001b[0;36m<module>\u001b[0;34m\u001b[0m\n\u001b[1;32m     62\u001b[0m \u001b[0;32mfor\u001b[0m \u001b[0mi\u001b[0m \u001b[0;32min\u001b[0m \u001b[0mtqdm\u001b[0m\u001b[0;34m(\u001b[0m\u001b[0mrange\u001b[0m\u001b[0;34m(\u001b[0m\u001b[0;36m1\u001b[0m\u001b[0;34m,\u001b[0m\u001b[0;36m4\u001b[0m\u001b[0;34m)\u001b[0m\u001b[0;34m)\u001b[0m\u001b[0;34m:\u001b[0m\u001b[0;34m\u001b[0m\u001b[0;34m\u001b[0m\u001b[0m\n\u001b[1;32m     63\u001b[0m     \u001b[0mdf\u001b[0m \u001b[0;34m=\u001b[0m \u001b[0mpd\u001b[0m\u001b[0;34m.\u001b[0m\u001b[0mread_csv\u001b[0m\u001b[0;34m(\u001b[0m\u001b[0mpath\u001b[0m\u001b[0;34m+\u001b[0m\u001b[0;34m'news_Data/articles'\u001b[0m\u001b[0;34m+\u001b[0m\u001b[0mstr\u001b[0m\u001b[0;34m(\u001b[0m\u001b[0mi\u001b[0m\u001b[0;34m)\u001b[0m\u001b[0;34m+\u001b[0m\u001b[0;34m'.csv'\u001b[0m\u001b[0;34m)\u001b[0m\u001b[0;34m\u001b[0m\u001b[0;34m\u001b[0m\u001b[0m\n\u001b[0;32m---> 64\u001b[0;31m     \u001b[0men_news\u001b[0m \u001b[0;34m=\u001b[0m \u001b[0mword_count\u001b[0m\u001b[0;34m(\u001b[0m\u001b[0mdf\u001b[0m\u001b[0;34m[\u001b[0m\u001b[0;34m'content'\u001b[0m\u001b[0;34m]\u001b[0m\u001b[0;34m)\u001b[0m\u001b[0;34m\u001b[0m\u001b[0;34m\u001b[0m\u001b[0m\n\u001b[0m\u001b[1;32m     65\u001b[0m \u001b[0;34m\u001b[0m\u001b[0m\n\u001b[1;32m     66\u001b[0m     \"\"\"\n",
      "\u001b[0;32m<ipython-input-8-494f99e94c58>\u001b[0m in \u001b[0;36mword_count\u001b[0;34m(in_data)\u001b[0m\n\u001b[1;32m     36\u001b[0m         \u001b[0;32mif\u001b[0m \u001b[0mi\u001b[0m\u001b[0;34m*\u001b[0m\u001b[0;36m1000\u001b[0m\u001b[0;34m>\u001b[0m\u001b[0mlen\u001b[0m\u001b[0;34m(\u001b[0m\u001b[0min_data\u001b[0m\u001b[0;34m)\u001b[0m\u001b[0;34m:\u001b[0m\u001b[0;32mbreak\u001b[0m\u001b[0;34m\u001b[0m\u001b[0;34m\u001b[0m\u001b[0m\n\u001b[1;32m     37\u001b[0m         \u001b[0;31m#en_ct = Counter()\u001b[0m\u001b[0;34m\u001b[0m\u001b[0;34m\u001b[0m\u001b[0;34m\u001b[0m\u001b[0m\n\u001b[0;32m---> 38\u001b[0;31m         \u001b[0men_ct\u001b[0m \u001b[0;34m=\u001b[0m \u001b[0mCounter\u001b[0m\u001b[0;34m(\u001b[0m\u001b[0mchain\u001b[0m\u001b[0;34m(\u001b[0m\u001b[0;34m*\u001b[0m\u001b[0;34m[\u001b[0m\u001b[0;34m[\u001b[0m\u001b[0mw\u001b[0m \u001b[0;32mfor\u001b[0m \u001b[0mw\u001b[0m \u001b[0;32min\u001b[0m \u001b[0mmodify_sent\u001b[0m\u001b[0;34m(\u001b[0m\u001b[0ms\u001b[0m\u001b[0;34m,\u001b[0m\u001b[0mp_list\u001b[0m\u001b[0;34m)\u001b[0m\u001b[0;34m.\u001b[0m\u001b[0msplit\u001b[0m\u001b[0;34m(\u001b[0m\u001b[0;34m' '\u001b[0m\u001b[0;34m)\u001b[0m\u001b[0;34m]\u001b[0m \u001b[0;32mfor\u001b[0m \u001b[0ms\u001b[0m \u001b[0;32min\u001b[0m \u001b[0min_data\u001b[0m\u001b[0;34m[\u001b[0m\u001b[0;36m1000\u001b[0m\u001b[0;34m*\u001b[0m\u001b[0mi\u001b[0m\u001b[0;34m:\u001b[0m\u001b[0;36m1000\u001b[0m\u001b[0;34m*\u001b[0m\u001b[0mi\u001b[0m\u001b[0;34m+\u001b[0m\u001b[0;36m1000\u001b[0m\u001b[0;34m]\u001b[0m\u001b[0;34m]\u001b[0m\u001b[0;34m)\u001b[0m\u001b[0;34m)\u001b[0m\u001b[0;34m\u001b[0m\u001b[0;34m\u001b[0m\u001b[0m\n\u001b[0m\u001b[1;32m     39\u001b[0m         \u001b[0mout_counts\u001b[0m \u001b[0;34m+=\u001b[0m \u001b[0men_ct\u001b[0m\u001b[0;34m\u001b[0m\u001b[0;34m\u001b[0m\u001b[0m\n\u001b[1;32m     40\u001b[0m     \u001b[0;32mreturn\u001b[0m \u001b[0mout_counts\u001b[0m\u001b[0;34m\u001b[0m\u001b[0;34m\u001b[0m\u001b[0m\n",
      "\u001b[0;32m<ipython-input-8-494f99e94c58>\u001b[0m in \u001b[0;36m<listcomp>\u001b[0;34m(.0)\u001b[0m\n\u001b[1;32m     36\u001b[0m         \u001b[0;32mif\u001b[0m \u001b[0mi\u001b[0m\u001b[0;34m*\u001b[0m\u001b[0;36m1000\u001b[0m\u001b[0;34m>\u001b[0m\u001b[0mlen\u001b[0m\u001b[0;34m(\u001b[0m\u001b[0min_data\u001b[0m\u001b[0;34m)\u001b[0m\u001b[0;34m:\u001b[0m\u001b[0;32mbreak\u001b[0m\u001b[0;34m\u001b[0m\u001b[0;34m\u001b[0m\u001b[0m\n\u001b[1;32m     37\u001b[0m         \u001b[0;31m#en_ct = Counter()\u001b[0m\u001b[0;34m\u001b[0m\u001b[0;34m\u001b[0m\u001b[0;34m\u001b[0m\u001b[0m\n\u001b[0;32m---> 38\u001b[0;31m         \u001b[0men_ct\u001b[0m \u001b[0;34m=\u001b[0m \u001b[0mCounter\u001b[0m\u001b[0;34m(\u001b[0m\u001b[0mchain\u001b[0m\u001b[0;34m(\u001b[0m\u001b[0;34m*\u001b[0m\u001b[0;34m[\u001b[0m\u001b[0;34m[\u001b[0m\u001b[0mw\u001b[0m \u001b[0;32mfor\u001b[0m \u001b[0mw\u001b[0m \u001b[0;32min\u001b[0m \u001b[0mmodify_sent\u001b[0m\u001b[0;34m(\u001b[0m\u001b[0ms\u001b[0m\u001b[0;34m,\u001b[0m\u001b[0mp_list\u001b[0m\u001b[0;34m)\u001b[0m\u001b[0;34m.\u001b[0m\u001b[0msplit\u001b[0m\u001b[0;34m(\u001b[0m\u001b[0;34m' '\u001b[0m\u001b[0;34m)\u001b[0m\u001b[0;34m]\u001b[0m \u001b[0;32mfor\u001b[0m \u001b[0ms\u001b[0m \u001b[0;32min\u001b[0m \u001b[0min_data\u001b[0m\u001b[0;34m[\u001b[0m\u001b[0;36m1000\u001b[0m\u001b[0;34m*\u001b[0m\u001b[0mi\u001b[0m\u001b[0;34m:\u001b[0m\u001b[0;36m1000\u001b[0m\u001b[0;34m*\u001b[0m\u001b[0mi\u001b[0m\u001b[0;34m+\u001b[0m\u001b[0;36m1000\u001b[0m\u001b[0;34m]\u001b[0m\u001b[0;34m]\u001b[0m\u001b[0;34m)\u001b[0m\u001b[0;34m)\u001b[0m\u001b[0;34m\u001b[0m\u001b[0;34m\u001b[0m\u001b[0m\n\u001b[0m\u001b[1;32m     39\u001b[0m         \u001b[0mout_counts\u001b[0m \u001b[0;34m+=\u001b[0m \u001b[0men_ct\u001b[0m\u001b[0;34m\u001b[0m\u001b[0;34m\u001b[0m\u001b[0m\n\u001b[1;32m     40\u001b[0m     \u001b[0;32mreturn\u001b[0m \u001b[0mout_counts\u001b[0m\u001b[0;34m\u001b[0m\u001b[0;34m\u001b[0m\u001b[0m\n",
      "\u001b[0;32m<ipython-input-8-494f99e94c58>\u001b[0m in \u001b[0;36mmodify_sent\u001b[0;34m(sent, p_list)\u001b[0m\n\u001b[1;32m     28\u001b[0m \u001b[0;32mdef\u001b[0m \u001b[0mmodify_sent\u001b[0m\u001b[0;34m(\u001b[0m\u001b[0msent\u001b[0m\u001b[0;34m,\u001b[0m\u001b[0mp_list\u001b[0m\u001b[0;34m)\u001b[0m\u001b[0;34m:\u001b[0m\u001b[0;34m\u001b[0m\u001b[0;34m\u001b[0m\u001b[0m\n\u001b[1;32m     29\u001b[0m     \u001b[0;32mfor\u001b[0m \u001b[0mp\u001b[0m \u001b[0;32min\u001b[0m \u001b[0mp_list\u001b[0m\u001b[0;34m:\u001b[0m\u001b[0;34m\u001b[0m\u001b[0;34m\u001b[0m\u001b[0m\n\u001b[0;32m---> 30\u001b[0;31m         \u001b[0msent\u001b[0m \u001b[0;34m=\u001b[0m \u001b[0mp\u001b[0m\u001b[0;34m.\u001b[0m\u001b[0msub\u001b[0m\u001b[0;34m(\u001b[0m\u001b[0;34m' '\u001b[0m\u001b[0;34m,\u001b[0m\u001b[0msent\u001b[0m\u001b[0;34m)\u001b[0m\u001b[0;34m\u001b[0m\u001b[0;34m\u001b[0m\u001b[0m\n\u001b[0m\u001b[1;32m     31\u001b[0m     \u001b[0;32mreturn\u001b[0m \u001b[0msent\u001b[0m\u001b[0;34m.\u001b[0m\u001b[0mstrip\u001b[0m\u001b[0;34m(\u001b[0m\u001b[0;34m)\u001b[0m\u001b[0;34m\u001b[0m\u001b[0;34m\u001b[0m\u001b[0m\n\u001b[1;32m     32\u001b[0m \u001b[0;34m\u001b[0m\u001b[0m\n",
      "\u001b[0;31mKeyboardInterrupt\u001b[0m: "
     ]
    }
   ],
   "source": [
    "\n",
    "# from \"/Notebook/preProject/enko_new_bpe_vocabs_0616.ipynb\"\n",
    "\n",
    "import pandas as pd\n",
    "from tqdm.notebook import tqdm\n",
    "from itertools import chain\n",
    "from collections import Counter\n",
    "import re\n",
    "\n",
    "p1 = re.compile(r'[^A-Za-z0-9\\'\\-\\.]')\n",
    "q1 =re.compile(r'\\.\\s*$')\n",
    "q2 = re.compile(r\"\\'\\s\")\n",
    "q3 = re.compile(r\"\\s\\'\")\n",
    "q4 = re.compile(r'\\s+')\n",
    "\n",
    "p_list = [p1,q1,q2,q3,q4]\n",
    "\n",
    "def json_save(data, f_name):\n",
    "    import json\n",
    "    json = json.dumps(data)\n",
    "    with open(f_name +\".json\",\"w\") as f:\n",
    "        f.write(json) \n",
    "\n",
    "def json_read(f_name):\n",
    "    import json\n",
    "    with open(f_name) as f:\n",
    "        return json.load(f)\n",
    "\n",
    "def modify_sent(sent,p_list):\n",
    "    for p in p_list:\n",
    "        sent = p.sub(' ',sent)\n",
    "    return sent.strip()\n",
    "\n",
    "def word_count(in_data, out_counts):\n",
    "    \n",
    "    for i in range(1000):\n",
    "        if i*1000>len(in_data):break\n",
    "        #en_ct = Counter()\n",
    "        en_ct = Counter(chain(*[[w for w in modify_sent(s,p_list).split(' ')] for s in in_data[1000*i:1000*i+1000]]))\n",
    "        out_counts += en_ct\n",
    "    return out_counts\n",
    "\n",
    "en_chars = []\n",
    "ko_words = []\n",
    "\n",
    "path = \"/home/john/Notebook/\"\n",
    "path2 = \"preProject/create_vocabs_en/data/\"\n",
    "\n",
    "en_wk = Counter()\n",
    "for ik in tqdm(range(1,28)):\n",
    "    with open(path+\"wiki_en/wiki_iter\"+str(ik)+\".txt\",'r') as f:\n",
    "        X = f.read().split('\\n')    \n",
    "    en_wk = word_count(X, en_wk)\n",
    "    \"\"\"\n",
    "    for i in range(1000):\n",
    "        if i*1000>len(X):break\n",
    "        en_ct = Counter(chain(*[[w for w in modify_sent(s,p_list).split(' ')] for s in X[1000*i:1000*i+1000]]))\n",
    "        en_wk += en_ct\n",
    "    \"\"\"        \n",
    "    print(\"len(en_wk) :{}\".format(len(en_wk)))\n",
    "\n",
    "json_save(en_wk,path+path2+'counted_vocs_en_wk_check')\n",
    "\n",
    "en_news = Counter()\n",
    "for i in tqdm(range(1,4)):\n",
    "    df = pd.read_csv(path+'news_Data/articles'+str(i)+'.csv') \n",
    "    en_news = word_count(df['content'], en_news)\n",
    "    \n",
    "    \"\"\"\n",
    "    for i in range(1000):\n",
    "        if i*1000>len(df):break\n",
    "        #en_ct = Counter()\n",
    "        en_ct = Counter(chain(*[[w for w in modify_sent(s,p_list).split(' ')] for s in df['content'][1000*i:1000*i+1000]]))\n",
    "        en_news += en_ct\n",
    "    \"\"\"\n",
    "\n",
    "    print(\"len(en_news) :{}\".format(len(en_news)))\n",
    "print(\"len(en_news) :{}\".format(len(en_news)))\n",
    "json_save(en_news,path+path2+'counted_vocs_en_news_check')\n",
    "\n",
    "\"\"\"\n",
    "en_news = json_read('./en_es_after_0613/counted_vocs_0613_en_news.json')\n",
    "en_wk = json_read('./en_es_after_0613/counted_vocs_0613_en_wk.json')\n",
    "\"\"\"\n",
    "\n",
    "en_count = Counter()\n",
    "for i in tqdm(range(1,5)):\n",
    "    df = pd.read_excel(path+'Data/3_문어체_뉴스('+str(i)+')_191213.xlsx')\n",
    "    parallel = df['ID 원문 번역문'.split(' ')]\n",
    "    en_count = word_count(parallel['번역문'], en_count)\n",
    "    \"\"\"\n",
    "    for i in range(1000):\n",
    "        if i*1000>len(df):break    \n",
    "        #en_ct = Counter()\n",
    "        en_ct = Counter(chain(*[[w for w in modify_sent(s,p_list).split(' ')] for s in parallel['번역문'][1000*i:1000*i+1000]]))        \n",
    "        en_count += en_ct\n",
    "    \"\"\"\n",
    "\n",
    "    print(\"len(en_count) :{}\".format(len(en_count)))\n",
    "\n",
    "en_count = Counter({k:v//3 for k,v in en_count.items()})  \n",
    "\n",
    "print(\"len(en_count) :{}\".format(len(en_count)))    \n",
    "json_save(en_count,path+path2+'counted_vocs_ko_news_check')\n",
    "\n",
    "json_save(en_count+en_news+en_wk,path+path2+'counted_vocs_check')"
   ]
  },
  {
   "cell_type": "code",
   "execution_count": 5,
   "id": "following-interview",
   "metadata": {},
   "outputs": [
    {
     "data": {
      "text/plain": [
       "Counter({'동해물과': 2, '백두산이': 1, '마르고': 2, '한라산이': 1, '높다': 1})"
      ]
     },
     "execution_count": 5,
     "metadata": {},
     "output_type": "execute_result"
    }
   ],
   "source": [
    "from collections import Counter\n",
    "aa =Counter(\"동해물과 백두산이 마르고\".split())\n",
    "bb =Counter(\"동해물과 한라산이 마르고 높다\".split())\n",
    "aa+bb"
   ]
  },
  {
   "cell_type": "code",
   "execution_count": null,
   "id": "painful-grocery",
   "metadata": {},
   "outputs": [],
   "source": []
  }
 ],
 "metadata": {
  "kernelspec": {
   "display_name": "Python 3",
   "language": "python",
   "name": "python3"
  },
  "language_info": {
   "codemirror_mode": {
    "name": "ipython",
    "version": 3
   },
   "file_extension": ".py",
   "mimetype": "text/x-python",
   "name": "python",
   "nbconvert_exporter": "python",
   "pygments_lexer": "ipython3",
   "version": "3.7.9"
  }
 },
 "nbformat": 4,
 "nbformat_minor": 5
}
