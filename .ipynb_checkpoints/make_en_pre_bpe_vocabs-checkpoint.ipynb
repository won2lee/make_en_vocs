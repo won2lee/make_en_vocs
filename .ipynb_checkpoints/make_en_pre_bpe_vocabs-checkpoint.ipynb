{
 "cells": [
  {
   "cell_type": "code",
   "execution_count": 29,
   "id": "assigned-expense",
   "metadata": {},
   "outputs": [
    {
     "name": "stdout",
     "output_type": "stream",
     "text": [
      "Vocabs ; 296652\n",
      "vocabs ; 250301\n"
     ]
    },
    {
     "data": {
      "application/vnd.jupyter.widget-view+json": {
       "model_id": "14f71ef565804b0cafc2926e3c3fedf8",
       "version_major": 2,
       "version_minor": 0
      },
      "text/plain": [
       "  0%|          | 0/250301 [00:00<?, ?it/s]"
      ]
     },
     "metadata": {},
     "output_type": "display_data"
    },
    {
     "data": {
      "application/vnd.jupyter.widget-view+json": {
       "model_id": "e8de8ff29252430f95052c053b039dcd",
       "version_major": 2,
       "version_minor": 0
      },
      "text/plain": [
       "  0%|          | 0/41560 [00:00<?, ?it/s]"
      ]
     },
     "metadata": {},
     "output_type": "display_data"
    },
    {
     "name": "stdout",
     "output_type": "stream",
     "text": [
      "updated items : 41544,  added items : 16\n"
     ]
    },
    {
     "data": {
      "application/vnd.jupyter.widget-view+json": {
       "model_id": "77edc2e112bf492ca8efa7df414bc35c",
       "version_major": 2,
       "version_minor": 0
      },
      "text/plain": [
       "  0%|          | 0/208758 [00:00<?, ?it/s]"
      ]
     },
     "metadata": {},
     "output_type": "display_data"
    },
    {
     "data": {
      "application/vnd.jupyter.widget-view+json": {
       "model_id": "29440678823f435f87cddbc66ec64732",
       "version_major": 2,
       "version_minor": 0
      },
      "text/plain": [
       "  0%|          | 0/41817 [00:00<?, ?it/s]"
      ]
     },
     "metadata": {},
     "output_type": "display_data"
    },
    {
     "name": "stdout",
     "output_type": "stream",
     "text": [
      "updated items : 41375,  added items : 442\n"
     ]
    },
    {
     "data": {
      "application/vnd.jupyter.widget-view+json": {
       "model_id": "b0b52b799c21443592d2a335817f17ff",
       "version_major": 2,
       "version_minor": 0
      },
      "text/plain": [
       "  0%|          | 0/208192 [00:00<?, ?it/s]"
      ]
     },
     "metadata": {},
     "output_type": "display_data"
    },
    {
     "name": "stdout",
     "output_type": "stream",
     "text": [
      "56167 208192 164395\n"
     ]
    },
    {
     "data": {
      "application/vnd.jupyter.widget-view+json": {
       "model_id": "bb34024ab363407885118236b1571a2b",
       "version_major": 2,
       "version_minor": 0
      },
      "text/plain": [
       "  0%|          | 0/56167 [00:00<?, ?it/s]"
      ]
     },
     "metadata": {},
     "output_type": "display_data"
    },
    {
     "name": "stdout",
     "output_type": "stream",
     "text": [
      "updated items : 36714,  added items : 19453\n",
      "de_dotted ; 56167\n",
      "XX ; 183848\n"
     ]
    }
   ],
   "source": [
    "import copy\n",
    "#from counter_vocab_tuning import dict_merge\n",
    "#from collections import Counter\n",
    "from tqdm.notebook import tqdm\n",
    "\n",
    "def json_save(data, f_name):\n",
    "    import json\n",
    "    json = json.dumps(data)\n",
    "    with open(f_name +\".json\",\"w\") as f:\n",
    "        f.write(json) \n",
    "\n",
    "def json_read(f_name):\n",
    "    import json\n",
    "    with open(f_name) as f:\n",
    "        return json.load(f)\n",
    "    \n",
    "def dict_merge(src_dict, tgt_dict):\n",
    "    \n",
    "    updated_items = 0\n",
    "    added_items = 0\n",
    "    \n",
    "    for k,v in tqdm(src_dict.items()):\n",
    "        if k in tgt_dict.keys():\n",
    "            tgt_dict[k] =  tgt_dict[k] + v \n",
    "            updated_items += 1\n",
    "        else:\n",
    "            tgt_dict[k] = v\n",
    "            added_items += 1\n",
    "    \n",
    "    print(\"updated items : {},  added items : {}\".format(updated_items, added_items)) \n",
    "    \n",
    "    return updated_items, added_items\n",
    "    \n",
    "def add_item(k,v,dct):\n",
    "    if k in dct.keys():\n",
    "        dct[k] += v\n",
    "    else:\n",
    "        dct[k] = v\n",
    "        \n",
    "def modi_dict(k,l,v,dt_to_add,dt_to_pop):\n",
    "    add_item(k[:-l], v, dt_to_add)\n",
    "    add_item(k[-l:], v, dt_to_add)\n",
    "    dt_to_pop.pop(k,1)\n",
    "    \n",
    "X = json_read('./data/counted_vocs.json')\n",
    "Vocabs = {k.strip():v for k,v in X.items() if v>2}\n",
    "Vocabs.pop('',1)\n",
    "Vocabs.pop('.',1)\n",
    "print(\"Vocabs ; {}\".format(len(Vocabs)))\n",
    "\n",
    "###############################?????????\n",
    "sffx1 = 'd s r .'.split(' ')\n",
    "sffx2 = \"es ed er 's\".split(' ') \n",
    "sffx3 = [\"est\", \"ing\"]\n",
    "\n",
    "vocabs = {}\n",
    "for k,v in Vocabs.items():\n",
    "    add_item(k.lower(), v, vocabs)\n",
    "    \n",
    "print(\"vocabs ; {}\".format(len(vocabs)))\n",
    "\n",
    "de_dotted = {}\n",
    "XX = copy.deepcopy(vocabs)\n",
    "for k,v in tqdm(vocabs.items()):\n",
    "    if (len(k) >3 and k[-1] =='.' and (k[:-1] in vocabs.keys())):  \n",
    "        modi_dict(k,1,v,de_dotted,XX)\n",
    "        \"\"\"\n",
    "        add_item(k[:-1], v, de_dotted)\n",
    "        add_item(k[-1:], v, de_dotted)\n",
    "        XX.pop(k,1)\n",
    "        \"\"\"\n",
    "\n",
    "\n",
    "_,_ = dict_merge(de_dotted,XX)\n",
    "vocabs = copy.deepcopy(XX)\n",
    "\n",
    "for k,v in tqdm(vocabs.items()):\n",
    "    if (len(k) >6 and k[-4:] in ['ness','ment'] and k[:-4] in vocabs.keys()):\n",
    "        modi_dict(k,4,v,de_dotted,XX)\n",
    "        \"\"\"\n",
    "        add_item(k[:-4], v, de_dotted)\n",
    "        add_item(k[-4:], v, de_dotted)\n",
    "        XX.pop(k,1)\n",
    "        \"\"\"\n",
    "\n",
    "_,_ = dict_merge(de_dotted,XX)\n",
    "vocabs = copy.deepcopy(XX)\n",
    "\n",
    "for k,v in tqdm(vocabs.items()):\n",
    " \n",
    "    if (len(k) >5 and k[-3:] in ['ing','ion'] and \n",
    "        (k[:-3] in vocabs.keys() or k[:-3]+'e' in vocabs.keys() or k[:-3]+'ed' in vocabs.keys())):\n",
    "        modi_dict(k,3,v,de_dotted,XX)\n",
    "        \"\"\"\n",
    "        add_item(k[:-3], v, de_dotted)\n",
    "        add_item(k[-3:], v, de_dotted)\n",
    "        XX.pop(k,1)\n",
    "        \"\"\"\n",
    "    elif (len(k) > 4 and k[-2:] in ['er','es','ed'] and \n",
    "          (k[:-2]+'e' in vocabs.keys() or (k[:-2] in vocabs.keys() and vocabs[k] < vocabs[k[:-2]]*3)) \n",
    "           and k[:-2]+'ed' in vocabs.keys()):\n",
    "        modi_dict(k,2,v,de_dotted,XX)\n",
    "        \"\"\"\n",
    "        add_item(k[:-2], v, de_dotted)\n",
    "        add_item(k[-2:], v, de_dotted)\n",
    "        XX.pop(k,1)\n",
    "        \"\"\"\n",
    "\n",
    "    elif len(k) >4 and k[-2:] in [\"'s\",\"ly\"] and k[:-2] in vocabs.keys():\n",
    "        modi_dict(k,2,v,de_dotted,XX)\n",
    "        \"\"\"\n",
    "        add_item(k[:-2], v, de_dotted)\n",
    "        add_item(k[-2:], v, de_dotted)\n",
    "        XX.pop(k,1)\n",
    "        \"\"\"\n",
    "\n",
    "    elif (len(k) >3 and k[-1] in ['s','e'] and (k[:-1]+'ed' in vocabs.keys() or k[:-1] in vocabs.keys())): \n",
    "        modi_dict(k,1,v,de_dotted,XX)\n",
    "        \"\"\"\n",
    "        add_item(k[:-1], v, de_dotted)\n",
    "        add_item(k[-1:], v, de_dotted)\n",
    "        XX.pop(k,1)\n",
    "        \"\"\"\n",
    "\n",
    "\"\"\"\n",
    "for k,v in tqdm(vocabs.items()):\n",
    "    if len(k) >5 and k[-3:] in sffx3 and k[:-3] in vocabs.keys() and vocabs[k[:-3]] > vocabs[k]:\n",
    "        add_item(k[:-3], v, de_dotted)\n",
    "        add_item(k[-3:], v, de_dotted)\n",
    "        XX.pop(k,1)\n",
    "    elif len(k) >4 and k[-2:] in sffx2 and k[:-2] in vocabs.keys() and vocabs[k[:-2]] > vocabs[k]:\n",
    "        add_item(k[:-2], v, de_dotted)\n",
    "        add_item(k[-2:], v, de_dotted)\n",
    "        XX.pop(k,1)\n",
    "    elif len(k) >3 and k[-1:] in sffx1 and k[:-1] in vocabs.keys() and vocabs[k[:-1]] > vocabs[k]:\n",
    "        add_item(k[:-1], v, de_dotted)\n",
    "        add_item(k[-1:], v, de_dotted)\n",
    "        XX.pop(k,1)\n",
    "\"\"\"        \n",
    "print(len(de_dotted), len(vocabs), len(XX))\n",
    "#vocabs = {k:v for k,v in vocabs.items() if k[-1] !='.'}\n",
    "_,_ = dict_merge(de_dotted,XX)     \n",
    "\n",
    "print(\"de_dotted ; {}\".format(len(de_dotted)))\n",
    "print(\"XX ; {}\".format(len(XX)))"
   ]
  },
  {
   "cell_type": "code",
   "execution_count": 1,
   "id": "stylish-habitat",
   "metadata": {},
   "outputs": [],
   "source": [
    "import pandas as pd\n",
    "import re\n",
    "\n",
    "df = pd.read_excel('./data/pre_suffix.xlsx')\n",
    "xffix = list(df['xffix'])\n",
    "p = re.compile(r',')\n",
    "q = re.compile(r'\\s+')\n",
    "r = re.compile(r'\\/')\n",
    "r2 = re.compile(r'\\[.*\\]')\n",
    "r3 = re.compile(r'\\-')\n",
    "\n",
    "xffx = [r2.sub('',r.sub(' ',q.sub(' ',p.sub(' ',k)))).strip() for k in xffix if type(k) is str]\n",
    "xffx = ' '.join(xffx).split(' ')\n",
    "pxffx = [r3.sub('',k) for k in xffx if k[0] is not '-']\n",
    "sxffx = [r3.sub('',k) for k in xffx if k[0] is '-']"
   ]
  },
  {
   "cell_type": "code",
   "execution_count": 2,
   "id": "lonely-conspiracy",
   "metadata": {},
   "outputs": [],
   "source": [
    "pre_fixes = 'ab ad ac af ag al ap at as acro alter ante anti auto be com co'.split(' ')\n",
    "pre_fixes += 'col con cor contra counter de dia di dis down dys en em epi ex ef extra'.split(' ') \n",
    "pre_fixes += 'fore hemi hexa hyper hypo ig in il im ir infra inter intra'.split(' ')\n",
    "pre_fixes += 'macro mal maxi mesco meta micro mid mini mis mono multi'.split(' ') \n",
    "pre_fixes += 'non ob oc octo of op out over pan para penta  poly peri post'.split(' ')\n",
    "pre_fixes += 'pre pro proto pseudo quadri quasi re self semi'.split(' ')\n",
    "pre_fixes += 'sub suc suf sug sup super supra sur sus syn sym tetra trans'.split(' ')\n",
    "pre_fixes += 'ultra un under up xeno'.split(' ')\n",
    "pre_fixes += pxffx\n",
    "\n",
    "suf_fx = 's en ed en ing er est'.split(' ')\n",
    "suf_fx += 'tion ation sion er cian ess ness al ary ment y al ary able ible ly ful ize ate'.split(' ')\n",
    "suf_fx += 'hood ism ist ish oid logy ology ant'.split(' ')\n",
    "suf_fx += sxffx"
   ]
  },
  {
   "cell_type": "code",
   "execution_count": 6,
   "id": "assigned-bangkok",
   "metadata": {},
   "outputs": [],
   "source": [
    "def json_save(data, f_name):\n",
    "    import json\n",
    "    json = json.dumps(data)\n",
    "    with open(f_name +\".json\",\"w\") as f:\n",
    "        f.write(json) \n",
    "\n",
    "def json_read(f_name):\n",
    "    import json\n",
    "    with open(f_name) as f:\n",
    "        return json.load(f)\n",
    "\n",
    "XXX = {\"prefixes\":pre_fixes,\"suffixes\":suf_fx} \n",
    "path = \"./data/en_vocabs/\"\n",
    "json_save(XXX,path+'pre_suffx_0515')   \n",
    "#pre_suffix.json"
   ]
  },
  {
   "cell_type": "code",
   "execution_count": 30,
   "id": "roman-brass",
   "metadata": {},
   "outputs": [
    {
     "data": {
      "application/vnd.jupyter.widget-view+json": {
       "model_id": "4cf1ab458a594a7aaea8bbb62f985e0c",
       "version_major": 2,
       "version_minor": 0
      },
      "text/plain": [
       "  0%|          | 0/183848 [00:00<?, ?it/s]"
      ]
     },
     "metadata": {},
     "output_type": "display_data"
    },
    {
     "name": "stdout",
     "output_type": "stream",
     "text": [
      "[('the', 5608987), ('e', 3086565), ('in', 3057968), ('an', 1602022), ('of', 1418340), ('re', 1073436), ('ment', 892592), ('a', 887815), ('be', 792696), ('with', 753357), ('for', 749243), ('on', 665076), ('con', 576314), ('com', 544811), ('pro', 506762), ('as', 474477), ('de', 468841), ('stat', 403184), ('pre', 384908), ('at', 366879)]\n",
      "[('er', 1982957), ('s', 1754188), ('ent', 1366355), ('y', 1303253), ('or', 958602), ('en', 792281), ('al', 738788), ('an', 697350), ('ation', 590679), ('ing', 570666), ('ar', 531497), ('ed', 485465), ('ic', 449197), ('ity', 396854), ('tion', 365567), ('est', 345411), ('ies', 307301), ('ial', 302736), ('ment', 292229), ('es', 278028)]\n"
     ]
    }
   ],
   "source": [
    "\"\"\"\n",
    "pre_fixes = 'ab ad ac af ag al ap at as acro alter ante anti auto be com co'.split(' ')\n",
    "pre_fixes += 'col con cor contra counter de dia di dis down dys en em epi ex ef extra'.split(' ') \n",
    "pre_fixes += 'fore hemi hexa hyper hypo ig in il im ir infra inter intra'.split(' ')\n",
    "pre_fixes += 'macro mal maxi mesco meta micro mid mini mis mono multi'.split(' ') \n",
    "pre_fixes += 'non ob oc octo of op out over pan para penta  poly peri post'.split(' ')\n",
    "pre_fixes += 'pre pro proto pseudo quadri quasi re self semi'.split(' ')\n",
    "pre_fixes += 'sub suc suf sug sup super supra sur sus syn sym tetra trans'.split(' ')\n",
    "pre_fixes += 'ultra un under up xeno'.split(' ')\n",
    "pre_fixes += pxffx\n",
    "\n",
    "Pre_fixes = [k.capitalize() for k in pre_fixes]\n",
    "pre_fx = pre_fixes + Pre_fixes\n",
    "\n",
    "suf_fx = 's en ed en ing er est'.split(' ')\n",
    "suf_fx += 'tion ation sion er cian ess ness al ary ment y al ary able ible ly ful ize ate'.split(' ')\n",
    "suf_fx += 'hood ism ist ish oid logy ology ant'.split(' ')\n",
    "suf_fx += sxffx\n",
    "\"\"\"\n",
    "path = \"./data/en_vocabs/\"\n",
    "pre_suffx = json_read(path+'pre_suffx_0515.json') \n",
    "pre_fx = [k.capitalize() for k in pre_suffx[\"prefixes\"]] + pre_suffx[\"prefixes\"]\n",
    "suf_fx = pre_suffx[\"suffixes\"]\n",
    "\n",
    "pre_fx = sorted(list(set(pre_fx)), key=lambda x:len(x), reverse = True)\n",
    "suf_fx = sorted(list(set(suf_fx)), key=lambda x:len(x), reverse = True)\n",
    "\n",
    "import copy\n",
    "#en_count = json_read('./en_es_after_0613/counted_vocs_0613.json')\n",
    "XXX = copy.deepcopy(XX)\n",
    "#c_chars = [chr(i) for i in range(ord('A'),ord('Z')+1)]\n",
    "\n",
    "prefx = {k:100 for k in pre_fx}\n",
    "suffx = {k:100 for k in suf_fx}\n",
    "\n",
    "p_multi = 0.2\n",
    "s_multi = 0.2\n",
    "\n",
    "for k,v in tqdm(XXX.items()):\n",
    " \n",
    "    for s in [pf for pf in pre_fx if len(pf)<len(k)+1]:\n",
    "        if k[:len(s)] == s:\n",
    "            prefx[s] += int(v * len(s) * p_multi)\n",
    "            break\n",
    "            \n",
    "    for s in [pf for pf in suf_fx if len(pf)<len(k)]:\n",
    "        if k[-len(s):] == s:\n",
    "            suffx[s] += int(v * len(s) * s_multi)\n",
    "            break        \n",
    "    \n",
    "pf = sorted(prefx.items(), key=lambda x:x[1], reverse = True)\n",
    "sf = sorted(suffx.items(), key=lambda x:x[1], reverse = True)\n",
    "\n",
    "print(pf[:20])\n",
    "print(sf[:20])\n"
   ]
  },
  {
   "cell_type": "code",
   "execution_count": 31,
   "id": "pleasant-vault",
   "metadata": {},
   "outputs": [],
   "source": [
    "path = \"./data/en_vocabs/\"\n",
    "Xffix ={'prefix':prefx,'suffix':suffx}\n",
    "json_save(Xffix,path+'pre_suf_fix_check')\n",
    "XXX.update(prefx)\n",
    "XXX.update(suffx)\n",
    "json_save(XXX,path+'counted_vocs_0613_added_pre_suffx_check')\n",
    "vocabs = {' '.join([c for c in k]):v for k,v in XXX.items()}\n",
    "json_save(XXX, path+'vocabs_check')"
   ]
  },
  {
   "cell_type": "code",
   "execution_count": 6,
   "id": "turned-protection",
   "metadata": {},
   "outputs": [
    {
     "data": {
      "text/plain": [
       "184729"
      ]
     },
     "execution_count": 6,
     "metadata": {},
     "output_type": "execute_result"
    }
   ],
   "source": [
    "len(vocabs)"
   ]
  },
  {
   "cell_type": "code",
   "execution_count": 13,
   "id": "comparative-rebate",
   "metadata": {},
   "outputs": [
    {
     "ename": "AssertionError",
     "evalue": "",
     "output_type": "error",
     "traceback": [
      "\u001b[0;31m---------------------------------------------------------------------------\u001b[0m",
      "\u001b[0;31mAssertionError\u001b[0m                            Traceback (most recent call last)",
      "\u001b[0;32m<ipython-input-13-e291e38ccda6>\u001b[0m in \u001b[0;36m<module>\u001b[0;34m\u001b[0m\n\u001b[1;32m      2\u001b[0m \u001b[0mbb\u001b[0m \u001b[0;34m=\u001b[0m \u001b[0;34m{\u001b[0m\u001b[0;34m\"a\"\u001b[0m\u001b[0;34m:\u001b[0m\u001b[0;36m1\u001b[0m\u001b[0;34m,\u001b[0m \u001b[0;34m\"b\"\u001b[0m\u001b[0;34m:\u001b[0m\u001b[0;36m2\u001b[0m\u001b[0;34m}\u001b[0m\u001b[0;34m\u001b[0m\u001b[0;34m\u001b[0m\u001b[0m\n\u001b[1;32m      3\u001b[0m \u001b[0mcc\u001b[0m \u001b[0;34m=\u001b[0m \u001b[0;34m{\u001b[0m\u001b[0;34m\"a\"\u001b[0m\u001b[0;34m:\u001b[0m\u001b[0;36m1\u001b[0m\u001b[0;34m,\u001b[0m \u001b[0;34m\"c\"\u001b[0m\u001b[0;34m:\u001b[0m\u001b[0;36m2\u001b[0m\u001b[0;34m}\u001b[0m\u001b[0;34m\u001b[0m\u001b[0;34m\u001b[0m\u001b[0m\n\u001b[0;32m----> 4\u001b[0;31m \u001b[0;32massert\u001b[0m \u001b[0;34m(\u001b[0m\u001b[0maa\u001b[0m\u001b[0;34m==\u001b[0m\u001b[0mcc\u001b[0m\u001b[0;34m)\u001b[0m\u001b[0;34m\u001b[0m\u001b[0;34m\u001b[0m\u001b[0m\n\u001b[0m",
      "\u001b[0;31mAssertionError\u001b[0m: "
     ]
    }
   ],
   "source": [
    "aa = {\"a\":1, \"b\":2}\n",
    "bb = {\"a\":1, \"b\":2}\n",
    "cc = {\"a\":1, \"c\":2}\n",
    "assert (aa==cc)"
   ]
  },
  {
   "cell_type": "code",
   "execution_count": 32,
   "id": "abstract-huntington",
   "metadata": {},
   "outputs": [],
   "source": [
    "aa = json_read(path+'vocabs.json')\n",
    "bb = json_read(path+'vocabs_check.json')\n",
    "assert (aa==bb)"
   ]
  },
  {
   "cell_type": "code",
   "execution_count": 33,
   "id": "liberal-auckland",
   "metadata": {},
   "outputs": [
    {
     "name": "stdout",
     "output_type": "stream",
     "text": [
      "Writing pre_suffx_added_voc.py\n"
     ]
    }
   ],
   "source": [
    "%%writefile pre_suffx_added_voc.py\n",
    "import copy\n",
    "#from counter_vocab_tuning import dict_merge\n",
    "#from collections import Counter\n",
    "from tqdm.notebook import tqdm\n",
    "\n",
    "def json_save(data, f_name):\n",
    "    import json\n",
    "    json = json.dumps(data)\n",
    "    with open(f_name +\".json\",\"w\") as f:\n",
    "        f.write(json) \n",
    "\n",
    "def json_read(f_name):\n",
    "    import json\n",
    "    with open(f_name) as f:\n",
    "        return json.load(f)\n",
    "    \n",
    "def dict_merge(src_dict, tgt_dict):\n",
    "    \n",
    "    updated_items = 0\n",
    "    added_items = 0\n",
    "    \n",
    "    for k,v in tqdm(src_dict.items()):\n",
    "        if k in tgt_dict.keys():\n",
    "            tgt_dict[k] =  tgt_dict[k] + v \n",
    "            updated_items += 1\n",
    "        else:\n",
    "            tgt_dict[k] = v\n",
    "            added_items += 1\n",
    "    \n",
    "    print(\"updated items : {},  added items : {}\".format(updated_items, added_items)) \n",
    "    \n",
    "    return updated_items, added_items\n",
    "    \n",
    "def add_item(k,v,dct):\n",
    "    if k in dct.keys():\n",
    "        dct[k] += v\n",
    "    else:\n",
    "        dct[k] = v\n",
    "        \n",
    "def modi_dict(k,l,v,dt_to_add,dt_to_pop):\n",
    "    add_item(k[:-l], v, dt_to_add)\n",
    "    add_item(k[-l:], v, dt_to_add)\n",
    "    dt_to_pop.pop(k,1)\n",
    "\n",
    "def main():    \n",
    "    X = json_read('./data/counted_vocs.json')\n",
    "    Vocabs = {k.strip():v for k,v in X.items() if v>2}\n",
    "    Vocabs.pop('',1)\n",
    "    Vocabs.pop('.',1)\n",
    "    print(\"Vocabs ; {}\".format(len(Vocabs)))\n",
    "\n",
    "    sffx1 = 'd s r .'.split(' ')\n",
    "    sffx2 = \"es ed er 's\".split(' ') \n",
    "    sffx3 = [\"est\", \"ing\"]\n",
    "\n",
    "    vocabs = {}\n",
    "    for k,v in Vocabs.items():\n",
    "        add_item(k.lower(), v, vocabs)\n",
    "\n",
    "    print(\"vocabs ; {}\".format(len(vocabs)))\n",
    "\n",
    "    de_dotted = {}\n",
    "    XX = copy.deepcopy(vocabs)\n",
    "    for k,v in tqdm(vocabs.items()):\n",
    "        if (len(k) >3 and k[-1] =='.' and (k[:-1] in vocabs.keys())):  \n",
    "            modi_dict(k,1,v,de_dotted,XX)\n",
    "\n",
    "    _,_ = dict_merge(de_dotted,XX)\n",
    "    vocabs = copy.deepcopy(XX)\n",
    "\n",
    "    for k,v in tqdm(vocabs.items()):\n",
    "        if (len(k) >6 and k[-4:] in ['ness','ment'] and k[:-4] in vocabs.keys()):\n",
    "            modi_dict(k,4,v,de_dotted,XX)\n",
    "\n",
    "    _,_ = dict_merge(de_dotted,XX)\n",
    "    vocabs = copy.deepcopy(XX)\n",
    "\n",
    "    for k,v in tqdm(vocabs.items()):\n",
    "\n",
    "        if (len(k) >5 and k[-3:] in ['ing','ion'] and \n",
    "            (k[:-3] in vocabs.keys() or k[:-3]+'e' in vocabs.keys() or k[:-3]+'ed' in vocabs.keys())):\n",
    "            modi_dict(k,3,v,de_dotted,XX)\n",
    "\n",
    "        elif (len(k) > 4 and k[-2:] in ['er','es','ed'] and \n",
    "              (k[:-2]+'e' in vocabs.keys() or (k[:-2] in vocabs.keys() and vocabs[k] < vocabs[k[:-2]]*3)) \n",
    "               and k[:-2]+'ed' in vocabs.keys()):\n",
    "            modi_dict(k,2,v,de_dotted,XX)\n",
    "\n",
    "        elif len(k) >4 and k[-2:] in [\"'s\",\"ly\"] and k[:-2] in vocabs.keys():\n",
    "            modi_dict(k,2,v,de_dotted,XX)\n",
    "\n",
    "        elif (len(k) >3 and k[-1] in ['s','e'] and (k[:-1]+'ed' in vocabs.keys() or k[:-1] in vocabs.keys())): \n",
    "            modi_dict(k,1,v,de_dotted,XX)\n",
    "\n",
    "    print(len(de_dotted), len(vocabs), len(XX))\n",
    "    #vocabs = {k:v for k,v in vocabs.items() if k[-1] !='.'}\n",
    "    _,_ = dict_merge(de_dotted,XX)     \n",
    "\n",
    "    print(\"de_dotted ; {}\".format(len(de_dotted)))\n",
    "    print(\"XX ; {}\".format(len(XX)))\n",
    "\n",
    "    path = \"./data/en_vocabs/\"\n",
    "    pre_suffx = json_read(path+'pre_suffx_0515.json') \n",
    "    pre_fx = [k.capitalize() for k in pre_suffx[\"prefixes\"]] + pre_suffx[\"prefixes\"]\n",
    "    suf_fx = pre_suffx[\"suffixes\"]\n",
    "\n",
    "    pre_fx = sorted(list(set(pre_fx)), key=lambda x:len(x), reverse = True)\n",
    "    suf_fx = sorted(list(set(suf_fx)), key=lambda x:len(x), reverse = True)\n",
    "\n",
    "    import copy\n",
    "    #en_count = json_read('./en_es_after_0613/counted_vocs_0613.json')\n",
    "    XXX = copy.deepcopy(XX)\n",
    "    #c_chars = [chr(i) for i in range(ord('A'),ord('Z')+1)]\n",
    "\n",
    "    prefx = {k:100 for k in pre_fx}\n",
    "    suffx = {k:100 for k in suf_fx}\n",
    "\n",
    "    p_multi = 0.2\n",
    "    s_multi = 0.2\n",
    "\n",
    "    for k,v in tqdm(XXX.items()):\n",
    "\n",
    "        for s in [pf for pf in pre_fx if len(pf)<len(k)+1]:\n",
    "            if k[:len(s)] == s:\n",
    "                prefx[s] += int(v * len(s) * p_multi)\n",
    "                break\n",
    "\n",
    "        for s in [pf for pf in suf_fx if len(pf)<len(k)]:\n",
    "            if k[-len(s):] == s:\n",
    "                suffx[s] += int(v * len(s) * s_multi)\n",
    "                break        \n",
    "\n",
    "    pf = sorted(prefx.items(), key=lambda x:x[1], reverse = True)\n",
    "    sf = sorted(suffx.items(), key=lambda x:x[1], reverse = True)\n",
    "\n",
    "    print(pf[:20])\n",
    "    print(sf[:20])\n",
    "\n",
    "    path = \"./data/en_vocabs/\"\n",
    "    Xffix ={'prefix':prefx,'suffix':suffx}\n",
    "    json_save(Xffix,path+'pre_suf_fix_check')\n",
    "    XXX.update(prefx)\n",
    "    XXX.update(suffx)\n",
    "    json_save(XXX,path+'counted_vocs_0613_added_pre_suffx_check')\n",
    "    vocabs = {' '.join([c for c in k]):v for k,v in XXX.items()}\n",
    "    json_save(XXX, path+'vocabs_check')\n",
    "\n",
    "if __name__ == \"__main__\":\n",
    "    main()"
   ]
  },
  {
   "cell_type": "code",
   "execution_count": null,
   "id": "minor-plate",
   "metadata": {},
   "outputs": [],
   "source": []
  }
 ],
 "metadata": {
  "kernelspec": {
   "display_name": "Python 3",
   "language": "python",
   "name": "python3"
  },
  "language_info": {
   "codemirror_mode": {
    "name": "ipython",
    "version": 3
   },
   "file_extension": ".py",
   "mimetype": "text/x-python",
   "name": "python",
   "nbconvert_exporter": "python",
   "pygments_lexer": "ipython3",
   "version": "3.7.9"
  }
 },
 "nbformat": 4,
 "nbformat_minor": 5
}
