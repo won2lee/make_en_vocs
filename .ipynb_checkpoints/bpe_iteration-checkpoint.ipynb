{
 "cells": [
  {
   "cell_type": "code",
   "execution_count": 1,
   "id": "optical-excuse",
   "metadata": {
    "scrolled": true
   },
   "outputs": [
    {
     "data": {
      "application/vnd.jupyter.widget-view+json": {
       "model_id": "5fbadce733ce4ec5b22e7a9cc9392368",
       "version_major": 2,
       "version_minor": 0
      },
      "text/plain": [
       "  0%|          | 0/40 [00:00<?, ?it/s]"
      ]
     },
     "metadata": {},
     "output_type": "display_data"
    },
    {
     "data": {
      "application/vnd.jupyter.widget-view+json": {
       "model_id": "8638995b51ac49cdb77c6490de857e20",
       "version_major": 2,
       "version_minor": 0
      },
      "text/plain": [
       "  0%|          | 0/250 [00:00<?, ?it/s]"
      ]
     },
     "metadata": {},
     "output_type": "display_data"
    },
    {
     "name": "stdout",
     "output_type": "stream",
     "text": [
      "[['t', 'h'], ['e', 'r'], ['a', 'n'], ['i', 'n'], ['e', 'n'], ['o', 'n'], ['a', 't'], ['r', 'e'], ['s', 't'], ['th', 'e'], ['a', 'l'], ['o', 'r'], ['a', 'r'], ['i', 't'], ['o', 'u'], ['i', 'c'], ['i', 's'], ['t', 'o'], ['en', 't'], ['an', 'd'], ['a', 's'], ['r', 'o'], ['l', 'e'], ['i', 'on'], ['d', 'e'], ['s', 'e'], ['o', 'm'], ['a', 'c'], ['i', 'd'], ['e', 's'], ['i', 'l'], ['b', 'e'], ['o', 'l'], ['h', 'e'], ['a', 'm'], ['o', 'f'], ['a', 'd'], ['c', 'on'], ['e', 'd'], ['c', 'h'], ['u', 'n'], ['t', 'r'], ['i', 'm'], ['i', 'v'], ['w', 'h'], ['a', 'y'], ['in', 'g'], ['s', 'u'], ['th', 'at'], ['i', 'g']]\n",
      "[['t', 'er'], ['p', 'ro'], ['c', 'om'], ['a', 'b'], ['a', 'g'], ['i', 'r'], ['at', 'ion'], ['v', 'er'], ['o', 'w'], ['f', 'or'], ['u', 'r'], ['o', 't'], ['c', 'e'], ['u', 't'], ['e', 'st'], ['p', 're'], ['o', 'p'], ['c', 't'], ['e', 'l'], ['a', 'p'], ['i', 'st'], ['e', 'x'], ['s', 'a'], ['p', 'e'], ['w', 'as'], ['it', 'y'], ['u', 'm'], ['e', 'm'], ['u', 's'], ['ar', 't'], ['n', 'e'], ['iv', 'e'], ['w', 'i'], ['th', 'er'], ['a', 'v'], ['il', 'l'], ['u', 'l'], ['c', 'l'], ['al', 'l'], ['sa', 'id'], ['p', 'er'], ['s', 'h'], ['p', 'l'], ['an', 't'], ['m', 'o'], ['ou', 'n'], ['i', 'f'], ['wi', 'th'], ['l', 'd'], ['w', 'e']]\n",
      "[['i', 'al'], ['e', 't'], ['i', 'es'], ['a', 're'], ['ou', 't'], ['ou', 'r'], ['c', 'o'], ['p', 'o'], ['ou', 's'], ['s', 'o'], ['a', 'in'], ['p', 'ol'], ['g', 'o'], ['m', 'an'], ['c', 'r'], ['l', 'o'], ['a', 'k'], ['ig', 'h'], ['i', 'a'], ['ar', 'd'], ['ro', 'm'], ['h', 'av'], ['e', 'v'], ['or', 't'], ['at', 'e'], ['n', 'ot'], ['l', 'i'], ['h', 'is'], ['b', 'ut'], ['f', 'rom'], ['q', 'u'], ['ac', 't'], ['ar', 'y'], ['es', 's'], ['a', 'u'], ['of', 'f'], ['w', 'or'], ['a', 'f'], ['ou', 'ld'], ['e', 'ar'], ['h', 'as'], ['d', 'er'], ['a', 'st'], ['b', 'l'], ['d', 'is'], ['on', 'e'], ['m', 'ent'], ['um', 'p'], ['ic', 'al'], ['2', '0']]\n",
      "[['pre', 's'], ['r', 'i'], ['s', 'p'], ['th', 'i'], ['b', 'er'], ['in', 'ter'], ['en', 'ce'], ['tr', 'ump'], ['t', 'e'], ['d', 'ay'], ['d', 'o'], ['g', 'r'], ['d', 'i'], ['l', 'y'], ['ac', 'k'], ['st', 'at'], ['wh', 'o'], ['igh', 't'], ['the', 'y'], ['en', 'd'], ['in', 't'], ['p', 'art'], ['s', 's'], ['m', 'ar'], ['p', 'ort'], ['i', 'an'], ['g', 'h'], ['u', 'st'], ['t', 'ion'], ['c', 'ent'], ['b', 'o'], ['v', 'i'], ['m', 'in'], ['m', 'on'], ['p', 'r'], ['f', 'e'], ['ne', 'w'], ['f', 'o'], ['i', 'p'], ['m', 'e'], ['is', 'h'], ['ic', 'h'], ['t', 'im'], ['u', 'd'], ['id', 'ent'], ['ig', 'n'], ['y', 'ou'], ['n', 'o'], ['s', 'er'], ['c', 're']]\n",
      "[['h', 'er'], ['y', 'ear'], ['w', 'er'], ['a', 'w'], ['o', 'b'], ['an', 'g'], ['c', 'or'], ['n', 'ow'], ['on', 'g'], ['w', 'ill'], ['at', 'ive'], ['ou', 'gh'], ['en', 'c'], ['s', 'he'], ['s', 'pe'], ['ab', 'out'], ['the', 'ir'], ['c', 'oun'], ['oun', 'd'], ['o', 'k'], ['ab', 'le'], ['s', 'ay'], ['or', 'y'], ['f', 'in'], ['st', 'r'], ['c', 'ol'], ['b', 'r'], ['b', 'y'], ['con', 't'], ['i', 'le'], ['o', 'd'], ['o', 'ther'], ['c', 'an'], ['h', 'ad'], ['s', 'om'], ['d', 'u'], ['at', 't'], ['f', 'a'], ['p', 'u'], ['s', 'y'], ['20', '1'], ['i', 'z'], ['i', 'b'], ['pe', 'op'], ['an', 'ce'], ['f', 'ir'], ['c', 'i'], ['m', 'or'], ['o', 'ver'], ['ic', 'an']]\n",
      "iter_number :250, voc_volume : 315\n"
     ]
    },
    {
     "data": {
      "application/vnd.jupyter.widget-view+json": {
       "model_id": "6f880231f9f9490fbecb8c08269fe8b5",
       "version_major": 2,
       "version_minor": 0
      },
      "text/plain": [
       "  0%|          | 0/250 [00:00<?, ?it/s]"
      ]
     },
     "metadata": {},
     "output_type": "display_data"
    },
    {
     "name": "stdout",
     "output_type": "stream",
     "text": [
      "[['wh', 'ich'], ['m', 'ed'], ['d', 'on'], ['e', 'f'], ['peop', 'l'], ['w', 'ould'], ['pu', 'bl'], ['s', 'en'], ['el', 'l'], ['g', 're'], ['be', 'en'], ['ver', 'n'], ['go', 'vern'], ['wor', 'k'], ['d', 'r'], ['an', 'y'], ['su', 'r'], ['pol', 'i'], ['af', 'ter'], ['de', 'c'], ['u', 'p'], ['1', '9'], ['le', 'g'], ['for', 'm'], ['ic', 'e'], ['pres', 'ident'], ['su', 'p'], ['ser', 'v'], ['t', 'w'], ['c', 'am'], ['ag', 'e'], ['li', 'k'], ['po', 's'], ['f', 'r'], ['wh', 'en'], ['c', 'ur'], ['c', 'k'], ['p', 'h'], ['fo', 're'], ['com', 'p'], ['ic', 't'], ['c', 'our'], ['it', 's'], ['the', 'm'], ['0', '0'], ['u', 're'], ['un', 'der'], ['s', 'ion'], ['in', 'd'], ['le', 'ct']]\n",
      "[['g', 'en'], ['wh', 'at'], ['tr', 'a'], ['ow', 'n'], ['com', 'm'], ['o', 'se'], ['v', 'e'], ['i', 'ous'], ['j', 'ust'], ['ac', 'h'], ['de', 'mo'], ['b', 'i'], ['f', 'er'], ['h', 'im'], ['th', 'an'], ['s', 'on'], ['g', 'e'], ['ver', 'y'], ['c', 'ar'], ['p', 'a'], ['w', 'ay'], ['m', 'em'], ['am', 'er'], ['p', 'ar'], ['al', 'so'], ['g', 'et'], ['th', 'ing'], ['an', 's'], ['re', 'g'], ['e', 'p'], ['in', 'v'], ['in', 'e'], ['an', 'n'], ['f', 'ul'], ['l', 'at'], ['m', 'is'], ['m', 'ak'], ['as', 's'], ['m', 'y'], ['t', 'ur'], ['se', 'l'], ['fir', 'st'], ['i', 'de'], ['is', 'm'], ['sh', 'ip'], ['n', 'ation'], ['f', 'l'], ['o', 'g'], ['re', 'port'], ['e', 'k']]\n",
      "[['an', 'c'], ['mo', 'st'], ['n', 'at'], ['h', 'ow'], ['pol', 'ic'], ['n', 'es'], ['tr', 'y'], ['r', 'at'], ['k', 'now'], ['b', 'us'], ['it', 'e'], ['un', 'i'], ['t', 'y'], ['st', 'a'], ['in', 'to'], ['in', 'c'], ['ib', 'le'], ['d', 'if'], ['p', 't'], ['u', 'se'], ['c', 'au'], ['l', 'aw'], ['in', 'k'], ['v', 'is'], ['s', 'c'], ['ch', 'o'], ['u', 'al'], ['er', 'e'], ['w', 'ard'], ['b', 'ack'], ['cl', 'in'], ['e', 'lect'], ['r', 'a'], ['enc', 'y'], ['cor', 'd'], ['r', 'y'], ['g', 'u'], ['ic', 'k'], ['s', 'ign'], ['ag', 'ain'], ['k', 'e'], ['c', 'it'], ['l', 'ow'], ['c', 'ould'], ['er', 'y'], ['nation', 'al'], ['c', 'ess'], ['t', 'ak'], ['c', 'ap'], ['d', 'id']]\n",
      "[['tw', 'o'], ['off', 'ic'], ['v', 'el'], ['e', 'w'], ['be', 't'], ['st', 'er'], ['pol', 'it'], ['cl', 'ud'], ['int', 'on'], ['h', 'o'], ['iv', 'er'], ['c', 'all'], ['m', 'ay'], ['tr', 'ans'], ['cl', 'inton'], ['wh', 'ere'], ['ev', 'en'], ['su', 'b'], ['man', 'y'], ['qu', 'est'], ['it', 'ion'], ['cont', 'ro'], ['ap', 'p'], ['ro', 'w'], ['o', 'c'], ['i', 'e'], ['f', 'ac'], ['cau', 'se'], ['re', 'al'], ['su', 'c'], ['l', 'and'], ['b', 'u'], ['j', 'o'], ['ol', 'd'], ['we', 'ek'], ['l', 'l'], ['be', 'cause'], ['a', 'il'], ['le', 'ad'], ['t', 'en'], ['se', 'c'], ['ad', 'd'], ['c', 'er'], ['ol', 'og'], ['amer', 'ican'], ['spe', 'c'], ['w', 'ar'], ['pl', 'ay'], ['wor', 'ld'], ['f', 'ed']]\n",
      "[['g', 'er'], ['so', 'ci'], ['u', '.'], ['a', 'ir'], ['n', 'or'], ['am', 'a'], ['med', 'i'], ['he', 'al'], ['pro', 'v'], ['c', 'us'], ['w', 'om'], ['in', 'clud'], ['er', 'al'], ['l', 'ast'], ['inv', 'est'], ['c', 'as'], ['st', 'and'], ['n', 'om'], ['r', 'ight'], ['un', 'it'], ['sh', 'ow'], ['po', 'int'], ['min', 'ist'], ['ter', 'r'], ['t', 'on'], ['re', 'publ'], ['s', '.'], ['lo', 'c'], ['le', 'd'], ['on', 'ly'], ['a', 'th'], ['h', 'om'], ['f', 'am'], ['h', 'ous'], ['n', 'am'], ['op', 'er'], ['com', 'e'], ['th', 're'], ['ou', 'p'], ['de', 'part'], ['a', 'de'], ['wh', 'ile'], ['ul', 't'], ['pa', 'ign'], ['en', 'g'], ['th', 'r'], ['cam', 'paign'], ['s', 'ol'], ['pl', 'ac'], ['t', 'al']]\n",
      "iter_number :500, voc_volume : 565\n"
     ]
    },
    {
     "data": {
      "application/vnd.jupyter.widget-view+json": {
       "model_id": "729c4d95bd2d4f92a5aec3e501bb0768",
       "version_major": 2,
       "version_minor": 0
      },
      "text/plain": [
       "  0%|          | 0/250 [00:00<?, ?it/s]"
      ]
     },
     "metadata": {},
     "output_type": "display_data"
    },
    {
     "name": "stdout",
     "output_type": "stream",
     "text": [
      "[['he', 'l'], ['w', 'ant'], ['g', 'an'], ['ch', 'ang'], ['b', 'ar'], ['mar', 'k'], ['le', 'ss'], ['e', 'very'], ['20', '0'], ['m', 'r'], ['f', 'ound'], ['re', 'ct'], ['republ', 'ican'], ['vi', 'ew'], ['j', 'e'], ['m', 'ill'], ['coun', 'try'], ['m', 'ain'], ['per', 'cent'], ['th', 'ink'], ['ex', 't'], ['re', 'ad'], ['gr', 'oup'], ['c', 'le'], ['m', 'ad'], ['le', 't'], ['w', 'r'], ['be', 'fore'], ['str', 'u'], ['b', 'as'], ['demo', 'cr'], ['m', 'a'], ['se', 't'], ['th', 'ough'], ['v', 'ot'], ['ch', 'ar'], ['ar', 'ch'], ['th', 'ose'], ['d', 'own'], ['mo', 'v'], ['b', 'ill'], ['mem', 'ber'], ['w', 'ell'], ['the', 's'], ['p', 'ut'], ['i', 'er'], ['il', 'y'], ['s', 'im'], ['he', 'ad'], ['o', 's']]\n",
      "[['m', 'u'], ['as', 'on'], ['p', 'at'], ['s', 'id'], ['col', 'l'], ['thr', 'ough'], ['t', 'ain'], ['l', 'if'], ['ic', 'a'], ['it', 't'], ['as', 'k'], ['b', 're'], ['p', 'op'], ['d', 'ur'], ['sel', 'f'], ['sp', 'on'], ['publ', 'ic'], ['th', 'en'], ['i', 're'], ['su', 'ch'], ['l', 'iv'], ['tur', 'n'], ['ab', 'l'], ['it', 'ies'], ['cr', 'it'], ['som', 'e'], ['in', 'st'], ['to', 'ld'], ['b', 'or'], ['il', 'd'], ['re', 'l'], ['again', 'st'], ['l', 'ong'], ['an', 'k'], ['i', 'ed'], ['be', 'ing'], ['cur', 'r'], ['st', 'ud'], ['n', 'er'], ['democr', 'at'], ['en', 's'], ['mon', 'th'], ['go', 'ing'], ['t', 'est'], ['offic', 'ial'], ['iver', 's'], ['p', 'or'], ['bus', 'i'], ['f', 're'], ['ne', 'ed']]\n",
      "[['f', 'il'], ['l', 'ar'], ['tr', 'i'], ['m', 'er'], ['f', 'act'], ['o', 're'], ['b', 'le'], ['h', 'igh'], ['al', 'd'], ['r', 'us'], ['part', 'y'], ['c', 'he'], ['di', 'rect'], ['se', 'e'], ['bo', 'ok'], ['cho', 'ol'], ['fe', 'ct'], ['olog', 'y'], ['lo', 'ok'], ['b', 'ro'], ['pl', 'an'], ['je', 'ct'], ['s', 'inc'], ['c', 'ity'], ['s', 'chool'], ['ob', 'ama'], ['nom', 'in'], ['f', 'un'], [\"'\", 's'], ['is', 'su'], ['l', 'a'], ['sup', 'port'], ['sh', 'ould'], ['at', 'er'], ['l', 'in'], ['i', 'ent'], ['mu', 'ch'], ['ul', 'ar'], ['s', 'm'], ['re', 'spon'], ['mr', '.'], ['att', 'ack'], ['if', 'ic'], ['s', 'am'], ['per', 'son'], ['per', 'i'], ['t', 're'], ['d', 'y'], ['ac', 'y'], ['f', 'ol']]\n",
      "[['gre', 'ss'], ['du', 'ct'], ['wh', 'it'], ['ow', 'er'], ['cour', 't'], ['con', 'd'], ['t', 'a'], ['cr', 'u'], ['ac', 'cord'], ['m', 'ig'], ['wom', 'en'], ['hel', 'p'], ['we', 'en'], ['at', 'or'], ['bet', 'ween'], ['p', 'le'], ['s', 'ou'], ['c', 'ial'], ['c', 'ut'], ['ap', 'pe'], ['n', 'um'], ['in', 'a'], ['s', 'ci'], ['v', 'o'], ['d', 'ist'], ['il', 'ity'], ['st', 'em'], ['lif', 'e'], ['y', 'our'], ['u', 'e'], ['h', 'app'], ['rus', 's'], ['for', 't'], ['w', 'in'], ['for', 'c'], ['p', 'ower'], ['pr', 'im'], ['cle', 'ar'], ['m', 'us'], ['spe', 'ct'], ['h', 'um'], ['v', 'ict'], ['g', 'est'], ['e', 'ver'], ['b', 'en'], ['st', 'ill'], ['te', 'am'], ['w', 'on'], ['don', 'ald'], ['un', 'ivers']]\n",
      "[['st', 'art'], ['li', 'ber'], ['sy', 'stem'], ['m', 'ot'], ['ad', 'minist'], ['go', 'od'], ['d', 'at'], ['polit', 'ical'], ['po', 'st'], ['r', 'is'], ['im', 'e'], ['c', 'at'], ['h', 'ist'], ['st', 're'], ['ag', 're'], ['p', 'ur'], ['a', 'ut'], ['f', 'ar'], ['ion', 'al'], ['pres', 'ent'], ['re', 'd'], ['cont', 'in'], ['b', 'ig'], ['le', 's'], ['pl', 'o'], ['se', 'cur'], ['s', 'at'], ['comp', 'any'], ['a', 'im'], ['v', 'en'], ['it', 'ter'], ['c', 'al'], ['it', 'al'], ['00', '0'], ['bo', 'th'], ['l', 't'], ['con', 'om'], ['e', 'conom'], ['invest', 'ig'], ['de', 'vel'], ['e', 'u'], ['d', 'iv'], ['fol', 'low'], ['h', 'ar'], ['f', 'ig'], ['r', 'ac'], ['off', 'ice'], ['a', 'z'], ['or', 'k'], ['me', 'an']]\n",
      "iter_number :750, voc_volume : 815\n"
     ]
    },
    {
     "data": {
      "application/vnd.jupyter.widget-view+json": {
       "model_id": "d5e8ea60c2ef406b8d8fb53b5cc3a095",
       "version_major": 2,
       "version_minor": 0
      },
      "text/plain": [
       "  0%|          | 0/250 [00:00<?, ?it/s]"
      ]
     },
     "metadata": {},
     "output_type": "display_data"
    },
    {
     "name": "stdout",
     "output_type": "stream",
     "text": [
      "[['r', 'un'], ['v', 'ir'], ['amer', 'ica'], ['m', 'il'], ['devel', 'op'], ['dif', 'fer'], ['de', 's'], ['g', 'ot'], ['ing', 'ton'], ['thre', 'e'], ['be', 'li'], ['to', 'o'], ['k', 'ore'], ['ar', 'ound'], ['v', 'ent'], ['l', 'im'], ['nor', 'th'], ['su', 'm'], ['y', 'ork'], ['s', 'it'], ['co', 'ver'], ['tr', 'ad'], ['u', 'g'], ['no', 'v'], ['heal', 'th'], ['coun', 't'], ['gr', 'am'], ['h', 'and'], ['j', 'ob'], ['mis', 's'], ['was', 'h'], ['su', 'g'], ['an', 'other'], ['de', 'f'], ['s', 'ent'], ['c', 'and'], ['m', 'at'], ['re', 'le'], ['n', 'ight'], ['fed', 'er'], ['j', 'or'], ['un', 't'], ['ne', 't'], ['201', '6'], ['it', 'ut'], ['tw', 'itter'], ['contin', 'u'], ['ac', 'ro'], ['s', 'ide'], ['or', 'der']]\n",
      "[['comm', 'un'], ['or', 'gan'], ['g', 'y'], ['fam', 'ily'], ['num', 'ber'], ['th', 'or'], ['g', 'lo'], ['med', 'ia'], ['i', 'o'], ['w', 'est'], ['stru', 'ct'], ['de', 'al'], ['i', 'x'], ['v', 'al'], ['se', 'arch'], ['m', 'en'], ['du', 'c'], ['s', 'k'], ['use', 'd'], ['cand', 'id'], ['re', 'cord'], ['de', 'l'], ['s', 'ist'], ['su', 'lt'], ['f', 't'], ['w', 'ed'], ['plo', 'y'], ['h', 'ill'], ['m', 'id'], ['pe', 'ct'], ['wash', 'ington'], ['happ', 'en'], ['ev', 'ent'], ['s', 'an'], ['s', 'un'], ['c', 'y'], ['administ', 'rat'], ['op', 'en'], ['e', 'qu'], ['ag', 'o'], ['p', 'ay'], ['univers', 'ity'], ['d', 'en'], ['tal', 'k'], ['serv', 'ic'], ['ro', 'p'], ['wr', 'it'], ['polic', 'y'], ['iz', 'ation'], ['m', 'al']]\n",
      "[['re', 'cent'], ['pr', 'is'], ['fe', 'at'], ['pe', 't'], ['as', 'h'], ['pro', 'gram'], ['mark', 'et'], ['appe', 'ar'], ['g', 'in'], ['1', '0'], ['st', 'i'], ['rele', 'as'], ['ver', 's'], ['in', 'cre'], ['tre', 'at'], ['ma', 'jor'], ['st', 'or'], ['em', 'ent'], ['sec', 'u'], ['pro', 'ble'], ['comm', 'it'], ['b', 'at'], ['secur', 'ity'], ['cl', 'aim'], ['au', 'thor'], ['c', 'iv'], ['c', 'um'], ['polit', 'ic'], ['sh', 'ar'], ['pro', 'f'], ['t', 'u'], ['hum', 'an'], ['b', 'all'], ['i', 'el'], ['g', 'am'], ['ul', 'at'], ['part', 'ic'], ['beli', 'ev'], ['f', 'ri'], ['gen', 'eral'], ['sid', 'er'], ['w', 'he'], ['proble', 'm'], ['h', 'y'], ['de', 'm'], ['know', 'n'], ['19', '9'], ['are', 'a'], ['po', 'ss'], ['re', 'f']]\n",
      "[['cre', 'at'], ['ne', 'ver'], ['to', 'p'], ['ex', 'pect'], ['pl', 'ain'], ['st', 'ate'], ['bl', 'ack'], ['se', 'cond'], ['l', 'ist'], ['h', 'n'], ['ne', 'ar'], ['f', 'our'], ['gre', 'at'], ['v', 'ol'], ['me', 'et'], ['h', 'ol'], ['cent', 'r'], ['tr', 'u'], ['ch', 'il'], ['b', 'ur'], ['se', 'x'], ['p', 'ot'], ['f', 'ic'], ['g', 'l'], ['an', 'o'], ['sou', 'th'], ['ta', 'x'], ['s', 'al'], ['et', 'y'], ['dr', 'en'], ['inter', 'est'], ['mil', 'it'], ['chil', 'dren'], ['a', 'us'], ['d', 'om'], ['b', 'al'], ['n', 'ing'], ['stud', 'ent'], ['pos', 'it'], ['g', 'row'], ['in', 'al'], ['lat', 'er'], ['em', 'ploy'], ['im', 'mig'], ['in', 'form'], ['u', 'b'], ['cl', 'os'], ['wh', 'y'], ['vi', 'ol'], ['cre', 'a']]\n",
      "[['r', 'ul'], ['n', 'n'], ['an', 'a'], ['leg', 'al'], ['se', 'em'], ['sim', 'il'], ['j', 'ud'], ['te', 'le'], ['m', 'et'], ['fri', 'end'], ['st', 'e'], ['e', 'as'], ['1', '8'], ['con', 'gress'], ['ad', 'v'], ['fir', 'm'], ['te', 'ch'], ['lo', 's'], ['m', 'ight'], ['le', 'ag'], ['fed', 'eral'], ['b', 'lo'], ['incre', 'as'], ['ne', 'y'], ['a', 'h'], ['one', 'y'], ['su', 'per'], ['he', 'd'], ['id', 'ay'], ['bu', 'ild'], ['p', 'ast'], ['sh', 'o'], ['cre', 't'], ['if', 'y'], ['con', 'tr'], ['u', 'ary'], ['se', 'ver'], ['le', 'ft'], ['differ', 'ent'], ['l', 'am'], ['te', 'ct'], ['is', 'ion'], ['be', 'st'], ['ro', 'om'], ['n', 'ext'], ['se', 'ason'], ['whe', 'ther'], ['bo', 'dy'], ['fin', 'd'], ['im', 'port']]\n",
      "iter_number :1000, voc_volume : 1065\n"
     ]
    },
    {
     "data": {
      "application/vnd.jupyter.widget-view+json": {
       "model_id": "a13c7d55db5747829414ff116d0fe5d5",
       "version_major": 2,
       "version_minor": 0
      },
      "text/plain": [
       "  0%|          | 0/250 [00:00<?, ?it/s]"
      ]
     },
     "metadata": {},
     "output_type": "display_data"
    },
    {
     "name": "stdout",
     "output_type": "stream",
     "text": [
      "[['ch', 'r'], ['re', 's'], ['aw', 'ay'], ['some', 'thing'], ['wed', 'nes'], ['fun', 'd'], ['wednes', 'day'], ['ex', 'p'], ['investig', 'at'], ['se', 'cret'], ['l', 'ine'], ['h', 'ard'], ['prov', 'id'], ['re', 'st'], ['cent', 'er'], ['hist', 'ory'], ['t', 'wi'], ['ho', 'od'], ['p', 'ri'], ['e', 'co'], ['j', 'an'], ['st', 'ory'], ['ph', 'o'], ['ph', 'il'], ['jo', 'hn'], ['ic', 'at'], ['h', 'al'], ['do', 'e'], ['re', 'search'], ['re', 'present'], ['i', 'or'], ['am', 'p'], ['con', 'cer'], ['g', 'un'], ['offic', 'er'], ['min', 'i'], ['read', 'y'], ['re', 'sult'], ['am', 'ong'], ['i', 'k'], ['h', 'old'], ['con', 'serv'], ['pro', 'duct'], ['w', 'ro'], ['kore', 'a'], ['all', 'ow'], ['wro', 'te'], ['fe', 'el'], ['s', 'po'], ['ex', 'e']]\n",
      "[['act', 'iv'], ['m', 'oney'], ['pres', 's'], ['g', 'iv'], ['and', 'er'], ['lik', 'e'], ['man', 'ag'], ['pro', 'cess'], ['c', 'ast'], ['p', 'ass'], ['em', 'ber'], ['con', 'sider'], ['l', 'ight'], ['ann', 'oun'], ['ce', 'iv'], ['y', 'oun'], ['with', 'out'], ['exe', 'cut'], ['vo', 'ter'], ['if', 'ied'], ['t', 'em'], ['w', 'ater'], ['hill', 'ary'], ['h', 'op'], ['de', 'ath'], ['iel', 'd'], ['terr', 'or'], ['se', 's'], ['tu', 'es'], ['au', 'g'], ['ent', 'ial'], ['ce', 'pt'], ['tues', 'day'], ['lead', 'er'], ['did', 'n'], ['n', 'al'], ['de', 'd'], ['s', 'ing'], ['comp', 'an'], ['e', 'ast'], ['president', 'ial'], ['to', 'day'], ['so', 'cial'], ['ef', 'fect'], ['our', 'c'], ['b', 'ank'], ['dec', 'ision'], ['c', 'are'], ['ar', 'r'], ['it', '.']]\n",
      "[['inform', 'ation'], ['pho', 'to'], ['democrat', 'ic'], ['por', 'ter'], ['e', 'ach'], ['pr', 'in'], ['o', 'od'], ['char', 'g'], ['fe', 'w'], ['de', 'p'], ['re', 'ason'], ['russ', 'ia'], ['ur', 's'], ['l', 'au'], ['gr', 'ound'], ['in', 'at'], ['v', 'ic'], ['se', 'pt'], ['t', 'ell'], ['fr', 'iday'], ['ind', 'ust'], ['pol', 'l'], ['be', 'come'], ['ke', 'y'], ['est', 'abl'], ['gre', 'e'], ['re', 'main'], ['gr', 'ap'], ['201', '5'], ['r', 'u'], ['se', 'ss'], ['establ', 'ish'], ['to', 'ok'], ['direct', 'or'], ['ch', 'ina'], ['t', 'ar'], ['le', 'y'], ['m', 'ic'], ['c', 'ul'], ['fin', 'al'], ['pr', 'iv'], ['bet', 't'], ['p', 'en'], ['spe', 'ak'], ['p', 'ic'], ['u', 'at'], ['ch', 'i'], ['qu', 'ir'], ['ter', 'm'], ['wor', 'd']]\n",
      "[['l', 'itt'], ['commit', 'te'], ['e', 'le'], ['sever', 'al'], ['curr', 'ent'], ['ur', 'y'], ['fil', 'm'], ['le', 'av'], ['con', 'st'], ['r', 'ant'], ['er', 'n'], ['concer', 'n'], ['lo', 'v'], ['st', 'op'], ['cre', 'd'], ['wom', 'an'], ['pro', 'tect'], ['l', 'ot'], ['of', 'ten'], ['ol', 'v'], ['ab', 'ly'], ['litt', 'le'], ['all', 'y'], ['contro', 'l'], ['vi', 'ous'], ['tech', 'n'], ['n', 'on'], ['it', 'or'], ['p', 'an'], ['par', 'ent'], ['loc', 'al'], ['d', 'a'], ['inter', 'view'], ['m', 'om'], ['f', 'all'], ['p', 'ed'], ['w', 'al'], ['com', 'pet'], ['ar', 'm'], ['compan', 'ies'], ['it', 'ive'], ['as', 'soci'], ['qu', 'e'], ['f', 'ight'], ['au', 'di'], ['vi', 'de'], ['5', '0'], ['y', 'et'], ['fer', 'ence'], ['ex', 'am']]\n",
      "[['mar', 'ch'], ['unt', 'il'], ['se', 'cr'], ['m', 'c'], ['ke', 'ep'], ['c', 'nn'], ['quest', 'ion'], ['to', 'w'], ['thre', 'at'], ['sm', 'all'], ['e', 'ch'], ['ent', 'er'], ['fa', 'ir'], ['lar', 'ge'], ['milit', 'ary'], ['re', 'ceiv'], ['inter', 'national'], ['tr', 'ies'], ['conserv', 'ative'], ['3', '0'], ['dist', 'r'], ['f', 'ut'], ['poss', 'ible'], ['g', 'ive'], ['coun', 'tries'], ['ap', 'pro'], ['k', 'ind'], ['19', '8'], ['ed', 'u'], ['le', 'ast'], ['fin', 'anc'], ['st', 'ep'], ['le', 'vel'], ['c', 'ir'], ['th', 'urs'], ['su', 's'], ['vide', 'o'], ['thurs', 'day'], ['stre', 'et'], ['con', 'tra'], ['at', 'ch'], ['h', 'our'], ['us', 'h'], ['mon', 'day'], ['import', 'ant'], ['fore', 'ign'], ['j', 'un'], ['cap', 'it'], ['tow', 'n'], ['oper', 'at']]\n",
      "iter_number :1250, voc_volume : 1315\n"
     ]
    },
    {
     "data": {
      "application/vnd.jupyter.widget-view+json": {
       "model_id": "d9830a81a16448f28c9e7aaa1d21afac",
       "version_major": 2,
       "version_minor": 0
      },
      "text/plain": [
       "  0%|          | 0/250 [00:00<?, ?it/s]"
      ]
     },
     "metadata": {},
     "output_type": "display_data"
    },
    {
     "name": "stdout",
     "output_type": "stream",
     "text": [
      "[['co', 'st'], ['associ', 'at'], ['fut', 'ure'], ['em', 'ail'], ['commun', 'ity'], ['m', 'att'], ['announ', 'c'], ['br', 'it'], ['youn', 'g'], ['cr', 'ib'], ['re', 't'], ['v', 'es'], ['jud', 'g'], ['ef', 'fort'], ['on', 'y'], ['e', 'y'], ['l', 'u'], ['all', 'o'], ['ough', 't'], ['ide', 'a'], ['st', 'ar'], ['pro', 'ject'], ['on', 't'], ['suc', 'cess'], ['rel', 'ation'], ['prof', 'ess'], ['al', 'y'], ['organ', 'ization'], ['do', 'es'], ['m', 'ult'], ['crit', 'ic'], ['to', 'ge'], ['toge', 'ther'], ['is', 'lam'], ['f', 'ield'], ['chr', 'ist'], ['s', 'w'], ['b', 'an'], ['sp', 'ir'], ['un', 'ch'], ['he', 'ld'], ['al', 'ready'], ['ac', 'count'], ['pro', 'test'], ['cer', 'tain'], ['is', 'e'], ['re', 'ss'], ['sug', 'gest'], ['al', 'ong'], ['inv', 'olv']]\n",
      "[['pro', 's'], ['execut', 'ive'], ['i', 'at'], ['str', 'ong'], ['act', 'ual'], ['r', 'ad'], ['sen', 'ate'], ['re', 'turn'], ['fac', 'e'], ['spe', 'ech'], ['ex', 'peri'], ['col', 'leg'], ['j', 'our'], ['201', '4'], ['ab', 'ility'], ['cr', 'im'], ['do', 'ing'], ['gr', 'ad'], ['set', 't'], ['v', 'ar'], ['k', 'il'], ['su', 'f'], ['sp', 'ort'], ['par', 'k'], ['does', 'n'], ['ap', 'er'], ['chi', 'ef'], ['en', 'ough'], ['se', 'ct'], ['dep', 'end'], ['pr', 'ic'], ['inst', 'itut'], ['on', 'ce'], ['sa', 'f'], ['bre', 'ak'], ['e', 'e'], ['m', 'it'], ['sen', 's'], ['f', 'ive'], ['econom', 'ic'], ['w', 'atch'], ['qu', 'ar'], ['candid', 'at'], ['l', 'it'], ['se', 'en'], ['re', 'fer'], ['russ', 'ian'], ['w', 'all'], ['though', 't'], ['m', 'ag']]\n",
      "[['im', 'ag'], ['sol', 'ut'], ['colleg', 'e'], ['h', 'am'], ['iv', 'al'], ['s', 'ch'], ['af', 'f'], ['how', 'ever'], ['just', 'ic'], ['ir', 'd'], ['w', 'ent'], ['or', 'ig'], ['tra', 'i'], ['him', 'self'], ['experi', 'enc'], ['com', 'ment'], ['distr', 'ict'], ['sh', 'ort'], ['fr', 'ont'], ['we', 'et'], ['vir', 'on'], ['en', 'viron'], ['an', 'im'], ['f', 'ur'], ['int', 'ro'], ['oc', 'to'], ['de', 't'], ['l', 'ab'], ['ra', 'is'], ['fl', 'u'], ['partic', 'ular'], ['de', 'bat'], ['spec', 'ial'], ['g', 'n'], ['de', 'sign'], ['al', 'b'], ['dec', 'ade'], ['mom', 'ent'], ['ro', 'l'], ['un', 'ion'], ['ition', 'al'], ['m', 'ess'], ['he', 'ar'], ['ac', 'e'], ['con', 'ference'], ['m', 'ex'], ['al', 'leg'], ['ro', 'ad'], ['1', '2'], ['dat', 'a']]\n",
      "[['1', '5'], ['bo', 'ard'], ['civ', 'il'], ['b', 'it'], ['ct', 'ion'], ['ty', 'p'], ['cr', 'ime'], ['o', 'id'], ['cl', 'ass'], ['li', 'er'], ['n', 'ess'], ['cul', 'tur'], ['acro', 'ss'], ['pro', 'mis'], ['face', 'book'], ['leag', 'ue'], ['i', 'ther'], ['ac', 'ter'], ['19', '7'], ['hal', 'f'], ['cour', 's'], ['ex', 'plain'], ['nom', 'ine'], ['al', 'i'], ['sun', 'day'], ['do', 'cum'], ['docum', 'ent'], ['s', 'ourc'], ['fam', 'il'], ['do', 'ct'], ['sel', 'ves'], ['secret', 'ary'], ['respon', 'd'], ['al', 'way'], ['bro', 'ad'], ['bi', 'o'], ['b', 'and'], ['eu', 'ro'], ['ang', 'er'], ['giv', 'en'], ['b', 'ad'], ['be', 'l'], ['person', 'al'], ['min', 'd'], ['fo', 'cus'], ['ch', 'air'], ['i', 'th'], ['dr', 'ug'], ['re', 'ach'], ['sc', 'en']]\n",
      "[['ser', 'ie'], ['st', 'ri'], ['des', 'crib'], ['minist', 'er'], ['val', 'u'], ['bor', 'der'], ['k', 'en'], ['sec', 'ut'], ['be', 'gan'], ['edu', 'cat'], ['p', 'as'], ['s', 'ander'], ['r', 'en'], ['ar', 'n'], ['r', 'ia'], ['ur', 'al'], ['for', 'd'], ['au', 'to'], ['mus', 'ic'], ['ho', 'st'], ['inst', 'e'], ['s', 'ix'], ['b', 't'], ['re', 'p'], ['ro', 's'], ['n', 'u'], ['tim', 'e'], ['jour', 'nal'], ['sh', 'ot'], ['h', 'ind'], ['under', 'stand'], ['ear', 'lier'], ['er', 'at'], ['ir', 'a'], ['indust', 'ry'], ['p', 'ict'], ['em', 'pt'], ['h', 'ou'], ['d', 'ict'], ['d', 'av'], ['mo', 'ther'], ['an', 'aly'], ['dis', 'cus'], ['sho', 'ot'], ['cru', 'z'], ['cl', 'ar'], ['1', '1'], ['b', 'ri'], ['ot', 't'], ['m', 'ust']]\n",
      "iter_number :1500, voc_volume : 1564\n"
     ]
    },
    {
     "data": {
      "application/vnd.jupyter.widget-view+json": {
       "model_id": "1905e7ebad2e4ed589ee486b1348b265",
       "version_major": 2,
       "version_minor": 0
      },
      "text/plain": [
       "  0%|          | 0/250 [00:00<?, ?it/s]"
      ]
     },
     "metadata": {},
     "output_type": "display_data"
    },
    {
     "name": "stdout",
     "output_type": "stream",
     "text": [
      "[['on', 'd'], ['is', 'hed'], ['j', 'ul'], ['sy', 'm'], ['su', 'it'], ['pl', 'y'], ['with', 'in'], ['c', 'aus'], ['cal', 'i'], ['av', 'or'], ['n', 'ia'], ['ve', 'h'], ['sy', 'ria'], ['fa', 'ther'], ['p', 'al'], ['cam', 'e'], ['char', 'acter'], ['exam', 'ple'], ['t', 'ex'], ['ch', 'all'], ['mus', 'lim'], ['h', 'it'], ['tr', 'ain'], ['tar', 'get'], ['kil', 'led'], ['h', 'or'], ['ic', 'o'], ['b', 'art'], ['t', 'or'], ['ris', 'k'], ['act', 'ion'], ['pris', 'on'], ['tri', 'but'], ['cit', 'iz'], ['w', 'a'], ['man', 'u'], ['priv', 'ate'], ['tr', 'av'], ['int', 'ell'], ['m', 'ur'], ['intell', 'ig'], ['al', 'ter'], ['com', 'mon'], ['glo', 'bal'], ['pre', 'vious'], ['b', 's'], ['inste', 'ad'], ['fo', 'od'], ['pro', 'b'], ['ir', 'l']]\n",
      "[['re', 'quir'], ['cali', 'for'], ['dec', 'a'], ['s', 'l'], ['work', 'er'], ['leg', 'is'], ['fo', 'ot'], ['st', 'u'], ['ex', 'per'], ['k', 'ill'], ['sat', 'ur'], ['immig', 'rat'], ['us', 'ing'], ['elect', 'ion'], ['n', 'a'], ['h', 'on'], ['m', 'ich'], ['d', 'am'], ['sp', 'end'], ['r', 'ich'], ['p', 'ac'], ['ch', 'ild'], ['be', 'came'], ['be', 'gin'], ['p', 'are'], ['wr', 'ong'], ['iv', 'id'], ['ist', 'ic'], ['g', 'a'], ['re', 'pe'], ['me', 'as'], ['un', 'd'], ['or', 'g'], ['califor', 'nia'], ['ad', 'vis'], ['f', 'lo'], ['k', 'id'], ['t', 'weet'], ['du', 'e'], ['pro', 'duc'], ['financ', 'ial'], ['ex', 'ist'], ['ans', 'wer'], ['ag', 'ency'], ['se', 'm'], ['f', 'al'], ['ther', 'n'], ['b', 'ul'], ['d', 'in'], ['201', '2']]\n",
      "[['y', 'er'], ['tak', 'en'], ['pro', 'pos'], ['t', 'our'], ['def', 'ens'], ['ac', 'cess'], ['say', 's'], ['mak', 'e'], ['ul', 'tim'], ['c', 'il'], ['coun', 'ter'], ['econom', 'y'], ['in', 'sur'], ['chall', 'eng'], ['ev', 'id'], ['citiz', 'en'], ['r', 'up'], ['de', 'ad'], ['k', 'im'], ['au', 'gh'], ['satur', 'day'], ['19', '6'], ['k', 'ing'], ['grap', 'h'], ['con', 'f'], ['de', 'st'], ['pr', 'act'], ['to', 'm'], ['vi', 'e'], ['br', 'ing'], ['stud', 'y'], ['ar', 'gu'], ['al', 'e'], ['be', 'hind'], ['r', 'id'], ['vis', 'it'], ['le', 'arn'], ['wal', 'k'], ['str', 'ate'], ['g', 'or'], ['intellig', 'ence'], ['mess', 'ag'], ['ind', 'ivid'], ['mak', 'er'], ['to', 'tal'], ['stat', 'ement'], ['g', 'irl'], ['l', 'on'], ['individ', 'ual'], ['ap', 's']]\n",
      "[['off', 'er'], ['con', 'ne'], ['ap', 'point'], ['i', 'um'], ['n', 'y'], ['p', 'ain'], ['h', 'ot'], ['1', '7'], ['get', 't'], ['jan', 'uary'], ['ge', 'o'], ['di', 'ed'], ['any', 'thing'], ['jo', 'in'], ['er', 'g'], ['av', 'e'], ['ir', 'an'], ['al', 'most'], ['them', 'selves'], ['net', 'work'], ['c', 'ade'], ['simil', 'ar'], ['om', 'b'], ['re', 'lat'], ['nov', 'ember'], ['c', 'ust'], ['bo', 'y'], ['ic', 'ation'], ['bl', 'y'], ['er', 'a'], ['su', 'al'], ['lo', 'st'], ['dec', 'id'], ['k', 'es'], ['is', 'sion'], ['s', 'cr'], ['ira', 'q'], ['d', 'ou'], ['ben', 'ef'], ['bus', 'in'], ['cam', 'p'], ['pop', 'ular'], ['evid', 'enc'], ['bre', 'it'], ['pro', 'secut'], ['tex', 'as'], ['respon', 's'], ['breit', 'bart'], ['f', 'avor'], ['viol', 'ence']]\n",
      "[['co', 'ach'], ['comp', 'le'], ['out', 'side'], ['sci', 'ence'], ['ut', 'e'], ['respon', 'se'], ['ser', 'ious'], ['ful', 'l'], ['lim', 'it'], ['const', 'itut'], ['se', 'a'], ['ro', 'll'], ['af', 't'], ['ben', 'e'], ['u', 'ge'], ['r', 'ap'], ['se', 'qu'], ['ho', 'sp'], ['pot', 'ential'], ['trav', 'el'], ['euro', 'pe'], ['ent', 'ion'], ['p', 'sy'], ['orig', 'inal'], ['publ', 'ished'], ['mor', 'n'], ['ch', 'amp'], ['v', 'id'], ['u', 'sual'], ['qu', 'al'], ['coun', 'ty'], ['for', 'ce'], ['1', '6'], ['o', 'ck'], ['de', 'sp'], ['con', 'firm'], ['t', 'it'], ['sing', 'l'], ['b', 'in'], ['no', 'th'], ['201', '7'], ['att', 'empt'], ['ch', 'ur'], ['oun', 't'], ['ge', 'org'], ['fo', 'x'], ['some', 'one'], ['st', 'on'], ['w', 'ood'], ['hosp', 'ital']]\n",
      "iter_number :1750, voc_volume : 1814\n"
     ]
    },
    {
     "data": {
      "application/vnd.jupyter.widget-view+json": {
       "model_id": "15409aa7937b4579a8852ca9c2809744",
       "version_major": 2,
       "version_minor": 0
      },
      "text/plain": [
       "  0%|          | 0/250 [00:00<?, ?it/s]"
      ]
     },
     "metadata": {},
     "output_type": "display_data"
    },
    {
     "name": "stdout",
     "output_type": "stream",
     "text": [
      "[['con', 'vent'], ['p', 'ush'], ['part', 'ner'], ['rel', 'ig'], ['c', 'row'], ['e', 'ither'], ['u', 'k'], ['mar', 'i'], ['201', '3'], ['se', 'd'], ['to', 'ward'], ['s', 'ong'], ['vic', 'tim'], ['g', 'op'], ['at', 'ic'], ['pro', 'per'], ['att', 'or'], ['attor', 'ney'], ['in', 'it'], ['cap', 'ital'], ['he', 'art'], ['ar', 'rest'], ['ph', 'y'], ['ib', 'ility'], ['th', 'ird'], ['b', 'att'], ['it', 'self'], ['f', 'el'], ['quar', 'ter'], ['ap', 'pl'], ['who', 's'], ['ra', 'ther'], ['ter', 'min'], ['col', 'lect'], ['et', 'ime'], ['id', 'a'], ['ac', 'cus'], ['fig', 'ur'], ['st', 'ay'], ['fur', 'ther'], ['govern', 'ment'], ['if', 't'], ['am', 'e'], ['al', 'though'], ['ger', 'm'], ['dif', 'fic'], ['chur', 'ch'], ['re', 'plac'], ['sp', 'ac'], ['cor', 'p']]\n",
      "[['ap', 'r'], ['b', 'ud'], ['dr', 'aw'], ['feat', 'ur'], ['jul', 'y'], ['fr', 'anc'], ['es', 'pe'], ['mo', 'der'], ['ar', 'k'], ['rup', 't'], ['spo', 'kes'], ['sen', 'ator'], ['a', 'id'], ['re', 'spect'], ['st', 'aff'], ['meas', 'ur'], ['pre', 't'], ['f', 'ear'], ['op', 'p'], ['f', 'ell'], ['re', 'view'], ['go', 'v'], ['ph', 'on'], ['al', 't'], ['f', 'f'], ['em', 'erg'], ['cl', 'ub'], ['sa', 'w'], ['in', 'depend'], ['1', '4'], ['cr', 'is'], ['pat', 'r'], ['l', 'er'], ['ne', 'igh'], ['relation', 'ship'], ['is', 'land'], ['loc', 'at'], ['ref', 'uge'], ['um', 'ent'], ['ast', 'er'], ['en', 'er'], ['let', 'ter'], ['s', 'il'], ['sign', 'i'], ['peri', 'od'], ['re', 'co'], ['sen', 'ior'], ['det', 'ail'], ['ap', 'an'], ['sup', 'porter']]\n",
      "[['de', 'v'], ['is', 'n'], ['st', 'ag'], ['centr', 'al'], ['aw', 'ard'], ['1', '00'], ['fl', 'or'], ['qu', 'ick'], ['c', 'ard'], ['un', 'g'], ['ap', 'art'], ['in', 'o'], ['j', 'apan'], ['care', 'er'], ['ro', 'ck'], ['fa', 'il'], ['im', 'p'], ['apr', 'il'], ['c', 'ed'], ['v', 'an'], ['sign', 'ific'], ['im', 'ate'], ['d', 'ol'], ['conne', 'ct'], ['it', 'ch'], ['su', 'pre'], ['lab', 'or'], ['s', 'or'], ['f', 'as'], ['j', 'u'], ['im', 'at'], ['p', 'ag'], ['1', '3'], ['d', 'le'], ['dem', 'and'], ['coun', 'cil'], ['ak', 'e'], ['ac', 'cept'], ['e', 'z'], ['on', 'ent'], ['m', 'ist'], ['mex', 'ico'], ['p', 'ick'], ['f', 'bi'], ['con', 'duct'], ['pl', 'ann'], ['add', 'ress'], ['ra', 'el'], ['2', '5'], ['eu', 'rop']]\n",
      "[['immig', 'rant'], ['am', 'ent'], ['europe', 'an'], ['j', 'ur'], ['ent', 'ire'], ['che', 'ck'], ['d', 'an'], ['ad', 'a'], ['every', 'thing'], ['is', 'rael'], ['ic', 'l'], ['min', 'ute'], ['de', 'fin'], ['r', 'ound'], ['ro', 'y'], ['f', 'em'], ['bor', 'n'], ['soci', 'ety'], ['mr', 's'], ['so', 'on'], ['govern', 'or'], ['hou', 'se'], ['j', 'er'], ['prim', 'ary'], ['r', 'ic'], ['ap', 'on'], ['employ', 'ee'], ['blo', 'ck'], ['desp', 'ite'], ['gre', 'en'], ['mid', 'dle'], ['sex', 'ual'], ['am', 'end'], ['run', 'ning'], ['i', 'am'], ['nomin', 'at'], ['espe', 'cial'], ['4', '0'], ['techn', 'ology'], ['gu', 'y'], ['de', 'ce'], ['we', 'apon'], ['c', 'ian'], ['bus', 'h'], ['res', 'ident'], ['for', 'ward'], ['la', 'unch'], ['cho', 'ice'], ['ed', 'it'], ['diffic', 'ult']]\n",
      "[['stand', 'ard'], ['is', 'i'], ['l', 'ang'], ['op', 'pos'], ['w', 'ind'], ['partic', 'ip'], ['af', 'r'], ['d', 'rop'], ['ment', 'al'], ['comp', 'ar'], ['benef', 'it'], ['u.', 's'], ['de', 'clin'], ['polic', 'ies'], ['n', 'i'], ['neigh', 'bor'], ['car', 'ol'], ['ce', 'le'], ['candid', 'ate'], ['g', 'old'], ['wi', 'de'], ['anc', 'y'], ['go', 'al'], ['g', 'ar'], ['att', 'ention'], ['in', 'fr'], ['do', 'c'], ['tr', 'ack'], ['every', 'one'], ['in', 'flu'], ['m', 'ass'], ['im', 'medi'], ['crim', 'inal'], ['com', 'pl'], ['o', 'h'], ['appro', 'ach'], ['s', 'cre'], ['le', 'e'], ['war', 'n'], ['an', 'ch'], ['g', 'ain'], ['mo', 'b'], ['hist', 'or'], ['cust', 'om'], ['b', 'omb'], ['sa', 'v'], ['re', 'form'], ['exper', 't'], ['qu', 'it'], ['v', 'ac']]\n",
      "iter_number :2000, voc_volume : 2064\n"
     ]
    },
    {
     "data": {
      "application/vnd.jupyter.widget-view+json": {
       "model_id": "429bb6c3142842eb87b42e8df0235ea2",
       "version_major": 2,
       "version_minor": 0
      },
      "text/plain": [
       "  0%|          | 0/250 [00:00<?, ?it/s]"
      ]
     },
     "metadata": {},
     "output_type": "display_data"
    },
    {
     "name": "stdout",
     "output_type": "stream",
     "text": [
      "[['mo', 've'], ['grow', 'th'], ['b', 'a'], ['sur', 've'], ['led', 'g'], ['ex', 'press'], ['s', 'n'], ['f', 'ly'], ['on', 'line'], ['kore', 'an'], ['il', 't'], ['c', 'a'], ['m', 'as'], ['ant', 'ic'], ['mult', 'i'], ['pro', 'gress'], ['b', 'c'], ['ber', 't'], ['def', 'end'], ['h', 'a'], ['el', 's'], ['mo', 'del'], ['cent', 'ury'], ['signific', 'ant'], ['re', 'quest'], ['ce', 'll'], ['major', 'ity'], ['mar', 'ri'], ['sel', 'l'], ['tr', 'an'], ['il', 'legal'], ['de', 'ep'], ['cele', 'br'], ['found', 'ation'], ['a', 'is'], ['il', 'ities'], ['west', 'ern'], ['islam', 'ic'], ['psy', 'ch'], ['u', 'el'], ['inc', 'ident'], ['gu', 'ard'], ['fe', 'br'], ['febr', 'uary'], ['se', 'ek'], ['un', 'ity'], ['fl', 'ict'], ['spec', 'ific'], ['flor', 'ida'], ['pa', 'ul']]\n",
      "[['profess', 'or'], ['was', 'n'], ['sur', 'pris'], ['ener', 'gy'], ['cris', 'is'], ['p', 'tion'], ['h', 'ur'], ['sit', 'uat'], ['pl', 'at'], ['comm', 'ission'], ['lon', 'don'], ['en', 'forc'], ['op', 'port'], ['pres', 'id'], ['con', 'tribut'], ['reg', 'ard'], ['author', 'ities'], ['cor', 'por'], ['immedi', 'ate'], ['ver', 't'], ['gr', 'and'], ['med', 'ical'], ['mill', 'i'], ['p', 'ul'], ['re', 'porter'], ['se', 'ven'], ['con', 'vers'], ['tak', 'e'], ['p', 'ie'], ['lang', 'u'], ['er', 's'], ['ext', 're'], ['ne', 'cess'], ['ile', 'd'], ['c', 'up'], ['do', 'or'], ['pre', 'vent'], ['ex', 'tra'], ['wor', 'th'], ['as', 'sa'], ['brit', 'ish'], ['c', 'op'], ['sci', 'ent'], ['en', 'ch'], ['unit', 'ies'], ['d', 're'], ['ex', 'pl'], ['prob', 'ably'], ['ist', 'an'], ['pract', 'ic']]\n",
      "[['cl', 'us'], ['m', 'ber'], ['sept', 'ember'], ['legis', 'lat'], ['a', '.'], ['s', 'ound'], ['c', 'ou'], ['t', 't'], ['col', 'or'], ['dav', 'id'], ['s', 'cor'], ['b', 'ir'], ['be', 'd'], ['g', 'on'], ['au', 'd'], ['mo', 'vie'], ['.', '.'], ['st', 'ock'], ['au', 'str'], ['dom', 'in'], ['chair', 'man'], ['terror', 'ist'], ['pl', 'ant'], ['art', 'icl'], ['dece', 'mber'], ['cir', 'cum'], ['langu', 'age'], ['ap', 'prov'], ['ch', 'anc'], ['ry', 'an'], ['supre', 'me'], ['cap', 't'], ['n', 'ative'], ['op', 't'], ['att', 'end'], ['wa', 'it'], ['who', 'le'], ['per', 'for'], ['r', 'ation'], ['crow', 'd'], ['200', '8'], ['wi', 'fe'], ['famil', 'ie'], ['p', 'aper'], ['som', 'etime'], ['law', 'yer'], ['g', 'i'], ['z', 'z'], ['man', 'ce'], ['1', '.']]\n",
      "[['im', 'prov'], ['enc', 'ies'], ['mic', 'ro'], ['bu', 'y'], ['m', '.'], ['t', 'v'], ['pa', 'th'], ['g', 'gl'], ['if', 'f'], ['carol', 'ina'], ['d', 'augh'], ['h', 'at'], ['equ', 'i'], ['perfor', 'mance'], ['da', 'i'], ['daugh', 'ter'], ['act', 'or'], ['bri', 'ef'], ['ens', 'ive'], ['r', 'on'], ['convers', 'ation'], ['any', 'one'], ['mill', 'ion'], ['ele', 'c'], ['tit', 'l'], ['phy', 's'], ['stor', 'ies'], ['elec', 'tr'], ['con', 'flict'], ['we', 'bs'], ['her', 'e'], ['webs', 'ite'], ['se', 'at'], ['nu', 'clear'], ['pre', 'par'], ['th', 'ous'], ['thous', 'and'], ['pri', 'or'], ['bud', 'get'], ['ul', 'ation'], ['r', 'an'], ['cl', 'o'], ['r', 'ain'], ['in', 'di'], ['i', 'i'], ['m', 'itt'], ['ar', 'en'], ['vict', 'ory'], ['agre', 'e'], ['ce', 'ed']]\n",
      "[['ey', 'e'], ['row', 'n'], ['ic', 'le'], ['appe', 'al'], ['fre', 'ed'], ['k', 'in'], ['sp', 'r'], ['w', 'el'], ['v', 'iv'], ['in', 'side'], ['be', 'y'], ['j', 'ac'], ['end', 'or'], ['201', '1'], ['mur', 'der'], ['ant', 'i'], ['liber', 'al'], ['m', 'and'], ['presid', 'ency'], ['insur', 'ance'], ['ab', 's'], ['c', 'u'], ['san', 'ct'], ['mo', 're'], ['cl', 'as'], ['al', 'ia'], ['re', 've'], ['i', 'ev'], ['tele', 'vis'], ['z', 'on'], ['r', 'ang'], ['octo', 'ber'], ['n', 'ic'], ['ver', 'ag'], ['reve', 'al'], ['saf', 'ety'], ['min', 'or'], ['con', 'struct'], ['su', 'spect'], ['sum', 'mer'], ['pat', 'ient'], ['ar', 'ies'], ['freed', 'om'], ['reco', 'gn'], ['bro', 'ther'], ['am', 'ount'], ['d', 'ia'], ['em', 'p'], ['j', 'ack'], ['f', 'ire']]\n",
      "iter_number :2250, voc_volume : 2313\n"
     ]
    },
    {
     "data": {
      "application/vnd.jupyter.widget-view+json": {
       "model_id": "9f21190a1fab4619b5b08b90915313b3",
       "version_major": 2,
       "version_minor": 0
      },
      "text/plain": [
       "  0%|          | 0/250 [00:00<?, ?it/s]"
      ]
     },
     "metadata": {},
     "output_type": "display_data"
    },
    {
     "name": "stdout",
     "output_type": "stream",
     "text": [
      "[['en', 'force'], ['y', 'l'], ['ar', 'g'], ['comp', 'let'], ['it', 'u'], ['assa', 'ult'], ['be', 'hav'], ['dol', 'lar'], ['e', 'th'], ['g', 'ave'], ['r', 'am'], ['tr', 'ial'], ['a', 'el'], ['come', 'y'], ['f', 'ast'], ['b', 'ol'], ['l', 'ou'], ['high', 'er'], ['o', 'il'], ['pre', 'ad'], ['aug', 'ust'], ['lit', 'er'], ['represent', 'ative'], ['m', 'ater'], ['writ', 'ten'], ['new', 's'], ['re', 'duc'], ['cit', 'ies'], ['l', 'ig'], ['cred', 'it'], ['af', 'fect'], ['is', 'o'], ['ther', 'e'], ['per', 'form'], ['w', 'it'], ['di', 'e'], ['per', 'h'], ['perh', 'aps'], ['olog', 'ical'], ['pop', 'ulat'], ['cor', 'rect'], ['dam', 'ag'], ['h', 'us'], ['se', 'par'], ['sub', 'ject'], ['repe', 'at'], ['vo', 'ic'], ['br', 'and'], ['gen', 'der'], ['go', 'd']]\n",
      "[['de', 'clar'], ['c', 'ath'], ['ber', 'g'], ['car', 'ri'], ['he', 'av'], ['in', 'ce'], ['christ', 'ian'], ['effect', 'ive'], ['he', 'ard'], ['201', '0'], ['av', 'ail'], ['pro', 'mot'], ['var', 'ious'], ['dis', 'eas'], ['sim', 'ply'], ['de', 'termin'], ['ine', 'se'], ['l', 'ad'], ['h', 'an'], ['fr', 'ench'], ['ab', 'o'], ['opp', 'onent'], ['champ', 'ion'], ['ch', 'inese'], ['elect', 'ed'], ['y', 'es'], ['imp', 'act'], ['b', 'ann'], ['tr', 'ust'], ['stri', 'ke'], ['year', 's'], ['de', 'leg'], ['veh', 'icle'], ['p', 'un'], ['con', 'sist'], ['re', 'mov'], ['ed', 'y'], ['in', 'de'], ['w', 'ise'], ['m', 'ac'], ['low', 'er'], ['f', 'ill'], ['ass', 'ist'], ['po', 'or'], ['e', 'ight'], ['cover', 'age'], ['re', 'mark'], ['op', 'in'], ['doct', 'or'], ['sp', 'ent']]\n",
      "[['ach', 'iev'], ['fe', 'ed'], ['ep', 't'], ['b', 'on'], ['mat', 'ch'], ['tr', 'act'], ['terror', 'ism'], ['discus', 's'], ['mich', 'ael'], ['at', 'l'], ['independ', 'ent'], ['bu', 'ilt'], ['cl', 'imate'], ['than', 'k'], ['m', 'art'], ['fel', 't'], ['prof', 'it'], ['alb', 'um'], ['k', 'el'], ['se', 'y'], ['j', 'ame'], ['2', '4'], ['com', 'plain'], ['m', 'el'], ['fe', 'a'], ['ang', 'e'], ['rad', 'io'], ['ob', 'am'], ['ru', 'bio'], ['ar', 'ily'], ['inter', 'net'], ['lat', 'est'], ['h', 'all'], ['u', 'ter'], ['par', 'a'], ['a', 'head'], ['lar', 'gest'], ['ri', 'an'], ['success', 'ful'], ['est', 'imat'], ['cont', 'ain'], ['re', 'member'], ['ac', 'are'], ['obam', 'acare'], ['adv', 'anc'], ['y', 'm'], ['fin', 'ish'], ['be', 'at'], ['peop', 'le'], ['l', 'ack']]\n",
      "[['stru', 'ggl'], ['ne', 'got'], ['ph', 'en'], ['fa', 'iled'], ['pa', 'id'], ['s', 'end'], ['hom', 'e'], ['co', 'al'], ['mater', 'ial'], ['we', 'ak'], ['bir', 'th'], ['sal', 'e'], ['week', 'end'], ['politic', 'ian'], ['nat', 'ural'], ['l', 'ink'], ['z', 'en'], ['particip', 'at'], ['b', 'ab'], ['u', 'ck'], ['ab', 'ort'], ['ci', 'pl'], ['lo', 'g'], ['su', 're'], ['se', 'lect'], ['co', 'ast'], ['im', 'ent'], ['cont', 'ent'], ['batt', 'l'], ['real', 'ity'], ['sett', 'l'], ['ref', 'us'], ['put', 'in'], ['ed', 'itor'], ['k', 'er'], ['ro', 'b'], ['li', 'e'], ['ple', 'as'], ['us', 'er'], ['a', 'verag'], ['pres', 'sur'], ['big', 'gest'], ['m', 's.'], ['ag', 'ent'], ['jo', 'y'], ['2', '2'], ['nor', 'mal'], ['influ', 'enc'], ['play', 'er'], ['stre', 'am']]\n",
      "[['is', 'on'], ['will', 'iam'], ['pos', 'ition'], ['avail', 'able'], ['can', 'not'], ['h', 'ack'], ['st', 'ance'], ['f', 'an'], ['audi', 'ence'], ['add', 'itional'], ['j', 'ew'], ['cou', 'pl'], ['v', 'ill'], ['e', 'se'], ['suf', 'fer'], ['exp', 'and'], ['we', 'ar'], ['oper', 'ation'], ['200', '9'], ['ass', 'ad'], ['ac', 'ade'], ['ar', 'ab'], ['te', 'en'], ['report', 'ed'], ['the', 'o'], ['pie', 'c'], ['differ', 'ence'], ['s', 'is'], ['brit', 'ain'], ['ex', 'act'], ['h', 'und'], ['plac', 'e'], ['may', 'be'], ['oc', 'cur'], ['prosecut', 'or'], ['st', 'an'], ['t', 'ro'], ['d', 'anger'], ['g', 'as'], ['del', 'iver'], ['ger', 'many'], ['f', 'le'], ['re', 'li'], ['hund', 'red'], ['ex', 'chang'], ['pre', 'dict'], ['p', '.'], ['do', 'g'], ['sy', 'rian'], ['trad', 'itional']]\n",
      "iter_number :2500, voc_volume : 2563\n"
     ]
    },
    {
     "data": {
      "application/vnd.jupyter.widget-view+json": {
       "model_id": "c45099e849cd40948202ef2395aae118",
       "version_major": 2,
       "version_minor": 0
      },
      "text/plain": [
       "  0%|          | 0/250 [00:00<?, ?it/s]"
      ]
     },
     "metadata": {},
     "output_type": "display_data"
    },
    {
     "name": "stdout",
     "output_type": "stream",
     "text": [
      "[['s', 'ort'], ['leader', 'ship'], ['b', 'id'], ['sent', 'enc'], ['adv', 'oc'], ['separ', 'at'], ['pict', 'ur'], ['al', 'on'], ['man', 'age'], ['eng', 'th'], ['sou', 'thern'], ['scre', 'en'], ['ou', 'l'], ['pul', 'l'], ['cond', 'ition'], ['eng', 'ag'], ['f', 'at'], ['6', '0'], ['writ', 'er'], ['foot', 'ball'], ['t', 'ed'], ['gen', 'erat'], ['div', 'is'], ['br', 'ought'], ['reg', 'ular'], ['deleg', 'at'], ['tru', 'th'], ['blo', 'od'], ['may', 'or'], ['ur', 'g'], ['av', 'oid'], ['pe', 'ace'], ['surve', 'y'], ['re', 'uter'], ['2', '3'], ['w', 'ag'], ['ob', 'ject'], ['mis', 'sion'], ['init', 'ial'], ['op', 'posit'], ['ific', 'ation'], ['in', 'come'], ['car', 'ry'], ['ac', 'her'], ['2', '1'], ['d', 'ig'], ['s', 'low'], ['ch', 'as'], ['bas', 'ic'], ['behav', 'ior']]\n",
      "[['in', 'jur'], ['ear', 'th'], ['sy', 'n'], ['hus', 'band'], ['ic', 'tion'], ['gr', 'ant'], ['ultim', 'a'], ['vir', 'gin'], ['ep', 'i'], ['k', 'new'], ['re', 'vol'], ['com', 'bin'], ['n', 'av'], ['ab', 'us'], ['c', 'ub'], ['as', 'sem'], ['eas', 'y'], ['r', 'out'], ['en', 'ded'], ['arr', 'iv'], ['bey', 'ond'], ['b', 'ow'], ['ad', 's'], ['re', 'str'], ['es', 'ses'], ['c', '.'], ['flo', 'or'], ['app', 'le'], ['cr', 'aft'], ['l', 'or'], ['mat', 'ter'], ['mig', 'ra'], ['col', 'um'], ['fem', 'ale'], ['cr', 'y'], ['up', 'dat'], ['equ', 'al'], ['ou', 'ch'], ['lau', 'gh'], ['stat', 'es'], ['relig', 'ious'], ['custom', 'er'], ['equ', 'ip'], ['ch', 'ic'], ['sol', 'v'], ['sess', 'ion'], ['rel', 'ative'], ['moder', 'n'], ['wh', 'om'], ['r', 'al']]\n",
      "[['br', 'id'], ['p', 'ack'], ['comm', 'unities'], ['east', 'ern'], ['num', 'er'], ['art', 'ist'], ['de', 'mon'], ['f', 'ish'], ['enter', 'tain'], ['h', 'ug'], ['profess', 'ional'], ['spokes', 'man'], ['invest', 'or'], ['activ', 'ist'], ['arg', 'ument'], ['5', '00'], ['hot', 'el'], ['bo', 'x'], ['ar', 'my'], ['s', 'in'], ['r', 'iv'], ['ger', 'man'], ['elect', 'or'], ['ol', 'ym'], ['tr', 'ou'], ['ac', 'r'], ['f', 'it'], ['on', 'ic'], ['af', 'fair'], ['tur', 'key'], ['go', 'e'], ['elect', 'ro'], ['su', 'sp'], ['mag', 'az'], ['2', '7'], ['sc', 'hed'], ['m', 'ir'], ['opport', 'unity'], ['re', 'serv'], ['sched', 'ul'], ['it', 'a'], ['compet', 'ition'], ['wor', 'se'], ['n', 'in'], ['tr', 'ib'], ['abo', 've'], ['w', 'is'], ['minist', 'ry'], ['end', 'a'], ['st', 'ab']]\n",
      "[['strate', 'gy'], ['ro', 'bert'], ['reg', 'ist'], ['through', 'out'], ['chic', 'ago'], ['r', 'or'], ['tr', 'ip'], ['part', 'i'], ['s', 'iz'], ['ear', 'n'], ['plat', 'form'], ['b', 'rown'], ['journal', 'ist'], ['dr', 'iv'], ['comple', 'x'], ['lo', 'ck'], ['gr', 'at'], ['imag', 'in'], ['c', 'ro'], ['comm', 'er'], ['2', '6'], ['sp', 'ot'], ['ian', 'ce'], ['cont', 'est'], ['won', 'der'], ['x', 'i'], ['cl', 'ose'], ['en', 'se'], ['air', 'port'], ['m', 'un'], ['s', 'of'], ['ip', 't'], ['fl', 'ight'], ['k', 'y'], ['busin', 'ess'], ['law', 'suit'], ['organ', 'iz'], ['f', 'ant'], ['2', '8'], ['m', 'ile'], ['gh', 'an'], ['h', 'ab'], ['par', 'li'], ['parli', 'ament'], ['de', 'feat'], ['te', 'acher'], ['comm', 'and'], ['law', 'maker'], ['all', 'i'], ['plann', 'ed']]\n",
      "[['dr', 'iver'], ['threat', 'en'], ['m', 'ik'], ['scient', 'ist'], ['refuge', 'e'], ['no', 'on'], ['her', 'o'], ['anim', 'al'], ['di', 'pl'], ['intro', 'duc'], ['dipl', 'om'], ['it', 'at'], ['begin', 'ning'], ['be', 'low'], ['stat', 'us'], ['de', 'gree'], ['th', 'om'], ['sh', 'ift'], ['ut', 'ion'], ['ag', 'enda'], ['fam', 'ous'], ['propos', 'al'], ['spo', 'ke'], ['ref', 'lect'], ['ou', 'd'], ['z', 'o'], ['l', 'ish'], ['e', 'at'], ['aw', 'are'], ['ic', 'it'], ['sur', 'viv'], ['ne', 'g'], ['k', 'o'], ['fact', 'or'], ['recogn', 'iz'], ['necess', 'ary'], ['19', '5'], ['event', 'ual'], ['s', 'pread'], ['prov', 'ince'], ['pret', 'ty'], ['and', 'al'], ['e', 'ous'], ['danger', 'ous'], ['olym', 'pic'], ['win', 'n'], ['re', 'call'], ['ad', 'o'], ['t', 'act'], ['ag', 'encies']]\n",
      "iter_number :2750, voc_volume : 2812\n"
     ]
    },
    {
     "data": {
      "application/vnd.jupyter.widget-view+json": {
       "model_id": "267a6f5ef8764410a4fa1109499b3aec",
       "version_major": 2,
       "version_minor": 0
      },
      "text/plain": [
       "  0%|          | 0/250 [00:00<?, ?it/s]"
      ]
     },
     "metadata": {},
     "output_type": "display_data"
    },
    {
     "name": "stdout",
     "output_type": "stream",
     "text": [
      "[['virgin', 'ia'], ['ep', 'iso'], ['t', 'ie'], ['pen', 'n'], ['af', 'ford'], ['w', 'id'], ['sur', 'g'], ['n', 'el'], ['str', 'a'], ['ce', 'l'], ['list', 'en'], ['s', 'le'], ['o', 'st'], ['we', 'al'], ['enc', 'our'], ['on', 'a'], ['stud', 'ies'], ['ar', 'ian'], ['strate', 'g'], ['analy', 'st'], ['dev', 'ice'], ['manu', 'fact'], ['bar', 'ack'], ['extre', 'me'], ['ef', 'ul'], ['manufact', 'ur'], ['can', 'ada'], ['episo', 'de'], ['ann', 'ual'], ['typ', 'ical'], ['am', 'b'], ['h', 'ir'], ['in', 'te'], ['h', 'ib'], ['2', '.'], ['af', 'ghan'], ['h', 'aw'], ['con', 'sum'], ['eng', 'lish'], ['ip', 'p'], ['ct', 'ure'], ['speak', 'er'], ['pre', 'm'], ['nor', 'thern'], ['sa', 'u'], ['busin', 'esses'], ['contr', 'act'], ['ce', 'o'], ['en', 'n'], ['w', 'il']]\n",
      "[['bl', 'u'], ['ot', 'a'], ['cont', 'act'], ['en', 'th'], ['ten', 's'], ['champion', 'ship'], ['demon', 'str'], ['t', 'end'], ['ip', 'le'], ['com', 'fort'], ['igh', 'ter'], ['res', 'ourc'], ['sk', 'y'], ['john', 'son'], ['me', '.'], ['happ', 'y'], ['pun', 'ish'], ['main', 'tain'], ['var', 'i'], ['appear', 'ance'], ['broad', 'cast'], ['ap', 'parent'], ['sc', 'ott'], ['d', '.'], ['ic', 'ide'], ['m', 'ate'], ['med', 'ic'], ['reg', 'ulat'], ['encour', 'ag'], ['a', 'e'], ['alleg', 'ation'], ['c', 'is'], ['j', 'ef'], ['19', '4'], ['g', 'ed'], ['fr', 'ank'], ['op', 'h'], ['n', 'ar'], ['ob', 'vious'], ['sp', 'aper'], ['s', 'ight'], ['new', 'spaper'], ['d', 'ut'], ['an', 'th'], ['b', 'ag'], ['me', 'th'], ['crit', 'ical'], ['fa', 'ith'], ['r', 'ank'], ['bur', 'n']]\n",
      "[['fl', 'ag'], ['trou', 'bl'], ['j', 'ok'], ['miss', 'ile'], ['i', 'ar'], ['d', 'ark'], ['re', 'sta'], ['resta', 'ur'], ['ident', 'ity'], ['respons', 'ible'], ['gen', 'er'], ['hon', 'or'], ['can', 'cer'], ['sm', 'art'], ['ind', 'icat'], ['mon', 't'], ['neighbor', 'hood'], ['celebr', 'at'], ['fal', 'se'], ['democr', 'acy'], ['br', 'az'], ['oh', 'io'], ['bill', 'ion'], ['after', 'noon'], ['l', 'an'], ['power', 'ful'], ['e', 'c'], ['author', 'ity'], ['se', 'oul'], ['viol', 'at'], ['ation', 'al'], ['dre', 'am'], ['fell', 'ow'], ['in', 'ct'], ['p', 'ence'], ['a', 'be'], ['h', 'en'], ['marri', 'age'], ['appro', 'pri'], ['j', 'i'], ['g', 'at'], ['ultim', 'ate'], ['be', 'aut'], ['ap', 'o'], ['do', 'zen'], ['struct', 'ur'], ['qual', 'ity'], ['er', 'o'], ['per', 'fect'], ['2', '9']]\n",
      "[['mitt', 'ed'], ['atl', 'antic'], ['restaur', 'ant'], ['w', 'ild'], ['assem', 'bly'], ['m', 'ach'], ['weal', 'th'], ['in', 'y'], ['adv', 'ant'], ['war', 'm'], ['200', '7'], ['ange', 'les'], ['ci', 'e'], ['br', 'ain'], ['201', '8'], ['dis', 'crim'], ['congress', 'ional'], ['par', 'i'], ['sho', 'ck'], ['c', 'aut'], ['h', 'u'], ['ri', 'but'], ['advoc', 'at'], ['critic', 'ism'], ['m', 'ort'], ['dr', 'ive'], ['ly', 'n'], ['fail', 'ure'], ['eng', 'ine'], ['gr', 'av'], ['revol', 'ution'], ['vi', 'et'], ['m', 'ary'], ['v', 'oc'], ['sim', 'ple'], ['f', 'lat'], ['mult', 'iple'], ['dist', 'ribut'], ['ick', 'et'], ['fre', 'qu'], ['or', 'din'], ['he', 'st'], ['me', 'ant'], ['ve', 'ter'], ['re', 'ject'], ['bar', 'r'], ['pur', 'pos'], ['d', 'ivers'], ['t', 'ext'], ['ret', 'ir']]\n",
      "[['spe', 'cie'], ['dis', 'cover'], ['c', 'ab'], ['ga', 'ther'], ['tr', 'ag'], ['ann', 'u'], ['r', 'ival'], ['hur', 't'], ['t', 'ough'], ['m', 'ix'], ['sat', 'is'], ['j', '.'], ['go', 'og'], ['oun', 'tain'], ['critic', 'iz'], ['j', 'ury'], ['dou', 'bt'], ['re', 'sist'], ['ack', 'now'], ['mem', 'or'], ['ev', 'e'], ['four', 'th'], ['sh', 'ap'], ['g', 'ay'], ['would', 'n'], ['de', 'put'], ['i', 'est'], ['sh', 'ut'], ['ch', 'ann'], ['fun', 'ction'], ['em', 'ot'], ['7', '0'], ['dom', 'est'], ['s', 'mo'], ['ven', 'ue'], ['sy', 'l'], ['ri', 'ot'], ['phys', 'ical'], ['magaz', 'in'], ['at', 'ure'], ['mo', 'on'], ['sh', 'ire'], ['cultur', 'al'], ['st', 'ood'], ['con', 'sequ'], ['trans', 'it'], ['endor', 's'], ['t', 'ouch'], ['engine', 'er'], ['reg', 'ulation']]\n",
      "iter_number :3000, voc_volume : 3061\n"
     ]
    },
    {
     "data": {
      "application/vnd.jupyter.widget-view+json": {
       "model_id": "ff103b1577084ca98080cb8ea7dda8a4",
       "version_major": 2,
       "version_minor": 0
      },
      "text/plain": [
       "  0%|          | 0/250 [00:00<?, ?it/s]"
      ]
     },
     "metadata": {},
     "output_type": "display_data"
    },
    {
     "name": "stdout",
     "output_type": "stream",
     "text": [
      "[['bl', 'am'], ['tra', 'il'], ['cap', 'tur'], ['ob', 'serv'], ['pain', 't'], ['hand', 'l'], ['over', 'all'], ['in', 'sist'], ['comm', 'end'], ['f', 'ighter'], ['p', 'il'], ['me', 'tr'], ['sc', 'andal'], ['braz', 'il'], ['san', 'ction'], ['de', 'bt'], ['ac', 'c'], ['sect', 'or'], ['8', '0'], ['ser', 't'], ['div', 'id'], ['n', 'ick'], ['tran', 'sport'], ['own', 'er'], ['ste', 'ad'], ['ind', 'ia'], ['y', 'e'], ['acknow', 'ledg'], ['re', 'act'], ['proper', 'ty'], ['domest', 'ic'], ['constitut', 'ional'], ['could', 'n'], ['man', 'n'], ['b', 'ay'], ['ad', 'ult'], ['t', 'abl'], ['ign', 'or'], ['w', 'av'], ['ad', 'vert'], ['v', 'ia'], ['il', 'le'], ['be', 'ar'], ['we', 'ight'], ['he', 'll'], ['stor', 'm'], ['l', 'ay'], ['sm', 'ith'], ['b', 'ia'], ['chann', 'el']]\n",
      "[['goog', 'l'], ['comple', 'te'], ['rad', 'ical'], ['f', 'est'], ['spon', 'sor'], ['civil', 'ian'], ['le', 'ak'], ['cas', 'h'], ['int', 'ent'], ['meth', 'od'], ['di', 'o'], ['read', 'er'], ['cy', 'cl'], ['sh', 'op'], ['co', 'ok'], ['ident', 'ified'], ['tem', 'per'], ['lou', 'is'], ['add', 'ition'], ['afr', 'ican'], ['ple', 'ment'], ['posit', 'ive'], ['st', 'yl'], ['win', 'ner'], ['pa', 'ir'], ['in', 'aug'], ['m', 'ountain'], ['vill', 'age'], ['fly', 'nn'], ['en', 'joy'], ['hib', 'it'], ['c', 'art'], ['cle', 'an'], ['investig', 'ation'], ['stu', 'ff'], ['tr', 'end'], ['t', 'ies'], ['b', 'ot'], ['wr', 'ite'], ['i', 'ow'], ['dr', 'ink'], ['9', '0'], ['a', 'x'], ['ste', 'in'], ['p', 'ent'], ['sp', 'i'], ['ess', 'ential'], ['200', '5'], ['up', 'on'], ['fort', 'un']]\n",
      "[['afr', 'ica'], ['m', 'aster'], ['bu', 'zz'], ['dest', 'roy'], ['g', 'ang'], ['austr', 'alia'], ['be', 'll'], ['cam', 'era'], ['re', 'commend'], ['jud', 'ic'], ['as', 'sum'], ['advant', 'ag'], ['no', 'vel'], ['en', 'sur'], ['199', '0'], ['real', 'iz'], ['ust', 'rat'], ['nat', 'ur'], ['f', 'if'], ['her', 'self'], ['rich', 'ard'], ['el', 'se'], ['co', 'd'], ['acc', 'ident'], ['comm', 'itt'], ['republ', 'ic'], ['fal', 's'], ['ce', 'ption'], ['con', 'su'], ['20', '00'], ['grad', 'uat'], ['bro', 'ok'], ['repe', 'al'], ['he', 'at'], ['b', 'ure'], ['at', 'tract'], ['veter', 'an'], ['s', 'i'], ['s', 'and'], ['m', 'use'], ['mob', 'il'], ['li', 'p'], ['fe', 'et'], ['a', 'ther'], ['relig', 'ion'], ['3', '5'], ['ph', 'one'], ['i', 'ation'], ['jer', 'sey'], ['in', 'spir']]\n",
      "[['ing', 'er'], ['iow', 'a'], ['bure', 'au'], ['fl', 'ow'], ['r', 'ough'], ['far', 'm'], ['bas', 'e'], ['ig', 'an'], ['analy', 'sis'], ['b', 'ound'], ['wh', 'ate'], ['whate', 'ver'], ['institut', 'ion'], ['is', 'an'], ['s', 'qu'], ['s', 'old'], ['h', 'ig'], ['complain', 't'], ['prin', 'cipl'], ['build', 'ing'], ['camp', 'us'], ['environ', 'mental'], ['grap', 'hy'], ['pur', 'chas'], ['re', 'sign'], ['clus', 'ion'], ['ra', 'id'], ['respons', 'ibility'], ['ol', 'f'], ['sau', 'di'], ['muse', 'um'], ['infr', 'a'], ['mach', 'in'], ['z', 'e'], ['reg', 'ime'], ['pre', 'ced'], ['ig', 'at'], ['comp', 'ut'], ['s', 'car'], ['col', 'league'], ['min', 'im'], ['pe', 'ter'], ['gu', 'id'], ['200', '6'], ['y', 'a'], ['led', 'ge'], ['eng', 'land'], ['emerg', 'ency'], ['publ', 'ish'], ['mex', 'ican']]\n",
      "[['jo', 'int'], ['st', 'ad'], ['famil', 'iar'], ['re', 'v'], ['de', 'port'], ['beli', 'ef'], ['l', 'en'], ['itu', 'de'], ['pr', 'int'], ['ag', 'gress'], ['k', 'r'], ['hol', 'der'], ['re', 'venue'], ['ag', 'on'], ['198', '0'], ['ang', 'el'], ['activ', 'ities'], ['activ', 'ity'], ['discrim', 'inat'], ['my', 'self'], ['sett', 'le'], ['ag', 'an'], ['ar', 'iz'], ['con', 'clud'], ['indi', 'an'], ['con', 'vict'], ['dis', 'play'], ['k', 'ept'], ['al', 'ex'], ['inde', 'ed'], ['pre', 'gn'], ['dy', 'nam'], ['cor', 'rupt'], ['fr', 'aud'], ['research', 'er'], ['sign', 'al'], ['j', 'ail'], ['sol', 'di'], ['is', 's'], ['o', 'v'], ['commun', 'ication'], ['syl', 'van'], ['ber', 'ni'], ['ony', 'm'], ['d', 'ro'], ['as', 'ia'], ['200', '4'], ['part', 'isan'], ['back', 'ground'], ['it', 'z']]\n",
      "iter_number :3250, voc_volume : 3310\n"
     ]
    },
    {
     "data": {
      "application/vnd.jupyter.widget-view+json": {
       "model_id": "1181518ede7e4c44b75cc0501a71b00e",
       "version_major": 2,
       "version_minor": 0
      },
      "text/plain": [
       "  0%|          | 0/250 [00:00<?, ?it/s]"
      ]
     },
     "metadata": {},
     "output_type": "display_data"
    },
    {
     "name": "stdout",
     "output_type": "stream",
     "text": [
      "[['en', 'em'], ['dis', 'put'], ['mean', 'while'], ['deput', 'y'], ['frequ', 'ent'], ['f', 'are'], ['w', 'ound'], ['bab', 'y'], ['mist', 'ake'], ['sylvan', 'ia'], ['histor', 'ical'], ['not', 'ic'], ['p', 'ledg'], ['om', 'e'], ['mor', 'al'], ['wor', 'st'], ['ro', 'ot'], ['and', 're'], ['t', 'ig'], ['sc', 'al'], ['im', 'plement'], ['ch', 'ris'], ['be', 'ach'], ['sk', 'i'], ['rac', 'ial'], ['ab', 'solut'], ['ra', 'il'], ['the', 'ast'], ['an', 'ci'], ['penn', 'sylvania'], ['r', '.'], ['wind', 'ow'], ['as', 'set'], ['hig', 'hest'], ['ro', 'g'], ['h', 'id'], ['am', 'i'], ['or', 'at'], ['op', 'tion'], ['sh', 'er'], ['3', '.'], ['mag', 'n'], ['sist', 'er'], ['mot', 'iv'], ['bal', 'anc'], ['po', 'd'], ['mar', 'gin'], ['to', 'ol'], ['alter', 'native'], ['har', 'm']]\n",
      "[['ast', 'ic'], ['re', 'pl'], ['pr', 'ais'], ['w', 'an'], ['ik', 'a'], ['mig', 'rant'], ['ol', 'der'], ['v', 'inc'], ['soldi', 'er'], ['on', 'to'], ['k', 'as'], ['ast', 'ru'], ['to', 'wer'], ['den', 'ied'], ['infr', 'astru'], ['viol', 'ent'], ['dr', '.'], ['em', 'br'], ['s', 'ad'], ['v', 'ul'], ['mass', 'ive'], ['infrastru', 'cture'], ['regist', 'er'], ['ex', 'cept'], ['ext', 'end'], ['f', 'ix'], ['con', 'sult'], ['up', '.'], ['ex', 'er'], ['fol', 'k'], ['depart', 'ment'], ['commer', 'cial'], ['chr', 'on'], ['hon', 'est'], ['c', 'ate'], ['te', 'ach'], ['and', 'r'], ['ip', 'al'], ['pro', 'm'], ['repeat', 'ed'], ['v', 'in'], ['b', 'ath'], ['s', 'ar'], ['ex', 'plo'], ['e', 'g'], ['agre', 'ement'], ['t', 'ic'], ['val', 'ley'], ['coun', 'sel'], ['co', 'operat']]\n",
      "[['inv', 'it'], ['protest', 'er'], ['t', 'ap'], ['sol', 'id'], ['graph', 'ic'], ['tro', 'op'], ['and', 'a'], ['r', 'he'], ['oc', 'cup'], ['mich', 'igan'], ['advert', 'is'], ['n', '.'], ['ch', 'a'], ['coal', 'ition'], ['increas', 'ing'], ['d', 'anc'], ['wel', 'com'], ['t', 'ask'], ['class', 'ified'], ['ing', 's'], ['s', 'acr'], ['g', 'ul'], ['afghan', 'istan'], ['fre', 'sh'], ['progress', 'ive'], ['est', 'at'], ['tr', 'ig'], ['i', 'j'], ['br', 'anch'], ['contro', 'vers'], ['po', 'ol'], ['j', 'im'], ['sk', 'ill'], ['sun', 'g'], ['gre', 'ater'], ['gi', 'ant'], ['h', 'air'], ['lo', 'b'], ['ten', 'sion'], ['al', 'ty'], ['poss', 'ibility'], ['el', 'ine'], ['ch', 'art'], ['s', 'pl'], ['ur', 'ban'], ['u', 'ber'], ['inst', 'ance'], ['ad', 'opt'], ['the', 'ory'], ['commun', 'icat']]\n",
      "[['stre', 'ss'], ['cau', 'cus'], ['sub', 'st'], ['lar', 'ger'], ['l', 'ic'], ['he', 'm'], ['t', 'ort'], ['in', 'fect'], ['rac', 'ist'], ['s', 'we'], ['im', 'pl'], ['oc', 'cas'], ['min', 'ent'], ['out', 'come'], ['investig', 'ator'], ['know', 'ledge'], ['sle', 'ep'], ['electr', 'ic'], ['s', 'now'], ['dou', 'bl'], ['le', 'te'], ['col', 'd'], ['n', 'as'], ['approv', 'al'], ['be', 'com'], ['n', 'bc'], ['hy', 'po'], ['stra', 'ight'], ['che', 'm'], ['fest', 'ival'], ['mart', 'in'], ['sup', 'pos'], ['f', 'uel'], ['ver', 'sy'], ['put', 't'], ['contro', 'versy'], ['tur', 'k'], ['th', 'row'], ['es', 'cap'], ['amb', 'assad'], ['ambassad', 'or'], ['nam', 'ent'], ['stop', 'ped'], ['neg', 'ative'], ['ball', 'ot'], ['photo', 'graph'], ['hav', 'en'], ['i', 'bly'], ['stad', 'ium'], ['cr', 'ash']]\n",
      "[['dis', 'appoint'], ['us', '.'], ['w', 'ish'], ['mem', 'o'], ['j', 'one'], ['cab', 'in'], ['lo', 'an'], ['it', 'ory'], ['rhe', 'tor'], ['r', 'ay'], ['buzz', 'feed'], ['200', '1'], ['legis', 'l'], ['t', 'icket'], ['every', 'body'], ['spir', 'it'], ['m', 'ap'], ['in', 'ation'], ['s', 'quar'], ['bas', 'i'], ['preced', 'ent'], ['consequ', 'ence'], ['del', 'ay'], ['if', 'ul'], ['bann', 'on'], ['she', 'l'], ['is', 'co'], ['ri', 'ed'], ['o', 'ce'], ['cond', 'it'], ['pas', 'sen'], ['passen', 'ger'], ['st', 'ain'], ['japan', 'ese'], ['cl', 'ient'], ['t', 'un'], ['inaug', 'ur'], ['por', 'ary'], ['cor', 'n'], ['4', '5'], ['cro', 'ss'], ['mot', 'or'], ['pur', 'su'], ['et', 'c'], ['de', 'ploy'], ['ur', 'b'], ['r', 'ar'], ['terr', 'itory'], ['qu', 'ot'], ['announ', 'ce']]\n",
      "iter_number :3500, voc_volume : 3558\n"
     ]
    },
    {
     "data": {
      "application/vnd.jupyter.widget-view+json": {
       "model_id": "338ea70ae7184a93b2ee4e8c70600840",
       "version_major": 2,
       "version_minor": 0
      },
      "text/plain": [
       "  0%|          | 0/250 [00:00<?, ?it/s]"
      ]
     },
     "metadata": {},
     "output_type": "display_data"
    },
    {
     "name": "stdout",
     "output_type": "stream",
     "text": [
      "[['a', 'i'], ['re', 'cru'], ['ly', 'wood'], ['ch', 'an'], ['qu', 'i'], ['p', 'el'], ['cer', 'em'], ['lu', 'c'], ['ash', 'ion'], ['appl', 'ication'], ['3', '1'], ['fe', 'b'], ['p', 'ip'], ['dig', 'ital'], ['sc', 'ow'], ['ch', 'er'], ['no', '.'], ['marri', 'ed'], ['top', 'ic'], ['p', 'y'], ['ag', 'er'], ['consu', 'mer'], ['or', 'd'], ['pres', 'ence'], ['ap', 't'], ['ol', 'ic'], ['recru', 'it'], ['f', 'ashion'], ['pr', 'ay'], ['g', 'ri'], ['su', 'd'], ['ade', 'l'], ['cau', 'gh'], ['chem', 'ical'], ['j', 'ump'], ['su', 'icide'], ['occur', 'red'], ['ment', 'ion'], ['h', 'unt'], ['plan', 'et'], ['gl', 'as'], ['ac', 'cur'], ['de', 'tect'], ['d', 'l'], ['p', 'in'], ['r', 'ent'], ['f', 'ak'], ['pro', 'to'], ['ic', 'ul'], ['dr', 'aft']]\n",
      "[['la', 'bel'], ['ob', 'tain'], ['corpor', 'ate'], ['tem', 'po'], ['meet', 'ing'], ['tru', 'ck'], ['tour', 'nament'], ['gr', 'y'], ['ation', 's'], ['r', 'ial'], ['p', 'itch'], ['re', 'agan'], ['el', 'ite'], ['milit', 'ant'], ['ele', 'ment'], ['demonstr', 'at'], ['ant', 'e'], ['n', 'pr'], ['prin', 'ce'], ['char', 'le'], ['caugh', 't'], ['hol', 'lywood'], ['uk', 'rain'], ['other', 'wise'], ['st', 'ak'], ['gre', 'w'], ['cho', 'ose'], ['her', 'it'], ['d', 'ad'], ['ast', 'ro'], ['brid', 'g'], ['inter', 'nal'], ['b', 'ond'], ['sur', 'fac'], ['ri', 'ble'], ['sp', 'an'], ['g', 'ap'], ['mo', 'scow'], ['tr', 'af'], ['int', 'ended'], ['ama', 'zon'], ['franc', 'isco'], ['dis', 'aster'], ['id', 'ence'], ['mov', 'ement'], ['lo', 'y'], ['king', 'dom'], ['spect', 'ive'], ['k', 'et'], ['ad', 'ded']]\n",
      "[['trans', 'fer'], ['w', '.'], ['el', 'and'], ['tr', 'ay'], ['gy', 'pt'], ['medic', 'ine'], ['tt', 'p'], ['air', 'craft'], ['am', 'bi'], ['ant', 'a'], ['exer', 'cis'], ['ch', 'ain'], ['y', 'ang'], ['qu', 'ire'], ['drop', 'ped'], ['refer', 'enc'], ['h', 'ttp'], ['met', 'ro'], ['sk', 'in'], ['dr', 'am'], ['g', 'al'], ['ir', 't'], ['sud', 'den'], ['dis', 'h'], ['corpor', 'at'], ['app', 'ed'], ['bur', 'g'], ['pan', 'ic'], ['you', 'th'], ['g', 'ard'], ['a', 'ire'], ['elector', 'al'], ['heav', 'y'], ['thom', 'a'], ['sp', 'ar'], ['bo', 'b'], ['re', 'bel'], ['z', 'ika'], ['l', 'un'], ['sub', 'sid'], ['trad', 'ition'], ['h', 'amp'], ['cr', 'ack'], ['o', 'th'], ['discover', 'ed'], ['ro', 'man'], ['prom', 'pt'], ['wis', 'con'], ['wiscon', 'sin'], ['p', 'm']]\n",
      "[['embr', 'ac'], ['minor', 'ity'], ['th', 'u'], ['ust', 'er'], ['m', 'ing'], ['bre', 'x'], ['pro', 'ced'], ['stu', 'dio'], ['expl', 'or'], ['v', 'ille'], ['fe', 'e'], ['st', 'ick'], ['near', 'by'], ['fore', 'st'], ['traf', 'fic'], ['oce', 'an'], ['des', 'ir'], ['c', 'ia'], ['ter', 'n'], ['ma', 'x'], ['jef', 'f'], ['ab', 'ilities'], ['200', '3'], ['re', 'sc'], ['duct', 'ion'], ['tw', 'ice'], ['form', 'al'], ['sp', 'ic'], ['con', 'vinc'], ['im', 'pe'], ['af', 'fil'], ['clus', 'ive'], ['pan', 'el'], ['brex', 'it'], ['im', 'possible'], ['bro', 'k'], ['c', 'ros'], ['fic', 'ient'], ['ans', 'as'], ['ex', 'cit'], ['un', 'lik'], ['sh', 'are'], ['indust', 'rial'], ['suc', 'ceed'], ['georg', 'ia'], ['jew', 'ish'], ['at', 'ory'], ['ne', 'u'], ['197', '0'], ['con', 'cept']]\n",
      "[['uni', 'que'], ['consist', 'ent'], ['sh', 'own'], ['controvers', 'ial'], ['vul', 'ner'], ['ke', 'e'], ['re', 'mind'], ['ro', 'le'], ['k', 'ur'], ['str', 'ength'], ['vict', 'or'], ['din', 'ner'], ['od', 'y'], ['ip', 'h'], ['ide', 'o'], ['mat', 'ic'], ['eas', 'ily'], ['acade', 'my'], ['hamp', 'shire'], ['po', 'ver'], ['oun', 'c'], ['y', 'ell'], ['clo', 'th'], ['et', 't'], ['kas', 'ich'], ['specific', 'ally'], ['im', 'pos'], ['nomine', 'e'], ['bro', 'ken'], ['lif', 't'], ['nat', 'o'], ['c', 'ain'], ['jo', 'e'], ['pre', 'fer'], ['sup', 'ply'], ['con', 'front'], ['st', 'eve'], ['re', 'solut'], ['olog', 'ist'], ['sum', 'mit'], ['r', 'ing'], ['est', 'er'], ['has', 'n'], ['administ', 'ration'], ['negot', 'iat'], ['s', 'ought'], ['19', '3'], ['be', 'long'], ['re', 'quire'], ['w', 'ing']]\n",
      "iter_number :3750, voc_volume : 3807\n"
     ]
    },
    {
     "data": {
      "application/vnd.jupyter.widget-view+json": {
       "model_id": "a90b560d5b0343b08e08940ccddecd71",
       "version_major": 2,
       "version_minor": 0
      },
      "text/plain": [
       "  0%|          | 0/250 [00:00<?, ?it/s]"
      ]
     },
     "metadata": {},
     "output_type": "display_data"
    },
    {
     "name": "stdout",
     "output_type": "stream",
     "text": [
      "[['wor', 'ry'], ['g', 'ro'], ['emp', 'has'], ['ar', 'a'], ['rhetor', 'ic'], ['in', 'nov'], ['ordin', 'ary'], ['pal', 'est'], ['k', 'ick'], ['ath', 'lete'], ['h', 'att'], ['4', '.'], ['n', 'c'], ['we', 'b'], ['any', 'more'], ['compl', 'icat'], ['just', 'ice'], ['cr', 'ip'], ['su', 'l'], ['sh', 'ak'], ['re', 'vers'], ['don', 'or'], ['w', 'ak'], ['av', 'en'], ['bow', 'l'], ['expect', 'ation'], ['do', '.'], ['el', 'im'], ['r', 'ig'], ['got', 'ten'], ['in', 'su'], ['reg', 'ional'], ['con', 'n'], ['favor', 'it'], ['i', 'que'], ['ament', 'al'], ['t', 'ill'], ['y', 'ard'], ['tw', 'are'], ['out', 'let'], ['sof', 'tware'], ['we', 'ather'], ['pr', 'inc'], ['ang', 'l'], ['e', 'gypt'], ['am', 'id'], ['ev', 'al'], ['pro', 'ceed'], ['ent', 'y'], ['r', 'as']]\n",
      "[['scr', 'ipt'], ['act', 'ive'], ['mon', 'itor'], ['l', 'ak'], ['head', 'quarter'], ['gre', 'g'], ['sh', 'r'], ['ali', 'en'], ['cont', 'ext'], ['conf', 'ident'], ['lo', 'ad'], ['beaut', 'iful'], ['head', 'lin'], ['qui', 'et'], ['n', 'arr'], ['flo', 'od'], ['iv', 'ity'], ['ac', 'compl'], ['sch', 'ol'], ['ind', 'ict'], ['un', 'usual'], ['inter', 'pret'], ['z', 'a'], ['m', 'ail'], ['b', 'ak'], ['i', 'us'], ['pri', 'z'], ['har', 'ass'], ['mar', 'in'], ['ac', 'ity'], ['inaugur', 'at'], ['wor', 'ried'], ['narr', 'ative'], ['st', 'one'], ['cabin', 'et'], ['pro', 'minent'], ['guard', 'ian'], ['legisl', 'ative'], ['t', '.'], ['o', 'x'], ['r', 'and'], ['else', 'where'], ['cath', 'olic'], ['tal', 'ent'], ['vari', 'ety'], ['dram', 'atic'], ['co', 'ol'], ['er', 'son'], ['st', 'ation'], ['pat', 'riot']]\n",
      "[['ident', 'ify'], ['moder', 'at'], ['rom', 'ney'], ['comfort', 'able'], ['inst', 'all'], ['negot', 'iation'], ['all', 'iance'], ['s', 'light'], ['contr', 'ast'], ['med', 'ica'], ['const', 'itu'], ['impe', 'ach'], ['v', 'ant'], ['s', 'wed'], ['const', 'ant'], ['ex', 'ter'], ['ch', 'ap'], ['hol', 'iday'], ['3', '00'], ['affil', 'iat'], ['it', 'em'], ['er', 'ic'], ['medica', 'id'], ['m', 'ut'], ['fif', 'th'], ['s', 'itt'], ['fac', 'ilities'], ['reg', 'ion'], ['aggress', 'ive'], ['ou', 'th'], ['an', 'onym'], ['cle', 'vel'], ['coll', 'aps'], ['ne', 'ither'], ['conf', 'us'], ['edu', 'c'], ['un', 'clear'], ['electr', 'onic'], ['sh', 'ad'], ['g', 'ent'], ['comp', 'il'], ['clevel', 'and'], ['ariz', 'ona'], ['sup', 'pl'], ['and', 'on'], ['hatt', 'an'], ['ad', 'ian'], ['pro', 'vis'], ['man', 'hattan'], ['am', 'ber']]\n",
      "[['colum', 'n'], ['d', 'ar'], ['b', 'es'], ['trig', 'ger'], ['exper', 'iment'], ['liber', 'ty'], ['fund', 'amental'], ['200', '2'], ['th', 'is'], ['v', 'a'], ['init', 'i'], ['indi', 'ana'], ['ed', 'g'], ['az', 'i'], ['gu', 'il'], ['l', 'ength'], ['ad', 'am'], ['s', 'ir'], ['elim', 'inat'], ['leg', 'it'], ['od', 'd'], ['p', 'ound'], ['sym', 'bol'], ['ot', 'ic'], ['exp', 'ensive'], ['c', 'ulat'], ['p', 'ak'], ['de', 'b'], ['w', 'o'], ['as', 'ian'], ['shar', 'p'], ['s', 'ick'], ['bo', 'at'], ['ab', 'road'], ['196', '0'], ['clo', 'sure'], ['initi', 'ative'], ['main', 'stream'], ['as', 'sess'], ['ant', 'on'], ['jack', 'son'], ['iraq', 'i'], ['st', 'al'], ['cub', 'a'], ['mo', 's'], ['in', 'ian'], ['israel', 'i'], ['d', 'iction'], ['met', 'a'], ['health', 'y']]\n",
      "[['fem', 'in'], ['schol', 'ar'], ['el', 'y'], ['ret', 'ail'], ['in', 'struct'], ['con', 'clusion'], ['proced', 'ure'], ['pre', 'c'], ['turk', 'ish'], ['h', 'ang'], ['pre', 'ci'], ['andre', 'w'], ['gu', 'est'], ['trans', 'form'], ['k', 'at'], ['histor', 'ic'], ['afford', 'able'], ['re', 'cover'], ['bo', 'ston'], ['air', 'line'], ['y', 'an'], ['lob', 'by'], ['austr', 'al'], ['arab', 'ia'], ['en', 'e'], ['tim', 'es'], ['on', 'going'], ['w', 'inter'], ['v', 'ast'], ['pover', 'ty'], ['arch', 'ite'], ['guil', 'ty'], ['lic', 'ens'], ['ri', 'o'], ['rap', 'id'], ['de', 'serv'], ['ste', 'phen'], ['su', 'stain'], ['in', 'sider'], ['can', 'adian'], ['on', '.'], ['dr', 'ama'], ['ab', 'andon'], ['independ', 'ence'], ['er', 'v'], ['it', 'arian'], ['un', 'k'], ['fr', 'ustrat'], ['med', 'al'], ['assist', 'ant']]\n",
      "iter_number :4000, voc_volume : 4057\n"
     ]
    },
    {
     "data": {
      "application/vnd.jupyter.widget-view+json": {
       "model_id": "23426b64e3754d47a46728d57539064c",
       "version_major": 2,
       "version_minor": 0
      },
      "text/plain": [
       "  0%|          | 0/250 [00:00<?, ?it/s]"
      ]
     },
     "metadata": {},
     "output_type": "display_data"
    },
    {
     "name": "stdout",
     "output_type": "stream",
     "text": [
      "[['pat', 'tern'], ['fortun', 'ate'], ['bot', 'tom'], ['bu', 'ck'], ['big', 'ger'], ['m', 'ath'], ['vir', 't'], ['subst', 'ant'], ['vis', 'a'], ['refer', 'red'], ['cas', 'e'], ['gu', 'ar'], ['b', 'our'], ['the', 'ater'], ['lad', 'y'], ['m', 'ount'], ['pak', 'istan'], ['e', 'ong'], ['t', 'ight'], ['com', 'bat'], ['rac', 'ism'], ['absolut', 'e'], ['u', 'ation'], ['cerem', 'ony'], ['j', 'et'], ['bo', 'ost'], ['youn', 'ger'], ['or', 'th'], ['care', 'ful'], ['cy', 'ber'], ['pop', 'ul'], ['ap', 'olog'], ['any', 'way'], ['i', 'ary'], ['nav', 'y'], ['adv', 'ice'], ['d', 'im'], ['roy', 'al'], ['p', 'p'], ['vie', 'wer'], ['cat', 'a'], ['as', 'sur'], ['high', 'light'], ['bas', 'ket'], ['-', 'year'], ['exp', 'ans'], ['phil', 'os'], ['de', 'e'], ['re', 'solv'], ['adel', 'ph']]\n",
      "[['em', 'barr'], ['w', 'hel'], ['t', 'in'], ['small', 'er'], ['emot', 'ional'], ['al', 'ep'], ['lu', 'ck'], ['com', 'ing'], ['alep', 'po'], ['accur', 'ate'], ['phil', 'adelph'], ['ab', 'orat'], ['an', 'gry'], ['appropri', 'at'], ['austral', 'ian'], ['o', 'bl'], ['g', 'all'], ['m', 'outh'], ['rom', 'e'], ['cr', 'az'], ['er', 't'], ['nar', 'row'], ['con', 'spir'], ['philadelph', 'ia'], ['i', 'ro'], ['per', 'spective'], ['sur', 'round'], ['st', '.'], ['se', 'iz'], ['mem', 'ory'], ['embarr', 'ass'], ['cre', 'w'], ['fic', 'tion'], ['au', 'st'], ['no', 'body'], ['r', 'ick'], ['bl', 'ow'], ['d', 'c'], ['t', 'ing'], ['d', 'all'], ['t', 'ear'], ['ji', 'had'], ['eas', 'ier'], ['repl', 'ied'], ['nes', 'ses'], ['op', 'tim'], ['numer', 'ous'], ['ion', 's'], ['ic', 'on'], ['un', 'certain']]\n",
      "[['ult', 'ure'], ['ex', 'pos'], ['ter', 'y'], ['0', '.'], ['de', 'but'], ['your', 'self'], ['com', 'promis'], ['cat', 'ch'], ['off', 'ensive'], ['19', '0'], ['with', 'draw'], ['per', 'man'], ['t', 'ch'], ['fac', 'ility'], ['rus', 'h'], ['bath', 'room'], ['g', 'ift'], ['con', 'sci'], ['ne', 'v'], ['house', 'hold'], ['que', 'en'], ['f', 'old'], ['arr', 'ang'], ['pac', 'ific'], ['accompl', 'ish'], ['cu', 'it'], ['sp', 'here'], ['phys', 'ic'], ['conf', 'idence'], ['consci', 'ous'], ['resc', 'u'], ['circum', 'stance'], ['um', 'b'], ['prem', 'ier'], ['palest', 'inian'], ['int', 'el'], ['or', 'm'], ['er', 'ror'], ['pres', 'erv'], ['minim', 'um'], ['organ', 'is'], ['refer', 'r'], ['hab', 'it'], ['un', 'te'], ['feder', 'at'], ['un', 'like'], ['di', 'ag'], ['compet', 'itive'], ['con', 'dem'], ['defin', 'ite']]\n",
      "[['w', 'ast'], ['stru', 'ck'], ['iv', 'es'], ['vir', 'u'], ['re', 'in'], ['ro', 'd'], ['acade', 'mic'], ['199', '9'], ['l', 'av'], ['um', 'e'], ['cap', 'acity'], ['crip', 'tion'], ['ij', 'ing'], ['re', 'stor'], ['ad', 'mitted'], ['be', 'ijing'], ['bo', 'di'], ['pro', 'spect'], ['un', 'less'], ['vol', 'unte'], ['perman', 'ent'], ['en', 'der'], ['ner', 'v'], ['har', 'v'], ['li', 'br'], ['mus', 'ical'], ['port', 'ion'], ['em', 'en'], ['de', 'tain'], ['billion', 'aire'], ['ig', 'er'], ['base', 'ball'], ['dre', 'w'], ['com', 'pos'], ['ch', 'amber'], ['great', 'est'], ['scient', 'ific'], ['viet', 'nam'], ['over', 'whel'], ['ong', '-'], ['cir', 'cl'], ['is', 'ol'], ['alleg', 'ed'], ['l', 'g'], ['issu', 'e'], ['over', 'sea'], ['ord', 'inat'], ['ar', 'ct'], ['poss', 'ibly'], ['exam', 'in']]\n",
      "[['w', 'ang'], ['partner', 'ship'], ['bre', 'ath'], ['ukrain', 'e'], ['can', 'cel'], ['temper', 'ature'], ['br', 'ad'], ['u', 'it'], ['sh', 'am'], ['ri', 'e'], ['ex', 'port'], ['trans', 'lat'], ['kin', 's'], ['tre', 'as'], ['dis', 'agre'], ['c', 'ow'], ['trans', 'gender'], ['ex', 'it'], ['e', '.'], ['201', '9'], ['col', 'on'], ['j', 'am'], ['confirm', 'ation'], ['in', '.'], ['con', 'ven'], ['cir', 'cuit'], ['ad', 'just'], ['concer', 't'], ['7', '5'], ['pre', 'h'], ['be', 'half'], ['injur', 'ies'], ['ass', 'ign'], ['fa', 'ult'], ['eth', 'ic'], ['al', 'ive'], ['t', 'es'], ['ask', 'a'], ['as', 'ide'], ['re', 'sid'], ['techn', 'ical'], ['incre', 'di'], ['ap', 'ol'], ['et', 'ic'], ['color', 'ado'], ['oun', 'ter'], ['volunte', 'er'], ['ken', 'n'], ['spo', 'ken'], ['sh', 'in']]\n",
      "iter_number :4250, voc_volume : 4307\n"
     ]
    },
    {
     "data": {
      "application/vnd.jupyter.widget-view+json": {
       "model_id": "91d9f462f7204aa0bedc90fd92cbe0d9",
       "version_major": 2,
       "version_minor": 0
      },
      "text/plain": [
       "  0%|          | 0/250 [00:00<?, ?it/s]"
      ]
     },
     "metadata": {},
     "output_type": "display_data"
    },
    {
     "name": "stdout",
     "output_type": "stream",
     "text": [
      "[['t', 'ank'], ['b', '.'], ['in', 'spect'], ['pre', 'sum'], ['mo', 'sul'], ['dis', 'co'], ['str', 'ain'], ['ton', 'ight'], ['im', 'ony'], ['iran', 'ian'], ['oppos', 'ite'], ['christ', 'i'], ['pr', 'oud'], ['r', 'ies'], ['fr', 'ag'], ['appl', 'ied'], ['susp', 'ic'], ['cor', 'respond'], ['sen', 'sit'], ['ama', 'z'], ['3', '6'], ['divers', 'ity'], ['ren', 'ew'], ['pl', 'us'], ['war', 'rant'], ['gy', 'eong'], ['virt', 'ual'], ['enc', 'ounter'], ['est', 'y'], ['dist', 'inct'], ['scen', 'e'], ['d', 'ign'], ['hard', 'er'], ['en', 'a'], ['4', '00'], ['k', 'a'], ['um', 'bl'], ['convict', 'ed'], ['or', 'land'], ['c', 'av'], ['till', 'erson'], ['diag', 'no'], ['li', 'by'], ['blo', 'g'], ['br', 'on'], ['dist', 'anc'], ['pro', 'fil'], ['some', 'body'], ['kenn', 'edy'], ['u', 'sa']]\n",
      "[['g', 'olf'], ['gen', 'u'], ['y', 'o'], ['re', 'put'], ['in', 'flat'], ['d', 'ang'], ['se', 'an'], ['re', 'ck'], ['sa', 'fe'], ['resist', 'ance'], ['contin', 'ent'], ['g', 'le'], ['sm', 'il'], ['diplom', 'atic'], ['fe', 'wer'], ['judg', 'ment'], ['to', 'x'], ['ber', 'n'], ['fle', 'x'], ['in', 'no'], ['r', 'ural'], ['opin', 'ion'], ['he', 'ight'], ['surve', 'ill'], ['bur', 'den'], ['guar', 'ante'], ['gr', 'ac'], ['ab', 'c'], ['bo', 's'], ['grow', 'n'], ['inv', 'ent'], ['ch', 'ant'], ['pay', 'ment'], ['restr', 'ict'], ['in', 'ess'], ['orland', 'o'], ['che', 'er'], ['committe', 'e'], ['pro', 'p'], ['k', 'ar'], ['l', 'ap'], ['pl', 'ot'], ['7', '.'], ['ste', 'el'], ['v', 'ow'], ['inde', 'x'], ['surveill', 'ance'], ['ital', 'ian'], ['sk', 'ept'], ['vol', 'ume']]\n",
      "[['ac', 'le'], ['prem', 'ium'], ['phil', 'ipp'], ['sc', 'op'], ['gard', 'en'], ['br', 'us'], ['20', '20'], ['dall', 'a'], ['shoot', 'ing'], ['smo', 'k'], ['scr', 'ut'], ['tr', 'um'], ['dis', 'cipl'], ['sw', 'im'], ['rele', 'vant'], ['c', 'oup'], ['sam', 'sung'], ['lor', 'd'], ['apolog', 'iz'], ['ent', 'it'], ['wer', 'en'], ['lit', 'eral'], ['de', 'cre'], ['spl', 'it'], ['orth', 'o'], ['ag', 'ric'], ['m', 'es'], ['stre', 'tch'], ['c', 'off'], ['t', 'am'], ['leg', 'acy'], ['199', '6'], ['nev', 'ada'], ['n', 'd'], ['com', 'edy'], ['advis', 'er'], ['es', 'p'], ['ing', 'u'], ['tact', 'ic'], ['dan', 'iel'], ['mo', 'd'], ['se', 'g'], ['politic', 's'], ['j', 'in'], ['ven', 'ez'], ['emp', 'ire'], ['as', 'sert'], ['end', 'um'], ['ex', 'plan'], ['health', 'care']]\n",
      "[['ul', 'ty'], ['dom', 'inat'], ['arch', 'iv'], ['opport', 'unities'], ['blo', 'om'], ['ol', 'a'], ['don', 'at'], ['test', 'imony'], ['ro', 'of'], ['ian', 'a'], ['surg', 'ery'], ['venez', 'uel'], ['as', 'e'], ['off', 'ense'], ['cont', 'em'], ['gor', 'such'], ['b', 'ird'], ['rout', 'ine'], ['pl', 'u'], ['b', 'ought'], ['hom', 'eland'], ['brus', 'sel'], ['brook', 'lyn'], ['vulner', 'able'], ['sc', 'ot'], ['5', '.'], ['refer', 'endum'], ['chang', 'e'], ['it', 'able'], ['memor', 'ial'], ['priv', 'ile'], ['tr', 'ill'], ['percent', 'age'], ['craz', 'y'], ['3', '3'], ['augh', 't'], ['sem', 'i'], ['as', 'pect'], ['us', 'ion'], ['fr', 'act'], ['add', 'ict'], ['re', 'cess'], ['herit', 'age'], ['inte', 'grat'], ['w', 'are'], ['og', 'ue'], ['person', 'nel'], ['h', 'ik'], ['sal', 'v'], ['prior', 'ity']]\n",
      "[['capit', 'ol'], ['t', 'ip'], ['sn', 'ap'], ['mon', 'd'], ['sc', 'ap'], ['assist', 'ance'], ['str', 'ict'], ['orig', 'in'], ['discipl', 'in'], ['h', 'i'], ['less', 'on'], ['cho', 's'], ['mar', 'co'], ['arct', 'ic'], ['all', 'ies'], ['univers', 'ities'], ['og', 'y'], ['heav', 'ily'], ['pen', 'alty'], ['fat', 'al'], ['accus', 'ation'], ['re', 'y'], ['4', '8'], ['should', 'n'], ['wi', 'k'], ['un', 'n'], ['explan', 'ation'], ['lu', 'x'], ['il', 'at'], ['al', 'co'], ['im', 'press'], ['cer', 't'], ['4', '9'], ['cre', 'di'], ['par', 'enth'], ['parenth', 'ood'], ['t', 'at'], ['j', 'r.'], ['stri', 'p'], ['econom', 'ist'], ['br', 'ight'], ['wel', 'fare'], ['3', '8'], ['priv', 'acy'], ['n', 'fl'], ['cal', 'if'], ['t', 'ast'], ['we', 'igh'], ['co', 'oper'], ['min', 'nes']]\n",
      "iter_number :4500, voc_volume : 4556\n"
     ]
    },
    {
     "data": {
      "application/vnd.jupyter.widget-view+json": {
       "model_id": "6670e4f20fa64dd9be76476d8e191dc6",
       "version_major": 2,
       "version_minor": 0
      },
      "text/plain": [
       "  0%|          | 0/250 [00:00<?, ?it/s]"
      ]
     },
     "metadata": {},
     "output_type": "display_data"
    },
    {
     "name": "stdout",
     "output_type": "stream",
     "text": [
      "[['his', 'panic'], ['gr', 'ab'], ['nation', 'wide'], ['ent', 'ry'], ['ter', 'rible'], ['the', 'tic'], ['bl', 'ast'], ['prim', 'arily'], ['z', 'ero'], ['motiv', 'at'], ['cl', 'im'], ['ch', 'at'], ['reli', 'ef'], ['ath', 'let'], ['stand', 'ing'], ['me', 'chan'], ['span', 'ish'], ['endor', 'se'], ['colum', 'bia'], ['sher', 'iff'], ['spokes', 'woman'], ['ach', 'use'], ['achuse', 'tt'], ['v', 'lad'], ['e', 'er'], ['eng', 'then'], ['design', 'at'], ['aven', 'ue'], ['world', 'wide'], ['mass', 'achusett'], ['ex', 'hibit'], ['ded', 'icat'], ['christ', 'mas'], ['al', 'ab'], ['invest', 'ment'], ['reput', 'ation'], ['br', 'ut'], ['k', 'ent'], ['minnes', 'ota'], ['en', 'ed'], ['clin', 'ic'], ['k', 'no'], ['pip', 'eline'], ['pe', 'ak'], ['dis', 'appear'], ['alco', 'hol'], ['ther', 'ap'], ['ill', 'ino'], ['d', 'ial'], ['enem', 'y']]\n",
      "[['de', 'struct'], ['i', 'ber'], ['fr', 'anch'], ['k', '.'], ['ide', 'al'], ['as', 'p'], ['necess', 'arily'], ['iph', 'one'], ['hy', 'dro'], ['illino', 'is'], ['un', 'fair'], ['class', 'ic'], ['mand', 'at'], ['ac', 'qu'], ['transport', 'ation'], ['f', 'is'], ['at', 'r'], ['at', 'mo'], ['basic', 'ally'], ['curr', 'ency'], ['z', 'y'], ['whe', 'el'], ['pack', 'ag'], ['fore', 'cast'], ['j', 'a'], ['mc', 'cain'], ['protect', 'ion'], ['b', 'ott'], ['ap', 'preci'], ['al', 'arm'], ['h', 'ong'], ['in', 'quir'], ['t', 'ail'], ['g', 'ian'], ['stat', 'istic'], ['liber', 'at'], ['ac', 'quir'], ['in', 'jury'], ['d', 'ent'], ['pil', 'ot'], ['ta', 'i'], ['b', 'ac'], ['is', '.'], ['vot', 'e'], ['tour', 'ist'], ['import', 'ance'], ['fl', 'a'], ['under', 'min'], ['aren', 'a'], ['every', 'where']]\n",
      "[['p', 'son'], ['ju', 'ana'], ['un', 'precedent'], ['unprecedent', 'ed'], ['sou', 'theast'], ['d', 'd'], ['strong', 'er'], ['los', 'ses'], ['ad', 'apt'], ['pol', 'y'], ['cr', 'ipt'], ['mer', 'g'], ['respect', 'ive'], ['dis', 'rupt'], ['fas', 'c'], ['lg', 'bt'], ['as', 'ses'], ['dut', 'y'], ['pe', 'ac'], ['pregn', 'ant'], ['appro', 'x'], ['tr', 'ick'], ['j', 'en'], ['ul', 'ator'], ['sw', 'ing'], ['str', 'engthen'], ['voc', 'al'], ['r', 'd'], ['isol', 'at'], ['sh', 'all'], ['philos', 'op'], ['sit', 'uation'], ['h', 'ann'], ['sent', 'iment'], ['199', '2'], ['y', 'emen'], ['un', 'known'], ['vent', 'ur'], ['6', '.'], ['techn', 'ique'], ['sp', 'ark'], ['j', 'es'], ['co', 'ordinat'], ['ph', 'ras'], ['condem', 'n'], ['dis', 'order'], ['so', 'viet'], ['co', 'sm'], ['3', '7'], ['an', 'ia']]\n",
      "[['particip', 'ant'], ['f', 'inger'], ['broad', 'er'], ['enth', 'us'], ['cru', 'cial'], ['exp', 'ens'], ['ze', 'al'], ['bul', 'l'], ['alab', 'ama'], ['199', '8'], ['iam', 'i'], ['d', 'rome'], ['3', '2'], ['ret', 'ire'], ['batt', 'le'], ['j', 'ar'], ['har', 'as'], ['accept', 'able'], ['des', 'per'], ['war', 'ren'], ['q', 'a'], ['j', 'ose'], ['i', '.'], ['m', 'iami'], ['en', 'roll'], ['c', 'bs'], ['fl', 'am'], ['ire', 'land'], ['n', 'is'], ['al', 'ity'], ['program', 'm'], ['discus', 'sion'], ['fr', 'am'], ['regard', 'less'], ['super', 'vis'], ['form', 'at'], ['den', 'y'], ['dav', 'i'], ['un', 'fortunate'], ['eval', 'uat'], ['car', 'n'], ['sil', 'ver'], ['prim', 'aries'], ['gold', 'en'], ['mis', 'sed'], ['g', 'ory'], ['ev', 'il'], ['t', 'ag'], ['d', 'ress'], ['sh', 'or']]\n",
      "[['emphas', 'iz'], ['pent', 'a'], ['fil', 'i'], ['k', 'n'], ['un', 'able'], ['candid', 'acy'], ['ag', 'ri'], ['p', 's'], ['che', 'ster'], ['fact', 'ory'], ['sub', 'sequ'], ['lat', 'ino'], ['athlet', 'ic'], ['ent', 'ic'], ['sol', 'ar'], ['subsequ', 'ent'], ['along', 'side'], ['restr', 'iction'], ['pl', 'enty'], ['sam', 'pl'], ['sp', 'in'], ['l', 'ash'], ['ank', 'a'], ['day', 's'], ['sw', 'itch'], ['the', 'w'], ['im', 'ir'], ['att', 'le'], ['conn', 'ell'], ['ar', 'io'], ['ck', 'et'], ['t', 'ay'], ['inter', 'vent'], ['v', 'at'], ['em', 'ission'], ['rock', 'et'], ['com', 'ic'], ['dev', 'ast'], ['polit', 'an'], ['jor', 'dan'], ['card', 'i'], ['dr', 'y'], ['pat', 'ch'], ['oun', 'ded'], ['p', 'ill'], ['c', 'in'], ['for', 'th'], ['phen', 'om'], ['gener', 'ation'], ['cast', 'ro']]\n",
      "iter_number :4750, voc_volume : 4804\n"
     ]
    },
    {
     "data": {
      "application/vnd.jupyter.widget-view+json": {
       "model_id": "900f776317ca4bd398d96ce23d885e19",
       "version_major": 2,
       "version_minor": 0
      },
      "text/plain": [
       "  0%|          | 0/250 [00:00<?, ?it/s]"
      ]
     },
     "metadata": {},
     "output_type": "display_data"
    },
    {
     "name": "stdout",
     "output_type": "stream",
     "text": [
      "[['find', 'ing'], ['ip', 'at'], ['ou', 'tr'], ['basket', 'ball'], ['in', 'ev'], ['gu', 'ide'], ['me', 'al'], ['part', 'ial'], ['20', 'th'], ['att', 'itude'], ['me', 'at'], ['vlad', 'imir'], ['b', 'are'], ['mari', 'juana'], ['f', 'ide'], ['metro', 'politan'], ['gam', 'e'], ['strateg', 'ic'], ['l', 'ind'], ['r', 'um'], ['bl', 'ind'], ['h', 'un'], ['intel', 'lect'], ['u', 'ous'], ['our', 'selves'], ['cl', 'ip'], ['dis', 'clos'], ['dr', 'on'], ['ok', 'la'], ['tran', 'spar'], ['ro', 'ger'], ['devast', 'at'], ['di', 'et'], ['conspir', 'acy'], ['vis', 'itor'], ['em', 'an'], ['there', 'fore'], ['p', 'on'], ['draw', 'n'], ['e', 'cho'], ['af', 'raid'], ['prison', 'er'], ['fre', 'e'], ['st', 'ol'], ['s', 'ang'], ['liby', 'a'], ['re', 'vis'], ['pop', 'ulation'], ['intervent', 'ion'], ['ex', 'clusive']]\n",
      "[['n', 'ast'], ['mo', 'ck'], ['car', 'son'], ['anci', 'ent'], ['and', 'ro'], ['mary', 'land'], ['appreci', 'at'], ['al', 'le'], ['re', 'c'], ['eng', 'in'], ['exist', 'ence'], ['require', 'ment'], ['pro', 'hibit'], ['ad', 'mir'], ['deport', 'ation'], ['step', 'p'], ['ri', 'er'], ['anth', 'ony'], ['cate', 'gory'], ['dis', 'missed'], ['sou', 'l'], ['privile', 'g'], ['r', 'iver'], ['nam', 'e'], ['3', '9'], ['jour', 'ney'], ['princ', 'ipal'], ['wi', 'des'], ['k', 'i'], ['develop', 'ment'], ['3', '4'], ['high', 'way'], ['st', 'able'], ['ne', 'ur'], ['ext', 'ent'], ['she', 'll'], ['u', 'be'], ['shad', 'ow'], ['philipp', 'ine'], ['any', 'body'], ['l', 'as'], ['el', 'der'], ['inte', 'gr'], ['t', 'ir'], ['y', 'ester'], ['il', 'iz'], ['eth', 'nic'], ['p', 'ens'], ['gul', 'f'], ['ou', 'se']]\n",
      "[['nor', 'm'], ['pent', 'agon'], ['wides', 'pread'], ['el', 'iz'], ['h', 'es'], ['c', 'abl'], ['legislat', 'ure'], ['o', 'reg'], ['y', 'out'], ['199', '4'], ['sl', 'av'], ['199', '7'], ['cop', 'y'], ['5', '5'], ['louis', 'iana'], ['caut', 'ion'], ['h', 'ud'], ['cas', 'ual'], ['s', 'weet'], ['v', 'ig'], ['com', 'preh'], ['mat', 'thew'], ['mean', 'ing'], ['re', 'm'], ['hy', 'un'], ['id', 'at'], ['inv', 'ol'], ['c', 'ad'], ['oreg', 'on'], ['al', 'a'], ['f', '.'], ['int', 'end'], ['scrut', 'iny'], ['un', 'employ'], ['fire', 'arm'], ['sil', 'enc'], ['sim', 'ul'], ['t', 'ied'], ['cub', 'an'], ['ber', 'lin'], ['coff', 'ee'], ['ir', 'on'], ['treat', 'ment'], ['reco', 'very'], ['sh', 'out'], ['199', '5'], ['en', 'act'], ['in', 'str'], ['univers', 'al'], ['ed', 'ward']]\n",
      "[['pract', 'ical'], ['r', 'ag'], ['o', 'ct'], ['instr', 'ument'], ['under', 'stood'], ['is', 'a'], ['libr', 'ary'], ['c', 'c'], ['up', 'per'], ['reason', 'able'], ['indust', 'rie'], ['an', 'xi'], ['be', 'gun'], ['in', 'sult'], ['sp', 'ace'], ['mc', 'connell'], ['de', 'press'], ['yester', 'day'], ['res', 'ort'], ['spec', 'ulat'], ['ent', 'r'], ['enn', 'ial'], ['expect', 'ed'], ['author', 'iz'], ['ah', 'am'], ['int', 'ense'], ['er', 'do'], ['cha', 'o'], ['foot', 'age'], ['strateg', 'ist'], ['tem', 'porary'], ['tes', 'la'], ['hop', 'eful'], ['tra', 'it'], ['s', 'wi'], ['d', 'ust'], ['por', 'tray'], ['r', 'ous'], ['occas', 'ion'], ['t', 'an'], ['the', 'less'], ['car', 'bon'], ['fl', 'ower'], ['abe', 'th'], ['enter', 'pris'], ['judic', 'ial'], ['hou', 'ston'], ['b', 'bc'], ['fr', 'uit'], ['tre', 'e']]\n",
      "[['sc', 'alia'], ['substant', 'ial'], ['pat', 'rol'], ['r', 'ou'], ['be', 'ck'], ['for', 'get'], ['lat', 'in'], ['rid', 'icul'], ['d', 'ic'], ['lit', 'erat'], ['k', 'ush'], ['en', 'abl'], ['da', 'e'], ['wh', 'ite'], ['franch', 'is'], ['harv', 'ard'], ['collect', 'ive'], ['6', '5'], ['so', 'c'], ['for', 'um'], ['ile', 'ak'], ['ok', 'ay'], ['will', 'ing'], ['ly', 'ing'], ['tai', 'wan'], ['explo', 'it'], ['r', 'ican'], ['wik', 'ileak'], ['j', 'on'], ['ah', 'u'], ['ell', 'er'], ['pen', 'insu'], ['k', 'ansas'], ['i', 'ant'], ['sensit', 'ive'], ['ex', 'tens'], ['kno', 'ck'], ['spr', 'ing'], ['gr', 'ay'], ['f', 'y'], ['18', '9'], ['ve', 'y'], ['os', 'car'], ['ha', 'ul'], ['it', 'ar'], ['act', 'ress'], ['driv', 'en'], ['ag', 'u'], ['hy', 'per'], ['yout', 'ube']]\n",
      "iter_number :5000, voc_volume : 5053\n"
     ]
    },
    {
     "data": {
      "application/vnd.jupyter.widget-view+json": {
       "model_id": "ecf3daa678714668ad48bbe0ca152f12",
       "version_major": 2,
       "version_minor": 0
      },
      "text/plain": [
       "  0%|          | 0/250 [00:00<?, ?it/s]"
      ]
     },
     "metadata": {},
     "output_type": "display_data"
    },
    {
     "name": "stdout",
     "output_type": "stream",
     "text": [
      "[['d', 'ak'], ['bul', 'let'], ['fore', 'ver'], ['leg', 'end'], ['solut', 'ion'], ['k', 'ir'], ['ou', 'trag'], ['gr', 'aham'], ['speech', 'es'], ['str', 'ang'], ['stu', 'died'], ['wealth', 'y'], ['long', 'time'], ['sen', 'se'], ['con', 'way'], ['cust', 'ody'], ['i', 'ence'], ['okla', 'hom'], ['rat', 'ing'], ['extens', 'ive'], ['t', 'iny'], ['sh', 'i'], ['kush', 'ner'], ['vac', 'c'], ['up', 'set'], ['f', 'ought'], ['some', 'what'], ['sym', 'p'], ['ro', 'it'], ['nomin', 'ation'], ['susp', 'ended'], ['any', 'where'], ['land', 'scap'], ['199', '3'], ['do', 's'], ['mor', 'row'], ['ch', 'in'], ['con', 'cent'], ['mo', 'or'], ['an', 'i'], ['par', 'ad'], ['gu', 'es'], ['not', 'able'], ['ac', 'a'], ['man', 'ip'], ['gy', 'm'], ['k', 'u'], ['concent', 'rat'], ['max', 'im'], ['n', 'ix']]\n",
      "[['laugh', 'ter'], ['fun', 'dr'], ['al', 'em'], ['t', 'ent'], ['cl', 'oud'], ['ul', 'l'], ['fundr', 'ais'], ['oklahom', 'a'], ['intellect', 'ual'], ['fun', 'ny'], ['pro', 'of'], ['ad', 'or'], ['jose', 'ph'], ['approx', 'imate'], ['proper', 'ties'], ['re', 'gre'], ['h', 'ung'], ['d', 'un'], ['m', 'i'], ['dis', 'miss'], ['jo', 'sh'], ['el', 'ig'], ['aw', 'n'], ['p', 'our'], ['ex', 'tension'], ['p', 'd'], ['im', 'prison'], ['r', 'are'], ['re', 'vel'], ['cho', 'sen'], ['at', 'ar'], ['peninsu', 'la'], ['det', 'roit'], ['enterpris', 'e'], ['clim', 'b'], ['il', 'ton'], ['rac', 'e'], ['r', 'ub'], ['atl', 'anta'], ['smart', 'phone'], ['p', 'itt'], ['tax', 'pay'], ['suf', 'ficient'], ['per', 'su'], ['mun', 'ic'], ['shel', 'ter'], ['share', 'holder'], ['ch', 'uck'], ['ser', 'ver'], ['replac', 'e']]\n",
      "[['ker', 'ry'], ['n', 'iger'], ['our', 'i'], ['att', 'ach'], ['munic', 'ipal'], ['aw', 'a'], ['un', 'es'], ['n', 'urs'], ['ag', 'ram'], ['ung', '-'], ['m', 'acro'], ['con', 'sen'], ['bann', 'ed'], ['be', '.'], ['ver', 'i'], ['f', 'ab'], ['hear', 'ing'], ['st', 'even'], ['organis', 'ation'], ['swed', 'en'], ['control', 'led'], ['ingu', 'ish'], ['extre', 'mist'], ['po', 'cket'], ['nor', 'theast'], ['k', 'ev'], ['loc', 'ation'], ['eliz', 'abeth'], ['sof', 't'], ['gu', 'itar'], ['eg', 'g'], ['diplom', 'at'], ['ch', 'ip'], ['cre', 'ative'], ['ide', 'ology'], ['h', 'anc'], ['dr', 'ag'], ['compar', 'ison'], ['symp', 'tom'], ['jer', 'us'], ['inter', 'ior'], ['ren', 'der'], ['bo', 'om'], ['re', 'ly'], ['jerus', 'alem'], ['pal', 'm'], ['minor', 'ities'], ['tim', 'ore'], ['feel', 'ing'], ['sh', 'opp']]\n",
      "[['1', '50'], ['prec', 'ise'], ['combin', 'ation'], ['cut', 'ting'], ['soc', 'cer'], ['b', 'old'], ['lab', 'our'], ['k', 'is'], ['innov', 'at'], [\"'\", 't'], ['comp', 'ens'], ['bri', 'an'], ['enem', 'ies'], ['atmo', 'sphere'], ['recommend', 'ation'], ['y', 'p'], ['teen', 'ag'], ['4', '4'], ['to', 'morrow'], ['dynam', 'ic'], ['so', 'ver'], ['count', 'ies'], ['en', 'orm'], ['ben', 'ch'], ['some', 'how'], ['inst', 'agram'], ['ev', 'ac'], ['g', 'ag'], ['ad', 'mit'], ['cal', 'm'], ['sug', 'ar'], ['techn', 'olog'], ['k', 'han'], ['pro', 'du'], ['c', 'ott'], ['w', 'y'], ['in', 'n'], ['inno', 'cent'], ['ce', 'as'], ['pu', 'ter'], ['dict', 'ator'], ['ay', 's'], ['phenom', 'en'], ['pos', 'sess'], ['bal', 'timore'], ['k', 'ong'], ['19', '50'], ['l', 'ing'], ['quit', 'o'], ['wit', 'nesses']]\n",
      "[['my', 'th'], ['az', 'z'], ['s', 'ab'], ['gre', 'gat'], ['ex', 'cell'], ['or', 'ie'], ['miss', 'ouri'], ['ne', 'ck'], ['it', 'er'], ['v', '.'], ['com', 'puter'], ['199', '1'], ['sign', 'ature'], ['document', 'ary'], ['sor', 'ry'], ['desper', 'ate'], ['beaut', 'y'], ['commer', 'ce'], ['la', 'ur'], ['appropri', 'ate'], ['so', '.'], ['br', 'u'], ['g', 'ate'], ['br', 'a'], ['arr', 'ival'], ['six', 'th'], ['sch', 'um'], ['ex', 'ception'], ['mig', 'rat'], ['ou', 'los'], ['on', 'om'], ['def', 'icit'], ['lat', 'ter'], ['r', 'if'], ['uni', 'form'], ['am', 'bit'], ['enorm', 'ous'], ['s', 'lip'], ['ret', 'ro'], ['r', 'allies'], ['ut', 'ah'], ['sc', 'hem'], ['ess', 'or'], ['uck', 'y'], ['al', 'ert'], ['k', 'le'], ['der', 'iv'], ['sa', 'int'], ['cl', 'ash'], ['e', 'pa']]\n",
      "iter_number :5250, voc_volume : 5302\n"
     ]
    },
    {
     "data": {
      "application/vnd.jupyter.widget-view+json": {
       "model_id": "98dddcf40d314e3d88c4b9d254b5b0c3",
       "version_major": 2,
       "version_minor": 0
      },
      "text/plain": [
       "  0%|          | 0/250 [00:00<?, ?it/s]"
      ]
     },
     "metadata": {},
     "output_type": "display_data"
    },
    {
     "name": "stdout",
     "output_type": "stream",
     "text": [
      "[['pro', 'portion'], ['expl', 'icit'], ['or', 'c'], ['cate', 'gor'], ['scen', 'ario'], ['char', 'ity'], ['literat', 'ur'], ['qual', 'ified'], ['h', 'ay'], ['19', 'th'], ['equal', 'ity'], ['ho', 'o'], ['la', 'id'], ['kev', 'in'], ['peac', 'eful'], ['e', '-'], ['zeal', 'and'], ['ten', 'nes'], ['ear', 'ning'], ['st', 'ic'], ['politic', 'o'], ['le', 'on'], ['invol', 've'], ['sub', 'stance'], ['month', 's'], ['reg', 'ulator'], ['explo', 'sion'], ['after', 'ward'], ['popular', 'ity'], ['ie', 'g'], ['de', 'vot'], ['pro', 'pag'], ['co', 'in'], ['se', 'al'], ['el', 'li'], ['as', 'ion'], ['lou', 'd'], ['haw', 'kins'], ['be', 'an'], ['bank', 'rupt'], ['dak', 'ota'], ['es', 'h'], ['lyn', 'ch'], ['hal', 't'], ['op', 'ter'], ['l', 'unch'], ['mos', 'quito'], ['expl', 'os'], ['patr', 'ick'], ['a', 'ar']]\n",
      "[['or', 'ient'], ['rec', 'ip'], ['t', 'i'], ['ch', 'ick'], ['in', 'ch'], ['taxpay', 'er'], ['m', 'all'], ['met', 'al'], ['j', 'ae'], ['gre', 'ek'], ['per', 'mit'], ['venezuel', 'a'], ['op', 'oulos'], ['fall', 'en'], ['r', 'ative'], ['erdo', 'gan'], ['kent', 'ucky'], ['celebr', 'ity'], ['j', 'ona'], ['declar', 'ation'], ['domin', 'ant'], ['p', 'unch'], ['k', 'itch'], ['point', 's'], ['b', 'ish'], ['treas', 'ury'], ['are', 't'], ['decre', 'as'], ['abort', 'ion'], ['sar', 'ah'], ['voter', 's'], ['des', 'k'], ['end', 'ur'], ['ye', 'ah'], ['if', 'er'], ['convent', 'ional'], ['pre', 'dec'], ['predec', 'essor'], ['car', 'l'], ['ann', 'ivers'], ['elector', 'ate'], ['commun', 'ist'], ['home', 'less'], ['al', 'aska'], ['produ', 'cer'], ['fl', 'ash'], ['cap', 'tain'], ['ri', 'p'], ['prior', 'ities'], ['scre', 'am']]\n",
      "[['j', 'ason'], ['other', 's'], ['personal', 'ity'], ['sp', 'ain'], ['archite', 'ct'], ['ev', 'ol'], ['ong', 'yang'], ['de', 'fect'], ['analy', 'z'], ['popul', 'ist'], ['philosop', 'hy'], ['bab', 'ies'], ['schum', 'er'], ['antic', 'ipat'], ['music', 'ian'], ['w', 'w'], ['ev', 'angel'], ['ow', 'ski'], ['tort', 'ur'], ['rob', 'ot'], ['div', 'ision'], ['c', 'ot'], ['f', 'us'], ['mon', 'ument'], ['g', 'ab'], ['dr', 'um'], ['mon', 'o'], ['child', 'hood'], ['kitch', 'en'], ['defend', 'ant'], ['p', 'age'], ['occas', 'ional'], ['c', 'en'], ['iv', 'anka'], ['4', '6'], ['re', 'ward'], ['bar', 'rier'], ['journal', 'ism'], ['brid', 'ge'], ['t', 'aught'], ['at', 'tribut'], ['es', 'cal'], ['administ', 'rative'], ['down', 'town'], ['ile', 's'], ['should', 'er'], ['annivers', 'ary'], ['p', 'it'], ['d', 'ir'], ['ky', 'o']]\n",
      "[['te', 'a'], ['p', 'has'], ['t', 'ack'], ['compens', 'at'], ['ev', 'olv'], ['be', 'lt'], ['nix', 'on'], ['counter', 'part'], ['compreh', 'ensive'], ['technolog', 'ie'], ['im', 'per'], ['tra', 'um'], ['co', '-'], ['mo', 'ham'], ['bas', 'sy'], ['la', 'h'], ['compet', 'itor'], ['tr', 'ac'], ['public', 'at'], ['use', 's'], ['iz', 'on'], ['em', 'bassy'], ['d', 'nc'], ['pass', 'age'], ['dis', 'closure'], ['et', 'ies'], ['in', 'don'], ['gr', 'ass'], ['explos', 'ive'], ['convent', 'ion'], ['re', 'duction'], ['spokes', 'person'], ['moment', 'um'], ['femin', 'ist'], ['le', 'an'], ['4', '7'], ['ph', 'arm'], ['use', 'ful'], ['product', 'ive'], ['lif', 'etime'], ['sh', 'ield'], ['sa', 'il'], ['m', 'ere'], ['social', 'ist'], ['ill', 'a'], ['s', 'oph'], ['n', 'ik'], ['m', 'ask'], ['c', 'hel'], ['s', 'crib']]\n",
      "[['py', 'ongyang'], ['ma', 'xi'], ['rid', 'i'], ['surviv', 'or'], ['vis', 'ual'], ['d', 'res'], ['m', 'end'], ['cl', 'ick'], ['conserv', 'at'], ['8', '.'], ['indon', 'es'], ['ib', 'ilities'], ['t', 'able'], ['trag', 'edy'], ['ul', 'a'], ['-', 'in'], ['t', 'rop'], ['el', 'i'], ['depart', 'ure'], ['hom', 'o'], ['don', 'ation'], ['coll', 'aborat'], ['wed', 'd'], ['tur', 'al'], ['pres', 'sed'], ['hen', 'ry'], ['ide', 'ological'], ['sil', 'ent'], ['ill', 'y'], ['c', 'af'], ['environ', 'ment'], ['198', '9'], ['18', '8'], ['co', 'gn'], ['ut', 'ter'], ['islam', 'ist'], ['j', 'ay'], ['6', '00'], ['object', 'ive'], ['to', 'dd'], ['fl', 'aw'], ['man', 'chester'], ['tw', 'in'], ['v', 'ita'], ['business', 'man'], ['manag', 'er'], ['b', 'ail'], ['o', 'ak'], ['d', 'or'], ['uncertain', 'ty']]\n",
      "iter_number :5500, voc_volume : 5551\n"
     ]
    },
    {
     "data": {
      "application/vnd.jupyter.widget-view+json": {
       "model_id": "b327235d7bab4a3f9cb9ed70dd7349ed",
       "version_major": 2,
       "version_minor": 0
      },
      "text/plain": [
       "  0%|          | 0/250 [00:00<?, ?it/s]"
      ]
     },
     "metadata": {},
     "output_type": "display_data"
    },
    {
     "name": "stdout",
     "output_type": "stream",
     "text": [
      "[['re', 'count'], ['non', '-'], ['ve', 'to'], ['fr', 'anci'], ['g', 'us'], ['bloom', 'berg'], ['k', 'ain'], ['dep', 'ict'], ['comp', 'onent'], ['at', 'ter'], ['ate', 'ful'], ['f', 'led'], ['li', 'qu'], ['stu', 'ck'], ['in', 'mate'], ['pregn', 'ancy'], ['ent', 're'], ['worth', 'y'], ['th', 'y'], ['che', 'ap'], ['contem', 'porary'], ['s', 'op'], ['ex', 'po'], ['4', '2'], ['le', 'wi'], ['n', 'azi'], ['equ', 'ival'], ['anxi', 'ety'], ['t', 'all'], ['editor', 'ial'], ['medi', 'um'], ['emp', 'ty'], ['anth', 'rop'], ['ri', 'or'], ['198', '8'], ['9', '9'], ['issu', 'es'], ['educ', 'ational'], ['wil', 'son'], ['he', 'y'], ['k', 'm'], ['qual', 'ify'], ['far', 'mer'], ['chap', 'ter'], ['turn', 'out'], ['follow', 'er'], ['regulat', 'ory'], ['defin', 'it'], ['s', 'lo'], ['fri', 'ed']]\n",
      "[['id', 'i'], ['al', 'an'], ['ass', 'ass'], ['form', 'er'], ['extra', 'ordinary'], ['per', 'sist'], ['human', 'ity'], ['gr', 'im'], ['com', 'ed'], ['d', 'na'], ['oph', 'ob'], ['war', 'rior'], ['hel', 'ic'], ['suspic', 'ion'], ['1', 'st'], ['tennes', 'se'], ['scot', 'land'], ['entit', 'l'], ['mor', 'gan'], ['fo', 'ster'], ['cap', 'able'], ['n', 'ie'], ['tay', 'lor'], ['citizen', 'ship'], ['member', 'ship'], ['p', 'am'], ['consen', 'sus'], ['ep', 'ide'], ['mor', 'ning'], ['or', 'ous'], ['clar', 'k'], ['du', 'k'], ['co', 's'], ['ex', 'cess'], ['h', 's'], ['y', 'u'], ['tr', 'ue'], ['yell', 'ow'], ['of', 't'], ['cal', 'culat'], ['g', 'ust'], ['bureau', 'cr'], ['the', 'atr'], ['em', 'power'], ['au', 'se'], ['helic', 'opter'], ['g', 'il'], ['s', 'lam'], ['fis', 'cal'], ['sub', 'urb']]\n",
      "[['to', '.'], ['div', 'orc'], ['jur', 'is'], ['ex', 'clud'], ['ad', 'mission'], ['hor', 'ror'], ['judic', 'iary'], ['pro', 'te'], ['dist', 'urb'], ['col', 'omb'], ['neu', 'tr'], ['e', 'ign'], ['ur', 'ies'], ['cert', 'ific'], ['p', 'ig'], ['as', 'yl'], ['let', 't'], ['conne', 'ction'], ['ill', 'ustrat'], ['har', 'ri'], ['account', 'able'], ['mur', 'ray'], ['f', 'enc'], ['re', 'con'], ['int', 'ens'], ['asyl', 'um'], ['in', 'cent'], ['out', 'break'], ['qu', 'ant'], ['non', 'profit'], ['af', 'firm'], ['pe', 'er'], ['tal', 'ib'], ['con', 'vert'], ['phenomen', 'on'], ['char', 'lot'], ['contribut', 'ion'], ['poll', 'ut'], ['de', 'sert'], ['h', 'az'], ['swi', 'ft'], ['wil', 'der'], ['cam', 'er'], ['s', 'ac'], ['un', 'expected'], ['iss', 'ipp'], ['mil', 'o'], ['cl', 'ock'], ['con', 'sent'], ['se', 'attle']]\n",
      "[['miss', 'issipp'], ['ridicul', 'ous'], ['equ', 'ity'], ['milit', 'ia'], ['h', '.'], ['aud', 'it'], ['aw', 'r'], ['4', '3'], ['de', 'll'], ['sh', 'irt'], ['at', 'o'], ['mic', 'hell'], ['per', 'ceiv'], ['pe', 'p'], ['ex', 'cus'], ['l', 'um'], ['jes', 'u'], ['n', 'and'], ['ne', 'um'], ['hor', 'r'], ['de', 'ter'], ['jona', 'than'], ['st', 'age'], ['p', 'ow'], ['t', 'ang'], ['c', 'ort'], ['prompt', 'ed'], ['hur', 'rican'], ['pr', 'id'], ['so', 'il'], ['ham', 'ilton'], ['bish', 'op'], ['dut', 'ch'], ['au', 'th'], ['auto', 'matic'], ['birth', 'day'], ['g', 'ary'], ['mississipp', 'i'], ['ab', 'ol'], ['had', 'n'], ['sover', 'eign'], ['tr', 'aff'], ['traff', 'ick'], ['corpor', 'ation'], ['g', 'ig'], ['p.', 'm'], ['or', 'che'], ['over', 'sight'], ['oper', 'ator'], ['le', 'm']]\n",
      "[['recogn', 'ition'], ['exp', 'edit'], ['anonym', 'ous'], ['v', 'ital'], ['kur', 'dish'], ['thing', 's'], ['st', 'arr'], ['de', 'em'], ['f', 'ier'], ['in', 'ary'], ['il', 'itat'], ['coll', 'in'], ['y', 'ield'], ['ant', 'arctic'], ['st', 'ability'], ['integr', 'ity'], ['m', 'sn'], ['lect', 'ur'], ['back', 'lash'], ['ch', 'ance'], ['q', 'atar'], ['brut', 'al'], ['bo', 'ot'], ['5', '2'], ['mer', 'kel'], ['resign', 'ation'], ['hurrican', 'e'], ['c', 'ult'], ['ste', 'al'], ['de', 'an'], ['msn', 'bc'], ['st', 'up'], ['we', 'ird'], ['ver', 'sion'], ['har', 'ry'], ['aut', 'onom'], ['disco', 'very'], ['oun', 'der'], ['st', 'im'], ['cre', 'te'], ['ro', 'bin'], ['ian', 'n'], ['talib', 'an'], ['dro', 've'], ['198', '4'], ['remark', 'able'], ['swe', 'ep'], ['bi', 'e'], ['l', 'ate'], ['national', 'ist']]\n",
      "iter_number :5750, voc_volume : 5798\n"
     ]
    },
    {
     "data": {
      "application/vnd.jupyter.widget-view+json": {
       "model_id": "1568257e11a84304beb3f2e63d8428d2",
       "version_major": 2,
       "version_minor": 0
      },
      "text/plain": [
       "  0%|          | 0/250 [00:00<?, ?it/s]"
      ]
     },
     "metadata": {},
     "output_type": "display_data"
    },
    {
     "name": "stdout",
     "output_type": "stream",
     "text": [
      "[['fortun', 'e'], ['path', 'y'], ['ade', 'd'], ['influ', 'ential'], ['re', 'tain'], ['inter', 'act'], ['arg', 'ent'], ['anonym', 'ity'], ['r', 'amp'], ['af', 'fer'], ['co', 'ck'], ['nas', 'a'], ['le', 'v'], ['f', 'et'], ['gen', 're'], ['cart', 'el'], ['unemploy', 'ment'], ['nast', 'y'], ['prov', 'en'], ['plan', 'e'], ['vo', 'y'], ['pri', 'e'], ['glo', 'b'], ['g', 'ut'], ['dead', 'line'], ['k', 'an'], ['play', 'off'], ['per', 'ception'], ['sim', 'on'], ['bor', 'ough'], ['ves', 'sel'], ['ann', 'a'], ['regre', 't'], ['fox', 'news'], ['m', 'ul'], ['ba', 'i'], ['dat', 'ab'], ['de', 'sc'], ['entre', 'pr'], ['entrepr', 'ene'], ['b', 'itter'], ['liv', 'ery'], ['st', 'ig'], ['ro', 'sen'], ['b', 'ility'], ['special', 'iz'], ['b', 'un'], ['bur', 'gh'], ['op', 'ol'], ['r', 'ust']]\n",
      "[['itz', 'er'], ['r', 'ab'], ['st', 'unn'], ['fant', 'as'], ['gen', 'etic'], ['secur', 'ities'], ['evac', 'uat'], ['ed', 'a'], ['contr', 'actor'], ['bi', 'partisan'], ['f', 'i'], ['prie', 'bus'], ['p', 'end'], ['st', 'ro'], ['d', 'one'], ['anch', 'or'], ['ol', 'dest'], ['s', 'la'], ['ron', 'ald'], ['pros', 'per'], ['b', 'ust'], ['success', 'or'], ['le', 'w'], ['ex', 'h'], ['che', 'st'], ['be', 'er'], ['se', 'ed'], ['subsid', 'ies'], ['b', 'ang'], ['m', 'ol'], ['b', 'il'], ['settle', 'ment'], ['co', 'at'], ['re', 'pair'], ['bes', 'ide'], ['bre', 'ach'], ['in', 'i'], ['des', 'cription'], ['mil', 'k'], ['vo', 'x'], ['ration', 'al'], ['r', 'ud'], ['liv', 'es'], ['pol', 'ice'], ['c', 'ous'], ['rum', 'or'], ['equival', 'ent'], ['certific', 'at'], ['fier', 'ce'], ['aar', 'on']]\n",
      "[['rail', 'way'], ['ther', 'land'], ['my', 'st'], ['s', 'li'], ['chick', 'en'], ['cl', 'u'], ['ast', 'ron'], ['or', 'ang'], ['ag', 'ue'], ['hand', 'ful'], ['fr', 'an'], ['some', 'where'], ['viol', 'ation'], ['r', 'it'], ['all', 'en'], ['de', 'livery'], ['n', 'ba'], ['legit', 'imat'], ['dial', 'ogue'], ['over', 'see'], ['ess', 'ay'], ['how', 'ard'], ['demo', 'graphic'], ['gold', 'man'], ['guid', 'ance'], ['d', 'al'], ['datab', 'ase'], ['2', '50'], ['am', 'bul'], ['revel', 'ation'], ['je', 'an'], ['bar', 'rel'], ['trans', 'cript'], ['desc', 'end'], ['mill', 'ennial'], ['evangel', 'ical'], ['histor', 'ian'], ['pres', 'sion'], ['manip', 'ulat'], ['escal', 'at'], ['re', 'mot'], ['ander', 'son'], ['re', 'treat'], ['sal', 't'], ['rand', 'om'], ['e', 'ager'], ['str', 'anger'], ['dist', 'inguish'], ['val', 'e'], ['198', '6']]\n",
      "[['ge', 'on'], ['kle', 'in'], ['h', 'in'], ['t', 'app'], ['p', 'to'], ['fre', 'y'], ['electric', 'ity'], ['employ', 'er'], ['entreprene', 'ur'], ['mir', 'ror'], ['col', 'n'], ['su', 'e'], ['n', 'ut'], ['past', 'or'], ['it', 'ure'], ['bro', 'ker'], ['ac', 'com'], ['pl', 'astic'], ['-', 'gu'], ['stup', 'id'], ['pu', 'er'], ['al', 'together'], ['american', 's'], ['bu', 'k'], ['m', 'our'], ['human', 'itarian'], ['aw', 'l'], ['prote', 'in'], ['ad', 'vent'], ['ine', 'quality'], ['detain', 'ed'], ['lin', 'coln'], ['ris', 'e'], ['un', 'e'], ['per', 'mission'], ['cent', 'uries'], ['vow', 'ed'], ['li', 'x'], ['b', 'bl'], ['con', 'trad'], ['neu', 'ro'], ['bo', 'o'], ['ain', 't'], ['oper', 'a'], ['ir', 'ish'], ['insur', 'er'], ['bid', 'en'], ['inquir', 'y'], ['charlot', 'te'], ['sil', 'icon']]\n",
      "[['5', '9'], ['gon', 'na'], ['bott', 'l'], ['u', 'c'], ['loy', 'al'], ['be', 'e'], ['bi', 'bl'], ['haw', 'a'], ['ic', 'ut'], ['propag', 'anda'], ['elig', 'ible'], ['jun', 'g'], ['administrat', 'or'], ['meas', 'ure'], ['ver', 'mont'], ['bur', 'st'], ['class', 'room'], ['she', 'et'], ['cl', 'aus'], ['an', 'eous'], ['d', 'ick'], ['bern', 'ard'], ['ef', 'ficient'], ['v', 'et'], ['to', 'kyo'], ['nerv', 'ous'], ['bu', 'yer'], ['remot', 'e'], ['ve', 'get'], ['connect', 'icut'], ['contribut', 'or'], ['8', '00'], ['j', 'uni'], ['w', 'ir'], ['start', 'up'], ['her', 'ent'], ['agric', 'ulture'], ['br', 'ill'], ['puer', 'to'], ['advoc', 'acy'], ['alex', 'ander'], ['bo', 'ast'], ['en', 'o'], ['sat', 'ell'], ['m', 'ant'], ['in', 'ner'], ['g', 'ear'], ['haw', 'k'], ['mo', 'dif'], ['k', 'ne']]\n",
      "iter_number :6000, voc_volume : 6046\n"
     ]
    },
    {
     "data": {
      "application/vnd.jupyter.widget-view+json": {
       "model_id": "66d70c5feb774931a6eba4e63c6b9150",
       "version_major": 2,
       "version_minor": 0
      },
      "text/plain": [
       "  0%|          | 0/250 [00:00<?, ?it/s]"
      ]
     },
     "metadata": {},
     "output_type": "display_data"
    },
    {
     "name": "stdout",
     "output_type": "stream",
     "text": [
      "[['int', 'im'], ['jo', 's'], ['bo', 'e'], ['abs', 'ence'], ['bet', 'ter'], ['guide', 'line'], ['to', 'y'], ['dis', 'ney'], ['document', 'ed'], ['ven', 'u'], ['ya', 'hoo'], ['hid', 'den'], ['4', '1'], ['ho', 'ok'], ['p', 'ier'], ['stri', 'k'], ['w', 'art'], ['il', 'a'], ['du', 'b'], ['character', 'iz'], ['hawa', 'ii'], ['yan', 'kee'], ['i', 'ency'], ['je', 'b'], ['th', 'ir'], ['pod', 'cast'], ['aw', 'k'], ['ex', 'ceed'], ['fo', 'ol'], ['fun', 'eral'], ['ir', 's'], ['juris', 'diction'], ['wonder', 'ful'], ['cont', 'end'], ['mag', 'ic'], ['tem', 'ple'], ['t', 'ical'], ['vis', 'ion'], ['squ', 'ad'], ['medic', 'are'], ['pr', 'on'], ['ma', 'them'], ['c', 'rop'], ['comp', 'ound'], ['sur', 'v'], ['genu', 'ine'], ['net', 'any'], ['sub', 'scr'], ['consum', 'ption'], ['g', 't']]\n",
      "[['ve', 'ga'], ['audi', 'o'], ['lux', 'ury'], ['bus', 'y'], ['p', 'neum'], ['bur', 'y'], ['character', 'istic'], ['netany', 'ahu'], ['test', 'ified'], ['sacr', 'ific'], ['k', 'rem'], ['l', '.'], ['2', 'nd'], ['terr', 'itor'], ['de', 'ar'], ['mal', 'ays'], ['5', '7'], ['intent', 'ional'], ['up', 'coming'], ['consult', 'ant'], ['job', 's'], ['li', 'est'], ['satell', 'ite'], ['197', '9'], ['krem', 'lin'], ['es', 'a'], ['esp', 'n'], ['jihad', 'ist'], ['ton', 'y'], ['ar', 'i'], ['ab', 'sur'], ['report', 's'], ['ilat', 'eral'], ['sem', 'bl'], ['represent', 'ation'], ['al', 'og'], ['y', 'iann'], ['w', 'olf'], ['tre', 'mend'], ['tremend', 'ous'], ['apart', 'ment'], ['rif', 'l'], ['f', 'ro'], ['sli', 'de'], ['p', 'ian'], ['vol', 'can'], ['die', 'go'], ['qu', 'o'], ['incredi', 'ble'], ['cour', 'se']]\n",
      "[['sla', 'very'], ['to', 'll'], ['vacc', 'ine'], ['5', '6'], ['defens', 'ive'], ['g', 'az'], ['out', 'sider'], ['bl', 'ank'], ['mer', 'it'], ['po', 'ison'], ['mac', 'ron'], ['un', 'documented'], ['net', 't'], ['v', 'as'], ['qu', 'er'], ['incent', 'ive'], ['after', 'math'], ['det', 'ent'], ['thor', 'ough'], ['work', 'place'], ['thr', 'ill'], ['resid', 'ence'], ['fact', 'ion'], ['termin', 'al'], ['gree', 'ce'], ['trop', 'ical'], ['tw', 'ist'], ['h', 'ip'], ['en', 'hanc'], ['ch', 'en'], ['w', 'rest'], ['con', 'crete'], ['cre', 'ator'], ['s', 'burg'], ['inter', 'ven'], ['ark', 'ansas'], ['char', 'li'], ['s', 'mu'], ['inev', 'itable'], ['owner', 'ship'], ['valu', 'able'], ['st', 'affer'], ['crow', 'n'], ['de', 'posit'], ['interpret', 'ation'], ['p', 'se'], ['5', '8'], ['h', 'art'], ['ck', 'ey'], ['credi', 'bility']]\n",
      "[['jac', 'ob'], ['yiann', 'opoulos'], ['absur', 'd'], ['do', 'x'], ['soci', 'o'], ['tribut', 'e'], ['su', 'san'], ['distr', 'act'], ['cir', 'culat'], ['ne', 'therland'], ['congress', 'man'], ['vis', 'ible'], ['kill', 'ing'], ['-', 'do'], ['j', 'ong'], ['w', 'right'], ['d', 'ong'], ['she', 'd'], ['ber', 'ry'], ['correspond', 'ent'], ['p', 'ion'], ['constitu', 'ency'], ['r', 'ico'], ['g', 'm'], ['epide', 'mic'], ['oper', 'ative'], ['over', 'haul'], ['th', 'ur'], ['b', 'read'], ['juni', 'or'], ['ro', 't'], ['g', 'art'], ['h', 'ub'], ['serv', 'ice'], ['art', 'ific'], ['artific', 'ial'], ['val', 'i'], ['church', 'es'], ['al', 'ign'], ['su', 'dan'], ['im', 'pro'], ['5', '1'], ['m', 'ck'], ['pain', 'ful'], ['prepar', 'ation'], ['ful', 'fill'], ['wor', 'n'], ['im', 'mun'], ['dy', 'ing'], ['seem', 'ing']]\n",
      "[['regist', 'ration'], ['6', '6'], ['j', 'azz'], ['7', '00'], ['therap', 'y'], ['pion', 'eer'], ['dr', 'ill'], ['dis', 'par'], ['d', 'ump'], ['s', 'anta'], ['st', 'all'], ['apol', 'is'], ['girl', 'friend'], ['cour', 'age'], ['ru', 'in'], ['in', 'car'], ['persu', 'ad'], ['not', 'ably'], ['den', 'ounc'], ['str', 'ing'], ['e', 'igh'], ['de', 'vo'], ['fre', 'ez'], ['tra', 'de'], ['har', 'sh'], ['smo', 'oth'], ['197', '2'], ['f', 'lix'], ['right', 's'], ['appl', 'ic'], ['chel', 'sea'], ['pol', 'and'], ['ju', 'ven'], ['pas', 'sion'], ['re', 'sent'], ['sp', 'ur'], ['matt', 'i'], ['quarter', 'back'], ['physic', 'ian'], ['air', 'strike'], ['stol', 'en'], ['net', 'flix'], ['dis', 'sent'], ['advis', 'or'], ['ade', 'qu'], ['st', 'ew'], ['zz', 'l'], ['weak', 'en'], ['or', 'ious'], ['pet', 'it']]\n",
      "iter_number :6250, voc_volume : 6293\n"
     ]
    },
    {
     "data": {
      "application/vnd.jupyter.widget-view+json": {
       "model_id": "8a86a171bdc646488979ef2eebd56976",
       "version_major": 2,
       "version_minor": 0
      },
      "text/plain": [
       "  0%|          | 0/250 [00:00<?, ?it/s]"
      ]
     },
     "metadata": {},
     "output_type": "display_data"
    },
    {
     "name": "stdout",
     "output_type": "stream",
     "text": [
      "[['mo', 'od'], ['f', 'lip'], ['9', '.'], ['h', 'itt'], ['spec', 'trum'], ['b', 'ian'], ['consider', 'at'], ['dy', 's'], ['spect', 'ac'], ['bus', 'an'], ['d', 'g'], ['r', 'av'], ['expo', 'sure'], ['per', 'ry'], ['dramatic', 'ally'], ['york', 'er'], ['tem', 'por'], ['a', 'er'], ['mo', 'dest'], ['t', 'iff'], ['cr', 'ush'], ['re', 'sum'], ['overwhel', 'm'], ['th', 'al'], ['brazil', 'ian'], ['ten', 'ur'], ['thom', 'pson'], ['categor', 'ies'], ['on', 'ia'], ['us', 's'], ['vac', 'at'], ['re', 'tal'], ['deb', 'ate'], ['if', 'ies'], ['suppl', 'ies'], ['predict', 'able'], ['b', 'unch'], ['x', 'on'], ['att', 'en'], ['le', 'as'], ['h', 'ail'], ['ra', 'ham'], ['vir', 'al'], ['dee', 'per'], ['kil', 'o'], ['p', 'i'], ['sp', 'ell'], ['man', 's'], ['hud', 'son'], ['198', '7']]\n",
      "[['cin', 'em'], ['favor', 'able'], ['cr', 'ud'], ['sp', 'y'], ['is', 'ition'], ['off', 'end'], ['tack', 'l'], ['out', 'lin'], ['luck', 'y'], ['treat', 'y'], ['am', 'y'], ['out', 'scor'], ['sho', 'e'], ['fl', 'int'], ['t', 'le'], ['in', 'corporat'], ['l', 'iver'], ['a', 'qu'], ['cho', 'i'], ['dis', 'abl'], ['seven', 'th'], ['gri', 'ev'], ['f', 'c'], ['ber', 'y'], ['b', 'loc'], ['prov', 'inc'], ['amend', 'ment'], ['con', 'secut'], ['fre', 'd'], ['u', 'ct'], ['21', 'st'], ['s', 'co'], ['excell', 'ent'], ['consecut', 'ive'], ['5', '4'], ['entr', 'anc'], ['lay', 'er'], ['mis', 'm'], ['o', 'val'], ['mic', 'ros'], ['p', 'av'], ['i', 'as'], ['niger', 'ia'], ['host', 'ile'], ['io', 'id'], ['me', 'ter'], ['mass', 'acr'], ['man', 'a'], ['hol', 'y'], ['196', '8']]\n",
      "[['inv', 'asion'], ['se', 'min'], ['cos', 'by'], ['special', 'ist'], ['de', 'liber'], ['cl', 'er'], ['provid', 'er'], ['uck', 'er'], ['hor', 'n'], ['tr', 'at'], ['st', 'ore'], ['ak', 'en'], ['hack', 'er'], ['micros', 'oft'], ['in', 'appropriate'], ['l', 'ion'], ['ump', 'h'], ['optim', 'istic'], ['mo', 'le'], ['op', 'ioid'], ['di', 'ent'], ['inst', 'ant'], ['g', 'ing'], ['spot', 'light'], ['boy', 'cott'], ['inter', 'ference'], ['lo', 'op'], ['ac', 'cel'], ['low', 'est'], ['st', 'amp'], ['id', 'er'], ['diagno', 's'], ['asp', 'ir'], ['remov', 'al'], ['skept', 'ical'], ['b', 'ible'], ['m', 'ud'], ['in', 'sight'], ['ke', 'ley'], ['b', 'n'], ['recon', 'cil'], ['j', 'ak'], ['decade', 's'], ['ser', 'ge'], ['prov', 'oc'], ['can', 'n'], ['li', 'ed'], ['re', 'illy'], ['d', 'ow'], ['friend', 'ship']]\n",
      "[['ball', 'istic'], ['om', 'o'], ['po', 'k'], ['exh', 'aust'], ['su', 'ed'], ['du', 'ter'], ['duter', 'te'], ['in', 'tr'], ['sol', 'o'], ['myst', 'ery'], ['h', 'int'], ['ott', 'ed'], ['fle', 'et'], ['ber', 'keley'], ['accel', 'erat'], ['b', 'ast'], ['end', 'anger'], ['mus', 'cl'], ['ob', 'struct'], ['ac', 'compan'], ['in', 'er'], ['bi', 'as'], ['mo', 'squ'], ['de', 'let'], ['rig', 'ged'], ['ele', 'vat'], ['detect', 'ive'], ['mana', 'fort'], ['peri', 'or'], ['st', 'y'], ['provinc', 'ial'], ['tour', 'ism'], ['su', 'perior'], ['st', 'ere'], ['in', 'com'], ['official', 's'], ['por', 'trait'], ['kr', 'w'], ['198', '5'], ['or', 'bit'], ['b', 'acter'], ['bre', 'ast'], ['ev', 'an'], ['d', 'ul'], ['intro', 'duction'], ['celebr', 'ities'], ['et', 'te'], ['al', 'ph'], ['bor', 'row'], ['un', 'comfortable']]\n",
      "[['bankrupt', 'cy'], ['high', '-'], ['thre', 'w'], ['al', 'one'], ['camer', 'on'], ['ca', 'a'], ['wal', 'e'], ['pa', 'us'], ['hed', 'g'], ['j', 'ess'], ['f', 'u'], ['o', 'y'], ['n', 'unes'], ['ly', 'ric'], ['p', 'ink'], ['br', 'av'], ['north', 'west'], ['th', 'rown'], ['s', 'lat'], ['f', 'ounder'], ['out', 'put'], ['sup', 'press'], ['re', 'sembl'], ['tox', 'ic'], ['w', 'ich'], ['ii', 'i'], ['conservat', 'ism'], ['stead', 'y'], ['per', 's'], ['am', 'n'], ['4', 'th'], ['in', 'ject'], ['gyeong', 'gi'], ['pt', 'ive'], ['orig', 'inat'], ['element', 'ary'], ['th', 'in'], ['ag', 'ger'], ['bar', 'bar'], ['attack', 's'], ['iv', 'an'], ['over', 'turn'], ['aust', 'in'], ['hit', 'ler'], ['meaning', 'ful'], ['ambit', 'ious'], ['c', 'ular'], ['qu', 'ake'], ['5', '3'], ['le', 'vi']]\n",
      "iter_number :6500, voc_volume : 6542\n"
     ]
    },
    {
     "data": {
      "application/vnd.jupyter.widget-view+json": {
       "model_id": "e1e4d79e7ef24e8398b2eec72b8eb783",
       "version_major": 2,
       "version_minor": 0
      },
      "text/plain": [
       "  0%|          | 0/250 [00:00<?, ?it/s]"
      ]
     },
     "metadata": {},
     "output_type": "display_data"
    },
    {
     "name": "stdout",
     "output_type": "stream",
     "text": [
      "[['6', '8'], ['hero', 'es'], ['dep', 'th'], ['indones', 'ia'], ['ist', 'er'], ['incredi', 'bly'], ['s', 'ach'], ['cor', 'ner'], ['ap', 'ology'], ['no', 'ise'], ['transpar', 'ency'], ['hero', 'in'], ['column', 'ist'], ['fac', 'ulty'], ['comm', 'ut'], ['over', 'night'], ['v', 'ail'], ['hor', 's'], ['skept', 'ic'], ['v', 'on'], ['swed', 'ish'], ['197', '6'], ['nav', 'igat'], ['ing', 're'], ['ak', 'a'], ['flo', 'at'], ['19', '30'], ['fil', 'ib'], ['anim', 'at'], ['18', '7'], ['n', 'one'], ['jun', 'ction'], ['mar', 'ine'], ['adequ', 'ate'], ['ade', 'sh'], ['man', 'if'], ['under', 'ground'], ['deal', 'er'], ['t', 'ick'], ['fun', 'ct'], ['sav', 'ing'], ['donald', 'trump'], ['gh', 'ost'], ['kid', 'n'], ['to', 'l'], ['acqu', 'isition'], ['fide', 'l'], ['v', 'ary'], ['filib', 'uster'], ['tar', 'iff']]\n",
      "[['it', 'i'], ['tele', 'phon'], ['198', '3'], ['tempor', 'arily'], ['at', 'om'], ['exter', 'nal'], ['rel', 'uct'], ['bl', 'as'], ['tar', 'ian'], ['reli', 'able'], ['a', 'iles'], ['ap', 'ore'], ['mar', 'shall'], ['istan', 'bul'], ['expl', 'od'], ['ig', 'en'], ['t', 'ure'], ['proto', 'col'], ['the', 'orie'], ['ingre', 'dient'], ['log', 'ic'], ['dut', 'ies'], ['re', 'action'], ['direct', 'ion'], ['broad', 'way'], ['g', 'wang'], ['comp', 'ass'], ['ef', 'fic'], ['g', '.'], ['presum', 'ptive'], ['real', 'istic'], ['lo', 'ser'], ['sing', 'apore'], ['archite', 'cture'], ['gar', 'land'], ['co', 'hen'], ['constitu', 'ent'], ['ac', 'ies'], ['real', 'donaldtrump'], ['dest', 'ination'], ['comed', 'ian'], ['pro', 'found'], ['retal', 'iat'], ['has', 'h'], ['d', 'ot'], ['iz', 'ed'], ['maxim', 'um'], ['earth', 'quake'], ['ar', 'bit'], ['tor', 'onto']]\n",
      "[['s', 'ink'], ['pol', 'ish'], ['re', 'build'], ['contr', 'ary'], ['con', 'ce'], ['mant', 'l'], ['pat', 'ent'], ['d', 'it'], ['fantas', 'y'], ['p', 'om'], ['an', 'ne'], ['de', 'cor'], ['cous', 'in'], ['che', 'd'], ['an', 'them'], ['pal', 'ace'], ['spe', 'ed'], ['alph', 'a'], ['war', 'ning'], ['ll', 'or'], ['wrong', 'doing'], ['south', 'west'], ['te', 'h'], ['197', '3'], ['ste', 'ep'], ['un', 'acceptable'], ['appoint', 'ment'], ['liber', 'tarian'], ['r', 'ounded'], ['ch', 'ung'], ['occup', 'ation'], ['no', 's'], ['z', 'ucker'], ['lo', 've'], ['mate', 'en'], ['sur', 'rounded'], ['be', 'c'], ['e', 'ag'], ['hol', 'land'], ['v', 'ett'], ['bo', 'd'], ['amn', 'esty'], ['con', 'fin'], ['continu', 'ed'], ['accompan', 'ied'], ['g', 'ol'], ['pres', 'cription'], ['mel', 't'], ['pre', 'vail'], ['inter', 'rupt']]\n",
      "[['product', 'ion'], ['196', '4'], ['work', 'force'], ['help', 'ful'], ['de', 'sta'], ['assass', 'inat'], ['bre', 'w'], ['over', 'come'], ['cl', 'ay'], ['impress', 'ive'], ['stat', 'ut'], ['wild', 'life'], ['termin', 'at'], ['po', 'desta'], ['pre', 'ference'], ['sc', 'he'], ['ab', 'u'], ['market', 'place'], ['dis', 'plac'], ['che', 'ong'], ['m', 'ade'], ['hol', 'o'], ['par', 'alle'], ['parliament', 'ary'], ['n', 'ak'], ['memor', 'ies'], ['ro', 'dr'], ['com', 'pris'], ['just', 'in'], ['ic', 'ally'], ['jim', 'my'], ['mis', 'lead'], ['law', 'ful'], ['the', 'atlantic'], ['psych', 'ological'], ['un', 'fold'], ['n', 'caa'], ['vol', 'unt'], ['ortho', 'dox'], ['cru', 'is'], ['surpris', 'ing'], ['enthus', 'ia'], ['k', 'ang'], ['del', 'ic'], ['198', '1'], ['mis', 'conduct'], ['blas', 'io'], ['hat', 'red'], ['im', 'm'], ['ali', 'ke']]\n",
      "[['po', 'e'], ['mechan', 'ism'], ['advent', 'ure'], ['enc', 'es'], ['brill', 'iant'], ['p', 'ant'], ['w', 'ick'], ['r', 'aw'], ['revolution', 'ary'], ['for', 'gotten'], ['obl', 'ig'], ['c', 'ig'], ['mel', 'ania'], ['loy', 'alty'], ['inc', 'umb'], ['p', 'ump'], ['hor', 'rible'], ['close', 'st'], ['ph', 'an'], ['investig', 'ative'], ['sc', 'ul'], ['lt', 'd'], ['impl', 'ication'], ['tun', 'nel'], ['attract', 'ive'], ['prefer', 'red'], ['sp', 'ik'], ['un', 've'], ['ar', 're'], ['ler', 'ance'], ['cen', 'sus'], ['ox', 'ford'], ['sub', 'mitted'], ['contrad', 'ict'], ['th', 'ick'], ['subscr', 'iber'], ['it', 'erat'], ['ris', 'on'], ['ann', 'y'], ['r', 'h'], ['j', 'enn'], ['pri', 'est'], ['b', 'row'], ['f', 'ad'], ['el', 'aborat'], ['eng', 'age'], ['earn', 'est'], ['in', 'fant'], ['un', 'constitutional'], ['an', 'e']]\n",
      "iter_number :6750, voc_volume : 6787\n"
     ]
    },
    {
     "data": {
      "application/vnd.jupyter.widget-view+json": {
       "model_id": "163362f1644e47a387bdfaf244d3c248",
       "version_major": 2,
       "version_minor": 0
      },
      "text/plain": [
       "  0%|          | 0/250 [00:00<?, ?it/s]"
      ]
     },
     "metadata": {},
     "output_type": "display_data"
    },
    {
     "name": "stdout",
     "output_type": "stream",
     "text": [
      "[['ist', 'ol'], ['star', 'k'], ['dis', 'gust'], ['brad', 'y'], ['self', '-'], ['de', 'ci'], ['b', 'iz'], ['gun', 'man'], ['ou', 'st'], ['pt', 'on'], ['sim', 'ult'], ['o', 'on'], ['extre', 'mism'], ['re', 'id'], ['coast', 'al'], ['dr', 'ain'], ['thes', 'is'], ['impro', 've'], ['mut', 'ual'], ['happen', 'ed'], ['clin', 'ical'], ['he', 'el'], ['m', 'are'], ['hom', 'icide'], ['r', 'ug'], ['simult', 'aneous'], ['g', 'ros'], ['car', 'to'], ['lo', 'gy'], ['d', 'iver'], ['bu', 'ff'], ['auth', 'entic'], ['ho', 'ckey'], ['magaz', 'ine'], ['al', 'um'], ['implement', 'ation'], ['h', 'il'], ['che', 'f'], ['br', 'is'], ['wo', 'o'], ['fr', 'ame'], ['he', 'im'], ['go', '.'], ['out', 'look'], ['lif', 'esty'], ['conserv', 'ation'], ['short', 'age'], ['no', 'where'], ['ver', 'dict'], ['urg', 'ent']]\n",
      "[['colomb', 'ia'], ['manufactur', 'er'], ['w', 'at'], ['break', 'fast'], ['chance', 'llor'], ['bel', 'g'], ['cl', 'am'], ['hum', 'or'], ['advis', 'ory'], ['jenn', 'ifer'], ['gre', 'et'], ['emot', 'ion'], ['6', '7'], ['he', 't'], ['stew', 'art'], ['z', 'i'], ['contro', 'll'], ['198', '2'], ['gh', 'azi'], ['ob', 'st'], ['clar', 'ity'], ['nand', 'ez'], ['po', 'sed'], ['incumb', 'ent'], ['h', 'r'], ['en', 'sion'], ['cap', 'abilities'], ['surv', 'ival'], ['che', 'at'], ['hold', 'ing'], ['slo', 'gan'], ['at', 'a'], ['ag', 'en'], ['assem', 'bl'], ['le', 'x'], ['l', 'ung'], ['c', 'ens'], ['sub', 'scrib'], ['per', 'pe'], ['kn', 'if'], ['3', 'rd'], ['6', '2'], ['ad', 'vers'], ['fasc', 'inat'], ['pu', 'ses'], ['p', 'ap'], ['pie', 'ce'], ['civ', 'ic'], ['t', 'ab'], ['assum', 'ption']]\n",
      "[['gu', 'e'], ['n', 'ash'], ['re', 'ign'], ['in', 'ity'], ['alt', 'ies'], ['ac', 'o'], ['provis', 'ion'], ['account', 'ability'], ['de', 'mean'], ['con', 'go'], ['t', 'um'], ['bl', 'az'], ['lifesty', 'le'], ['tig', 'er'], ['ver', 'sus'], ['ate', 'ur'], ['k', 'k'], ['belg', 'ium'], ['er', 'up'], ['d', 'il'], ['th', 'a'], ['i', 'os'], ['be', 'tray'], ['o', 'ci'], ['197', '5'], ['ne', 'o'], ['for', 'give'], ['fo', 'ss'], ['18', 'th'], ['cast', 'le'], ['under', 'way'], ['exp', 'ir'], ['ag', 'i'], ['mon', 'ster'], ['ar', 'thur'], ['confront', 'ation'], ['ben', 'ghazi'], ['edit', 'ed'], ['but', 'ton'], ['je', 'on'], ['grad', 'ual'], ['pa', 'thetic'], ['ar', 'sen'], ['ter', 'ra'], ['chron', 'icl'], ['re', 'ver'], ['continent', 'al'], ['c', 'ulture'], ['mc', 'car'], ['problem', 's']]\n",
      "[['stor', 'age'], ['sal', 'ary'], ['u', 'a'], ['and', 'owski'], ['197', '8'], ['re', 'viv'], ['10', '.'], ['group', 's'], ['accom', 'mo'], ['accommo', 'dat'], ['ur', 'u'], ['f', 'lee'], ['grap', 'her'], ['ten', 'nis'], ['cens', 'or'], ['egypt', 'ian'], ['i', 'qu'], ['lo', 'se'], ['smu', 'ggl'], ['manif', 'est'], ['sim', 'pl'], ['po', 'em'], ['p', 'ad'], ['jo', 'el'], ['sanct', 'uary'], ['inter', 'fer'], ['dam', 'n'], ['bi', 'ological'], ['b', 'ent'], ['host', 'age'], ['comment', 'ator'], ['fr', 'on'], ['d', 'p'], ['stop', 'p'], ['ar', 'ity'], ['stan', 'ford'], ['pro', 'x'], ['bl', 'unt'], ['recip', 'ient'], ['col', 'og'], ['sequ', 'enc'], ['fer', 't'], ['gam', 'es'], ['w', 'reck'], ['intim', 'idat'], ['ul', 'us'], ['aw', 'ful'], ['run', 'ner'], ['nav', 'al'], ['when', 'ever']]\n",
      "[['tax', 'i'], ['w', 'ad'], ['de', 'ut'], ['ug', 'g'], ['victor', 'ia'], ['hab', 'itat'], ['v', 'y'], ['cry', 'pto'], ['national', 'ism'], ['bi', 'k'], ['dis', 'count'], ['bag', 'h'], ['che', 'ese'], ['rodr', 'ig'], ['stere', 'ot'], ['sel', 'ler'], ['cy', 'cle'], ['b', 'is'], ['awk', 'ward'], ['al', 'iz'], ['hel', 'lo'], ['197', '4'], ['cau', 'st'], ['197', '7'], ['t', 'out'], ['10', 'th'], ['out', 'standing'], ['am', 'o'], ['bo', 'ther'], ['holo', 'caust'], ['test', 'ify'], ['a.', 'm'], ['in', 'herit'], ['dim', 'in'], ['wall', 'ace'], ['achiev', 'e'], ['n', 'ancy'], ['outr', 'ight'], ['obl', 'igat'], ['cre', 'am'], ['class', 'ical'], ['cer', 'at'], ['swim', 'ming'], ['chang', 'ed'], ['b', 'ou'], ['awr', 'hawkins'], ['6', '4'], ['liter', 'ary'], ['spirit', 'ual'], ['nu', 'tr']]\n",
      "iter_number :7000, voc_volume : 7035\n"
     ]
    },
    {
     "data": {
      "application/vnd.jupyter.widget-view+json": {
       "model_id": "91b7cec2e4bc406882dd25a53198581a",
       "version_major": 2,
       "version_minor": 0
      },
      "text/plain": [
       "  0%|          | 0/250 [00:00<?, ?it/s]"
      ]
     },
     "metadata": {},
     "output_type": "display_data"
    },
    {
     "name": "stdout",
     "output_type": "stream",
     "text": [
      "[['shut', 'down'], ['cho', 'os'], ['traum', 'a'], ['eth', 'ical'], ['confident', 'ial'], ['rein', 'forc'], ['bat', 'tery'], ['dign', 'ity'], ['proceed', 'ing'], ['sustain', 'able'], ['hor', 'se'], ['emphas', 'is'], ['rat', 'io'], ['co', 'inc'], ['rel', 'ax'], ['l', 'end'], ['18', '0'], ['t', 'issue'], ['pret', 'end'], ['con', 'ced'], ['wrest', 'l'], ['kill', 'er'], ['l', 'ur'], ['ag', 'ed'], ['week', 's'], ['pitt', 's'], ['mus', 'k'], ['bagh', 'dad'], ['benef', 'ic'], ['den', 'ial'], ['arr', 'ay'], ['b', 'm'], ['scott', 'ish'], ['stereot', 'yp'], ['dou', 'glas'], ['st', 'om'], ['hor', 'izon'], ['il', 'ant'], ['way', 's'], ['ch', 'es'], ['op', 'her'], ['qa', 'eda'], ['il', 'ing'], ['pre', 'lim'], ['establish', 'ment'], ['bar', 'k'], ['cam', 'puses'], ['h', 'iv'], ['ab', 'or'], ['o', '.']]\n",
      "[['6', '9'], ['ath', 'on'], ['b', 'ump'], ['strateg', 'ies'], ['y', 'al'], ['phil', 'ip'], ['sal', 'es'], ['ba', 'um'], ['it', \"'s\"], ['night', 'club'], ['christ', 'opher'], ['swe', 'at'], ['paralle', 'l'], ['gr', 'id'], ['om', 'er'], ['ev', 'a'], ['u', 'ro'], ['so', 'ar'], ['poe', 'try'], ['ne', 'il'], ['z', 'er'], ['thr', 'iv'], ['infect', 'ed'], ['gr', 'ateful'], ['form', 'ula'], ['mccar', 'thy'], ['night', 'mare'], ['t', 'roll'], ['ham', 'mer'], ['excess', 'ive'], ['bu', 'bbl'], ['p', 'iv'], ['re', 'assur'], ['pitts', 'burgh'], ['port', 'land'], ['nin', 'th'], ['is', 'ive'], ['ul', 'tural'], ['legislat', 'or'], ['196', '9'], ['sop', 'hist'], ['dis', 'pos'], ['foss', 'il'], ['wor', 'ries'], ['init', 'iat'], ['bl', 'ue'], ['korea', '-'], ['appl', 'ause'], ['th', 'ouse'], ['no', 'd']]\n",
      "[['s', 'ne'], ['n', 'ich'], ['itt', 'ed'], ['con', 'vic'], ['convic', 'tion'], ['mak', 'ing'], ['wor', 'ship'], ['mc', 'donald'], ['ar', 'ia'], ['mit', 'ch'], ['teh', 'ran'], ['b', 'ald'], ['pas', 'sport'], ['b', 'less'], ['piv', 'ot'], ['commit', 'ment'], ['occup', 'ied'], ['sun', 'ni'], ['tr', 'app'], ['but', 't'], ['char', 'm'], ['victor', 'ies'], ['lit', 'igat'], ['psy', 'chi'], ['196', '7'], ['solid', 'arity'], ['tu', 'b'], ['obst', 'acle'], ['in', 'habit'], ['ab', 'sent'], ['syn', 'drome'], ['mar', 'vel'], ['c', 'ak'], ['8', '5'], ['s', 'gt'], ['le', 'ban'], ['l', 'op'], ['na', 'i'], ['f', 'av'], ['re', 'fr'], ['comment', 'ary'], ['se', 'gregat'], ['applic', 'ant'], ['ace', 'ut'], ['aceut', 'ical'], ['none', 'theless'], ['trans', 'action'], ['sp', 'ill'], ['mur', 'phy'], ['val', 'id']]\n",
      "[['tri', 'umph'], ['te', 'eth'], ['cru', 'el'], ['grab', 'b'], ['fur', 'n'], ['sam', 'e'], ['fl', 'our'], ['mar', 'ia'], ['auto', 'mat'], ['agric', 'ultural'], ['is', 'sa'], ['drop', 'p'], ['temper', 'a'], ['sub', 'mit'], ['lo', 'om'], ['eag', 'l'], ['wid', 'er'], ['e', 'ter'], ['susp', 'ens'], ['not', 'e'], ['casual', 'ties'], ['end', 'ar'], ['inspect', 'or'], ['kin', 'der'], ['kir', 'k'], ['k', 'ath'], ['sect', 'ion'], ['veget', 'able'], ['inter', 'n'], ['boy', 'friend'], ['my', 'ster'], ['govern', 'ance'], ['bio', 'graphy'], ['sub', 'way'], ['rad', 'ar'], ['sur', 'rog'], ['associ', 'ation'], ['eigh', 'th'], ['reserv', 'ation'], ['h', 'og'], ['ur', 'a'], ['ure', 's'], ['tight', 'en'], ['pl', 'um'], ['wal', 'ter'], ['19', '40'], ['kee', 'per'], ['k', 'it'], ['inst', 'inct'], ['sl', 'id']]\n",
      "[['ru', 'th'], ['et', 'ary'], ['har', 'bor'], ['cess', 'ion'], ['news', 'letter'], ['on', '-'], ['anton', 'io'], ['wis', 'dom'], ['ist', 'ical'], ['re', 'x'], ['hy', 'dr'], ['stat', 'ue'], ['foreign', 'er'], ['ple', 'a'], ['sophist', 'icat'], ['bud', 'd'], ['plain', 'tiff'], ['enforce', 'ment'], ['every', 'day'], ['shr', 'ink'], ['r', 'anch'], ['7', '7'], ['arch', 'y'], ['par', 'ish'], ['po', 'et'], ['second', 'ary'], ['t', 'el'], ['autonom', 'ous'], ['eli', 'hood'], ['cur', 'b'], ['sh', 'an'], ['ver', 'b'], ['carto', 'on'], ['l', 'isa'], ['r', 'hy'], ['dis', 'patch'], ['gl', 'ad'], ['t', 's'], ['h', 'ob'], ['al', 'gor'], ['algor', 'ith'], ['comp', 'ell'], ['out', 'door'], ['har', 'mon'], ['b', 'ind'], ['v', 'est'], ['prelim', 'inary'], ['resident', 'ial'], ['m', 's'], ['am', 'bl']]\n",
      "iter_number :7250, voc_volume : 7282\n"
     ]
    },
    {
     "data": {
      "application/vnd.jupyter.widget-view+json": {
       "model_id": "9af83794183c45fab8ae83e98a42c197",
       "version_major": 2,
       "version_minor": 0
      },
      "text/plain": [
       "  0%|          | 0/250 [00:00<?, ?it/s]"
      ]
     },
     "metadata": {},
     "output_type": "display_data"
    },
    {
     "name": "stdout",
     "output_type": "stream",
     "text": [
      "[['hu', 'gh'], ['bru', 'ce'], ['continu', 'ous'], ['mar', 'athon'], ['9', '5'], ['s', 'cur'], ['re', 'son'], ['ind', 'ic'], ['ug', 'ly'], ['ut', 'en'], ['r', 'nc'], ['conce', 'al'], ['mid', '-'], ['he', 'z'], ['os', 'i'], ['19', '20'], ['pre', 'mis'], ['rom', 'antic'], ['achiev', 'ement'], ['6', '3'], ['oc', 'curr'], ['ver', 'g'], ['malays', 'ia'], ['or', 'le'], ['institut', 'ional'], ['del', 'ight'], ['av', 'iat'], ['organiz', 'er'], ['par', 'aly'], ['k', 'night'], ['orle', 'ans'], ['j', 'ab'], ['a', 'ero'], ['ce', 'iling'], ['ar', 'l'], ['be', 'ast'], ['iv', 'at'], ['land', 'mark'], ['con', 'ceiv'], ['g', 'ill'], ['nick', 'nam'], ['dis', 'abilities'], ['ose', 'x'], ['gl', 'enn'], ['pol', 'ar'], ['gart', 'en'], ['int', 'ention'], ['is', 'en'], ['s', 'our'], ['s', 'ag']]\n",
      "[['lar', 'ry'], ['rel', 'ent'], ['exam', 'ination'], ['sy', 'd'], ['more', 'over'], ['du', 'ck'], ['b', 'angl'], ['attack', 'er'], ['frame', 'work'], ['c', 'dc'], ['sur', 'render'], ['osex', 'ual'], ['evol', 'ut'], ['mic', 'hel'], ['rus', 'sell'], ['m', 'p'], ['cry', 'pt'], ['author', 'itarian'], ['deem', 'ed'], ['cal', 'endar'], ['mort', 'gag'], ['liqu', 'id'], ['m', 'am'], ['stri', 'an'], ['biz', 'arre'], ['em', 'i'], ['s', 'd'], ['legit', 'im'], ['p', 'iz'], ['zucker', 'berg'], ['travel', 'er'], ['en', 'ger'], ['reck', 'less'], ['age', 'ous'], ['fil', 'ter'], ['the', 'ore'], ['abe', 'din'], ['prosper', 'ity'], ['cu', 'omo'], ['el', 'led'], ['not', 'orious'], ['gent', 'le'], ['lobby', 'ist'], ['op', 'ard'], ['k', 'or'], ['difficult', 'ies'], ['present', 'ation'], ['che', 'aper'], ['diffic', 'ulty'], ['dom', 'ain']]\n",
      "[['n', 'af'], ['gen', 'e'], ['orche', 'stra'], ['1', '20'], ['at', 'ed'], ['s', 'ite'], ['bat', 'ter'], ['fer', 'gus'], ['br', 'ush'], ['re', 'ce'], ['tw', 'enty'], ['es', 'ome'], ['argent', 'ina'], ['are', 'd'], ['ro', 'v'], ['divis', 'ive'], ['public', 'ation'], ['zo', 'o'], ['br', 'ig'], ['cr', 'icket'], ['withdraw', 'al'], ['ell', 'a'], ['pur', 'po'], ['ob', 'server'], ['gwang', 'ju'], ['au', 'ction'], ['gall', 'ery'], ['sovereign', 'ty'], ['es', 'y'], ['p', 'he'], ['frank', 'lin'], ['a', 'a'], ['doc', 'tr'], ['liber', 'ties'], ['observ', 'ation'], ['v', 'ague'], ['op', 'press'], ['incar', 'cerat'], ['lew', 'andowski'], ['dur', 'a'], ['fl', 'avor'], ['never', 'theless'], ['amb', 'ition'], ['def', 'ence'], ['bar', 'gain'], ['he', 'on'], ['mu', 'ham'], ['hal', 'e'], ['p', 'ard'], ['surrog', 'ate']]\n",
      "[['sw', 'itzer'], ['is', 'is'], ['le', 'verag'], ['transfer', 'red'], ['so', 'le'], ['atten', 'dee'], ['o', 'z'], ['197', '1'], ['worker', 's'], ['diplom', 'acy'], ['inaug', 'ural'], ['deci', 'ded'], ['bu', 'g'], ['lap', 'top'], ['limit', 'ation'], ['pharm', 'aceutical'], ['friend', 's'], ['we', 't'], ['co', 'x'], ['diagno', 'sis'], ['cell', 'phone'], ['signific', 'ance'], ['k', 'al'], ['ver', 'se'], ['ment', 'or'], ['196', '5'], ['id', 'io'], ['colon', 'ial'], ['gener', 'ous'], ['sm', 'ell'], ['s', 'ic'], ['kel', 'ly'], ['ging', 'rich'], ['bur', 'ied'], ['teen', 'ager'], ['s', 'add'], ['y', 'on'], ['cas', 'ino'], ['x', 'ious'], ['ex', 'empt'], ['enthus', 'ias'], ['un', 'ner'], ['e', 'an'], ['attend', 'ance'], ['gal', 'ax'], ['over', 'look'], ['5', 'th'], ['atter', 'ed'], ['con', 'grat'], ['den', 'ver']]\n",
      "[['ph', 'ant'], ['p', 'ing'], ['6', '1'], ['enthusias', 'm'], ['syd', 'ney'], ['invit', 'ation'], ['aggress', 'ion'], ['suspic', 'ious'], ['-', 'up'], ['sett', 'ing'], ['ind', 'igen'], ['exception', 'al'], ['bann', 'er'], ['republican', 's'], ['con', 'science'], ['indigen', 'ous'], ['che', 'on'], ['access', 'ible'], ['ak', 'er'], ['fur', 'ious'], ['pel', 'osi'], ['switzer', 'land'], ['mar', 'sh'], ['ken', 'ya'], ['renew', 'ed'], ['f', 'da'], ['trans', 'mission'], ['fergus', 'on'], ['jack', 'et'], ['dia', 'bet'], ['cr', 'a'], ['fol', 'io'], ['l', 'ive'], ['v', 'it'], ['hal', 'ey'], ['su', 'll'], ['7', '2'], ['re', 'settl'], ['pat', 'ri'], ['ke', 'ith'], ['dimin', 'ish'], ['dec', 'isive'], ['ep', 'ic'], ['ophob', 'ia'], ['per', 'secut'], ['de', 'liberat'], ['pho', 'en'], ['just', 'ified'], ['che', 'mist'], ['reluct', 'ant']]\n",
      "iter_number :7500, voc_volume : 7529\n"
     ]
    },
    {
     "data": {
      "application/vnd.jupyter.widget-view+json": {
       "model_id": "022ca9f59fbf4024a7d05c672e6d0eca",
       "version_major": 2,
       "version_minor": 0
      },
      "text/plain": [
       "  0%|          | 0/250 [00:00<?, ?it/s]"
      ]
     },
     "metadata": {},
     "output_type": "display_data"
    },
    {
     "name": "stdout",
     "output_type": "stream",
     "text": [
      "[['lo', 'os'], ['and', 'y'], ['mid', 'night'], ['manu', 'el'], ['sc', 'out'], ['11', 'th'], ['bacter', 'ia'], ['deut', 'sch'], ['dis', 'mantl'], ['car', 'lo'], ['the', 'ft'], ['v', 'ice'], ['funct', 'ional'], ['s', 'anc'], ['som', 'alia'], ['ask', 'ed'], ['bo', 'il'], ['scr', 'ambl'], ['graph', 'ical'], ['ste', 'am'], ['civil', 'ization'], ['pr', 'ice'], ['ch', 'ill'], ['vol', 'at'], ['mosquito', 'es'], ['supre', 'mac'], ['8', '8'], ['bed', 'room'], ['ear', 'liest'], ['lov', 'ed'], ['thre', 'sh'], ['beat', 'en'], ['awa', 'it'], ['bur', 'ger'], ['arsen', 'al'], ['p', 'und'], ['jam', 'in'], ['or', 'al'], ['s', 'ieg'], ['j', 'ong-'], ['m', 'ish'], ['happ', 'iness'], ['bl', 'ing'], ['respond', 'ent'], ['ab', 'sor'], ['b', 'ah'], ['sh', 'aw'], ['famil', 'ies'], ['nie', 'to'], ['experi', 'ence']]\n",
      "[['hum', 'il'], ['ri', 'de'], ['su', 'ck'], ['sur', 'geon'], ['gar', 'ner'], ['end', 'less'], ['ben', 'jamin'], ['ed', 'ia'], ['left', 'ist'], ['servic', 'es'], ['car', 'ib'], ['democrat', 's'], ['thresh', 'old'], ['t', 'ide'], ['li', 'ar'], ['her', 'ald'], ['tr', 'ash'], ['sa', 'k'], ['z', 'im'], ['fish', 'er'], ['re', 'fin'], ['fle', 'w'], ['thr', 'one'], ['pray', 'er'], ['12', 'th'], ['mu', 'eller'], ['hu', 'ff'], ['cr', 'at'], ['r', 'att'], ['che', 'll'], ['h', 'l'], ['a', 'the'], ['cr', 'i'], ['test', 'a'], ['grand', 'mother'], ['expert', 'ise'], ['cal', 'led'], ['austr', 'ia'], ['g', 'aw'], ['scholar', 'ship'], ['phoen', 'ix'], ['mad', 'ison'], ['muham', 'mad'], ['chr', 'onic'], ['15', 'th'], ['f', 'ied'], ['iz', 'e'], ['bat', 'on'], ['con', 'federat'], ['inter', 'action']]\n",
      "[['o', '-'], ['jer', 'ry'], ['ple', 'aded'], ['c', 'z'], ['bound', 'aries'], ['accept', 'ance'], ['b', 'om'], ['b', 'b'], ['ex', 'xon'], ['strong', 'est'], ['re', 'hab'], ['stan', 'ley'], ['di', 'am'], ['ian', 'i'], ['ver', 'age'], ['far', 'go'], ['bas', 'har'], ['rob', 'ust'], ['immun', 'e'], ['stro', 'k'], ['bu', 'f'], ['organ', 'ic'], ['port', 'folio'], ['g', 'one'], ['robin', 'son'], ['un', 'popular'], ['psych', 'ology'], ['pre', 'd'], ['th', 'ro'], ['inste', 'in'], ['pep', 'per'], ['administ', 'er'], ['dist', 'ress'], ['in', 'correct'], ['p', 'ir'], ['refus', 'al'], ['just', 'ify'], ['cat', 'alog'], ['ob', 'scur'], ['patr', 'on'], ['question', 's'], ['jef', 'fer'], ['law', 's'], ['aut', 'ism'], ['reporter', 's'], ['mat', 'ur'], ['inspir', 'ation'], ['pund', 'it'], ['dr', 'unk'], ['di', 'um']]\n",
      "[['br', 'ag'], ['pre', 'dominant'], ['territor', 'ies'], ['cur', 'ious'], ['econom', 'ies'], ['ag', 'ing'], ['algorith', 'm'], ['bomb', 'ing'], ['consider', 'able'], ['de', 'pl'], ['l', 'ut'], ['credi', 'ble'], ['student', 's'], ['d', 'ash'], ['mit', 'chell'], ['under', 'ly'], ['rail', 'road'], ['cal', 'iph'], ['ster', 'l'], ['ic', 'y'], ['devel', 'oper'], ['17', 'th'], ['battle', 'ground'], ['depl', 'or'], ['ev', 'ident'], ['respons', 'ibilities'], ['n', 'ell'], ['activ', 'ism'], ['sc', 'ary'], ['13', 'th'], ['snap', 'chat'], ['90', 's'], ['reconcil', 'iation'], ['flu', 'id'], ['effic', 'iency'], ['g', 'dp'], ['9', 'th'], ['trib', 'al'], ['pr', 'u'], ['re', 'locat'], ['de', 'duct'], ['et', 'z'], ['dem', 'ic'], ['caut', 'ious'], ['conven', 'ient'], ['heav', 'en'], ['et', 'ch'], ['ac', 'id'], ['su', 'spend'], ['stom', 'ach']]\n",
      "[['mo', 'gul'], ['election', 's'], ['pe', 'w'], ['mathem', 'atic'], ['educ', 'ation'], ['en', 'na'], ['sec', 'ular'], ['ph', 'ill'], ['crit', 'er'], ['s', 'ke'], ['wh', 'is'], ['on', 'c'], ['immig', 'ration'], ['tri', 'be'], ['vel', 't'], ['gi', 'ul'], ['l', 'inger'], ['ac', 'he'], ['c', 'end'], ['pal', 'in'], ['ri', 'el'], ['sh', 'it'], ['d', 'awn'], ['main', 'ten'], ['diam', 'ond'], ['qual', 'ification'], ['12', '5'], ['bel', 'gian'], ['naf', 'ta'], ['imp', 'ul'], ['ho', 'le'], ['ju', 'an'], ['ac', 'cum'], ['fr', 'ight'], ['do', 'om'], ['v', 'or'], ['serv', 'ant'], ['hop', 'e'], ['wh', 'ist'], ['pro', 'lif'], ['st', 'ir'], ['b', 'ib'], ['enc', 'er'], ['mainten', 'ance'], ['n', 'sa'], ['trag', 'ic'], ['h', 'bo'], ['giv', 'ing'], ['jur', 'or'], ['accident', 'al']]\n",
      "iter_number :7750, voc_volume : 7778\n"
     ]
    },
    {
     "data": {
      "application/vnd.jupyter.widget-view+json": {
       "model_id": "9e459c9b7f664d95831405764e64d53b",
       "version_major": 2,
       "version_minor": 0
      },
      "text/plain": [
       "  0%|          | 0/250 [00:00<?, ?it/s]"
      ]
     },
     "metadata": {},
     "output_type": "display_data"
    },
    {
     "name": "stdout",
     "output_type": "stream",
     "text": [
      "[['en', 'demic'], ['log', 'ical'], ['for', 'g'], ['o', 'sa'], ['men', 'u'], ['rid', 'er'], ['improv', 'ement'], ['cam', 'bridge'], ['194', '5'], ['con', 'solid'], ['gest', 'ur'], ['m', 'acy'], ['fe', 'ver'], ['gon', 'z'], ['tor', 'n'], ['gu', 'ine'], ['ox', 'y'], ['alpha', 'bet'], ['sp', 'encer'], ['mont', 'ana'], ['je', 'opard'], ['proportion', 'ate'], ['crack', 'down'], ['jef', 'frey'], ['tim', 'eline'], ['ris', 'en'], ['transpar', 'ent'], ['hour', 's'], ['ro', 'ose'], ['rou', 'g'], ['dis', 'ability'], ['be', 'ef'], ['de', 'fault'], ['cig', 'aret'], ['cigaret', 'te'], ['roose', 'velt'], ['endorse', 'ment'], ['ll', 'a'], ['m', 'ack'], ['overwhel', 'ming'], ['christian', 'ity'], ['hav', 'e'], ['grand', 'father'], ['nor', 'way'], ['t', 'z'], ['non', 'sense'], ['ay', 'a'], ['gl', 'ac'], ['re', 'tri'], ['dim', 'ension']]\n",
      "[['ex', 'agger'], ['rit', 'ual'], ['o', 'ath'], ['collect', 'ion'], ['spr', 'ay'], ['imagin', 'ation'], ['g', 'om'], ['inv', 'ok'], ['on', 'ies'], ['b', 'apt'], ['supremac', 'ist'], ['her', 'nandez'], ['st', 'o'], ['se', 'in'], ['o', 'try'], ['14', 'th'], ['gri', 'ef'], ['pl', 'ung'], ['pur', 'suit'], ['in', 'clusion'], ['carib', 'bean'], ['pre', 'stig'], ['ent', 'ities'], ['6', 'th'], ['re', 'bound'], ['inter', 'cept'], ['hash', 'tag'], ['k', 'nick'], ['itt', 'ing'], ['ter', 'ry'], ['sull', 'ivan'], ['cop', 'ies'], ['ul', 'tra'], ['on', 'es'], ['con', 'vey'], ['mand', 'atory'], ['imper', 'ial'], ['dir', 'ty'], ['coll', 'abor'], ['bi', 'ology'], ['arab', 'ic'], ['om', 'ar'], ['home', 'town'], ['result', 's'], ['gri', 'p'], ['creat', 'ure'], ['au', 'x'], ['memo', 'ir'], ['fel', 'd'], ['humil', 'iat']]\n",
      "[['kinder', 'garten'], ['diabet', 'es'], ['lu', 'ther'], ['sing', 'er'], ['ome', 'ter'], ['lin', 'es'], ['alien', 'at'], ['automatic', 'ally'], ['er', 'r'], ['a', 'ur'], ['s', 'can'], ['tr', 'ator'], ['up', 'grad'], ['ste', 'er'], ['ab', 'ul'], ['school', 's'], ['s', 'que'], ['trib', 'une'], ['po', 'inte'], ['fel', 'ony'], ['ident', 'ification'], ['abol', 'ish'], ['auto', 'maker'], ['under', 'scor'], ['satis', 'fied'], ['bangl', 'adesh'], ['mor', 'ph'], ['tw', 'el'], ['air', 'plane'], ['ra', 'q'], ['em', 'ir'], ['e', 'go'], ['wi', 'ret'], ['le', 'af'], ['on', 'tar'], ['d', 'ate'], ['relat', 'ed'], ['battle', 'field'], ['po', 'ster'], ['we', 'iner'], ['gar', 'b'], ['suppl', 'ier'], ['ontar', 'io'], ['war', 'fare'], ['med', 'dl'], ['rent', 'al'], ['bill', 'board'], ['arch', 'ae'], ['sim', 'pson'], ['big', 'otry']]\n",
      "[['ap', 'pointe'], ['da', 'q'], ['ap', 'pr'], ['16', 'th'], ['am', 'ateur'], ['cost', 'um'], ['execut', 'ion'], ['m', 'um'], ['factor', 'ies'], ['neutr', 'al'], ['k', 'h'], ['con', 'cession'], ['lie', 'uten'], ['organ', 'ism'], ['cred', 'ential'], ['angel', 'a'], ['ac', 're'], ['pru', 'itt'], ['conven', 'ience'], ['optim', 'ism'], ['film', 'maker'], ['r', 'ence'], ['wi', 're'], ['bre', 'ed'], ['u', 'de'], ['ser', 'ial'], ['lieuten', 'ant'], ['les', 'bian'], ['entit', 'le'], ['capital', 'ism'], ['pow', 'ell'], ['sup', 'posed'], ['proble', 'matic'], ['em', 'per'], ['where', 'as'], ['ke', 'en'], ['passion', 'ate'], ['enthusia', 'stic'], ['bene', 'ath'], ['ap', 'ply'], ['argu', 'ably'], ['ast', 'on'], ['cho', 'col'], ['x', 'm'], ['talk', 'ing'], ['paint', 'ing'], ['le', 'vin'], ['separ', 'ate'], ['t', 'as'], ['ile', 't']]\n",
      "[['ure', 'd'], ['ukrain', 'ian'], ['trans', 'act'], ['bernard', 'ino'], ['tol', 'erat'], ['h', 'oney'], ['un', 'cover'], ['down', 'load'], ['ais', 'le'], ['dec', 'k'], ['jer', 'em'], ['rac', 'hel'], ['gam', 'bl'], ['demean', 'or'], ['neigh', 'bour'], ['off', 'shor'], ['-', 'time'], ['or', 'a'], ['t', 'pp'], ['dev', 'il'], ['qu', 'int'], ['un', 'successful'], ['mour', 'n'], ['bey', 'onc'], ['infect', 'ion'], ['l', 'ag'], ['c', 'es'], ['cur', 's'], ['record', 'ing'], ['ot', 'to'], ['ex', 'tract'], ['thre', 'ad'], ['law', 'rence'], ['ru', 'les'], ['p', 'c'], ['eco', 'system'], ['neg', 'lect'], ['disco', 'graphy'], ['lam', 'ent'], ['fac', 'ilitat'], ['at', 'ro'], ['og', 'a'], ['court', 'room'], ['sw', 'amp'], ['consolid', 'at'], ['cre', 'ek'], ['cal', 'cul'], ['guine', 'a'], ['barbar', 'a'], ['brief', 'ing']]\n",
      "iter_number :8000, voc_volume : 8026\n"
     ]
    },
    {
     "data": {
      "application/vnd.jupyter.widget-view+json": {
       "model_id": "ed50c70d4c8b47fdb4d8b50b156611cb",
       "version_major": 2,
       "version_minor": 0
      },
      "text/plain": [
       "  0%|          | 0/250 [00:00<?, ?it/s]"
      ]
     },
     "metadata": {},
     "output_type": "display_data"
    },
    {
     "name": "stdout",
     "output_type": "stream",
     "text": [
      "[['m', 'ph'], ['r', 'ate'], ['ab', 'dul'], ['sh', 'y'], ['compl', 'iance'], ['comm', 'em'], ['7', 'th'], ['pen', 'alties'], ['sir', 'ius'], ['subst', 'itut'], ['writ', 'ing'], ['st', 'ump'], ['renew', 'able'], ['vir', 'tu'], ['un', 'cl'], ['t', 'pm'], ['sponsor', 's'], ['cain', 'e'], ['kis', 'ly'], ['kisly', 'ak'], ['gl', 'ass'], ['gen', 'oci'], ['in', 'san'], ['anc', 'es'], ['7', '8'], ['ge', 'or'], ['co', 'caine'], ['con', 'strain'], ['long', 'est'], ['nes', 'sed'], ['in', 'clusive'], ['poll', 'ster'], ['vill', 'ain'], ['re', 'construct'], ['hann', 'ity'], ['ier', 'ra'], ['all', 'oc'], ['cinem', 'a'], ['r', 'ack'], ['support', 'ive'], ['sk', 'etch'], ['le', 'ash'], ['inter', 'sect'], ['prov', 'ok'], ['cur', 'v'], ['transform', 'ation'], ['sp', 'otted'], ['ph', 'ony'], ['back', 'ward'], ['reli', 'ev']]\n",
      "[['length', 'y'], ['pre', 'judic'], ['north', 'western'], ['mar', 'ry'], ['cent', 'ri'], ['ap', 'per'], ['bar', 'ry'], ['abo', 'ard'], ['be', 'loved'], ['haz', 'ard'], ['reuter', 's'], ['to', 'lerance'], ['sam', 'uel'], ['bour', 'ne'], ['cal', 'or'], ['ex', 'c'], ['mon', 'etary'], ['fant', 'astic'], ['nel', 'son'], ['au', 'c'], ['ow', 'e'], ['perpe', 'trator'], ['work', 'ing'], ['min', 'ut'], ['inc', 'heon'], ['hom', 'osexual'], ['ist', 'a'], ['art', 'istic'], ['196', '3'], ['ny', 'pd'], ['v', 'p'], ['be', 'g'], ['giul', 'iani'], ['demonstr', 'ator'], ['jae', '-in'], ['vot', 'es'], ['charle', 'ston'], ['accum', 'ulat'], ['ult', 'z'], ['legitim', 'acy'], ['j', 'ug'], ['me', 'ga'], ['mat', 'ri'], ['raq', 'qa'], ['fron', 'tr'], ['ed', 'in'], ['ic', 'onic'], ['shar', 'k'], ['crit', 'iqu'], ['80', 's']]\n",
      "[['genoci', 'de'], ['ro', 'tat'], ['re', 'iterat'], ['w', 'au'], ['outr', 'ageous'], ['frontr', 'unner'], ['fil', 'ing'], ['caliph', 'ate'], ['system', 'atic'], ['labor', 'atory'], ['sand', 'y'], ['pleas', 'ur'], ['dis', 'grac'], ['196', '2'], ['s', 'man'], ['ra', 'h'], ['lad', 'ies'], ['claim', 'ed'], ['bol', 'ster'], ['fin', 'land'], ['ce', 'ment'], ['unve', 'iled'], ['au', 'top'], ['s', 'lim'], ['mal', 'e'], ['demonstr', 'ation'], ['retri', 'ev'], ['nutr', 'ition'], ['ce', 'ph'], ['in', 'flam'], ['j', 'ama'], ['pul', 's'], ['class', 'ification'], ['back', 'er'], ['deliber', 'ate'], ['work', 's'], ['w', 'ow'], ['gen', 'ius'], ['imm', 'unity'], ['val', 'ent'], ['we', 'gian'], ['f', 'fl'], ['i', 'ate'], ['gaw', 'ker'], ['team', 'mate'], ['br', 'as'], ['ble', 'ed'], ['cy', 'n'], ['r', 'ally'], ['femin', 'ism']]\n",
      "[['le', 'mon'], ['w', 'ald'], ['o', 'ss'], ['nor', 'wegian'], ['sk', 'irt'], ['activ', 'at'], ['t', 'ong'], ['je', 'ju'], ['conf', 'ess'], ['n', 'an'], ['he', 'ter'], ['dis', 'honest'], ['me', 'yer'], ['ob', 'sess'], ['retail', 'er'], ['respect', 'ful'], ['ma', 'id'], ['iter', 'ran'], ['moder', 'ator'], ['s', 'laughter'], ['sl', 'ash'], ['ha', 'unt'], ['make', 'up'], ['cont', 'am'], ['ma', 'j'], ['ne', 'br'], ['coll', 'usion'], ['qu', 'ad'], ['per', 'ez'], ['determin', 'at'], ['sex', 'ist'], ['med', 'iterran'], ['em', 'pathy'], ['n', 'ad'], ['counsel', 'or'], ['ext', 'inct'], ['tal', 'e'], ['pleas', 'ant'], ['m', 'ick'], ['ic', 'ia'], ['sh', 'im'], ['fr', 'ance'], ['f', 'uck'], ['wi', 'p'], ['mediterran', 'ean'], ['r', 'af'], ['rock', 'y'], ['re', 'ci'], ['hyun', 'dai'], ['en', 'de']]\n",
      "[['re', 'ed'], ['tem', 'pt'], ['u', 'clear'], ['struct', 'ural'], ['sk', 'ip'], ['appointe', 'e'], ['pu', 'zzl'], ['jew', 'el'], ['b', 'end'], ['nak', 'ed'], ['m', 'ild'], ['ol', 'ine'], ['i', 'en'], ['pl', 'agu'], ['am', 'ed'], ['sub', 'urban'], ['fav', 'our'], ['off', 'ender'], ['soci', 'eties'], ['absor', 'b'], ['mad', 'uro'], ['arrang', 'ement'], ['pian', 'o'], ['i', 'able'], ['dr', 'ought'], ['under', 'go'], ['com', 'b'], ['geor', 'ge'], ['in', 'es'], ['oak', 'land'], ['inc', 'in'], ['met', 'ap'], ['ch', 'and'], ['pur', 'port'], ['galax', 'y'], ['ident', 'ities'], ['m', 'ason'], ['kr', 'ist'], ['y', 'ong'], ['de', 'cent'], ['im', 'pressed'], ['s', 'ierra'], ['pron', 'ounc'], ['le', 'ap'], ['gr', 'ill'], ['th', 'under'], ['side', 'lin'], ['e', 'or'], ['n', 'ur'], ['cot', 'ton']]\n",
      "iter_number :8250, voc_volume : 8275\n"
     ]
    },
    {
     "data": {
      "application/vnd.jupyter.widget-view+json": {
       "model_id": "0a22cd960c4a45678441db4dabf6a5b9",
       "version_major": 2,
       "version_minor": 0
      },
      "text/plain": [
       "  0%|          | 0/250 [00:00<?, ?it/s]"
      ]
     },
     "metadata": {},
     "output_type": "display_data"
    },
    {
     "name": "stdout",
     "output_type": "stream",
     "text": [
      "[['nebr', 'aska'], ['modif', 'ied'], ['mun', 'ition'], ['st', 'ack'], ['si', 'bling'], ['e', 'o'], ['pneum', 'on'], ['skeptic', 'ism'], ['in', 'herent'], ['ed', 'ition'], ['ratt', 'l'], ['mart', 'y'], ['un', 'necessary'], ['rob', 'bery'], ['s', 'per'], ['t', 'ul'], ['dy', 'lan'], ['m', 'nu'], ['mnu', 'chin'], ['stim', 'ulus'], ['cur', 'ry'], ['ill', 'usion'], ['dy', 'nasty'], ['dis', 'proportionate'], ['korea-', 'u.s'], ['deplor', 'able'], ['11', '.'], ['ren', 'ov'], ['andro', 'id'], ['main', 'land'], ['no', 'thing'], ['myster', 'ious'], ['sac', 'red'], ['wit', 'nessed'], ['bron', 'x'], ['in', 'trig'], ['p', 'att'], ['rup', 'tion'], ['du', 'bai'], ['policy', 'maker'], ['bo', 'ss'], ['ww', 'w'], ['weapon', 's'], ['card', 'inal'], ['even', 'ing'], ['ele', 'ven'], ['line', 'up'], ['stat', 'istical'], ['fire', 'fighter'], ['re', 'll']]\n",
      "[['art', 'ic'], ['inter', '-'], ['court', 'esy'], ['th', 'ail'], ['thail', 'and'], ['announce', 'ment'], ['over', 'dos'], ['insur', 'gent'], ['rap', 'per'], ['f', 'id'], ['it', 'is'], ['om', 'a'], ['depend', 'ent'], ['196', '6'], ['compet', 'ent'], ['t', 'ier'], ['am', 'pl'], ['pro', 't'], ['innov', 'ative'], ['techn', 'ological'], ['jeffer', 'son'], ['12', '.'], ['d', 'op'], ['e', 'isen'], ['b', 'ach'], ['dub', 'bed'], ['re', 'ef'], ['en', 'crypt'], ['ard', 'o'], ['den', 'mark'], ['sub', 'tle'], ['ph', 'ic'], ['presum', 'ably'], ['re', 'open'], ['anim', 'ous'], ['lu', 'k'], ['gr', 'ain'], ['satis', 'fy'], ['for', 'bid'], ['phill', 'ip'], ['it', 'iz'], ['psych', 'ologist'], ['co', '.'], ['met', 'eor'], ['jun', 'ct'], ['ther', 'esa'], ['gab', 'riel'], ['7', '6'], ['in', 'justice'], ['kelly', 'anne']]\n",
      "[['ac', 'on'], ['moham', 'med'], ['leban', 'on'], ['om', 'in'], ['mis', 'ogy'], ['count', 'less'], ['meant', 'ime'], ['rodrig', 'ue'], ['med', 'icat'], ['w', 'ol'], ['to', 'ilet'], ['bron', 'z'], ['product', 'ivity'], ['se', 'o'], ['d', 'ens'], ['h', 'ing'], ['ank', 'ara'], ['explain', 'ed'], ['treas', 'ur'], ['mag', 'net'], ['gr', 'en'], ['doctr', 'ine'], ['8', 'th'], ['cra', 'ig'], ['mid', 'st'], ['ow', 'itz'], ['harm', 'ful'], ['minim', 'al'], ['by', 'n'], ['member', 's'], ['cas', 'es'], ['inev', 'it'], ['e', 'ur'], ['popul', 'ism'], ['kid', 's'], ['orient', 'at'], ['sw', 'iss'], ['den', 'uclear'], ['we', 'ed'], ['fiction', 'al'], ['oth', 'y'], ['id', 'al'], ['x', 'en'], ['agon', 'ist'], ['def', 'ense'], ['charg', 'es'], ['thank', 's'], ['supporter', 's'], ['chemist', 'ry'], ['occup', 'y']]\n",
      "[['cult', 'ivat'], ['1', '30'], ['pre', 'ach'], ['b', 'eng'], ['intrig', 'u'], ['appr', 'entic'], ['sch', 'ultz'], ['in', 'famous'], ['ster', 'n'], ['tr', 'ap'], ['sta', 'ir'], ['az', 'a'], ['-', 'ho'], ['emper', 'or'], ['me', 'ad'], ['fin', 'e'], ['v', 'ouch'], ['die', 'sel'], ['pur', 'ple'], ['l', 'ake'], ['in', 'put'], ['appl', 'ies'], ['cl', 'iff'], ['dis', 'ast'], ['disast', 'rous'], ['tri', 'pl'], ['n', 'g'], ['pun', 'ct'], ['del', 'ta'], ['ger', 'ald'], ['freez', 'e'], ['aus', 'ible'], ['soon', 'er'], ['u', 'do'], ['s', 'ack'], ['m', 'ia'], ['ol', 'iver'], ['195', '9'], ['vic', 'ious'], ['lop', 'ez'], ['le', 'f'], ['can', 'al'], ['g', 'ib'], ['h', 'ut'], ['dist', 'ant'], ['rap', 'ist'], ['per', 'mitted'], ['en', 'to'], ['har', 'am'], ['ch', 'ile']]\n",
      "[['k', 'ae'], ['vi', 'at'], ['b', 'uster'], ['h', 'ick'], ['arr', 'ange'], ['n', 'ity'], ['anc', 'ies'], ['or', 'ies'], ['fro', 'zen'], ['t', 'ire'], ['ida', 'ho'], ['candidat', 'es'], ['hung', 'ary'], ['pom', 'pe'], ['mar', 'c'], ['j', 'ol'], ['gu', 'in'], ['inv', 'ad'], ['in', 'f'], ['sh', 'a'], ['alloc', 'at'], ['196', '1'], ['content', 'ious'], ['explor', 'ation'], ['ha', 'iti'], ['ar', 'is'], ['gu', 'ilt'], ['ent', 'ity'], ['ele', 'phant'], ['194', '8'], ['su', 'v'], ['gre', 'y'], ['fe', 'ud'], ['are', 'as'], ['blood', 'y'], ['pre', 'diction'], ['wau', 'kee'], ['cus', 'sion'], ['immigrant', 's'], ['c', 'ag'], ['d', 'orm'], ['hol', 'm'], ['tro', 'phy'], ['jerem', 'y'], ['ior', 'at'], ['youn', 'gest'], ['len', 'der'], ['gr', 'as'], ['un', 'willing'], ['bul', 'ly']]\n",
      "iter_number :8500, voc_volume : 8521\n"
     ]
    },
    {
     "data": {
      "application/vnd.jupyter.widget-view+json": {
       "model_id": "9c5195a2103b4159b804bd9683580dd2",
       "version_major": 2,
       "version_minor": 0
      },
      "text/plain": [
       "  0%|          | 0/250 [00:00<?, ?it/s]"
      ]
     },
     "metadata": {},
     "output_type": "display_data"
    },
    {
     "name": "stdout",
     "output_type": "stream",
     "text": [
      "[['photo', 'graphy'], ['n', 'old'], ['ye', 'ong'], ['g', 'io'], ['rap', 'h'], ['col', 'bert'], ['an', 'xious'], ['object', 'ion'], ['criter', 'ia'], ['sp', 'ouse'], ['er', 'as'], ['s', 'lot'], ['chocol', 'at'], ['wa', 'iv'], ['ge', 'ological'], ['mil', 'waukee'], ['un', 'leash'], ['project', 'ion'], ['70', 's'], ['gr', 'asp'], ['des', 'cent'], ['war', 'head'], ['dis', 'cours'], ['com', 'mod'], ['9', '00'], ['southeast', 'ern'], ['piz', 'za'], ['ur', 'an'], ['andre', 'a'], ['no', 'bel'], ['ca', 'the'], ['no', 'y'], ['tr', 'ic'], ['tur', 'mo'], ['turmo', 'il'], ['sex', 'ism'], ['por', 'n'], ['restr', 'ain'], ['e', 'ct'], ['brother', 'hood'], ['mor', 'ris'], ['is', 'ation'], ['195', '6'], ['ship', 'p'], ['ac', 'as'], ['y', 'en'], ['ro', 'ok'], ['man', 'ual'], ['vi', 'able'], ['it', 'o']]\n",
      "[['supervis', 'or'], ['i', 'ator'], ['str', 'at'], ['oblig', 'ation'], ['furn', 'iture'], ['land', 'slide'], ['indic', 'ator'], ['dis', 'cour'], ['un', 'animous'], ['electr', 'ical'], ['thi', 'er'], ['de', 'fer'], ['counter', 'terrorism'], ['econom', 'ical'], ['vol', 'k'], ['satis', 'faction'], ['r', 'in'], ['pan', 'ther'], ['in', 'clin'], ['per', 'nick'], ['do', 'j'], ['fal', 'con'], ['long', '-'], ['re', '-'], ['in', 'sect'], ['stand', 'off'], ['cre', 'ep'], ['rad', 'iat'], ['exagger', 'at'], ['m', 'l'], ['sail', 'or'], ['dis', 'cre'], ['bl', 'end'], ['interest', 's'], ['rhy', 'th'], ['s', 'way'], ['nas', 'daq'], ['br', 'ick'], ['sl', 'ic'], ['operation', 'al'], ['kae', 'pernick'], ['side', 'walk'], ['opol', 'it'], ['manag', 'ement'], ['tit', 'ude'], ['ro', 'e'], ['gas', 'oline'], ['pred', 'ator'], ['bib', 'li'], ['es', 'thetic']]\n",
      "[['ian', 'g'], ['c', 'd'], ['pat', 'er'], ['way', 'ne'], ['rid', 'g'], ['bl', 'own'], ['risk', 'y'], ['ri', 'que'], ['br', 'y'], ['seek', 'er'], ['aston', 'ish'], ['per', 'pet'], ['w', 'ives'], ['it', 'ary'], ['re', 'ception'], ['sand', 'wich'], ['pet', 'ition'], ['bu', 'il'], ['ko', 'ch'], ['swe', 'pt'], ['by', 'e'], ['twel', 've'], ['s', 'worn'], ['be', 'ard'], ['contr', 'ac'], ['ro', 'ster'], ['un', 'predictable'], ['ho', 'ax'], ['n', 'est'], ['ten', 'ant'], ['ib', 'i'], ['le', 'thal'], ['ab', 'str'], ['no', 'ble'], ['metr', 'ic'], ['en', 'zy'], ['gl', 'u'], ['c', 'anton'], ['b', 'ounc'], ['minim', 'iz'], ['y', 'ate'], ['stre', 'ak'], ['deal', 't'], ['process', 'or'], ['mar', 'g'], ['invent', 'ed'], ['show', 'cas'], ['relent', 'less'], ['theore', 'tical'], ['9', '11']]\n",
      "[['rev', 'eng'], ['bac', 'hel'], ['bachel', 'or'], ['gu', 'z'], ['writ', 'es'], ['gr', 'an'], ['ell', 'ison'], ['come', 'back'], ['h', 'ast'], ['har', 'vey'], ['par', 'ag'], ['equ', 'at'], ['we', 'av'], ['glac', 'ier'], ['c', 'ater'], ['minut', 'es'], ['install', 'ation'], ['gor', 'don'], ['rous', 'se'], ['diction', 'ary'], ['alleg', 'iance'], ['cor', 'byn'], ['talking', 'points'], ['talkingpoints', 'memo'], ['t', 'sa'], ['laur', 'a'], ['ann', 'i'], ['ik', 'h'], ['st', 'ok'], ['clar', 'ify'], ['wh', 'ip'], ['iz', 'er'], ['gr', 'if'], ['hand', 'gun'], ['ele', 'v'], ['u', 'ate'], ['bald', 'win'], ['alter', 'nat'], ['on', 'gh'], ['re', 'ince'], ['sm', 'ash'], ['suggest', 'ion'], ['m', 'm'], ['event', 's'], ['e', 'es'], ['dis', 's'], ['thanks', 'giving'], ['horr', 'ific'], ['13', '.'], ['vat', 'ican']]\n",
      "[['bas', 'ed'], ['ant', 'it'], ['pl', 'aza'], ['rosen', 'stein'], ['rest', 'room'], ['ac', 'u'], ['mist', 'aken'], ['e', 'en'], ['am', 'big'], ['de', 'law'], ['delaw', 'are'], ['instruct', 'or'], ['bureaucr', 'acy'], ['re', 'elect'], ['nam', 'ed'], ['scul', 'p'], ['sl', 'op'], ['bul', 'k'], ['rich', 'mond'], ['out', 'reach'], ['micro', 'ceph'], ['leader', 's'], ['st', 'umbl'], ['san', 'to'], ['ut', 'ility'], ['jae', '-'], ['ex', 'em'], ['big', 'ot'], ['r', 'anger'], ['post', 'pon'], ['de', 'au'], ['pres', 'crib'], ['gen', 'eva'], ['curr', 'icul'], ['v', 's.'], ['dam', 'as'], ['iat', 'ric'], ['cooper', 'ative'], ['ret', 't'], ['swim', 'mer'], ['3', '50'], ['kil', 'ometer'], ['re', 'structur'], ['t', 'l'], ['lad', 'en'], ['man', 'eu'], ['rey', 'nold'], ['equip', 'ped'], ['j', 'ang'], ['s', 'no']]\n",
      "iter_number :8750, voc_volume : 8767\n"
     ]
    },
    {
     "data": {
      "application/vnd.jupyter.widget-view+json": {
       "model_id": "f3410801a2634281aeca56908b4a2644",
       "version_major": 2,
       "version_minor": 0
      },
      "text/plain": [
       "  0%|          | 0/250 [00:00<?, ?it/s]"
      ]
     },
     "metadata": {},
     "output_type": "display_data"
    },
    {
     "name": "stdout",
     "output_type": "stream",
     "text": [
      "[['ass', 'ange'], ['str', 'ongh'], ['strongh', 'old'], ['pot', 'ato'], ['roman', 'c'], ['hard', 'ware'], ['take', 'over'], ['ap', 'l'], ['os', 'is'], ['cry', 'stal'], ['spectac', 'ular'], ['c', 'ery'], ['discour', 'ag'], ['young', '-'], ['en', 'do'], ['7', '9'], ['sever', 'e'], ['glo', 'ss'], ['ball', 'oon'], ['tu', 'ition'], ['cl', 'uster'], ['snow', 'den'], ['microceph', 'aly'], ['harv', 'est'], ['hand', 's'], ['mer', 'chant'], ['blank', 'et'], ['s', 'ant'], ['he', 'in'], ['wor', 'sen'], ['censor', 'ship'], ['h', 'atch'], ['sexual', 'ity'], ['per', 'il'], ['public', 'ity'], ['detain', 'ee'], ['trou', 'ble'], ['sinc', 'ere'], ['nat', 'i'], ['cr', 'an'], ['vari', 'able'], ['im', 'proper'], ['r', 'ho'], ['mid', 'west'], ['purpo', 'se'], ['ck', 'er'], ['set', 'back'], ['hon', 'our'], ['symbol', 'ic'], ['adapt', 'ation']]\n",
      "[['sirius', 'xm'], ['program', 's'], ['ce', 'me'], ['ceme', 'tery'], ['p', 'act'], ['n', 'ail'], ['bar', 'on'], ['he', 'e'], ['common', 'wealth'], ['pro', 'st'], ['shar', 'ia'], ['sens', 'or'], ['alex', 'and'], ['dist', 'ort'], ['c', 'incin'], ['cou', 'ch'], ['k', 'hal'], ['deter', 'iorat'], ['damas', 'cus'], ['p', 'est'], ['j', 'ill'], ['p', 'es'], ['intellig', 'ent'], ['ambul', 'ance'], ['er', 'i'], ['ut', 'iliz'], ['instruct', 'ion'], ['impl', 'icat'], ['dr', 'al'], ['d', 'ana'], ['far', 'c'], ['ren', 'am'], ['20', 's'], ['or', 'i'], ['dis', 'agree'], ['trans', 'ition'], ['officer', 's'], ['frequ', 'ency'], ['copy', 'right'], ['hom', 'es'], ['pse', 'udo'], ['d', 'rown'], ['touch', 'down'], ['hy', 'p'], ['he', 'tt'], ['poll', 's'], ['med', 'ication'], ['maneu', 'ver'], ['jan', 'e'], ['scr', 'atch']]\n",
      "[['cincin', 'nati'], ['faith', 'ful'], ['ak', 'h'], ['qu', 'ip'], ['reason', 's'], ['hel', 'm'], ['ac', 'er'], ['j', 'av'], ['her', 'd'], ['c', 'bo'], ['desp', 'air'], ['b', 'out'], ['be', 'am'], ['leav', 'e'], ['break', 'down'], ['fract', 'ur'], ['prost', 'itut'], ['co', 're'], ['close', 'd'], ['bom', 'ber'], ['decor', 'at'], ['u', 'z'], ['nic', 'ol'], ['k', 'iss'], ['7', '3'], ['qu', 'is'], ['legend', 'ary'], ['fit', 'z'], ['un', 'ified'], ['is', 'ible'], ['dr', 'astic'], ['rop', 'he'], ['cast', 'ile'], ['poll', 'ak'], ['n', 'ant'], ['car', 'acas'], ['slam', 'med'], ['str', 'and'], ['ab', 'und'], ['w', 'ig'], ['gh', 'ana'], ['contam', 'inat'], ['so', 'o'], ['thir', 'ty'], ['ro', 'gat'], ['up', 'hold'], ['v', 'il'], ['dis', 'advantag'], ['g', 'lim'], ['cur', 'a']]\n",
      "[['8', '4'], ['sequ', 'el'], ['pu', 'p'], ['7', '4'], ['to', 'bac'], ['min', 'is'], ['d', 'umb'], ['im', 'minent'], ['l', 'ter'], ['rousse', 'ff'], ['scr', 'ap'], ['gr', 'ave'], ['stead', 'ily'], ['appl', 'aud'], ['re', 'cus'], ['interrupt', 'ed'], ['in', 'door'], ['el', 'd'], ['constitut', 'ion'], ['so', 'ever'], ['deput', 'ies'], ['int', 'act'], ['denuclear', 'ization'], ['ram', 'ad'], ['sp', 'el'], ['believ', 'able'], ['p', 'ond'], ['rodrigue', 'z'], ['no', 'ah'], ['dem', 'i'], ['break', 'through'], ['bapt', 'ist'], ['reg', 'ain'], ['certain', 'ty'], ['car', 'go'], ['fab', 'ric'], ['d', 'ong-'], ['li', 'ability'], ['metap', 'hor'], ['camp', 'bell'], ['col', 'our'], ['facebook', 'share'], ['facebookshare', 'tweet'], ['den', 'ies'], ['rul', 'ing'], ['of', '.'], ['ex', 'il'], ['commem', 'orat'], ['es', 'cort'], ['cav', 'al']]\n",
      "[['cow', 'boy'], ['sym', 'pathy'], ['what', 'soever'], ['assess', 'ment'], ['own', 'ed'], ['min', 'ne'], ['ne', 'e'], ['lim', 'b'], ['mor', 'oc'], ['al', 'ber'], ['ch', 'ok'], ['br', 'un'], ['star', 'buck'], ['yo', 'on'], ['ah', 'med'], ['state', 'wide'], ['cat', 'ast'], ['g', 'em'], ['gro', 'cery'], ['cu', 'le'], ['15', '.'], ['ere', 'ct'], ['forc', 'es'], ['ad', 'jac'], ['y', 'n'], ['crime', 'a'], ['jul', 'i'], ['world', 'view'], ['n', 'ol'], ['erup', 'ted'], ['res', 'il'], ['bomb', 'ard'], ['m', 'und'], ['sub', 'po'], ['iv', 'ely'], ['dictator', 'ship'], ['cathe', 'dral'], ['mer', 'c'], ['adjac', 'ent'], ['minne', 'apolis'], ['light', 'en'], ['cost', 's'], ['venezuel', 'an'], ['que', 'er'], ['d', 'hs'], ['ran', 'som'], ['om', 'ing'], ['antit', 'rust'], ['adv', 'ance'], ['ch', 'aff']]\n",
      "iter_number :9000, voc_volume : 9013\n"
     ]
    },
    {
     "data": {
      "application/vnd.jupyter.widget-view+json": {
       "model_id": "e9460fbf4d264aec923dbc3f7fb5d0bd",
       "version_major": 2,
       "version_minor": 0
      },
      "text/plain": [
       "  0%|          | 0/250 [00:00<?, ?it/s]"
      ]
     },
     "metadata": {},
     "output_type": "display_data"
    },
    {
     "name": "stdout",
     "output_type": "stream",
     "text": [
      "[['sculp', 'tur'], ['in', 'accurate'], ['fal', 'o'], ['ju', 'ic'], ['har', 'rison'], ['gen', 'ital'], ['dis', 'lik'], ['mobil', 'iz'], ['pat', 'ience'], ['ow', 'en'], ['super', 'intend'], ['wr', 'apped'], ['vac', 'u'], ['m', 'apped'], ['sc', 'ale'], ['w', 'itch'], ['seiz', 'ure'], ['an', 'noy'], ['or', 'n'], ['dem', 'ol'], ['pompe', 'o'], ['car', 'v'], ['mon', 's'], ['colum', 'bus'], ['st', 'unt'], ['de', 'tr'], ['grass', 'root'], ['wr', 'ap'], ['volunt', 'ary'], ['ug', 'al'], ['str', 'aw'], ['ophob', 'ic'], ['com', 'posit'], ['rev', 'ival'], ['resolut', 'ion'], ['cont', 'empt'], ['194', '7'], ['t', 'umbl'], ['h', 'ence'], ['grif', 'fin'], ['ko', 'v'], ['citiz', 'ens'], ['straight', 'forward'], ['fo', 'e'], ['gun', 'fire'], ['flex', 'ible'], ['def', 'ender'], ['e', 'un'], ['catast', 'rophe'], ['tobac', 'co']]\n",
      "[['who', 'ever'], ['en', 'compass'], ['word', 's'], ['abstr', 'act'], ['u', 'pris'], ['ren', 'e'], ['ef', 'ire'], ['-', 'day'], ['revol', 't'], ['carri', 'er'], ['sh', 'u'], ['thro', 'at'], ['grad', 'uate'], ['ceas', 'efire'], ['end', 'ow'], ['14', '0'], ['hun', 'ger'], ['de', 'priv'], ['global', 'ization'], ['wy', 'oming'], ['lo', 'dg'], ['re', 'bell'], ['en', 'erg'], ['superintend', 'ent'], ['ab', 'rupt'], ['comm', 'ander'], ['clear', 'ance'], ['experiment', 'al'], ['n', 'ish'], ['ch', 'or'], ['ob', 'es'], ['195', '7'], ['hav', 'ana'], ['char', 'itable'], ['out', 'fit'], ['d', 'ing'], ['lu', 'i'], ['em', 'in'], ['real', 'm'], ['d', 'ale'], ['obes', 'ity'], ['as', 'ive'], ['em', 'o'], ['st', 'rom'], ['trans', 'plant'], ['fl', 'ies'], ['ar', 'med'], ['jul', 'ia'], ['g', 'ow'], ['too', 'th']]\n",
      "[['im', 'pair'], ['gr', 'af'], ['disciplin', 'ary'], ['compan', 'ion'], ['am', 'us'], ['grav', 'ity'], ['o', 'ch'], ['valu', 'es'], ['accomplish', 'ment'], ['drag', 'ged'], ['un', 'conscious'], ['wh', 'ale'], ['8', '9'], ['flour', 'ish'], ['ar', 'c'], ['subpo', 'ena'], ['chaff', 'etz'], ['195', '8'], ['un', 'rest'], ['c', 'ence'], ['med', 'ian'], ['up', 'ward'], ['sum', 'mon'], ['sing', 'le'], ['authoriz', 'ed'], ['upris', 'ing'], ['rook', 'ie'], ['bo', 'oth'], ['fr', 'ing'], ['if', 'act'], ['gyeong', 'sang'], ['jess', 'ica'], ['bl', 'in'], ['h', 'ama'], ['l', 'us'], ['cro', 'ok'], ['cor', 'k'], ['cl', 'air'], ['action', 's'], ['qual', 'ities'], ['rug', 'by'], ['ac', 'cent'], ['br', 'at'], ['inc', 'it'], ['em', 'bed'], ['g', 'ad'], ['princ', 'es'], ['n', 'ed'], ['ver', 'bal'], ['l', 'ac']]\n",
      "[['terr', 'ify'], ['perform', 'er'], ['ident', 'ical'], ['ac', 'company'], ['he', 'ed'], ['tend', 'ency'], ['diseas', 'e'], ['hur', 'dl'], ['16', '0'], ['pan', 'ama'], ['e', 'thi'], ['d', 'irt'], ['l', 'ia'], ['cl', 'own'], ['class', 'mate'], ['aw', 'esome'], ['ex', 'pression'], ['a', 'esthetic'], ['ch', 'rom'], ['sym', 'pathetic'], ['vacu', 'um'], ['tit', 'an'], ['di', 'an'], ['where', 'ver'], ['in', 'ning'], ['cou', 'lter'], ['reson', 'at'], ['flex', 'ibility'], ['tru', 'deau'], ['carl', 'son'], ['colon', 'el'], ['hun', 'gry'], ['li', 'b'], ['ab', 'a'], ['un', 'decided'], ['ther', 'm'], ['emir', 'ate'], ['sch', 'iff'], ['d', 'ud'], ['defin', 'itive'], ['cap', 'ability'], ['ch', 'al'], ['inevit', 'ably'], ['propos', 'ition'], ['ir', 'r'], ['ca', 'iro'], ['cat', 'astro'], ['thought', 'ful'], ['poss', 'ibilities'], ['-', 'based']]\n",
      "[['stunn', 'ed'], ['protect', 'ive'], ['check', 'point'], ['o', 'ter'], ['volk', 'sw'], ['volksw', 'agen'], ['domin', 'ance'], ['h', 'uck'], ['releas', 'ed'], ['marg', 'aret'], ['f', 'oul'], ['ac', 'claim'], ['out', 'spoken'], ['pard', 'on'], ['philos', 'oph'], ['mess', 'age'], ['el', 'a'], ['tat', 'too'], ['televis', 'ion'], ['grap', 'pl'], ['lan', 'e'], ['mat', 'ure'], ['spe', 'ar'], ['thi', 'el'], ['prosecut', 'ion'], ['tele', 'communication'], ['re', 'set'], ['col', 'in'], ['un', 'authorized'], ['g', 'ur'], ['huff', 'ington'], ['n', 'ap'], ['no', 'stal'], ['nostal', 'g'], ['mel', 'bourne'], ['anth', 'ro'], ['trade', 'mark'], ['gl', 'ig'], ['am', 'munition'], ['ir', 'ony'], ['el', 'ong'], ['ware', 'hous'], ['psychi', 'at'], ['lt', '.'], ['-', 'old'], ['ne', 'glig'], ['gram', 'my'], ['pen', 'e'], ['recogn', 'is'], ['bol', 'ton']]\n",
      "iter_number :9250, voc_volume : 9259\n"
     ]
    },
    {
     "data": {
      "application/vnd.jupyter.widget-view+json": {
       "model_id": "7270ddfae5ae4d46bf27a57d131f1658",
       "version_major": 2,
       "version_minor": 0
      },
      "text/plain": [
       "  0%|          | 0/250 [00:00<?, ?it/s]"
      ]
     },
     "metadata": {},
     "output_type": "display_data"
    },
    {
     "name": "stdout",
     "output_type": "stream",
     "text": [
      "[['ver', 'izon'], ['medi', 'eval'], ['hot', 'mail'], ['go', 'spel'], ['v', 'ance'], ['long', 'standing'], ['d', 'j'], ['po', 'is'], ['oxy', 'gen'], ['text', 'book'], ['green', 'house'], ['cler', 'k'], ['rhyth', 'm'], ['lik', 'elihood'], ['vouch', 'er'], ['bun', 'dy'], ['garb', 'age'], ['les', 'li'], ['pl', 'ans'], ['mort', 'ality'], ['curricul', 'um'], ['dismiss', 'al'], ['self', 'ie'], ['prec', 'inct'], ['7', '1'], ['60', 's'], ['compet', 'ence'], ['en', 'rique'], ['14', '.'], ['im', 'an'], ['week', 'day'], ['hum', 'bl'], ['mir', 'acle'], ['hin', 'du'], ['ir', 'relevant'], ['m', 'ast'], ['tele', 'graph'], ['v', 'r'], ['en', 'rich'], ['195', '2'], ['mob', 'ility'], ['dae', 'gu'], ['k', 'aren'], ['a', 'ul'], ['de', 'bris'], ['cr', 'us'], ['but', 'ter'], ['parag', 'raph'], ['ro', 'se'], ['ru', 'le']]\n",
      "[['n', 'ag'], ['dis', 'credit'], ['wire', 'less'], ['profit', 'able'], ['law', 'n'], ['por', 'no'], ['lo', 'ch'], ['accord', 'ing'], ['ul', 'ous'], ['george', 'town'], ['v', 'andal'], ['partic', 'le'], ['deep', 'en'], ['per', 'u'], ['se', 'mic'], ['in', 'sufficient'], ['s', 'well'], ['k', 'ay'], ['artic', 'ulat'], ['compar', 'able'], ['mc', 'cr'], ['o', 'le'], ['wood', 'en'], ['o', 'be'], ['feed', 'back'], ['spo', 'il'], ['seg', 'ment'], ['f', 'ond'], ['don', 'nell'], ['accur', 'acy'], ['ab', 'normal'], ['bob', 'by'], ['so', 'da'], ['x', 'eno'], ['mar', 'it'], ['en', 'vision'], ['prop', 'onent'], ['ignor', 'ance'], ['spectac', 'l'], ['exp', 'end'], ['duct', 'or'], ['ac', 'lu'], ['ust', 'ration'], ['194', '9'], ['wat', 'son'], ['l', 'anc'], ['hy', 'ster'], ['reli', 'ed'], ['gl', 'ory'], ['dis', 'charg']]\n",
      "[['re', 'productive'], ['do', 'ck'], ['insan', 'e'], ['evid', 'ence'], ['cogn', 'itive'], ['host', 'ility'], ['brut', 'ality'], ['un', 'a'], ['wal', 'mart'], ['ain', 'e'], ['loy', 'd'], ['un', 'ification'], ['pr', 'ud'], ['spir', 'al'], ['g', 'ir'], ['ul', 'ent'], ['direct', 'ive'], ['s', 'cam'], ['grand', 'children'], ['nar', 'rat'], ['ak', 'i'], ['sp', 'at'], ['dol', 'l'], ['bas', 'h'], ['raham', 'i'], ['t', 'ou'], ['kidn', 'app'], ['subsid', 'iary'], ['re', 'per'], ['bl', 'um'], ['en', 'su'], ['sau', 'c'], ['un', 'ilateral'], ['tun', 'is'], ['int', 'imat'], ['w', 'ok'], ['jane', 'iro'], ['ance', 'stor'], ['ou', 'bt'], ['k', 'az'], ['di', 'p'], ['ud', 'g'], ['sp', 'it'], ['limit', 'ed'], ['inform', 'al'], ['8', '6'], ['flu', 'ent'], ['phil', 'anthrop'], ['bench', 'mark'], ['work', 'shop']]\n",
      "[['cal', 'orie'], ['im', 'men'], ['immen', 'se'], ['persist', 'ent'], ['c', 'ass'], ['he', 'ck'], ['min', 'at'], ['ethi', 'op'], ['provoc', 'ative'], ['ill', 'o'], ['in', 'j'], ['bail', 'out'], ['suc', 'c'], ['first', '-'], ['h', 'wang'], ['fall', 'out'], ['inter', 'im'], ['par', 'ano'], ['want', 'ed'], ['fall', 'on'], ['mos', 'que'], ['ss', 'on'], ['rel', 'ay'], ['ped', 'iatric'], ['dr', 'agon'], ['po', 'dium'], ['ul', 'u'], ['intens', 'ity'], ['salv', 'ador'], ['scre', 'w'], ['beng', 'al'], ['publish', 'er'], ['od', 'or'], ['t', 'us'], ['infr', 'ing'], ['glo', 'v'], ['paper', 'work'], ['lind', 'sey'], ['h', 'ust'], ['j', 'p'], ['w', 'ary'], ['y', '.'], ['pu', 're'], ['cr', 'ise'], ['a', 'hn'], ['du', 'g'], ['ug', 'anda'], ['tim', 'othy'], ['mon', 'opol'], ['al', 'bert']]\n",
      "[['pl', 'ausible'], ['ve', 'ct'], ['insur', 'g'], ['gar', 'age'], ['un', 'named'], ['b', 'und'], ['parent', 's'], ['de', 'ton'], ['gener', 'ic'], ['nu', 'anc'], ['marit', 'ime'], ['lu', 'ca'], ['geo', 'graphic'], ['se', 'ar'], ['compl', 'ication'], ['que', 'ens'], ['app', 'al'], ['ab', 'ad'], ['force', 'ful'], ['star', 'v'], ['lot', 't'], ['dict', 'at'], ['8', '2'], ['shi', 'ite'], ['municipal', 'ity'], ['bol', 't'], ['-year', '-old'], ['inter-', 'korean'], ['dan', 'ish'], ['shr', 'ug'], ['gun', 'shot'], ['van', 'ish'], ['watch', 'dog'], ['she', 'er'], ['b', 'har'], ['dis', 'c'], ['tell', 'ing'], ['prior', 'itiz'], ['jin', 'ping'], ['w', 'ander'], ['descend', 'ant'], ['east', 'er'], ['vig', 'orous'], ['at', 'ical'], ['mead', 'ow'], ['in', 's'], ['in', 'direct'], ['mar', 'cus'], ['enn', 'an'], ['8', '3']]\n",
      "iter_number :9500, voc_volume : 9507\n"
     ]
    },
    {
     "data": {
      "application/vnd.jupyter.widget-view+json": {
       "model_id": "eb5485cd922c493e831ec3f1f624544c",
       "version_major": 2,
       "version_minor": 0
      },
      "text/plain": [
       "  0%|          | 0/250 [00:00<?, ?it/s]"
      ]
     },
     "metadata": {},
     "output_type": "display_data"
    },
    {
     "name": "stdout",
     "output_type": "stream",
     "text": [
      "[['contest', 'ant'], ['re', 'im'], ['wit', 'ness'], ['hus', 'sein'], ['not', 'ice'], ['co', 'sta'], ['n', 'az'], ['ant', 'ibi'], ['antibi', 'otic'], ['co', 'ordin'], ['bas', 'in'], ['ios', 'ity'], ['g', 'ork'], ['pol', 'ariz'], ['e', 'leg'], ['pe', 'de'], ['controvers', 'ies'], ['us', 'ag'], ['k', 'am'], ['just', 'ification'], ['o', 'a'], ['cow', 'ard'], ['refr', 'ain'], ['de', 'ss'], ['der', 'ail'], ['mun', 'ich'], ['je', 'ong'], ['comp', 'at'], ['preci', 'ous'], ['in', 'definite'], ['te', 'as'], ['hog', 'an'], ['n', 'it'], ['wid', 'en'], ['john', 'ny'], ['catastro', 'phic'], ['hem', 'i'], ['far', 'ag'], ['b', 'ing'], ['n', 'ig'], ['mis', 'demeanor'], ['do', 'dg'], ['kar', 'l'], ['semic', 'on'], ['ess', 'ence'], ['impul', 'se'], ['rat', 'es'], ['teach', 'es'], ['u', 'gu'], ['indian', 'apolis']]\n",
      "[['cz', 'ech'], ['fasc', 'ist'], ['du', 'p'], ['cle', 'm'], ['do', 'd'], ['char', 'ities'], ['inter', 'rogat'], ['all', 'ah'], ['observ', 'atory'], ['ver', 'ified'], ['d', 'ain'], ['a', 'j'], ['stab', 'bed'], ['cor', 'rid'], ['anton', 'in'], ['n', 'ra'], ['ny', 'times'], ['fr', 'action'], ['pa', 'thi'], ['sh', 'ah'], ['1', '10'], ['z', 'ar'], ['tax', 'es'], ['semicon', 'ductor'], ['sur', 'pass'], ['question', 'able'], ['gu', 'ant'], ['punish', 'ment'], ['ri', 'b'], ['de', 'grad'], ['prop', 'het'], ['ble', 'w'], ['trick', 'y'], ['div', 'est'], ['viv', 'i'], ['hi', 'jack'], ['cour', 'thouse'], ['ty', 'ler'], ['sque', 'ez'], ['hydro', 'gen'], ['nor', 'man'], ['car', 'pet'], ['front', 'ier'], ['port', 'ugal'], ['discriminat', 'ory'], ['pr', 'ag'], ['cand', 'y'], ['fe', 'as'], ['cha', 'otic'], ['v', 'endor']]\n",
      "[['un', 'lawful'], ['l', 'is'], ['corrid', 'or'], ['view', 's'], ['quick', 'ly'], ['term', 's'], ['shak', 'espe'], ['as', 'ser'], ['drug', 's'], ['list', 'ener'], ['record', 's'], ['ver', 'ify'], ['astron', 'aut'], ['wid', 'ow'], ['pract', 'ice'], ['jun', 'e'], ['ben', 'nett'], ['b', 'ilateral'], ['bri', 'b'], ['re', 'ar'], ['h', 'ank'], ['a', 'que'], ['se', 'ung-'], ['suppl', 'ied'], ['over', 'time'], ['pow', 'der'], ['-in', '-'], ['can', 'non'], ['cook', 'ie'], ['jack', 'i'], ['be', 'th'], ['jul', 'ian'], ['en', 'lighten'], ['cl', 'apper'], ['gh', 'ai'], ['ta', 'e'], ['mad', 'rid'], ['st', 'iff'], ['ery', 'l'], ['kur', 'd'], ['laur', 'en'], ['techn', 'ic'], ['sal', 'aries'], ['sum', 'mary'], ['vig', 'il'], ['spr', 'awl'], ['gu', 'ess'], ['pro', 'bat'], ['revol', 'v'], ['jun', 'gle']]\n",
      "[['d', 'um'], ['sk', 'at'], ['releas', 'e'], ['ar', 'son'], ['pakistan', 'i'], ['nash', 'ville'], ['ma', 'h'], ['south', 'western'], ['incident', 'al'], ['heart', 'break'], ['patriot', 'ic'], ['ore', 'd'], ['safe', 'guard'], ['valu', 'ation'], ['k', 'ap'], ['str', 'y'], ['car', 'r'], ['ame', 'ter'], ['co', 'on'], ['h', 'ij'], ['shan', 'ghai'], ['a', 'unt'], ['gaz', 'a'], ['gu', 'is'], ['s', 'ri'], ['et', 'a'], ['ce', 'se'], ['sn', 'ip'], ['crim', 'es'], ['pop', 'p'], ['ex', 'trad'], ['dis', 'pens'], ['uncover', 'ed'], ['p', 'and'], ['al', 'ice'], ['e', 'cu'], ['k', 'yl'], ['ow', 'ed'], ['20', '.'], ['iv', 'ia'], ['dio', 'cese'], ['inherit', 'ed'], ['re', 'creat'], ['heim', 'er'], ['ty', 'pe'], ['batter', 'ies'], ['run', 'way'], ['sander', 's'], ['person', 'a'], ['bl', 'ad']]\n",
      "[['f', 'ounded'], ['purport', 'ed'], ['concern', 's'], ['elev', 'ator'], ['que', 'bec'], ['s', 'ny'], ['revers', 'al'], ['f', 'on'], ['hy', 'brid'], ['author', 'ization'], ['cock', 'tail'], ['war', 'saw'], ['ma', 'her'], ['j', 'up'], ['im', 'en'], ['coordin', 'ator'], ['guitar', 'ist'], ['r', 'ut'], ['mont', 'gom'], ['montgom', 'ery'], ['extrad', 'it'], ['glim', 'ps'], ['inst', 'ability'], ['p', 'istol'], ['ro', 'gue'], ['celebr', 'ation'], ['m', 'old'], ['ou', 'x'], ['buf', 'falo'], ['mon', 'ica'], ['cul', 'minat'], ['h', 'ort'], ['if', 'ier'], ['off', 'set'], ['mat', 'o'], ['griev', 'ance'], ['co', 'hn'], ['government', 'al'], ['8', '1'], ['magn', 'itude'], ['n', 'en'], ['bon', 'us'], ['grass', 'ley'], ['olog', 'ue'], ['mal', 'ic'], ['c', 'b'], ['gl', 'am'], ['distinct', 'ive'], ['forth', 'coming'], ['tum', 'or']]\n",
      "iter_number :9750, voc_volume : 9754\n"
     ]
    },
    {
     "data": {
      "application/vnd.jupyter.widget-view+json": {
       "model_id": "c5f8a118cf224b3e9f4f809b62391e4f",
       "version_major": 2,
       "version_minor": 0
      },
      "text/plain": [
       "  0%|          | 0/250 [00:00<?, ?it/s]"
      ]
     },
     "metadata": {},
     "output_type": "display_data"
    },
    {
     "name": "stdout",
     "output_type": "stream",
     "text": [
      "[['dest', 'iny'], ['br', 'ennan'], ['over', 'reach'], ['reim', 'bur'], ['rehab', 'ilitat'], ['marty', 'r'], ['id', 'ge'], ['un', 'do'], ['liv', 'est'], ['pl', 'ate'], ['micro', 'phone'], ['j', 'ah'], ['sc', 'roll'], ['d', 'read'], ['rh', 'od'], ['f', 'ior'], ['z', 'ard'], ['prob', 'able'], ['re', 'pay'], ['ap', 'e'], ['ann', 'ex'], ['tam', 'pa'], ['f', 'ist'], ['lik', 'ew'], ['likew', 'ise'], ['aw', 'aken'], ['min', 'e'], ['insurg', 'ency'], ['dou', 'g'], ['hugh', 'es'], ['crus', 'ad'], ['necess', 'ity'], ['urg', 'ency'], ['stock', 'holm'], ['bes', 'ieg'], ['19', '00'], ['de', 'terr'], ['in', 'sert'], ['eu', 'gen'], ['gy', 'n'], ['nich', 'ol'], ['rel', 'ies'], ['lind', 'a'], ['fr', 'ay'], ['involv', 'ed'], ['inv', 'isible'], ['plum', 'met'], ['st', 'ing'], ['ar', 'mor'], ['re', 'consider']]\n",
      "[['25', 'th'], ['hel', 'met'], ['constitu', 'encies'], ['193', '9'], ['l', 'loyd'], ['fried', 'man'], ['stim', 'ulat'], ['int', 'ensive'], ['restr', 'aint'], ['ah', 'mad'], ['refuge', 'es'], ['met', 're'], ['pill', 'ar'], ['has', 'san'], ['post', 'ur'], ['ty', 'r'], ['ic', 'eland'], ['un', 'armed'], ['hop', 'kins'], ['mem', 'br'], ['n', 'un'], ['con', 'sol'], ['pay', 'roll'], ['ard', 'i'], ['gun', 'men'], ['gr', 'u'], ['re', 'cept'], ['need', 'l'], ['ul', 'ative'], ['air', 'y'], ['bn', 'b'], ['lo', 'ret'], ['min', 'ster'], ['stab', 'iliz'], ['re', 'buk'], ['coinc', 'id'], ['north', '-'], ['restor', 'ation'], ['employ', 'ees'], ['condition', 's'], ['o', 'o'], ['slip', 'ped'], ['tri', 'o'], ['impl', 'icit'], ['care', 'less'], ['i', 'q'], ['g', 'astro'], ['less', 'er'], ['c', 'attle'], ['d', 'anny']]\n",
      "[['bl', 'ur'], ['tr', 'im'], ['super', 'market'], ['col', 'ony'], ['re', 'distribut'], ['17', '.'], ['ia', 'h'], ['mer', 'cur'], ['air', 'bnb'], ['sn', 'ak'], ['l', 'ud'], ['sk', 'ull'], ['yp', 'g'], ['hu', 'a'], ['in', 'ability'], ['b', 'one'], ['hypo', 'cris'], ['an', 'al'], ['de', 'ment'], ['un', 'believable'], ['nov', 'a'], ['anti', '-'], ['min', 'er'], ['northeast', 'ern'], ['motor', 'cycle'], ['hes', 'itat'], ['advertis', 'er'], ['g', '20'], ['dr', 'ift'], ['mc', 'master'], ['design', 'er'], ['back', 'up'], ['icul', 'tural'], ['bur', 'k'], ['sem', 'ble'], ['w', 'ave'], ['gre', 'gor'], ['bul', 'gar'], ['mas', 'cul'], ['fre', 'ak'], ['sport', 's'], ['bar', 'n'], ['legisl', 'ation'], ['exc', 'ite'], ['ac', 'ute'], ['16', '.'], ['i', 'aries'], ['sn', 'ack'], ['le', 'en'], ['we', 'is']]\n",
      "[['water', 'gate'], ['legal', 'iz'], ['ordin', 'ance'], ['bit', 'coin'], ['ur', 'i'], ['be', 'verage'], ['educ', 'ator'], ['lu', 'cr'], ['lucr', 'ative'], ['spec', 'ified'], ['po', 'le'], ['pot', 'ent'], ['op', 'ec'], ['fr', 'ater'], ['c', 'ere'], ['serious', 'ly'], ['well', '-'], ['congrat', 'ulat'], ['9', '2'], ['ic', 's'], ['wor', 'm'], ['pre', 'y'], ['x', 'ide'], ['ser', 'ies'], ['mag', 'ical'], ['ad', 'mitt'], ['en', 'semble'], ['re', 'med'], ['ab', 'bott'], ['iv', 'ory'], ['not', 'ified'], ['195', '5'], ['nation', 's'], ['am', 'an'], ['inno', 'cence'], ['al', 'titude'], ['sny', 'der'], ['frag', 'ile'], ['ch', 'op'], ['p', 'his'], ['c', 'un'], ['in', 'fer'], ['ad', 'her'], ['8', '7'], ['prestig', 'ious'], ['def', 'y'], ['ig', 'u'], ['t', 'ut'], ['b', 'icy'], ['negot', 'iator']]\n",
      "[['sm', 'ear'], ['can', 'cell'], ['astron', 'om'], ['in', 'tra'], ['mccr', 'ory'], ['tact', 'ical'], ['i', 'po'], ['heter', 'o'], ['ch', 'att'], ['char', 'ge'], ['m', 'add'], ['i', 'ac'], ['ero', 'on'], ['don', \"'t\"], ['na', 'than'], ['em', 'er'], ['ar', 'os'], ['gold', 'berg'], ['consult', 'ation'], ['at', 'op'], ['pro', 'port'], ['mechan', 'ical'], ['le', 'ton'], ['pe', 'arl'], ['cam', 'eroon'], ['substant', 'ive'], ['man', 'ner'], ['part', 'ies'], ['mer', 'cy'], ['abe', 'e'], ['claim', 's'], ['yo', 'o'], ['personal', 'ities'], ['be', 'it'], ['en', 'list'], ['the', 'tical'], ['are', 'st'], ['lo', 'go'], ['c', 'm'], ['un', 'ify'], ['k', 'lan'], ['k', 'um'], ['9', '3'], ['de', 'cl'], ['victim', 's'], ['pl', 'ug'], ['sty', 'le'], ['mart', 'ial'], ['do', 'ha'], ['har', 'p']]\n",
      "iter_number :10000, voc_volume : 10002\n"
     ]
    }
   ],
   "source": [
    "from util_func import bpe_vocab_iteration\n",
    "\n",
    "def json_save(data, f_name):\n",
    "    import json\n",
    "    json = json.dumps(data)\n",
    "    with open(f_name +\".json\",\"w\") as f:\n",
    "        f.write(json) \n",
    "\n",
    "def json_read(f_name):\n",
    "    import json\n",
    "    with open(f_name) as f:\n",
    "        return json.load(f)\n",
    "\n",
    "\n",
    "path = 'data/bpe_iter/'\n",
    "\n",
    "step_from_start = 0\n",
    "iter_size = 10000\n",
    "step_size = 250\n",
    "\n",
    "if step_from_start == 0:\n",
    "    vocabs = json_read('data/en_vocabs/vocabs.json')\n",
    "    vocabs = {' '.join([c for c in k]):v for k,v in vocabs.items()}\n",
    "    vocabs_freq = {}\n",
    "    json_save(vocabs,path+'vocabs'+str(0))\n",
    "    json_save(vocabs_freq,path+'vocs_freq'+str(0))\n",
    "\n",
    "new_bpe_vocabs, vocabs_freq =bpe_vocab_iteration(path, iter_size,step_from_start, step_size)"
   ]
  },
  {
   "cell_type": "code",
   "execution_count": null,
   "id": "activated-gossip",
   "metadata": {},
   "outputs": [
    {
     "data": {
      "application/vnd.jupyter.widget-view+json": {
       "model_id": "c942f775748046178a09714ed1b27121",
       "version_major": 2,
       "version_minor": 0
      },
      "text/plain": [
       "  0%|          | 0/40 [00:00<?, ?it/s]"
      ]
     },
     "metadata": {},
     "output_type": "display_data"
    },
    {
     "data": {
      "application/vnd.jupyter.widget-view+json": {
       "model_id": "f3ceb77c237e491aa63cce87116678e3",
       "version_major": 2,
       "version_minor": 0
      },
      "text/plain": [
       "  0%|          | 0/250 [00:00<?, ?it/s]"
      ]
     },
     "metadata": {},
     "output_type": "display_data"
    },
    {
     "name": "stdout",
     "output_type": "stream",
     "text": [
      "[['advers', 'aries'], ['r', 'ift'], ['dis', 'appearance'], ['ile', 'y'], ['hol', 'low'], ['ny', 'c'], ['fill', 'on'], ['s', 'often'], ['bar', 'b'], ['bat', 'man'], ['trad', 'er'], ['ke', 'w'], ['sp', 'her'], ['dis', 'regard'], ['ac', 'ious'], ['h', 'uge'], ['glo', 'be'], ['sal', 'ad'], ['patriot', 'ism'], ['wal', 'let'], ['collect', 'or'], ['stal', 'k'], ['complex', 'ity'], ['prince', 'ton'], ['p', 'us'], ['bod', 'ies'], ['195', '4'], ['b', 'ard'], ['pick', 'up'], ['k', 'abul'], ['log', 'g'], ['cl', 'eric'], ['sl', 'ump'], ['memor', 'able'], ['wi', 'eld'], ['re', 'fresh'], ['ad', 'm'], ['hol', 'me'], ['i', \"'\"], ['en', 'voy'], ['h', 'ier'], ['ri', 'bly'], ['colleg', 'iate'], ['st', 'apl'], ['to', 'mato'], ['lo', 'ss'], ['fac', 'to'], ['z', 'one'], ['p', 'lead'], ['fior', 'ina']]\n",
      "[['che', 'ek'], ['fer', 'ry'], ['supre', 'macy'], ['josh', 'ua'], ['super', 'hero'], ['tele', 'scop'], ['ro', 'h'], ['curr', 'encies'], ['t', 'b'], ['mor', 'mon'], ['at', 'ely'], ['sav', 'ag'], ['ir', 'regular'], ['c', 'ant'], ['cont', 'ender'], ['ad', 'h'], ['le', 'ster'], ['mit', 'igat'], ['in', 'fin'], ['char', 'ism'], ['17', '0'], ['s', 'ive'], ['dig', 'it'], ['man', 'us'], ['red', 'stone'], ['30', 's'], ['huck', 'abee'], ['hypocris', 'y'], ['f', 'iber'], ['r', 'ash'], ['ret', 'weet'], ['paul', 'o'], ['re', 'z'], ['insu', 'red'], ['instrument', 'al'], ['matter', 's'], ['kat', 'i'], ['br', 'ent'], ['v', 'a.'], ['pass', 'word'], ['a', 'xi'], ['loop', 'hole'], ['happen', 'ing'], ['final', 'iz'], ['pede', 'strian'], ['sho', 'ok'], ['e', 'on'], ['prot', 'agonist'], ['p', 'here'], ['log', 'istic']]\n",
      "[['divid', 'end'], ['an', 'ec'], ['de', 'ed'], ['destruct', 'ive'], ['con', 'voy'], ['mar', 'x'], ['l', 'af'], ['color', 'ful'], ['gar', 'cia'], ['prim', 'e'], ['fl', 'ak'], ['fab', 'r'], ['af', 'fl'], ['effort', 's'], ['bar', 'ce'], ['lon', 'a'], ['re', 'fund'], ['mo', 'th'], ['ca', 'ther'], ['u', 'bi'], ['am', 'in'], ['qu', 'et'], ['cle', 'ver'], ['ber', 'ger'], ['se', 'ong'], ['ch', 'im'], ['alum', 'ni'], ['ses', 'sed'], ['he', 'mis'], ['em', 'my'], ['subsid', 'iz'], ['dio', 'xide'], ['bi', 'of'], ['qu', 'inn'], ['jen', 'kin'], ['add', 'y'], ['distr', 'ust'], ['den', 'nis'], ['com', 'er'], ['spect', 'ator'], ['195', '3'], ['mont', 'real'], ['pot', 'ter'], ['fright', 'en'], ['id', 'ol'], ['real', 'ities'], ['vulner', 'ability'], ['fran', 'co'], ['stag', 'ger'], ['bank', 'er']]\n",
      "[['con', 'sort'], ['el', 'o'], ['van', 'ey'], ['mathem', 'atical'], ['i', 'our'], ['deleg', 'ate'], ['g', 'low'], ['barce', 'lona'], ['ad', 'ul'], ['pe', 'g'], ['end', 'ing'], ['min', 'ence'], ['market', 's'], ['rein', 'stat'], ['re', 'press'], ['table', 't'], ['margin', 'al'], ['st', 'ub'], ['har', 'dest'], ['l', 'ingu'], ['social', 'ism'], ['get', 'ty'], ['par', 'ol'], ['behav', 'iour'], ['benef', 'its'], ['per', 't'], ['sh', 'en'], ['preserv', 'ation'], ['hann', 'a'], ['hez', 'bol'], ['star', 'ter'], ['bru', 'is'], ['elli', 'ott'], ['back', 'drop'], ['anec', 'dot'], ['cat', 'aly'], ['was', 'ser'], ['pu', 'b'], ['sc', 'attered'], ['hezbol', 'lah'], ['in', 'junction'], ['ul', 'g'], ['z', 'el'], ['s', 'ap'], ['pric', 'es'], ['mar', 'low'], ['oss', 'off'], ['pneum', 'onia'], ['mul', 'vaney'], ['j', 'aw']]\n",
      "[['er', 'ie'], ['in', 'duc'], ['ash', 'amed'], ['l', 'ump'], ['new', 't'], ['so', 'ap'], ['assa', 'ilant'], ['ap', 'oc'], ['apoc', 'aly'], ['ag', 'og'], ['number', 's'], ['exp', 'an'], ['s', 'oup'], ['coinc', 'idence'], ['anthro', 'pol'], ['cather', 'ine'], ['ul', 'sion'], ['du', 'le'], ['frag', 'ment'], ['pl', 'ur'], ['good', 'bye'], ['pre', 'mature'], ['en', 'ess'], ['with', 'drew'], ['key', 'board'], ['me', 'gyn'], ['pir', 'at'], ['arbit', 'r'], ['al', 'ley'], ['squ', 'are'], ['am', 'en'], ['for', 'ens'], ['w', 'en'], ['slow', 'down'], ['o', 'ir'], ['port', 'al'], ['be', 'au'], ['mon', 'key'], ['vo', 'ice'], ['influ', 'x'], ['y', 'oga'], ['ic', 'bm'], ['mix', 'ture'], ['194', '1'], ['yu', 'an'], ['compl', 'iment'], ['c', 'ough'], ['ming', 'ham'], ['der', 'son'], ['fre', 'der']]\n",
      "iter_number :10250, voc_volume : 10250\n"
     ]
    },
    {
     "data": {
      "application/vnd.jupyter.widget-view+json": {
       "model_id": "013fa07a5910460e8fcc2bb456ec9d5e",
       "version_major": 2,
       "version_minor": 0
      },
      "text/plain": [
       "  0%|          | 0/250 [00:00<?, ?it/s]"
      ]
     },
     "metadata": {},
     "output_type": "display_data"
    },
    {
     "name": "stdout",
     "output_type": "stream",
     "text": [
      "[['terr', 'ified'], ['rene', 'got'], ['av', 'iv'], ['9', '8'], ['st', 'ake'], ['weak', 'er'], ['st', 'en'], ['carri', 'age'], ['bound', 'ary'], ['esp', 'ion'], ['espion', 'age'], ['se', 'ok'], ['liver', 'pool'], ['inquir', 'ies'], ['comp', 'as'], ['lem', 'ma'], ['cor', 'relat'], ['volunt', 'arily'], ['ro', 'th'], ['deal', 's'], ['fool', 'ish'], ['am', 'or'], ['cur', 'iosity'], ['ag', 'es'], ['contem', 'plat'], ['embed', 'ded'], ['inv', 'al'], ['g', 'ie'], ['er', 'od'], ['23', 'rd'], ['assur', 'ance'], ['inter', 'medi'], ['e', 'bol'], ['relation', 's'], ['194', '6'], ['bir', 'mingham'], ['provoc', 'ation'], ['sne', 'ak'], ['pro', 'minence'], ['qu', 'ak'], ['m', 'im'], ['pro', 'long'], ['lif', 'elong'], ['any', 'time'], ['close', 't'], ['consider', 'ably'], ['del', 'hi'], ['d', 'itch'], ['on', 'stage'], ['aer', 'ial']]\n",
      "[['page', 'ant'], ['pene', 'trat'], ['min', 'eral'], ['in', 'flict'], ['bicy', 'cl'], ['replac', 'ement'], ['interest', 'ing'], ['ber', 'k'], ['g', 'um'], ['ap', 'par'], ['arbit', 'rat'], ['ill', 'ness'], ['sub', 'mission'], ['centr', 'ist'], ['est', 'e'], ['n', 'astic'], ['repl', 'icat'], ['product', 's'], ['un', 'rav'], ['h', 'off'], ['cor', 'on'], ['red', 'dit'], ['un', 'fit'], ['buil', 'der'], ['lgbt', 'q'], ['under', 'graduate'], ['194', '4'], ['j', 'ami'], ['sim', 'ulat'], ['condem', 'nation'], ['br', 'ack'], ['discrim', 'ination'], ['an', 'mar'], ['ine', 'z'], ['port', 'ugu'], ['consequ', 'ences'], ['analy', 'tic'], ['forens', 'ic'], ['s', 'word'], ['sch', 'ne'], ['muslim', 's'], ['it', 'ative'], ['g', 'el'], ['territor', 'ial'], ['v', 'ag'], ['excell', 'ence'], ['exhaust', 'ed'], ['jeopard', 'y'], ['thank', 'ful'], ['mechan', 'ic']]\n",
      "[['got', 'ta'], ['mess', 'enger'], ['vi', 'k'], ['portugu', 'ese'], ['18', '.'], ['buff', 'ett'], ['therap', 'ist'], ['so', '-'], ['height', 'ened'], ['mer', 'r'], ['mur', 'do'], ['k', 'on'], ['overwhel', 'med'], ['ang', 'u'], ['ne', 'pal'], ['h', 'ner'], ['vi', 'enna'], ['ill', 'ery'], ['f', 'itt'], ['cu', 'is'], ['succ', 'esses'], ['ll', 'c'], ['autonom', 'y'], ['mo', 'ist'], ['imag', 'ery'], ['eman', 'uel'], ['ab', 'duct'], ['co', 'y'], ['sor', 'o'], ['er', 'ad'], ['desir', 'able'], ['d', 'icat'], ['deal', 'ing'], ['my', 'anmar'], ['spr', 'int'], ['ende', 'avor'], ['pet', 'ty'], ['um', 'bre'], ['co', 'de'], ['le', 'ep'], ['193', '6'], ['t', 'il'], ['town', 'ship'], ['idi', 'ot'], ['nam', 'es'], ['ir', 'responsible'], ['un', 'happy'], ['vari', 'ant'], ['val', 'idat'], ['ah', 'ca']]\n",
      "[['ren', 'ais'], ['renais', 's'], ['renaiss', 'ance'], ['cancel', 'led'], ['tem', 'er'], ['v', 'ivid'], ['ey', 'es'], ['att', 'ain'], ['can', 'yon'], ['che', 'w'], ['instruct', 'ed'], ['ma', 'ur'], ['philosoph', 'ical'], ['ol', 'ly'], ['din', 'osa'], ['caval', 'ier'], ['g', 'aug'], ['27', 'th'], ['hyun', '-'], ['mel', 'issa'], ['reg', 'i'], ['top', 'ped'], ['con', 'form'], ['dis', 'agreement'], ['document', 's'], ['legit', 'imate'], ['flo', 'ck'], ['up', 'held'], ['us', 'ive'], ['porno', 'graphy'], ['as', 'leep'], ['h', 'ateful'], ['one', '-'], ['brad', 'ley'], ['aud', 'itor'], ['unemploy', 'ed'], ['thor', 'n'], ['river', 'a'], ['re', 'el'], ['di', 'lemma'], ['sensit', 'ivity'], ['ab', 'er'], ['ch', 'ad'], ['chor', 'us'], ['un', 'common'], ['sh', 'k'], ['rub', 'ble'], ['umbre', 'lla'], ['select', 'ive'], ['son', 'y']]\n",
      "[['fel', 'on'], ['mam', 'mal'], ['cuis', 'ine'], ['mult', 'icultural'], ['cond', 'ol'], ['co', 'rey'], ['ar', 's'], ['un', 'insured'], ['ab', 'raham'], ['hanc', 'hett'], ['volat', 'ile'], ['lov', 'ak'], ['cor', 'al'], ['pron', 'oun'], ['deton', 'at'], ['prox', 'im'], ['pun', 'k'], ['arn', 'old'], ['comm', 'enc'], ['cont', 'ing'], ['ou', 'ver'], ['le', 'st'], ['in', 'adequate'], ['bl', 'air'], ['operation', 's'], ['mid', 'term'], ['commun', 'ism'], ['phe', 'w'], ['to', 'ss'], ['proport', 'ional'], ['in', 'effective'], ['finger', 'print'], ['n', 'uss'], ['nuss', 'baum'], ['un', 'related'], ['e', 'h'], ['leag', 'u'], ['co', 'herent'], ['fire', 'work'], ['ig', 'rat'], ['vi', 'br'], ['teen', 'th'], ['195', '1'], ['jud', 'ge'], ['men', 'ac'], ['dement', 'ia'], ['par', 'as'], ['os', 'ity'], ['rip', 'ped'], ['mart', 'inez']]\n",
      "iter_number :10500, voc_volume : 10494\n"
     ]
    },
    {
     "data": {
      "application/vnd.jupyter.widget-view+json": {
       "model_id": "bcf91215be9b46089e8eaa2f81ef8ea3",
       "version_major": 2,
       "version_minor": 0
      },
      "text/plain": [
       "  0%|          | 0/250 [00:00<?, ?it/s]"
      ]
     },
     "metadata": {},
     "output_type": "display_data"
    },
    {
     "name": "stdout",
     "output_type": "stream",
     "text": [
      "[['re', 'affirm'], ['un', 'changed'], ['over', 't'], ['tan', 'z'], ['ebol', 'a'], ['ve', 'il'], ['biof', 'uel'], ['h', 'od'], ['there', 'by'], ['cir', 'cus'], ['cert', 'ified'], ['v', 'ine'], ['ic', 'ity'], ['ral', 'ph'], ['hemis', 'phere'], ['rev', 'ok'], ['ink', 'l'], ['gang', 'won'], ['fif', 'a'], ['k', 'ais'], ['sub', 'marine'], ['new', 'ton'], ['9', '4'], ['head', 'ache'], ['authentic', 'ity'], ['ecu', 'ador'], ['ab', 'id'], ['nar', 'cis'], ['attend', 'ant'], ['res', 'ses'], ['sec', 'ure'], ['n', 'ay'], ['lin', 'er'], ['ir', 'ical'], ['mis', 'understand'], ['di', 'ary'], ['space', 'craft'], ['bow', 'ie'], ['sup', 'plement'], ['ren', 'owned'], ['fast', 'est'], ['he', 'aded'], ['vel', 'op'], ['m', 'one'], ['bureaucr', 'at'], ['s', 'anti'], ['philosop', 'her'], ['gork', 'a'], ['z', 'ak'], ['ear', 'l']]\n",
      "[['k', 'ol'], ['ime', 'ter'], ['ethnic', 'ity'], ['-', 'siz'], ['du', 'al'], ['am', 'ph'], ['sim', 'mons'], ['on', 'na'], ['hung', 'arian'], ['capital', 'ist'], ['all', '-'], ['ap', 'y'], ['ak', 'in'], ['hol', 't'], ['ber', 'man'], ['inter', 'active'], ['v', 'anc'], ['vanc', 'ouver'], ['cyber', 'security'], ['ramad', 'an'], ['re', 'cre'], ['pre', 'p'], ['murdo', 'ch'], ['south', '-'], ['honest', 'y'], ['bag', 'g'], ['193', '8'], ['renegot', 'iat'], ['ip', 'ad'], ['o', 'is'], ['dispos', 'al'], ['al', 'beit'], ['aut', 'um'], ['low', '-'], ['ar', 'ist'], ['can', 'on'], ['br', 'ink'], ['super', 'delegate'], ['l', 'p'], ['er', 'ies'], ['ham', 'per'], ['af', 'p'], ['ac', 'om'], ['or', 'phan'], ['ch', 'unk'], ['harass', 'ment'], ['cr', 'umbl'], ['9', '6'], ['gl', 'omer'], ['leon', 'ard']]\n",
      "[['for', 'bes'], ['bri', 'de'], ['remark', 'ably'], ['sum', 'mar'], ['non', 'partisan'], ['sl', 'ur'], ['moral', 'ity'], ['su', 'le'], ['serge', 'ant'], ['d', 'ah'], ['9', '1'], ['bur', 'r'], ['cond', 'itional'], ['roman', 'ia'], ['ob', 'so'], ['shk', 'reli'], ['inaugur', 'ation'], ['ar', 'rog'], ['wasser', 'man'], ['re', 'settle'], ['un', 'stable'], ['erad', 'icat'], ['ambig', 'uous'], ['pro', 'spective'], ['vo', 'id'], ['ste', 'ak'], ['conf', 'id'], ['en', 'velop'], ['inter', 'continental'], ['sens', 'ation'], ['ip', 'her'], ['ath', 'en'], ['av', 'it'], ['fasc', 'ism'], ['sol', 'icit'], ['palest', 'ine'], ['han', 'i'], ['deb', 'bie'], ['sw', 'ath'], ['mile', 'stone'], ['un', 'aware'], ['ble', 's'], ['shel', 'f'], ['pil', 'grim'], ['lo', 'o'], ['pre', 'pare'], ['hor', 'mone'], ['se', 'w'], ['circum', 'st'], ['brig', 'ade']]\n",
      "[['mon', 'arch'], ['in', 'um'], ['la', 'un'], ['man', 'ia'], ['vill', 'a'], ['cl', 'a'], ['tra', 'ject'], ['obso', 'lete'], ['dinosa', 'ur'], ['fur', 't'], ['hib', 'ition'], ['br', 'ac'], ['block', 'chain'], ['ud', 'ge'], ['dis', 'dain'], ['accord', 'ance'], ['terr', 'ain'], ['fight', 'ing'], ['th', 'umb'], ['sal', 'on'], ['sh', 'ir'], ['whis', 'per'], ['k', 'ul'], ['under', 'water'], ['understand', 'able'], ['at', 'em'], ['pain', 'killer'], ['pen', 'sion'], ['flag', 'ship'], ['play', 'ground'], ['bad', 'g'], ['aff', 'id'], ['dis', 'cret'], ['sourc', 'es'], ['creat', 'ivity'], ['as', 'ed'], ['thom', 'son'], ['ide', 'as'], ['fert', 'ility'], ['b', 'ite'], ['alber', 'ta'], ['ye', 'on'], ['ne', 'phew'], ['wal', 'sh'], ['normal', 'iz'], ['margin', 'aliz'], ['he', 'ir'], ['in', '-'], ['unrav', 'el'], ['are', 'l']]\n",
      "[['but', 'ler'], ['hope', 'less'], ['decision', 's'], ['cancell', 'ation'], ['infect', 'ious'], ['se', 'as'], ['gr', 'ind'], ['rig', 'orous'], ['respons', 'ive'], ['se', 'cre'], ['hon', 'dur'], ['ste', 'ph'], ['as', 'cend'], ['level', 's'], ['show', 's'], ['shel', 'v'], ['vert', 'ical'], ['id', 'y'], ['affid', 'avit'], ['dis', 'solv'], ['cann', 'ab'], ['ah', 'a'], ['th', 'wart'], ['de', 'i'], ['up', 'side'], ['ex', 'clusion'], ['o', 'ster'], ['re', 'at'], ['offer', 'ing'], ['autum', 'n'], ['h', 'of'], ['geo', 'graphical'], ['she', 'ep'], ['pl', 'ural'], ['kais', 'er'], ['loch', 'te'], ['delic', 'ate'], ['f', 'rog'], ['par', 'is'], ['consider', 'ation'], ['surg', 'ical'], ['architect', 'ural'], ['col', 'o'], ['ob', 'sessed'], ['sur', 'real'], ['cyn', 'ical'], ['tong', 'u'], ['d', 'airy'], ['system', 'ic'], ['de', 'fam']]\n",
      "iter_number :10750, voc_volume : 10742\n"
     ]
    },
    {
     "data": {
      "application/vnd.jupyter.widget-view+json": {
       "model_id": "8d1fd1cbd2ac4a5e8612284c68513960",
       "version_major": 2,
       "version_minor": 0
      },
      "text/plain": [
       "  0%|          | 0/250 [00:00<?, ?it/s]"
      ]
     },
     "metadata": {},
     "output_type": "display_data"
    },
    {
     "name": "stdout",
     "output_type": "stream",
     "text": [
      "[['mob', 'ile'], ['santi', 'ago'], ['c', 'f'], ['path', 'way'], ['break', 'ing'], ['queens', 'land'], ['sound', 'track'], ['meaning', 'less'], ['h', 'ide'], ['c', 'nbc'], ['wal', 't'], ['the', 'or'], ['var', 'ied'], ['plac', 'es'], ['stra', 'it'], ['sex', 'y'], ['her', 'b'], ['sal', 'man'], ['brand', 'on'], ['ly', 'ft'], ['evol', 'ution'], ['schne', 'ider'], ['in', 'complete'], ['con', 'verg'], ['sco', 're'], ['home', 'owner'], ['em', 'bark'], ['will', 'i'], ['dest', 'ab'], ['br', 'ak'], ['shakespe', 'ar'], ['im', 'ble'], ['cred', 'itor'], ['30', 'th'], ['il', 'ization'], ['s', 'cent'], ['dece', 'ased'], ['grand', 'son'], ['re', 'actor'], ['med', 'itat'], ['inj', 'ured'], ['tr', 'ian'], ['win', 'ning'], ['bal', 'let'], ['gu', 'atem'], ['eg', 'al'], ['pen', 'a'], ['ne', 'ath'], ['play', 'book'], ['sal', 'u']]\n",
      "[['r', 'ak'], ['mac', 'ed'], ['clam', 'ation'], ['ed', 'die'], ['so', 'ber'], ['enth', 'al'], ['zz', 'y'], ['con', 'gregat'], ['vac', 'ancy'], ['ph', 'in'], ['f', 'ury'], ['dec', 'ency'], ['bl', 'itz'], ['under', 'estimat'], ['liberal', 'ism'], ['pers', 'ian'], ['fabr', 'icat'], ['abus', 'ive'], ['dollar', 's'], ['str', 'iv'], ['ugg', 'ish'], ['sanc', 'hez'], ['uran', 'ium'], ['ab', 'y'], ['ass', 'im'], ['dem', 'agog'], ['ign', 'it'], ['we', 'i'], ['intens', 'ified'], ['art', 'a'], ['ba', 'it'], ['emo', 'ji'], ['terr', 'ific'], ['bri', 'en'], ['ency', 'cl'], ['condol', 'ence'], ['song', 'writer'], ['spac', 'ex'], ['vig', 'ilant'], ['iv', 'ism'], ['g', 'aff'], ['sp', 'ann'], ['20', '30'], ['un', 'ic'], ['light', 'ning'], ['el', 'it'], ['dis', 'connect'], ['vol', 'ley'], ['n', 'h'], ['tom', 'b']]\n",
      "[['cr', 'acy'], ['sw', 'allow'], ['mole', 'cule'], ['car', 's'], ['de', 'mis'], ['suit', 'able'], ['f', 'um'], ['fle', 'sh'], ['nor', 'd'], ['different', 'iat'], ['cho', 'ir'], ['pet', 'ro'], ['du', 'blin'], ['regulation', 's'], ['am', 'ster'], ['sur', 'f'], ['ro', 'ast'], ['comple', 'ment'], ['26', 'th'], ['ind', 'if'], ['hand', 'cu'], ['inc', 'ap'], ['hij', 'ab'], ['orche', 'strat'], ['em', 'bold'], ['ar', 'men'], ['mercur', 'y'], ['dub', 'ious'], ['cy', 'clo'], ['jewel', 'ry'], ['amster', 'dam'], ['or', 'ia'], ['sta', 'irs'], ['tanz', 'ania'], ['shop', 'per'], ['v', 'd'], ['rob', 'otic'], ['ov', 'a'], ['sal', 'ut'], ['is', 'il'], ['ic', 'able'], ['diss', 'ident'], ['fore', 'most'], ['jan', 'et'], ['blog', 'ger'], ['pro', 'pri'], ['je', 'ol'], ['cur', 'ator'], ['go', 'at'], ['el', 'le']]\n",
      "[['to', 'ast'], ['hospital', 'iz'], ['liby', 'an'], ['jihad', 'i'], ['l', 'one'], ['ag', 'grav'], ['pos', 'ses'], ['st', 'am'], ['moham', 'ed'], ['val', 'ue'], ['down', 'play'], ['9', '7'], ['lat', 'eral'], ['atom', 'ic'], ['over', 'head'], ['f', 'cc'], ['shak', 'en'], ['clin', 'ch'], ['app', 'ell'], ['ne', 'th'], ['do', 'ss'], ['fil', 'trat'], ['whe', 'at'], ['to', 't'], ['manus', 'cript'], ['som', 'ali'], ['ex', 'acer'], ['exacer', 'bat'], ['ot', 'e'], ['e', 'up'], ['cho', 're'], ['lav', 'rov'], ['co', 'le'], ['am', 'anda'], ['reason', 'ably'], ['recre', 'ational'], ['doss', 'ier'], ['pam', 'key'], ['pamkey', 'nen'], ['appe', 'tit'], ['pur', 'g'], ['at', 'us'], ['em', 'ma'], ['k', 'ard'], ['inter', 'state'], ['aggrav', 'at'], ['es', 'is'], ['ne', 'at'], ['m', 'ira'], ['ig', 'ator']]\n",
      "[['193', '3'], ['tr', 'ent'], ['gym', 'nastic'], ['to', 'e'], ['moon', 'light'], ['au', 'er'], ['under', 'neath'], ['bl', 'at'], ['l', 'il'], ['land', 'lord'], ['gro', 'ss'], ['beli', 'ever'], ['pro', 'claimed'], ['au', 'strian'], ['nee', 'ded'], ['p', 'id'], ['at', 'iz'], ['grat', 'itude'], ['expend', 'iture'], ['cl', 'an'], ['le', 'is'], ['s', 'ig'], ['answer', 'ed'], ['n', 'ice'], ['hay', 'e'], ['nich', 'ola'], ['pier', 'c'], ['es', 'sed'], ['new', 'born'], ['shap', 'iro'], ['re', 'called'], ['start', 'l'], ['s', 'r'], ['se', 'th'], ['kidn', 'apped'], ['con', 'glomer'], ['conglomer', 'ate'], ['28', 'th'], ['ok', 'e'], ['mis', 'er'], ['por', 'k'], ['colomb', 'ian'], ['contin', 'ual'], ['op', 'ath'], ['jup', 'iter'], ['mar', 'tha'], ['so', 'x'], ['go', 'ss'], ['car', 'p'], ['bet', 'sy']]\n",
      "iter_number :11000, voc_volume : 10988\n"
     ]
    },
    {
     "data": {
      "application/vnd.jupyter.widget-view+json": {
       "model_id": "fc00e17697004d9ea693a4e4b0ada8b7",
       "version_major": 2,
       "version_minor": 0
      },
      "text/plain": [
       "  0%|          | 0/250 [00:00<?, ?it/s]"
      ]
     },
     "metadata": {},
     "output_type": "display_data"
    },
    {
     "name": "stdout",
     "output_type": "stream",
     "text": [
      "[['art', 'work'], ['ing', 'en'], ['hypo', 'thetical'], ['detail', 's'], ['benefic', 'ial'], ['w', 'u'], ['cro', 'at'], ['deploy', 'ment'], ['las', 'er'], ['sat', 'ire'], ['email', 's'], ['exploit', 'ation'], ['or', 'um'], ['secre', 'cy'], ['sac', 'ram'], ['sacram', 'ento'], ['vacc', 'inat'], ['further', 'more'], ['indones', 'ian'], ['fresh', 'man'], ['ash', 'ian'], ['bel', 'li'], ['comment', 's'], ['un', 'settl'], ['mot', 'ive'], ['k', 'os'], ['s', 'wear'], ['un', 'identified'], ['on', 's'], ['if', 'e'], ['affect', 'ed'], ['delegat', 'es'], ['how', 'er'], ['be', 'k'], ['lot', 'tery'], ['bo', 'ko'], ['art', 'illery'], ['bul', 'ld'], ['tv', '.'], ['ip', 'tion'], ['ku', 'wait'], ['st', 'int'], ['vietnam', 'ese'], ['tele', 'com'], ['er', 'c'], ['carn', 'age'], ['spend', 'ing'], ['0', '5'], ['wr', 'ist'], ['fraud', 'ulent']]\n",
      "[['vi', 'acom'], ['dig', 'g'], ['municipal', 'ities'], ['ator', 'ies'], ['blat', 'ant'], ['kard', 'ashian'], ['prob', 'ability'], ['re', 'minis'], ['le', 'ather'], ['self', 'ish'], ['story', 'telling'], ['19', '29'], ['gu', 'err'], ['un', 'safe'], ['louis', 'ville'], ['book', 's'], ['le', 'a'], ['libr', 'aries'], ['she', 'ikh'], ['re', 'organisation'], ['homosexual', 'ity'], ['a', 'o'], ['rho', 'de'], ['neutr', 'ality'], ['di', 'ana'], ['s', 'ince'], ['geo', 'graphy'], ['im', 'ped'], ['tail', 'or'], ['brow', 's'], ['e', 'clip'], ['get', 'ic'], ['sil', 'va'], ['ex', 'tr'], ['jer', 'ome'], ['d', 'h'], ['ado', 'x'], ['legal', 'ization'], ['pe', 'el'], ['ham', 'pton'], ['prec', 'ip'], ['rhetor', 'ical'], ['br', 'yan'], ['iron', 'ical'], ['dun', 'ham'], ['de', 'af'], ['r', 'all'], ['constrain', 't'], ['major', 'ities'], ['br', 'al']]\n",
      "[['ro', 'ar'], ['te', 'ous'], ['t', 'ilt'], ['st', 'ip'], ['two', '-'], ['sh', 'ack'], ['f', 'ancy'], ['ap', 'h'], ['bl', 'ond'], ['dis', 'may'], ['among', 'st'], ['sub', 'ordinat'], ['22', 'nd'], ['elig', 'ibility'], ['strip', 'ped'], ['tre', 'ason'], ['ten', 'th'], ['conf', 'essed'], ['h', 'ag'], ['prepare', 'd'], ['crook', 'ed'], ['reci', 'pe'], ['trust', 'worthy'], ['pass', 'ive'], ['sub', 'committee'], ['consort', 'ium'], ['in', 'fo'], ['ar', 'ious'], ['terrorist', 's'], ['ji', '-'], ['ank', 'le'], ['ill', 'um'], ['say', 'ing'], ['pre', 'cis'], ['for', 'k'], ['he', 'w'], ['vul', 'gar'], ['if', 'fe'], ['wheel', 'chair'], ['cand', 'le'], ['mus', 'h'], ['rab', 'bi'], ['quant', 'um'], ['democr', 'acies'], ['con', 'quer'], ['e', 'colog'], ['de', 'pressed'], ['co', 'erc'], ['mess', 'y'], ['ignor', 'ant']]\n",
      "[['sher', 'man'], ['lau', 'd'], ['dr', 'ick'], ['eisen', 'hower'], ['similar', 'ities'], ['gun', 's'], ['custom', 'ers'], ['dig', 'est'], ['deduct', 'ible'], ['ab', 'use'], ['tre', 'k'], ['volat', 'ility'], ['sag', 'a'], ['d', 'w'], ['az', 'e'], ['lo', 'id'], ['bec', 'ca'], ['is', 'cop'], ['hell', 'er'], ['shr', 'ub'], ['sh', 'allow'], ['renew', 'al'], ['drum', 'mer'], ['kid', 'ney'], ['pre', 'view'], ['m', 'ous'], ['du', 'o'], ['sym', 'pathi'], ['af', 'i'], ['back', 'yard'], ['fact', 's'], ['spec', 'ify'], ['par', 'adox'], ['u', 'to'], ['compos', 'ite'], ['th', 'ood'], ['betray', 'al'], ['su', 'ing'], ['boe', 'hner'], ['art', 'ifact'], ['correct', 'ion'], ['spher', 'ic'], ['me', 'h'], ['19', '.'], ['jen', 'ner'], ['scar', 'borough'], ['bhar', 'ara'], ['exist', 'ential'], ['appar', 'atus'], ['trian', 'gle']]\n",
      "[['d', 'as'], ['un', 'lock'], ['k', 'l'], ['ell', 'en'], ['im', 'provis'], ['gard', 'ner'], ['la', 'under'], ['r', 'ina'], ['innov', 'ation'], ['delic', 'ious'], ['mil', 'an'], ['down', 'ward'], ['cr', 'atic'], ['al', 'ger'], ['hum', 'a'], ['niger', 'ian'], ['19', '22'], ['us', 'her'], ['street', 's'], ['chang', 'es'], ['pre', '-'], ['sup', 'ple'], ['tweet', 'ed'], ['sit', 'com'], ['j', 'ad'], ['ordin', 'arily'], ['d', 'aca'], ['19', '28'], ['h', 'over'], ['mc', 'cl'], ['crip', 'pl'], ['sun', 'ny'], ['zim', 'bab'], ['zimbab', 'we'], ['rub', 'ber'], ['autop', 'sy'], ['im', 'plant'], ['impl', 'ied'], ['pl', 'i'], ['long-', 'term'], ['chap', 'el'], ['liv', 'ing'], ['pre', 'caution'], ['gin', 'sburg'], ['ramp', 'ant'], ['ethiop', 'ia'], ['nostalg', 'ia'], ['heal', 'thier'], ['-', 'century'], ['renov', 'at']]\n",
      "iter_number :11250, voc_volume : 11233\n"
     ]
    },
    {
     "data": {
      "application/vnd.jupyter.widget-view+json": {
       "model_id": "3c8029d2173440a0990fe961ab054f63",
       "version_major": 2,
       "version_minor": 0
      },
      "text/plain": [
       "  0%|          | 0/250 [00:00<?, ?it/s]"
      ]
     },
     "metadata": {},
     "output_type": "display_data"
    },
    {
     "name": "stdout",
     "output_type": "stream",
     "text": [
      "[['pro', 'pel'], ['block', 'buster'], ['c', 'ue'], ['g', 'rop'], ['machin', 'ery'], ['re', 'cycl'], ['om', 'on'], ['gro', 've'], ['al', 'z'], ['un', 'favorable'], ['def', 'ic'], ['va', 'ult'], ['u', 'x'], ['re', 'hear'], ['standard', 's'], ['withdraw', 'n'], ['gib', 'son'], ['bur', 'ial'], ['en', 'cl'], ['not', 'ification'], ['show', 'down'], ['ly', 'nn'], ['corn', 'ell'], ['moroc', 'co'], ['l', 'ich'], ['zim', 'mer'], ['top', 'pl'], ['re', 'curr'], ['may', 'er'], ['protest', 'ant'], ['far', 'ther'], ['ar', 'ra'], ['k', 'won'], ['sell', 'ing'], ['la', 'x'], ['consu', 'late'], ['trump', 'ism'], ['cyber', 'attack'], ['w', 'es'], ['under', 'cover'], ['vac', 'ant'], ['n', 'go'], ['loret', 'ta'], ['whist', 'l'], ['work', 'out'], ['brack', 'et'], ['scop', 'e'], ['cosm', 'etic'], ['livest', 'ock'], ['out', 'going']]\n",
      "[['weak', 'nesses'], ['fl', 'own'], ['bo', 'on'], ['lo', 'ver'], ['bl', 'and'], ['at', 'tr'], ['mist', 'reat'], ['sun', 'set'], ['there', 'after'], ['with', 'hold'], ['ant', 'is'], ['her', 'r'], ['dr', 'a'], ['ib', 'a'], ['atro', 'cities'], ['ap', 'ost'], ['law', 'less'], ['sur', 'nam'], ['k', 'ia'], ['bra', 'him'], ['om', 'it'], ['un', 'mask'], ['stat', 'ute'], ['eclip', 's'], ['sl', 'uggish'], ['season', 'al'], ['les', 'cent'], ['d', 'ough'], ['com', 'po'], ['sch', 'we'], ['d', 'art'], ['sung', '-'], ['trans', 'mitted'], ['k', 'any'], ['h', 'b'], ['kaz', 'akh'], ['whist', 'le'], ['yell', 'en'], ['gl', 'anc'], ['cerem', 'onies'], ['50', 's'], ['se', 'vent'], ['k', 'g'], ['view', 'point'], ['m', 'au'], ['disrupt', 'ive'], ['explain', 's'], ['ch', 'un'], ['x', 'ia'], ['harmon', 'y']]\n",
      "[['tur', 'bul'], ['il', 'ia'], ['mer', 's'], ['19', '10'], ['pal', 'eo'], ['w', 'att'], ['vari', 'ation'], ['ir', 'onic'], ['encycl', 'op'], ['ol', 'ig'], ['ac', 'p'], ['traject', 'ory'], ['k', 'end'], ['19', '17'], ['vir', 'us'], ['acqu', 'aint'], ['dis', 'respect'], ['der', 'eg'], ['har', 'lem'], ['n', 'iel'], ['24', 'th'], ['chap', 'man'], ['rob', 'bed'], ['ste', 'phan'], ['sh', 'attered'], ['vir', 'uses'], ['help', 'less'], ['bal', 'tic'], ['qu', 'art'], ['a', 'ver'], ['pre', 'hen'], ['re', 'claim'], ['nic', 'ola'], ['fat', 'igu'], ['out', 'sourc'], ['20', '25'], ['n', 'em'], ['it', 'ation'], ['en', 'ge'], ['mir', 'anda'], ['inhabit', 'ant'], ['7', '50'], ['by', 'pass'], ['un', 'official'], ['v', 'all'], ['new', 'comer'], ['gall', 'up'], ['nik', 'ki'], ['out', 'law'], ['con', 'do']]\n",
      "[['atr', 'ist'], ['af', 'fluent'], ['ph', 'd'], ['as', 'per'], ['slide', 'show'], ['mo', 'di'], ['ado', 'lescent'], ['super', 'star'], ['demagog', 'u'], ['gr', 'ade'], ['vari', 'eties'], ['el', 'on'], ['t', 'm'], ['illum', 'inat'], ['sh', 'ine'], ['ed', 'ict'], ['dis', 'band'], ['cap', 'p'], ['position', 's'], ['si', 'oux'], ['grap', 'e'], ['reck', 'on'], ['bid', 'd'], ['de', 'vis'], ['imper', 'ative'], ['fisher', 'ies'], ['ban', 'ana'], ['par', 'amount'], ['spl', 'ash'], ['19', '19'], ['van', 'ity'], ['alz', 'heimer'], ['clu', 'ded'], ['fac', 'ial'], ['o', 'vic'], ['freder', 'ick'], ['ne', 'ill'], ['ge', 'opolit'], ['embr', 'yo'], ['psychiat', 'ric'], ['bi', 'ologist'], ['mar', 'io'], ['st', 'ef'], ['scar', 'ce'], ['system', 's'], ['al', 'ban'], ['s', 'igh'], ['run', 'off'], ['hall', 'way'], ['ut', 'ilities']]\n",
      "[['resc', 'ind'], ['physic', 'ist'], ['bagg', 'age'], ['em', 'manuel'], ['cr', 'av'], ['reserv', 'oir'], ['d', 'aw'], ['in', 'fidel'], ['pay', 'check'], ['pur', 's'], ['single', '-'], ['lad', 'der'], ['ol', 'ive'], ['10', '1'], ['de', 'er'], ['foot', 'print'], ['pe', 'tra'], ['det', 'ach'], ['27', '0'], ['ra', 'j'], ['ic', 'es'], ['blum', 'enthal'], ['und', 'oubt'], ['undoubt', 'ed'], ['30', '.'], ['impl', 'ies'], ['ve', 'in'], ['moham', 'mad'], ['favor', 'ably'], ['over', 'lap'], ['it', 'us'], ['sch', 'war'], ['u', 'plo'], ['mon', 'gol'], ['stat', 'ic'], ['in', 'son'], ['er', 'os'], ['prolif', 'erat'], ['pe', 'an'], ['alexand', 'ria'], ['contrac', 'ep'], ['contracep', 'tion'], ['bro', 'ck'], ['option', 's'], ['fa', 'x'], ['jun', 'k'], ['apol', 'lo'], ['dr', 'ake'], ['re', 'sur'], ['dispar', 'ag']]\n",
      "iter_number :11500, voc_volume : 11481\n"
     ]
    },
    {
     "data": {
      "application/vnd.jupyter.widget-view+json": {
       "model_id": "36545c9da30a462b94bfd587c79f5a92",
       "version_major": 2,
       "version_minor": 0
      },
      "text/plain": [
       "  0%|          | 0/250 [00:00<?, ?it/s]"
      ]
     },
     "metadata": {},
     "output_type": "display_data"
    },
    {
     "name": "stdout",
     "output_type": "stream",
     "text": [
      "[['comp', 'act'], ['g', 'av'], ['ent', 'ail'], ['maxim', 'iz'], ['ed', 'ay'], ['gl', 'en'], ['sadd', 'am'], ['ab', 'ram'], ['19', '35'], ['ta', 'e-'], ['mo', 'z'], ['der', 'by'], ['goss', 'ip'], ['novel', 'ist'], ['story', 'line'], ['west', 'minster'], ['is', 'ed'], ['frank', 'en'], ['trav', 'i'], ['appl', 'iance'], ['islam', 'ophobia'], ['semin', 'at'], ['mck', 'in'], ['am', 'ar'], ['psychi', 'atrist'], ['consequ', 'ential'], ['bry', 'ant'], ['im', 'pression'], ['diver', 't'], ['dis', 'av'], ['secret', 'aries'], ['uplo', 'ad'], ['qu', 'ota'], ['m', 'af'], ['ul', 'tr'], ['bit', 'ch'], ['document', 'ation'], ['gen', 'ome'], ['d', 'well'], ['re', 'visit'], ['screen', 'play'], ['immedi', 'ately'], ['who', 'les'], ['prox', 'y'], ['ore', 'st'], ['malays', 'ian'], ['ent', 'ries'], ['trans', 'cend'], ['cannab', 'is'], ['pen', 'is']]\n",
      "[['dis', 'guis'], ['invent', 'ory'], ['h', 'ap'], ['country', 'side'], ['e', 'b'], ['el', 'aine'], ['gul', 'en'], ['repl', 'ies'], ['dat', 'ed'], ['sl', 'ack'], ['cur', 'tail'], ['mu', 'g'], ['lig', 'a'], ['proxim', 'ity'], ['h', 'allow'], ['19', '24'], ['fr', 'ustration'], ['inter', 'fac'], ['ill', 'nesses'], ['pre', 'e'], ['cap', 'sule'], ['est', 'ate'], ['man', 'ila'], ['sham', 'eful'], ['sky', 'rocket'], ['re', 'becca'], ['intens', 'ify'], ['sym', 'phony'], ['som', 'eday'], ['admir', 'al'], ['th', 'ug'], ['mag', 'gi'], ['juven', 'il'], ['add', 's'], ['un', 'al'], ['guant', 'an'], ['guantan', 'amo'], ['resur', 'rect'], ['m', 'ie'], ['motiv', 'ation'], ['mind', 'set'], ['fear', 'ful'], ['enc', 'hed'], ['gr', 'aff'], ['sw', 'an'], ['hondur', 'as'], ['col', 'ogy'], ['mental', 'ity'], ['s', 'mar'], ['at', 'ol']]\n",
      "[['h', 'ak'], ['-', 'to'], ['rall', 'ied'], ['ri', 'y'], ['consist', 'ency'], ['un', 'true'], ['sta', 'unch'], ['19', '12'], ['na', 'acp'], ['paraly', 'z'], ['scrut', 'in'], ['need', 's'], ['rou', 'hani'], ['fea', 'ther'], ['calcul', 'ation'], ['in', 'filtrat'], ['con', 'nor'], ['mole', 'cular'], ['19', '18'], ['if', 'iable'], ['gyeonggi', '-do'], ['prolong', 'ed'], ['pivot', 'al'], ['re', 'cit'], ['bas', 'is'], ['k', 't'], ['un', 'limited'], ['shoot', 'out'], ['compil', 'ation'], ['190', '8'], ['k', 'iev'], ['veh', 'ic'], ['p', 'f'], ['cur', 'tain'], ['conservat', 'ives'], ['po', 'orest'], ['fil', 'ip'], ['help', 's'], ['real', 'is'], ['destab', 'iliz'], ['semin', 'ar'], ['atmo', 'spheric'], ['mer', 'chand'], ['n', 'us'], ['betray', 'ed'], ['hero', 'ic'], ['false', 'hood'], ['up', 'end'], ['bund', 'l'], ['-', 'dong']]\n",
      "[['or', 'ial'], ['der', 'ek'], ['new', 'est'], ['bo', 'k'], ['ky', 'ung-'], ['app', 'arel'], ['bre', 'wer'], ['193', '2'], ['loyal', 'ist'], ['fl', 'ick'], ['n', 'ery'], ['and', 'o'], ['sing', 'ular'], ['sn', 'l'], ['f', 'ug'], ['bor', 'i'], ['trust', 'ee'], ['expan', 'sion'], ['conduct', 'or'], ['b', 'um'], ['proced', 'ural'], ['misogy', 'ny'], ['v', 'indicat'], ['id', 'o'], ['iv', 'y'], ['bah', 'rain'], ['1990', 's'], ['for', 'given'], ['guz', 'man'], ['p', 'ont'], ['environmental', 'ist'], ['dis', 'en'], ['spon', 'tan'], ['ie', 'th'], ['fe', 'instein'], ['bl', 'ower'], ['c', 'ic'], ['grand', 'parent'], ['appropri', 'ation'], ['ser', 'bia'], ['energ', 'iz'], ['translat', 'or'], ['hur', 'l'], ['om', 'ni'], ['dev', 'in'], ['ot', 'te'], ['disav', 'ow'], ['mal', 'a'], ['lo', 'ot'], ['s', 'b']]\n",
      "[['ex', 'cer'], ['excer', 'pt'], ['o', 'ven'], ['ap', 'preh'], ['institut', 'e'], ['occurr', 'ence'], ['gu', 'ild'], ['e', 'than'], ['buck', 'et'], ['st', 'ur'], ['na', 'ive'], ['kany', 'e'], ['re', 'leg'], ['regre', 'tt'], ['bri', 'bery'], ['o', 'gen'], ['rain', 'bow'], ['sch', 'mid'], ['gang', 'nam'], ['fif', 'teen'], ['cop', 'per'], ['r', 'igh'], ['k', 'oh'], ['m', 'tv'], ['tex', 'an'], ['sit', 'es'], ['in', 'land'], ['u', 'pro'], ['t', 'd'], ['headquarter', 'ed'], ['dis', 'arm'], ['at', 'i'], ['k', 'ob'], ['ass', 'am'], ['anti', 'qu'], ['wild', 'fire'], ['de', 'z'], ['lin', 'ear'], ['cas', 'ey'], ['pre', 'dat'], ['fact', 'ual'], ['mans', 'laughter'], ['proto', 'typ'], ['polar', 'ization'], ['em', 'ble'], ['c', 'ave'], ['sem', 'if'], ['semif', 'inal'], ['j', 'f'], ['pet', 'role']]\n",
      "iter_number :11750, voc_volume : 11725\n"
     ]
    },
    {
     "data": {
      "application/vnd.jupyter.widget-view+json": {
       "model_id": "a1d5764690614cc7a52d40b7e627a3a9",
       "version_major": 2,
       "version_minor": 0
      },
      "text/plain": [
       "  0%|          | 0/250 [00:00<?, ?it/s]"
      ]
     },
     "metadata": {},
     "output_type": "display_data"
    },
    {
     "name": "stdout",
     "output_type": "stream",
     "text": [
      "[['guatem', 'ala'], ['ken', 'neth'], ['bron', 'co'], ['robert', 'son'], ['s', 'ask'], ['border', 's'], ['vol', 't'], ['ver', 'sa'], ['enzy', 'me'], ['d', 'unn'], ['m', 'ps'], ['mist', 'ak'], ['malic', 'ious'], ['blue', 'print'], ['dial', 'ect'], ['chall', 'enge'], ['s', 'th'], ['rank', 'ing'], ['an', 'alog'], ['r', 'im'], ['g', 'room'], ['li', 'thu'], ['cnn', 'opinion'], ['ess', 'im'], ['40', 's'], ['bu', 'oy'], ['b', 'am'], ['post', 'season'], ['sol', 'itary'], ['olog', 'ies'], ['e', 'u.'], ['national', 'ity'], ['vin', 'cent'], ['pean', 'ut'], ['wh', 'olly'], ['re', 'make'], ['mis', 'information'], ['in', 'consistent'], ['car', 'maker'], ['194', '2'], ['bour', 'g'], ['fred', 'di'], ['marsh', 'al'], ['fall', 'u'], ['the', 'ology'], ['shut', 'ting'], ['back', 'pack'], ['re', 'pu'], ['im', 'partial'], ['f', 'ain']]\n",
      "[['affair', 's'], ['resident', 's'], ['ev', 'ok'], ['medium', '-siz'], ['commod', 'ity'], ['p', 'ix'], ['mind', 'ful'], ['def', 'iant'], ['serge', 'y'], ['comp', 'elled'], ['coll', 'is'], ['vac', 'ation'], ['account', 's'], ['var', 'ies'], ['sh', 'ake'], ['flat', 'ter'], ['pro', 'c'], ['sub', 'script'], ['compar', 'ative'], ['p', 'essim'], ['y', 'ip'], ['imagin', 'able'], ['equip', 'ment'], ['business', 'men'], ['ad', 'verse'], ['cer', 'n'], ['jud', 'a'], ['che', 't'], ['form', 'ulat'], ['hard', 'ship'], ['am', 'ic'], ['ash', 'ley'], ['ens', 'ible'], ['traum', 'atic'], ['news', 'room'], ['d', 'ance'], ['dae', 'jeon'], ['rev', 'ital'], ['wa', 'ver'], ['fif', 'ty'], ['ind', 'ulg'], ['manifest', 'o'], ['shut', 'ter'], ['hil', 'arious'], ['bent', 'ley'], ['ot', 'ech'], ['cr', 'unch'], ['niel', 'sen'], ['peter', 'sburg'], ['indict', 'ment']]\n",
      "[['tax', 'ation'], ['dist', 'ur'], ['distur', 'bed'], ['truth', 'ful'], ['hen', 'derson'], ['sa', 'vi'], ['melt', 'down'], ['stand', 'er'], ['gun', 'n'], ['iv', 'ities'], ['medi', 'at'], ['se', 'am'], ['mon', 'k'], ['u', 'cla'], ['se', 'di'], ['dis', 'approv'], ['honor', 'ary'], ['fin', 'est'], ['special', 'ty'], ['bibl', 'ical'], ['bou', 'lev'], ['boulev', 'ard'], ['im', 'am'], ['match', 'up'], ['protest', 'or'], ['back', 'fir'], ['releg', 'at'], ['jung', '-'], ['rang', 'e'], ['fire', 'd'], ['petrole', 'um'], ['acquaint', 'ance'], ['down', 'side'], ['laun', 'dry'], ['u', 'ity'], ['dis', 'seminat'], ['al', 'do'], ['k', 'alan'], ['she', 'p'], ['n', 'r'], ['court', 's'], ['fir', 'med'], ['re', 'union'], ['tab', 'loid'], ['in', 'box'], ['admir', 'ation'], ['kin', 'i'], ['un', 'sure'], ['affirm', 'ative'], ['ash', 'a']]\n",
      "[['spec', 'ies'], ['ev', 'ad'], ['asser', 'tion'], ['auto', 'motive'], ['eat', 'en'], ['ramp', 'ag'], ['use', 'less'], ['trum', 'an'], ['monopol', 'y'], ['pr', 'it'], ['ion', 'ist'], ['ric', 'hest'], ['ex', 'cav'], ['l', 'ies'], ['e', 'us'], ['girl', 's'], ['29', 'th'], ['ty', 'pho'], ['bi', 'om'], ['pup', 'pet'], ['super', 'man'], ['f', 'ann'], ['fix', 'ture'], ['lo', 'ose'], ['ta', 'unt'], ['technic', 'ian'], ['prehen', 'sion'], ['fir', 'sth'], ['h', 'wan'], ['sour', 'ce'], ['sh', 'ia'], ['m', 'd'], ['mad', 'onna'], ['col', 'm'], ['mush', 'room'], ['half', 'way'], ['ign', 'ant'], ['regist', 'ry'], ['lay', 'off'], ['tor', 're'], ['arbitr', 'ary'], ['nig', 'el'], ['frank', 'furt'], ['show', 'er'], ['char', 'ter'], ['remark', 's'], ['et', 'ta'], ['greg', 'ory'], ['193', '4'], ['ro', 'ss']]\n",
      "[['rud', 'y'], ['z', 'om'], ['ch', 'lor'], ['ref', 'ut'], ['new', 'found'], ['broad', 'drick'], ['flor', 'ence'], ['schmid', 't'], ['ro', 'mo'], ['acr', 'onym'], ['pu', 'z'], ['min', 'n'], ['leg', 'ally'], ['20', '22'], ['ge', 'ome'], ['behavior', 'al'], ['exer', 't'], ['portray', 'al'], ['er', 'in'], ['am', 'bush'], ['he', 'brew'], ['re', 'think'], ['an', 'atom'], ['mid', 'town'], ['employ', 'ment'], ['abund', 'ant'], ['rece', 'ipt'], ['r', 't'], ['fr', 'aught'], ['bi', 'er'], ['into', 'x'], ['A', 'n'], ['un', 'iver'], ['fa', 'h'], ['ch', 'ol'], ['don', 'na'], ['p', 'ia'], ['analy', 's'], ['in', 'competent'], ['mot', 'ion'], ['protest', 's'], ['def', 'iance'], ['spo', 'on'], ['ci', 'o'], ['pse', 'ud'], ['lav', 'ish'], ['19', '21'], ['kalan', 'ick'], ['organization', 's'], ['e', 'av']]\n",
      "iter_number :12000, voc_volume : 11973\n"
     ]
    },
    {
     "data": {
      "application/vnd.jupyter.widget-view+json": {
       "model_id": "f02d34107b3243cdbbacbdb42ca07a8a",
       "version_major": 2,
       "version_minor": 0
      },
      "text/plain": [
       "  0%|          | 0/250 [00:00<?, ?it/s]"
      ]
     },
     "metadata": {},
     "output_type": "display_data"
    },
    {
     "name": "stdout",
     "output_type": "stream",
     "text": [
      "[['liv', 'elihood'], ['ot', 'le'], ['he', 'idi'], ['qu', 'ist'], ['dereg', 'ulat'], ['engag', 'ement'], ['2', '1.'], ['trib', 'unal'], ['dent', 'al'], ['thr', 'ust'], ['ler', 'ant'], ['ra', 'de'], ['isol', 'ation'], ['cro', 'ft'], ['eleg', 'ant'], ['-', 'young'], ['sens', 'ible'], ['ar', 'o'], ['righ', 'teous'], ['guide', 'd'], ['en', 'ses'], ['clar', 'ified'], ['w', 'anda'], ['dec', 'ay'], ['be', 'z'], ['deb', 'unk'], ['re', 'unit'], ['l', 'id'], ['isa', 'ac'], ['sho', 'oter'], ['ruth', 'less'], ['train', 'ing'], ['dun', 'can'], ['dead', 'liest'], ['ii', '.'], ['bor', 'o'], ['con', 'firmed'], ['happ', 'ily'], ['hou', 'thi'], ['domin', 'ican'], ['collabor', 'ator'], ['sect', 'arian'], ['corp', 's'], ['so', 'y'], ['ro', 'gen'], ['ca', 'es'], ['de', 'a'], ['spec', 'imen'], ['sle', 'pt'], ['magnet', 'ic']]\n",
      "[['tay', 'yip'], ['coll', 'id'], ['re', 'captur'], ['down', 'turn'], ['qu', 'iz'], ['pon', 'der'], ['sm', 'alle'], ['smalle', 'st'], ['pract', 'ition'], ['t', 'weak'], ['patient', 's'], ['sw', 'ap'], ['stig', 'ma'], ['exem', 'pl'], ['poor', 'er'], ['substant', 'iat'], ['sab', 'ha'], ['sa', 'x'], ['ar', 'ro'], ['drastic', 'ally'], ['rele', 'vance'], ['ag', 'a'], ['torn', 'ado'], ['le', 'z'], ['un', 'paid'], ['avail', 'ability'], ['character', 'ization'], ['oun', 'g'], ['multi', '-'], ['em', 'bro'], ['da', 'esh'], ['hann', 'ah'], ['193', '7'], ['cl', 'ich'], ['ble', 'ak'], ['gil', 'bert'], ['hel', 'en'], ['budd', 'hist'], ['lam', 'ar'], ['colog', 'ne'], ['capt', 'ive'], ['fre', 'el'], ['politic', 'iz'], ['acade', 'mia'], ['distribut', 'or'], ['bar', 'nes'], ['pl', 'ight'], ['re', 'tract'], ['auto', 'mobil'], ['ment', 's']]\n",
      "[['am', 'ish'], ['bat', 'ch'], ['che', 'v'], ['sco', 'op'], ['ten', 'n'], ['jak', 'arta'], ['broad', 'en'], ['gor', 'illa'], ['i', 'brahim'], ['cruel', 'ty'], ['arm', 'strong'], ['ind', 'ication'], ['public', 'iz'], ['20', '21'], ['otto', 'man'], ['4', '50'], ['mal', 'colm'], ['are', 'z'], ['think', 'er'], ['du', 'pl'], ['se', 'i'], ['con', 'gest'], ['de', 'en'], ['ch', 'ry'], ['ac', 'credit'], ['cr', 'awl'], ['rob', 'ber'], ['ro', 'ber'], ['steph', 'ani'], ['ay', 'otte'], ['tak', 'ing'], ['insist', 'ence'], ['swi', 'p'], ['pr', 'adesh'], ['tur', 'f'], ['ach', 't'], ['ho', 'over'], ['dispar', 'ities'], ['d', 'ill'], ['think', 'ing'], ['av', 'a'], ['pr', 'one'], ['esh', 'ip'], ['reper', 'cussion'], ['mal', 'ley'], ['z', 'ell'], ['histor', 'ie'], ['wa', 'ist'], ['b', 'li'], ['que', 'z']]\n",
      "[['edin', 'burgh'], ['richard', 'son'], ['ir', 'v'], ['spur', 'red'], ['exp', 'elled'], ['smar', 'ter'], ['vulner', 'abilities'], ['traffick', 'er'], ['le', 'win'], ['puz', 'der'], ['freel', 'anc'], ['3', 'd'], ['stick', 'er'], ['lingu', 'istic'], ['rab', 'bit'], ['at', 'che'], ['to', 's'], ['quis', 'ite'], ['l', 'anka'], ['eye', 'brow'], ['le', 'o'], ['lo', 'ath'], ['d', 'z'], ['sw', 'irl'], ['pict', 'ure'], ['al', 'ous'], ['gal', 'a'], ['o', 'at'], ['un', 'wanted'], ['sh', 'av'], ['as', 'he'], ['gas', 'e'], ['jp', 'morgan'], ['dil', 'ig'], ['dis', 'closed'], ['phys', 'i'], ['ig', 'e'], ['az', 'er'], ['j', 'r'], ['tex', 'tur'], ['da', 'unt'], ['tunis', 'ia'], ['f', 'ent'], ['assim', 'ilat'], ['ro', 'wer'], ['wa', 'iver'], ['stab', 'b'], ['fo', 'g'], ['vice', '-'], ['had', 'o']]\n",
      "[['dece', 'ption'], ['bre', 't'], ['tak', 'er'], ['sl', 'ap'], ['vant', 'iv'], ['fair', 'y'], ['l', 'ugg'], ['c', 'pac'], ['under', 'cut'], ['fare', 'well'], ['re', 'ap'], ['re', 'ich'], ['cur', 'l'], ['sab', 'ot'], ['world', 'pay'], ['institution', 's'], ['z', 'hou'], ['hy', 'e'], ['d', 'ull'], ['mac', 'hado'], ['gro', 'cer'], ['d', \"'\"], ['bm', 'w'], ['as', 'i'], ['resil', 'ience'], ['abdul', 'lah'], ['bart', 'ender'], ['frater', 'nity'], ['whistle', 'blower'], ['out', 'cry'], ['pro', 'cur'], ['horr', 'ify'], ['se', 'af'], ['dark', 'er'], ['li', 'z'], ['he', 'ct'], ['he', 'ather'], ['19', '27'], ['hun', 'ter'], ['ol', 'o'], ['con', 'fer'], ['ter', 'ribly'], ['by', 'stander'], ['wer', 'e'], ['shu', 'ffl'], ['cr', 'ist'], ['misogy', 'n'], ['ab', 'ba'], ['in', 'ski'], ['church', 'ill']]\n",
      "iter_number :12250, voc_volume : 12222\n"
     ]
    },
    {
     "data": {
      "application/vnd.jupyter.widget-view+json": {
       "model_id": "5c5c38ec8e9e4e34947430f4c17235be",
       "version_major": 2,
       "version_minor": 0
      },
      "text/plain": [
       "  0%|          | 0/250 [00:00<?, ?it/s]"
      ]
     },
     "metadata": {},
     "output_type": "display_data"
    },
    {
     "name": "stdout",
     "output_type": "stream",
     "text": [
      "[['bu', 'chan'], ['respon', 'der'], ['coll', 'ap'], ['stub', 'born'], ['astron', 'omer'], ['compat', 'ible'], ['aster', 'oid'], ['mar', 'a'], ['reg', 'nery'], ['syn', 'dicat'], ['var', 'iat'], ['mar', 'bl'], ['fet', 'us'], ['s', 'ank'], ['construct', 'ive'], ['equ', 'iv'], ['red', 'act'], ['brag', 'g'], ['mo', 'ines'], ['patri', 'at'], ['nu', 'de'], ['ft', 'c'], ['art', 'an'], ['accom', 'mod'], ['aaron', 'klein'], ['aaronklein', 'show'], ['read', 'ily'], ['tend', 'encies'], ['new', 'ark'], ['ped', 'o'], ['l', 'aps'], ['comfort', 'ably'], ['-to', '-'], ['re', 'surg'], ['d', 'addy'], ['h', 'ul'], ['correspond', 'ence'], ['oppos', 'ition'], ['fr', 'ack'], ['dam', 'age'], ['em', 'it'], ['over', 'throw'], ['ag', 'ne'], ['practition', 'er'], ['full', '-'], ['jong-', 'un'], ['nol', 'an'], ['h', 'len'], ['photo', 'grapher'], ['three', '-']]\n",
      "[['fl', 'ank'], ['n', 'aut'], ['f', 'ow'], ['ne', 'al'], ['sing', 'h'], ['aspir', 'ation'], ['dol', 'phin'], ['land', 'er'], ['p', 'helps'], ['mort', 'al'], ['re', 'produc'], ['k', 'ri'], ['not', 'es'], ['sem', 'ester'], ['emerg', 'ence'], ['194', '3'], ['p', 'bs'], ['athe', 'ist'], ['mark', 'ed'], ['play', 'ers'], ['allegation', 's'], ['capital', 'iz'], ['cul', 'prit'], ['th', 'ai'], ['fre', 'eman'], ['le', 'ar'], ['forbid', 'den'], ['oun', 'ce'], ['over', 'stat'], ['un', 'just'], ['ro', 'sa'], ['st', 'roll'], ['mis', 'guided'], ['buck', 'ley'], ['tor', 'ch'], ['o', 'ok'], ['g', 'ps'], ['pseud', 'onym'], ['theatr', 'ical'], ['ho', 's'], ['p', 'able'], ['v', 'ogue'], ['million', 'aire'], ['ed', 'ith'], ['u', 'i'], ['carn', 'ival'], ['h', 'itter'], ['mat', 'ory'], ['ken', 'ny'], ['human', 'ities']]\n",
      "[['w', 'imble'], ['wimble', 'don'], ['zom', 'bie'], ['the', 't'], ['partisan', 'ship'], ['b', 'ile'], ['deliber', 'ation'], ['threat', 's'], ['m', 'int'], ['kazakh', 'stan'], ['n', 'ab'], ['on', 'ian'], ['chung', 'cheong'], ['gentle', 'man'], ['dent', 'ist'], ['peter', 'son'], ['e', 'greg'], ['egreg', 'ious'], ['gold', 'water'], ['is', 'cat'], ['vol', 'v'], ['vide', 'ot'], ['vocal', 'ist'], ['viol', 'in'], ['fe', 'ast'], ['emer', 'itus'], ['stre', 'ep'], ['fund', 'ing'], ['er', 'ick'], ['abol', 'ition'], ['def', 'lect'], ['so', 'to'], ['or', 'deal'], ['lam', 'b'], ['equiv', 'oc'], ['f', 'ans'], ['m', 'ation'], ['bl', 'ake'], ['s', 'cru'], ['me', 'gan'], ['ubi', 'quit'], ['arch', 'ive'], ['on', 'ial'], ['home', 'work'], ['er', 'ik'], ['tim', 'ber'], ['23', '7'], ['pul', 'itzer'], ['ba', 'ek'], ['lovak', 'ia']]\n",
      "[['chore', 'o'], ['py', 'ram'], ['be', 'ir'], ['br', 'an'], ['cor', 'ruption'], ['t', 'sun'], ['port', 'man'], ['irr', 'itat'], ['scrutin', 'iz'], ['leis', 'ur'], ['y', 'ong-'], ['typho', 'on'], ['un', 'ci'], ['it', 'ian'], ['riy', 'adh'], ['recept', 'or'], ['dis', 'cern'], ['wel', 'sh'], ['cur', 'iel'], ['w', 's'], ['ra', 'z'], ['o', 'bey'], ['ident', 'ifies'], ['se', 'bast'], ['arn', 'a'], ['form', 'id'], ['re', 'boot'], ['t', 'ant'], ['psy', 'cho'], ['sant', 'orum'], ['nur', 'tur'], ['in', 'ction'], ['return', 's'], ['stag', 'nat'], ['stock', 'pil'], ['sun', 'light'], ['evolution', 'ary'], ['go', 'th'], ['jama', 'ica'], ['ger', 'ry'], ['26', '.'], ['ny', 't'], ['hyster', 'ia'], ['div', 'in'], ['hypo', 'thesis'], ['infin', 'ite'], ['on', 'ion'], ['hard', 'en'], ['brook', 'ing'], ['web', 'b']]\n",
      "[['ce', 'lt'], ['m', 'ell'], ['k', 'ather'], ['pan', 'ick'], ['en', 'rol'], ['refer', 'e'], ['tre', 'ss'], ['b', 'unk'], ['lo', 'gan'], ['ut', 'ch'], ['tum', 'ult'], ['ecolog', 'ical'], ['sy', 'non'], ['ba', 'iley'], ['com', 'et'], ['pen', 'guin'], ['v', 'ander'], ['fitz', 'gerald'], ['ham', 'mond'], ['s', 'f'], ['um', 'a'], ['sp', 'awn'], ['plant', 'ation'], ['break', 'up'], ['al', 'o'], ['ill', 'icit'], ['orthodox', 'y'], ['kather', 'ine'], ['et', 'ical'], ['intox', 'icat'], ['so-', 'called'], ['lun', 'ar'], ['in', 'cur'], ['di', 'at'], ['pl', 'ott'], ['fellow', 'ship'], ['over', 'shadow'], ['h', 'iro'], ['cum', 'ber'], ['syn', 'thetic'], ['theor', 'ist'], ['w', 'p'], ['lugg', 'age'], ['cr', 'aw'], ['g', 'own'], ['la', 'z'], ['prolif', 'ic'], ['con', 'stand'], ['per', 'vas'], ['n', 'hl']]\n",
      "iter_number :12500, voc_volume : 12469\n"
     ]
    },
    {
     "data": {
      "application/vnd.jupyter.widget-view+json": {
       "model_id": "a272065f5d3948ffb5d15501eb473de2",
       "version_major": 2,
       "version_minor": 0
      },
      "text/plain": [
       "  0%|          | 0/250 [00:00<?, ?it/s]"
      ]
     },
     "metadata": {},
     "output_type": "display_data"
    },
    {
     "name": "stdout",
     "output_type": "stream",
     "text": [
      "[['side', 's'], ['b', 'affl'], ['re', 'spir'], ['for', 'med'], ['formid', 'able'], ['sch', 'wart'], ['nat', 'ure'], ['pier', 're'], ['cor', 'ny'], ['t', 'ac'], ['hydr', 'a'], ['over', 'seas'], ['unve', 'il'], ['pres', 'sure'], ['iel', 'der'], ['ian', 'o'], ['sch', 'ill'], ['reci', 'pro'], ['hoff', 'man'], ['d', 'wind'], ['inter', 'val'], ['slo', 'ven'], ['ject', 'ed'], ['k', 'not'], ['nu', 'cle'], ['den', 'om'], ['cover', 't'], ['videot', 'ap'], ['tyr', 'anny'], ['k', 'ash'], ['entire', 'ty'], ['sn', 'apped'], ['ur', 'ine'], ['buchan', 'an'], ['project', 's'], ['lev', 'y'], ['fo', 'il'], ['resid', 'ency'], ['bal', 'kan'], ['ro', 'ach'], ['head', 'phone'], ['mission', 'ary'], ['master', 'piece'], ['synon', 'ym'], ['kin', 'son'], ['f', 'aint'], ['aco', 'sta'], ['wo', 'e'], ['organization', 'al'], ['cycl', 'one']]\n",
      "[['chair', 'woman'], ['thi', 'est'], ['pervas', 'ive'], ['provis', 'ional'], ['gram', 'mar'], ['fatal', 'ities'], ['integr', 'al'], ['ve', 'gan'], ['off', 'season'], ['ubiquit', 'ous'], ['work', 'ed'], ['it', 'ious'], ['develop', 'mental'], ['cole', 'man'], ['room', 'mate'], ['for', 'te'], ['he', 'it'], ['rod', 'ger'], ['en', 'quir'], ['exp', 'ulsion'], ['batt', 'al'], ['stu', 'art'], ['sal', 'mon'], ['mor', 'se'], ['horr', 'ified'], ['advant', 'age'], ['benefic', 'iaries'], ['sle', 'ev'], ['he', 'f'], ['ext', 'ort'], ['jo', 'an'], ['gather', 'ing'], ['qu', 'ent'], ['commun', 'e'], ['den', 'i'], ['sask', 'atche'], ['saskatche', 'wan'], ['goal', 's'], ['25', '.'], ['att', 'y'], ['wh', 'im'], ['tsun', 'ami'], ['so', 'ck'], ['al', 'fr'], ['wholes', 'ale'], ['all', 'erg'], ['sp', 'ider'], ['tr', 'ench'], ['stri', 'de'], ['ven', 'ice']]\n",
      "[['full', 'er'], ['ir', 'i'], ['har', 'a'], ['re', 'morse'], ['intr', 'usion'], ['kir', 'by'], ['vit', 'amin'], ['un', 'familiar'], ['lemon', 'ade'], ['fah', 'ren'], ['perpet', 'uat'], ['miser', 'able'], ['battal', 'ion'], ['over', 'due'], ['re', 'develop'], ['sho', 'v'], ['m', 'ound'], ['remed', 'y'], ['sol', 'omon'], ['neglig', 'ence'], ['v', 'omit'], ['mer', 'rick'], ['em', 'be'], ['Q', 'u'], ['na', 'ire'], ['fet', 'al'], ['ex', 'ual'], ['et', 're'], ['em', 'ic'], ['into', 'lerance'], ['radical', 'iz'], ['supervis', 'ory'], ['spontan', 'eous'], ['can', 'vas'], ['s', 'pree'], ['all', 'er'], ['the', 'l'], ['patri', 'arch'], ['rece', 'p'], ['ker', 'r'], ['un', 'born'], ['christ', 'in'], ['advertis', 'ement'], ['bor', 'rower'], ['l', 'ent'], ['-in-', 'chief'], ['wo', 'ol'], ['cor', 'ro'], ['in', 'advert'], ['inadvert', 'ent']]\n",
      "[['man', 'it'], ['me', 'ans'], ['ex', 'on'], ['27', '.'], ['merchand', 'ise'], ['sper', 'm'], ['ir', 're'], ['tw', 'ent'], ['raid', 'er'], ['jeopard', 'iz'], ['dis', 'comfort'], ['eter', 'nal'], ['os', 'lo'], ['acqu', 'itted'], ['l', 'und'], ['link', 'edin'], ['de', 'fund'], ['gig', 'a'], ['ach', 'i'], ['19', '16'], ['d', 'war'], ['go', 'er'], ['amaz', 'ing'], ['potato', 'e'], ['short', 'en'], ['pest', 'icide'], ['xen', 'ophobia'], ['mo', 'ok'], ['ag', 'gregat'], ['shut', 'tl'], ['reminis', 'cent'], ['abo', 'o'], ['s', 'ina'], ['om', 'i'], ['conf', 'iscat'], ['circumst', 'ances'], ['sur', 'plus'], ['bon', 'uses'], ['1', '15'], ['ex', 'hibition'], ['reimbur', 's'], ['sun', 'shine'], ['ser', 'mon'], ['a', 'ult'], ['azer', 'bai'], ['azerbai', 'jan'], ['os', 'ama'], ['pen', 'ny'], ['grand', 'daughter'], ['ill', 'or']]\n",
      "[['g', 'im'], ['schwart', 'z'], ['lat', 'itude'], ['shr', 'ine'], ['ens', 'ibly'], ['sand', 'ra'], ['y', 'az'], ['min', 'u'], ['mis', 'step'], ['complicat', 'ed'], ['civilian', 's'], ['boy', 'le'], ['serge', 'i'], ['iv', 'a'], ['ib', 'm'], ['neighbour', 'hood'], ['int', 'u'], ['pe', 'e'], ['carol', 'in'], ['phon', 'es'], ['22', '.'], ['quant', 'ity'], ['gr', 'in'], ['19', '11'], ['fe', 'c'], ['ter', 'esa'], ['tru', 'c'], ['fin', 'ished'], ['kid', 'd'], ['inflam', 'matory'], ['reli', 'ance'], ['mult', 'in'], ['multin', 'ational'], ['in', 'ate'], ['bulgar', 'ia'], ['g', 'if'], ['18', '00'], ['ship', 'ped'], ['so', 'hn'], ['modif', 'ication'], ['compas', 'sion'], ['caes', 'ar'], ['out', 'skirt'], ['cum', 'ming'], ['p', 'kk'], ['dess', 'ert'], ['detect', 'or'], ['ap', 'a'], ['con', 'clusive'], ['prag', 'matic']]\n",
      "iter_number :12750, voc_volume : 12713\n"
     ]
    },
    {
     "data": {
      "application/vnd.jupyter.widget-view+json": {
       "model_id": "78787c88e85f4fcdb123b67c1841cdfa",
       "version_major": 2,
       "version_minor": 0
      },
      "text/plain": [
       "  0%|          | 0/250 [00:00<?, ?it/s]"
      ]
     },
     "metadata": {},
     "output_type": "display_data"
    },
    {
     "name": "stdout",
     "output_type": "stream",
     "text": [
      "[['berk', 'shire'], ['post', '-'], ['femin', 'ine'], ['sat', 'an'], ['out', 'number'], ['ste', 'en'], ['t', 'and'], ['app', 'all'], ['defer', 'red'], ['defin', 'ition'], ['ell', 'ar'], ['go', 'o'], ['resist', 'ant'], ['dis', 'belief'], ['sle', 'w'], ['ott', 'awa'], ['arch', 'bishop'], ['pot', 'us'], ['ske', 'w'], ['read', 'ing'], ['out', 'set'], ['sent', 'ence'], ['ag', 'itat'], ['pre', 'valent'], ['sc', 'a'], ['confid', 'ant'], ['cle', 's'], ['fug', 'itive'], ['over', 'rid'], ['recess', 'ion'], ['practic', 'es'], ['not', 'ify'], ['ct', 'v'], ['cher', 'ish'], ['pro', 'claim'], ['h', 'ull'], ['par', 'ody'], ['ch', 'u'], ['tom', 'my'], ['hallow', 'een'], ['cond', 'om'], ['pres', 'chool'], ['amph', 'i'], ['em', 'bar'], ['au', 'b'], ['k', 'un'], ['mis', 'led'], ['y', 'le'], ['y', 'el'], ['enthusia', 'st']]\n",
      "[['cave', 'at'], ['not', 'ed'], ['sang', '-'], ['plann', 'er'], ['roof', 'top'], ['omin', 'ous'], ['be', 'acon'], ['ob', 'a'], ['beat', 'le'], ['arra', 'ign'], ['encl', 'av'], ['im', 'itat'], ['ver', 'ification'], ['l', 'ain'], ['ier', 'i'], ['hu', 'go'], ['tempt', 'ation'], ['bureaucr', 'atic'], ['18', '90'], ['dan', 'i'], ['fig', 'ure'], ['ok', '.'], ['meteor', 'ological'], ['-', 'level'], ['bi', 'op'], ['str', 'ay'], ['sav', 'vy'], ['gl', 'orious'], ['ost', 'ensibly'], ['re', 'pris'], ['schwe', 'izer'], ['ast', 'r'], ['fund', 's'], ['disen', 'franchis'], ['nin', 'et'], ['fore', 'front'], ['3', '60'], ['pu', 'pil'], ['f', 'ay'], ['deriv', 'ative'], ['heavy', 'weight'], ['im', 'perfect'], ['n', 'op'], ['didn', \"'t\"], ['kath', 'leen'], ['g', 'uru'], ['erup', 't'], ['j', 'ub'], ['p', 'v'], ['about', 's']]\n",
      "[['bud', 'dy'], ['lewin', 'sky'], ['ang', 'le'], ['h', 'ate'], ['mal', 'ware'], ['patr', 'icia'], ['insu', 'lat'], ['in', 'duct'], ['i', 'enc'], ['disturb', 'ance'], ['contradict', 'ory'], ['ol', 'y'], ['pharm', 'acy'], ['radical', 'ization'], ['gian', 'forte'], ['appal', 'ach'], ['apol', 'o'], ['hin', 'der'], ['volcan', 'o'], ['ar', 'row'], ['jf', 'k'], ['to', 'd'], ['long', 'er'], ['parad', 'is'], ['imp', 'unity'], ['no', 'ver'], ['systematic', 'ally'], ['must', 'er'], ['af', 'fe'], ['hand', 'el'], ['flu', 'ct'], ['advert', 'ise'], ['23', '.'], ['gor', 'ge'], ['wi', 'zard'], ['dur', 'ation'], ['coll', 'ar'], ['ce', 'cil'], ['u.', 'n'], ['cre', 'ation'], ['cus', 'h'], ['congrat', 'ulation'], ['entertain', 'ment'], ['jo', 'han'], ['j', 'al'], ['shep', 'herd'], ['ly', 'on'], ['w', 'ink'], ['d', 'vd'], ['fl', 'irt']]\n",
      "[['c', 'ation'], ['ep', 'ip'], ['al', 'ge'], ['mater', 'nity'], ['ex', 'otic'], ['prop', 'he'], ['hob', 'by'], ['nar', 'c'], ['shar', 'on'], ['bez', 'os'], ['kat', 'rina'], ['eas', 'e'], ['un', 'nerv'], ['large', '-'], ['sil', 'k'], ['od', 'le'], ['toy', 'ota'], ['it', 'unes'], ['ex', 'cel'], ['ince', 'ption'], ['archae', 'ological'], ['myth', 'ology'], ['mon', 'ologue'], ['r', 'iff'], ['us', 'ers'], ['-', 'off'], ['ad', 'ler'], ['sar', 'a'], ['dis', 'pers'], ['on', 'ward'], ['r', 'n'], ['har', 'old'], ['petra', 'eus'], ['nas', 'c'], ['iv', 'eness'], ['recogniz', 'able'], ['bac', 'on'], ['k', 'au'], ['gren', 'ade'], ['if', 'l'], ['catalog', 'u'], ['re', 'shap'], ['ab', 'lo'], ['u', 'fc'], ['embar', 'go'], ['ann', 'on'], ['mis', 'us'], ['z', 'ip'], ['ch', 't'], ['tu', 'ber']]\n",
      "[['statut', 'ory'], ['pyram', 'id'], ['ale', 'z'], ['i', 'oc'], ['g', 'g'], ['firsth', 'and'], ['tul', 'sa'], ['short', '-'], ['fe', 'it'], ['new', 'man'], ['spot', 'ify'], ['kim', 'mel'], ['s', 'ass'], ['mal', 'aria'], ['tr', 'inity'], ['un', 'conditional'], ['filip', 'ino'], ['ray', 'mond'], ['d', 'ail'], ['bin', 'der'], ['hall', 'mark'], ['l', 'oung'], ['in', 'fur'], ['infur', 'iat'], ['out', 'dated'], ['anth', 'a'], ['sh', 'ame'], ['fin', 'nish'], ['global', 'ist'], ['dur', 'ham'], ['session', 's'], ['tang', 'ible'], ['el', 'bow'], ['advers', 'ary'], ['re', 'dem'], ['ol', 'ph'], ['prestig', 'e'], ['soci', 'ology'], ['stand', 'point'], ['subsid', 'y'], ['tha', 'ad'], ['might', 'y'], ['un', 'answered'], ['that', 'cher'], ['anc', 'he'], ['vehic', 'les'], ['conting', 'ent'], ['rich', 'er'], ['t', 'aboo'], ['bul', 'lied']]\n",
      "iter_number :13000, voc_volume : 12960\n"
     ]
    },
    {
     "data": {
      "application/vnd.jupyter.widget-view+json": {
       "model_id": "1ae256cde6c54532882b370aa8b9cc37",
       "version_major": 2,
       "version_minor": 0
      },
      "text/plain": [
       "  0%|          | 0/250 [00:00<?, ?it/s]"
      ]
     },
     "metadata": {},
     "output_type": "display_data"
    },
    {
     "name": "stdout",
     "output_type": "stream",
     "text": [
      "[['emin', 'ent'], ['wedd', 'ing'], ['teach', 'ing'], ['0', '8'], ['bl', 'ink'], ['pregn', 'ancies'], ['th', 'ia'], ['anecdot', 'e'], ['ger', 'ies'], ['gorge', 'ous'], ['me', 'g'], ['dur', 'ant'], ['tr', 'iv'], ['at', 'on'], ['neg', 'ro'], ['mer', 'ger'], ['bi', 'otech'], ['l', 'ago'], ['prosper', 'ous'], ['gag', 'a'], ['fl', 'ur'], ['controll', 'er'], ['fr', 'iction'], ['er', 'rat'], ['fi', 'ery'], ['il', 'ot'], ['dens', 'ity'], ['un', 'reasonable'], ['power', 'less'], ['water', 'way'], ['gall', 'on'], ['pas', 'se'], ['virt', 'ue'], ['ul', 'san'], [\"i'\", 'm'], ['24', '.'], ['un', 'realistic'], ['l', 'igh'], ['an', 'to'], ['dys', 'function'], ['car', 'neg'], ['carneg', 'ie'], ['rodrig', 'o'], ['red', 'skin'], ['danc', 'er'], ['if', 'a'], ['19', '13'], ['minist', 'ries'], ['en', 'z'], ['host', 'ilities']]\n",
      "[['fin', 'anci'], ['key', 'stone'], ['in', 'conven'], ['summar', 'iz'], ['s', 'app'], ['f', 'en'], ['grav', 'it'], ['je', 'alous'], ['ma', 'z'], ['fo', 'oth'], ['kk', 'k'], ['apol', 'it'], ['know', 'ing'], ['ti', 'bet'], ['s', 'ik'], ['vibr', 'ant'], ['un', 'founded'], ['real', 'tor'], ['cl', 'aw'], ['gall', 'erie'], ['cur', 'ti'], ['embold', 'ened'], ['alge', 'bra'], ['tra', 'itor'], ['cher', 'ry'], ['r', 'ano'], ['scar', 'f'], ['inform', 'ant'], ['extra', 'ordinarily'], ['mascul', 'inity'], ['w', 'd'], ['con', 'quest'], ['sl', 'ay'], ['dr', 'ap'], ['jok', 'e'], ['exem', 'ption'], ['al', 's'], ['he', 'ap'], ['be', 'ver'], ['a', 'q'], ['r', 'ica'], ['v', 'ain'], ['um', 'an'], ['beck', 'ham'], ['man', 'kind'], ['day', 'light'], ['hot', 'line'], ['cr', 'ap'], ['mc', 'ca'], ['inconven', 'ienc']]\n",
      "[['sub', 'du'], ['w', 'ess'], ['lou', 'der'], ['ste', 'ward'], ['dwar', 'f'], ['ang', 'ola'], ['greg', 'ation'], ['washington', 'post'], ['den', 'ot'], ['resourc', 'es'], ['si', 'us'], ['commod', 'ities'], ['remain', 'der'], ['bot', 'an'], ['im', 'passe'], ['s', 'cour'], ['-', 'si'], ['method', 'ist'], ['v', 'ap'], ['19', '14'], ['semi', '-'], ['hier', 'archy'], ['celt', 'ic'], ['t', 'aco'], ['par', 'ameter'], ['compo', 'ser'], ['sabot', 'ag'], ['o', 'de'], ['tomato', 'es'], ['gonz', 'alez'], ['dog', 'ged'], ['19', '15'], ['uk', 'ip'], ['sh', 'red'], ['t', 'idal'], ['st', 'own'], ['scot', 'ia'], ['motor', 'ist'], ['sanction', 's'], ['wiret', 'app'], ['for', 'gett'], ['under', 'wear'], ['connect', 'ed'], ['success', 'ive'], ['mel', 'o'], ['l', 'app'], ['el', 'dest'], ['ern', 'est'], ['redact', 'ed'], ['stephan', 'opoulos']]\n",
      "[['the', 'ological'], ['pre', 'empt'], ['shin', 'zo'], ['detr', 'iment'], ['wreck', 'age'], ['blood', 'shed'], ['la', 'zy'], ['com', 'position'], ['ind', 'y'], ['n', 'im'], ['hom', 'em'], ['trum', 'pet'], ['measure', 's'], ['batt', 'led'], ['s', 'ville'], ['lo', 'k'], ['appe', 'as'], ['geopolit', 'ical'], ['encyclop', 'edia'], ['k', 'ara'], ['tent', 'ative'], ['c', 'ca'], ['over', 'saw'], ['ir', 'k'], ['counter', 'productive'], ['ch', 'ast'], ['w', 'end'], ['con', 'don'], ['k', 'agan'], ['sett', 'ler'], ['ment', 'ed'], ['con', 'junction'], ['com', 'plac'], ['profit', 'ability'], ['19', '23'], ['g', 'iver'], ['l', 'ust'], ['liber', 'ia'], ['mish', 'and'], ['u.', 's.'], ['refr', 'iger'], ['shrug', 'ged'], ['magn', 'ific'], ['autop', 'ilot'], ['push', 'back'], ['car', 'icat'], ['assign', 'ment'], ['period', 'ical'], ['el', 'usive'], ['tr', 'il']]\n",
      "[['account', 'ant'], ['em', 'battled'], ['new', 'er'], ['happ', 'ens'], ['commission', 'er'], ['fr', 'y'], ['tract', 'ed'], ['bern', 'stein'], ['partner', 's'], ['day', 'ton'], ['challeng', 'es'], ['set', 'up'], ['i', 'y'], ['av', 'al'], ['where', 'abouts'], ['narcis', 'sist'], ['perpet', 'ual'], ['in', 'competence'], ['al', 'icia'], ['gr', 'a'], ['pe', 'cul'], ['fear', 'less'], ['glas', 'ses'], ['black', 'mail'], ['non', 'white'], ['detr', 'actor'], ['dwind', 'l'], ['second', '-'], ['child', 'care'], ['volley', 'ball'], ['mis', 'ery'], ['wor', 'ris'], ['worris', 'ome'], ['re', 'a'], ['har', 'i'], ['ple', 'x'], ['pro', 'tracted'], ['mc', 'aul'], ['mcaul', 'iffe'], ['respon', 'ded'], ['all', 'ud'], ['for', 'ty'], ['rig', 'id'], ['pl', 'ag'], ['under', 'taken'], ['mum', 'bai'], ['mac', 'arthur'], ['voy', 'ag'], ['pecul', 'iar'], ['p', 'b']]\n",
      "iter_number :13250, voc_volume : 13206\n"
     ]
    },
    {
     "data": {
      "application/vnd.jupyter.widget-view+json": {
       "model_id": "f64f5fbc4def4bf882a103ca3128b607",
       "version_major": 2,
       "version_minor": 0
      },
      "text/plain": [
       "  0%|          | 0/250 [00:00<?, ?it/s]"
      ]
     },
     "metadata": {},
     "output_type": "display_data"
    },
    {
     "name": "stdout",
     "output_type": "stream",
     "text": [
      "[['juda', 'ism'], ['ber', 'at'], ['parano', 'ia'], ['read', 's'], ['promot', 'ional'], ['happ', 'ier'], ['il', 'led'], ['ica', 'hn'], ['opport', 'un'], ['t', 'ory'], ['aw', 'ake'], ['equivoc', 'al'], ['material', 'iz'], ['now', 'ad'], ['nowad', 'ays'], ['ha', 'j'], ['up', 'heav'], ['smuggl', 'er'], ['ext', 'inguish'], ['plummet', 'ed'], ['entr', 'enched'], ['ab', 'ound'], ['charism', 'atic'], ['ce', 'ster'], ['chat', 'ter'], ['1980', 's'], ['arct', 'ica'], ['victor', 'ian'], ['recent', 'ly'], ['tur', 'nover'], ['turn', 'around'], ['is', 'se'], ['w', 'ah'], ['ble', 'ach'], ['nord', 'strom'], ['water', 'board'], ['cus', 's'], ['right', '-'], ['dis', 'content'], ['g', 'up'], ['warm', 'bier'], ['s', 'ow'], ['bid', 'der'], ['m', 'ash'], ['narc', 'otic'], ['announc', 'ed'], ['hard', 'line'], ['barr', 'ag'], ['perpe', 'trat'], ['power', 'house']]\n",
      "[['parent', 'al'], ['graff', 'iti'], ['argent', 'ine'], ['br', 'itt'], ['z', 'ing'], ['bar', 'ron'], ['up', 'tick'], ['membr', 'ane'], ['f', 'alter'], ['nic', 'he'], ['im', 'pover'], ['ul', 's'], ['hand', 'ed'], ['ped', 'ro'], ['sen', 'egal'], ['se', 'ld'], ['f', 'ountain'], ['me', 'than'], ['exp', 'edition'], ['scor', 'n'], ['mut', 'ation'], ['cho', 'ices'], ['2', '40'], ['out', 'post'], ['separat', 'ist'], ['st', 'ed'], ['adjust', 'ment'], ['ant', 'arctica'], ['sl', 'ain'], ['brit', 'on'], ['sp', 'a'], ['feas', 'ible'], ['up', 's'], ['capit', 'a'], ['creep', 'y'], ['heart', 'land'], ['bre', 'ez'], ['mishand', 'l'], ['ff', 'y'], ['19', '26'], ['r', 'ory'], ['upheav', 'al'], ['braz', 'en'], ['190', '6'], ['pal', 'at'], ['co', 'v'], ['stat', 'ed'], ['t', 'read'], ['flur', 'ry'], ['resolv', 'ed']]\n",
      "[['un', 'iv'], ['ad', 'ri'], ['g', 'lar'], ['hb', '2'], ['gen', 'etical'], ['opponent', 's'], ['is', 'y'], ['fr', 'enzy'], ['cam', 'bo'], ['cambo', 'dia'], ['satis', 'factory'], ['am', 'as'], ['best', 'selling'], ['dis', 'illusion'], ['maf', 'ia'], ['h', 'agen'], ['contrac', 'ept'], ['tou', 'g'], ['toug', 'hest'], ['simpl', 'er'], ['j', 'arr'], ['t', 'ipp'], ['animal', 's'], ['all', 'ison'], ['ab', 'bey'], ['pro', 'active'], ['discre', 'p'], ['final', 'ist'], ['will', 'ful'], ['ts', 'arna'], ['access', 'ories'], ['sor', 'row'], ['nomin', 'al'], ['ab', 'dom'], ['dead', 'lock'], ['ire', 'd'], ['for', 'got'], ['s', 'quir'], ['g', 'inger'], ['commut', 'ation'], ['flip', 'ped'], ['mal', 'ik'], ['s', 'z'], ['cr', 'ab'], ['ac', 'ou'], ['il', 'ion'], ['stal', 'in'], ['central', 'iz'], ['dod', 'ger'], ['accus', 'er']]\n",
      "[['pr', 'ank'], ['-', 'general'], ['ac', 'custom'], ['ave', 'z'], ['non-', 'profit'], ['com', 'a'], ['chal', 'k'], ['abul', 'ary'], ['sh', 'ore'], ['to', 'om'], ['eg', 'ger'], ['in', 'security'], ['int', 'est'], ['ath', 'y'], ['hor', 'owitz'], ['v', 'int'], ['ge', 'e'], ['ap', 'ar'], ['neur', 'on'], ['smith', 'son'], ['beir', 'ut'], ['af', 'ar'], ['al', 'es'], ['u', 'pl'], ['manit', 'oba'], ['jer', 'om'], ['jerom', 'ee'], ['jeromee', 'hudson'], ['am', 'use'], ['si', 'ber'], ['ic', 'ester'], ['intermedi', 'ate'], ['courage', 'ous'], ['p', 'sa'], ['est', 'onia'], ['19', '25'], ['expect', 'ations'], ['unci', 'ation'], ['wag', 'on'], ['accustom', 'ed'], ['plag', 'iar'], ['hum', 'ility'], ['fl', 'ush'], ['qu', 'ish'], ['califor', 'n'], ['my', 'ra'], ['ri', 'pp'], ['loo', 'sen'], ['im', 'age'], ['is', 'k']]\n",
      "[['pl', 'ow'], ['ar', 'ma'], ['a', 'verage'], ['gate', 'way'], ['pri', 'x'], ['la', 'us'], ['disband', 'ed'], ['en', 'berg'], ['r', 'b'], ['triv', 'ial'], ['cept', 'ive'], ['re', 'yes'], ['coll', 'ud'], ['op', 's'], ['pol', 'o'], ['expans', 'ive'], ['answer', 's'], ['fl', 'ar'], ['large-', 'scal'], ['m', 'vp'], ['in', 'ho'], ['roman', 'ian'], ['pt', 'ic'], ['f', 'ielder'], ['m', 'n'], ['restrict', 'ive'], ['different', 'ly'], ['sustain', 'ability'], ['rub', 'in'], ['190', '3'], ['tsarna', 'ev'], ['pack', 'er'], ['yemen', 'i'], ['before', 'hand'], ['10', '5'], ['b', 'ass'], ['tril', 'ogy'], ['deep', 'est'], ['bis', 'exual'], ['vot', 'ing'], ['states', 'man'], ['desper', 'at'], ['critic', 'is'], ['vas', 'cular'], ['z', 'amb'], ['f', 'ian'], ['mem', 'phis'], ['kat', 'z'], ['lum', 'ber'], ['ak', 'is']]\n",
      "iter_number :13500, voc_volume : 13450\n"
     ]
    },
    {
     "data": {
      "application/vnd.jupyter.widget-view+json": {
       "model_id": "8ca11d916c7e4845b8a53475119f61ee",
       "version_major": 2,
       "version_minor": 0
      },
      "text/plain": [
       "  0%|          | 0/250 [00:00<?, ?it/s]"
      ]
     },
     "metadata": {},
     "output_type": "display_data"
    },
    {
     "name": "stdout",
     "output_type": "stream",
     "text": [
      "[['flu', 'c'], ['int', 'ake'], ['w', 'inst'], ['il', 'legitimate'], ['maced', 'onia'], ['scul', 'pt'], ['le', 'icester'], ['ram', 'ire'], ['ramire', 'z'], ['pr', 'y'], ['st', 'it'], ['ort', 'iz'], ['ram', 'o'], ['glas', 'gow'], ['sponsor', 'ship'], ['protection', 'ism'], ['inspect', 'ion'], ['green', 'land'], ['mo', 'ody'], ['out', 'lier'], ['screen', 'ing'], ['investor', 's'], ['hum', 'id'], ['cun', 'ning'], ['ge', 'un'], ['spin', 'ning'], ['hab', 'er'], ['consumer', 's'], ['investigation', 's'], ['or', 'ch'], ['jo', 'o'], ['sur', 'geries'], ['ch', 'avez'], ['redem', 'ption'], ['kel', 'logg'], ['ri', 'ad'], ['am', 'al'], ['fer', 'nand'], ['l', 'itter'], ['lim', 'bo'], ['champ', 'agne'], ['fore', 'see'], ['vis', 'ibility'], ['hand', 'some'], ['abund', 'ance'], ['wh', 'a'], ['olv', 'es'], ['un', 'conventional'], ['ho', 're'], ['ev', 'es']]\n",
      "[['lam', 'p'], ['e', 'enth'], ['vic', 'es'], ['str', 'ange'], ['select', 'ion'], ['contrad', 'iction'], ['5', 'g'], ['protection', 'ist'], ['bill', 's'], ['gu', 'er'], ['toom', 'ey'], ['colon', 'ie'], ['protest', 'ers'], ['bullet', 'in'], ['acou', 'stic'], ['ag', 'ogue'], ['bre', 'tt'], ['plu', 'to'], ['ac', 'hed'], ['m', 'cl'], ['r', 'au'], ['contin', 'ue'], ['day', 'time'], ['ml', 'b'], ['cat', 'cher'], ['29', '.'], ['infer', 'ior'], ['bio', 'graphical'], ['wiret', 'ap'], ['bar', 'clay'], ['gup', 'ta'], ['consu', 'l'], ['diplom', 'a'], ['wik', 'ip'], ['ic', 'ate'], ['ev', 'ap'], ['accommod', 'ation'], ['gre', 'ed'], ['he', 'ath'], ['yu', 'go'], ['bor', 'ne'], ['ren', 'o'], ['statement', 's'], ['olympic', 's'], ['pos', 'session'], ['ox', 'ide'], ['capt', 'ivity'], ['sina', 'i'], ['sch', 'iz'], ['jen', 'ny']]\n",
      "[['up', 'state'], ['br', 'istol'], ['terr', 'ac'], ['politician', 's'], ['rip', 'pl'], ['open', 'ing'], ['am', 'pton'], ['hon', 'da'], ['apocaly', 'pse'], ['sam', 'antha'], ['sc', 'and'], ['arl', 'ington'], ['californ', 'ian'], ['arrest', 'ed'], ['confin', 'e'], ['sit', 'u'], ['d', 'amp'], ['yugo', 'slav'], ['num', 'b'], ['adul', 'thood'], ['bay', 'lor'], ['ed', 'i'], ['alb', 'any'], ['kis', 'singer'], ['om', 'etre'], ['cut', 's'], ['con', 'cuss'], ['o', 'to'], ['plate', 'au'], ['li', 'bel'], ['ic', 'idal'], ['cyn', 'thia'], ['princ', 'ip'], ['defens', 'ible'], ['flo', 're'], ['chuck', 'l'], ['un', 'pleasant'], ['persu', 'asive'], ['fre', 'ight'], ['z', 'an'], ['mis', 'carriage'], ['sp', 'un'], ['siz', 'able'], ['nat', 'ch'], ['pav', 'ilion'], ['arab', 'ian'], ['in', 'ed'], ['2', '20'], ['50', '.'], ['wikip', 'edia']]\n",
      "[['n', 'il'], ['19', '31'], ['corny', 'n'], ['el', 'lo'], ['re', 'tribut'], ['col', 'lateral'], ['warm', 'th'], ['6', '50'], ['h', 'ilton'], ['n', 'l'], ['electr', 'on'], ['guerr', 'illa'], ['ro', 'am'], ['bulld', 'og'], ['war', 'plane'], ['per', 'kin'], ['campaign', 's'], ['best', '-'], ['paraly', 'm'], ['protect', 'or'], ['tip', 'ped'], ['super', 'power'], ['broad', 'band'], ['kath', 'y'], ['univer', 'se'], ['death', 's'], ['chall', 'enger'], ['31', 'st'], ['rival', 'ry'], ['continu', 'ation'], ['raf', 'ael'], ['inv', 'asive'], ['be', 'hold'], ['ev', 'ict'], ['jer', 'k'], ['ve', 'er'], ['alle', 'viat'], ['treat', 'ies'], ['c', 'ise'], ['l', 'of'], ['carp', 'enter'], ['fr', 'antic'], ['x', 'x'], ['entire', 'ly'], ['crypto', 'currency'], ['ther', 'mal'], ['blo', 'ss'], ['nav', 'arro'], ['refriger', 'ator'], ['wi', 'ther']]\n",
      "[['coast', 'line'], ['compl', 'icit'], ['49', 'er'], ['sebast', 'ian'], ['encrypt', 'ed'], ['sch', 'laf'], ['schlaf', 'ly'], ['y', 'uk'], ['text', 'ile'], ['influ', 'ence'], ['short', 'coming'], ['narrat', 'or'], ['by', '.'], ['kil', 'ometre'], ['start', 'ed'], ['de', 'ceiv'], ['stip', 'ulat'], ['bare', 'un'], ['28', '.'], ['war', 'ship'], ['under', 'went'], ['birth', 'place'], ['de', 'pot'], ['paras', 'ite'], ['smithson', 'ian'], ['pt', 'sd'], ['play', 'boy'], ['str', 'ic'], ['cel', 'sius'], ['de', 'x'], ['rid', 'ge'], ['ab', 'del'], ['re', 'take'], ['wag', 'ner'], ['om', 'n'], ['ven', 'ge'], ['man', 'tra'], ['surpris', 'e'], ['pre', 'fect'], ['opt', 'ic'], ['ed', 'ge'], ['armen', 'ian'], ['memor', 'and'], ['memorand', 'um'], ['in', 'fan'], ['infan', 'try'], ['ol', 'i'], ['st', 'ard'], ['anxi', 'eties'], ['vint', 'age']]\n",
      "iter_number :13750, voc_volume : 13696\n"
     ]
    },
    {
     "data": {
      "application/vnd.jupyter.widget-view+json": {
       "model_id": "3cf5ea51e6b54e6a8fb0cc4809720748",
       "version_major": 2,
       "version_minor": 0
      },
      "text/plain": [
       "  0%|          | 0/250 [00:00<?, ?it/s]"
      ]
     },
     "metadata": {},
     "output_type": "display_data"
    },
    {
     "name": "stdout",
     "output_type": "stream",
     "text": [
      "[['depend', 'ence'], ['her', 'bert'], ['co', 'vet'], ['cb', 'p'], ['any', 'l'], ['tm', 'z'], ['k', 'ok'], ['angel', 'o'], ['gr', 'it'], ['read', 'iness'], ['retribut', 'ion'], ['caricat', 'ur'], ['s', 'v'], ['up', 'beat'], ['ill', 'i'], ['et', 'al'], ['valent', 'in'], ['bomb', 'shell'], ['franch', 'ise'], ['stric', 'ter'], ['b', 'av'], ['real', 'ization'], ['str', 'al'], ['cy', 'nic'], ['measure', 'ment'], ['18', '80'], ['dah', 'l'], ['bin', 'ary'], ['cr', 'ied'], ['bloss', 'om'], ['black', 'list'], ['tri', 'ent'], ['fr', 'ies'], ['parano', 'id'], ['ator', 'ium'], ['wit', 'z'], ['ide', 's'], ['fa', 'a'], ['mat', 'es'], ['impeach', 'ment'], ['au', 'ster'], ['aero', 'space'], ['not', 'ch'], ['s', 'ip'], ['discre', 'tion'], ['cr', 'ust'], ['la', 'o'], ['c', 'ay'], ['tod', 'dl'], ['croat', 'ia']]\n",
      "[['le', 'bron'], ['anal', 'ogy'], ['bi', 'ed'], ['ch', 'eryl'], ['vandal', 'ism'], ['uz', 'bek'], ['am', 'el'], ['contracept', 'ive'], ['tin', 'der'], ['b', 'ould'], ['over', 'blown'], ['pas', 'sed'], ['em', 'igrat'], ['add', 'l'], ['rock', 'ef'], ['shel', 'by'], ['lon', 'el'], ['real', 'ism'], ['hy', 'de'], ['to', 'ken'], ['per', 'ennial'], ['ze', 'it'], ['dis', 'qualify'], ['mil', 'bank'], ['cau', 'cas'], ['lar', 'g'], ['p', 'esh'], ['stem', 'm'], ['p', 'yeong'], ['upro', 'ar'], ['0', '3'], ['n', 'au'], ['disgrac', 'eful'], ['cal', 'vin'], ['deb', 'acle'], ['off', 'ence'], ['b', 'ine'], ['mul', 'lin'], ['de', 'duction'], ['en', 'cod'], ['notic', 'ed'], ['clar', 'ence'], ['co', '2'], ['tre', 'vor'], ['methan', 'e'], ['re', 'start'], ['wel', 'd'], ['un', 'equivocal'], ['arm', 's'], ['at', 'la']]\n",
      "[['st', 'ifl'], ['opt', 'ical'], ['rockef', 'eller'], ['stake', 'holder'], ['st', 'ellar'], ['ster', 'oid'], ['zamb', 'ia'], ['an', 'or'], ['contain', 'er'], ['0', '1'], ['cl', 'utch'], ['ne', 'arest'], ['li', 'u'], ['hy', 'gi'], ['cross', 'road'], ['p', 'g'], ['n', 'int'], ['nint', 'endo'], ['r', 'end'], ['pus', 'sy'], ['out', 'age'], ['190', '7'], ['kur', 'dist'], ['kurdist', 'an'], ['ghost', 'buster'], ['3', '1.'], ['tr', 'unk'], ['liqu', 'or'], ['un', 'think'], ['un', 'disclosed'], ['ch', 'ord'], ['sty', 'list'], ['ur', 't'], ['haw', 'ai'], ['am', 'mon'], ['190', '9'], ['ev', 'o'], ['0', '2'], ['bal', 'con'], ['intu', 'itive'], ['fest', 'ivities'], ['per', 'tain'], ['de', 'vices'], ['ear', 'ner'], ['honor', 'able'], ['wa', 'x'], ['ven', 'ant'], ['ped', 'dl'], ['f', 'itted'], ['cosm', 'opolit']]\n",
      "[['cosmopolit', 'an'], ['wh', 'il'], ['im', 'person'], ['cre', 'sc'], ['talk', 's'], ['continu', 'es'], ['k', '-'], ['defam', 'ation'], ['fright', 'ened'], ['0', '9'], ['schiz', 'oph'], ['schizoph', 'ren'], ['cl', 'ot'], ['y', 'og'], ['att', 'est'], ['kr', 'istol'], ['profess', 'ion'], ['e', 'a'], ['fent', 'anyl'], ['ab', 'stain'], ['sin', 'ister'], ['fab', 'ulous'], ['ty', 'son'], ['oc', 'y'], ['ance', 'stry'], ['gu', 'ay'], ['collabor', 'ative'], ['deliver', 'ies'], ['u', 'top'], ['in', 'av'], ['te', 'e'], ['re', 'write'], ['whil', 'st'], ['im', 'es'], ['madd', 'ow'], ['well-', 'known'], ['mot', 'to'], ['ge', 'y'], ['d', 'mit'], ['gl', 'ut'], ['al', 'ib'], ['f', 'end'], ['jor', 'g'], ['dep', 'let'], ['sus', 'cept'], ['re', 'ate'], ['he', 'a'], ['ha', 'itian'], ['ship', 'ment'], ['craw', 'ford']]\n",
      "[['centr', 'ic'], ['secret', 'ive'], ['shot', 'gun'], ['1', '12'], ['lia', 'ison'], ['method', 'ology'], ['exxon', 'mobil'], ['hydr', 'at'], ['winst', 'on'], ['esh', 'ift'], ['kn', 'ives'], ['she', 'pard'], ['bar', 'o'], ['deter', 'red'], ['scal', 'ise'], ['desp', 'is'], ['ky', 'r'], ['fow', 'ler'], ['p', 'unit'], ['log', 'ist'], ['cl', 'ad'], ['mar', 'lin'], ['mon', 'ro'], ['government', 's'], ['sp', 'inal'], ['sol', 'ic'], ['tu', 'ck'], ['unthink', 'able'], ['thir', 'teen'], ['pill', 'ow'], ['d', 'ion'], ['retire', 'ment'], ['break', 'er'], ['accompl', 'ice'], ['note', 'worthy'], ['bak', 'ery'], ['ana', 'han'], ['with', 'held'], ['es', 'co'], ['i', 'ke'], ['custom', 'iz'], ['z', 'ink'], ['bank', 's'], ['hop', 'p'], ['id', 'lib'], ['or', 'acle'], ['sh', 'ale'], ['magnific', 'ent'], ['appreh', 'ended'], ['obl', 'iv']]\n",
      "iter_number :14000, voc_volume : 13942\n"
     ]
    },
    {
     "data": {
      "application/vnd.jupyter.widget-view+json": {
       "model_id": "7af81577310c4ee9a2afe5f745ca36d4",
       "version_major": 2,
       "version_minor": 0
      },
      "text/plain": [
       "  0%|          | 0/250 [00:00<?, ?it/s]"
      ]
     },
     "metadata": {},
     "output_type": "display_data"
    },
    {
     "name": "stdout",
     "output_type": "stream",
     "text": [
      "[['epip', 'en'], ['c', 'air'], ['path', 'ogen'], ['d', 'ried'], ['hit', 'ch'], ['sl', 'um'], ['punit', 'ive'], ['v', 'od'], ['deterr', 'ent'], ['un', 'intended'], ['ep', 'iscop'], ['respect', 'ively'], ['evap', 'orat'], ['mill', 'enn'], ['millenn', 'ium'], ['st', 'itch'], ['butter', 'fly'], ['class', 'ify'], ['tiff', 'any'], ['s', 'warm'], ['ri', 'um'], ['con', 'ception'], ['im', 'mers'], ['salv', 'ation'], ['s', 'as'], ['dash', 'board'], ['y', 'acht'], ['hen', 'ri'], ['mort', 'ar'], ['guz', 'm'], ['my', 'er'], ['draw', 'ing'], ['con', 'spic'], ['conspic', 'uous'], ['im', 'a'], ['reluct', 'ance'], ['u', 'h'], ['t', 'roy'], ['total', 'itarian'], ['t', 'ighter'], ['play', 'ful'], ['k', 'lux'], ['purpo', 'ses'], ['off', 'line'], ['sed', 'an'], ['dispar', 'ity'], ['cris', 'p'], ['impover', 'ished'], ['ph', '.'], ['favour', 'ite']]\n",
      "[['m', 'ander'], ['joel', 'pollak'], ['cur', 'at'], ['w', 're'], ['z', 'ach'], ['vine', 'yard'], ['dail', 'y'], ['mo', 'de'], ['enrol', 'lee'], ['il', 'legally'], ['u.s.', '-'], ['meas', 'les'], ['u', 'pr'], ['paralym', 'pic'], ['con', 'figur'], ['ef', 'ield'], ['kat', 'y'], ['gr', 'az'], ['fre', 'est'], ['ted', 'dy'], ['ens', 'lav'], ['bli', 'zz'], ['tam', 'il'], ['ant', 'agon'], ['the', 'id'], ['hawk', 'ish'], ['sales', 'man'], ['zimmer', 'man'], ['trans', 'gress'], ['power', 's'], ['stream', 'lin'], ['excav', 'at'], ['respir', 'atory'], ['hot', 'test'], ['bos', 'nia'], ['nu', 'trient'], ['w', 'ong'], ['stress', 'ful'], ['ga', 'ard'], ['r', 'aven'], ['ch', 'apo'], ['jin', '-'], ['opp', 'y'], ['auditor', 'ium'], ['w', 'olves'], ['bre', 'd'], ['voc', 'abulary'], ['ro', 'be'], ['alter', 'cation'], ['siz', 'e']]\n",
      "[['ad', 'l'], ['ren', 'zi'], ['negotiation', 's'], ['hud', 'dl'], ['rain', 'fall'], ['s', 'by'], ['mira', 'e'], ['applic', 'able'], ['high', 'land'], ['ar', 'ise'], ['ra', 'th'], ['lind', 'say'], ['p', 'ander'], ['mer', 'ga'], ['trill', 'ion'], ['not', 'ion'], ['parad', 'ig'], ['demol', 'ition'], ['us', 'age'], ['or', 'b'], ['dil', 'ut'], ['surround', 'ing'], ['der', 'id'], ['under', 'stat'], ['gent', 'r'], ['unes', 'co'], ['quant', 'ities'], ['cl', 'ing'], ['debat', 'es'], ['i', 'encies'], ['warm', 'ing'], ['o', \"'\"], ['base', 'less'], ['anatom', 'y'], ['dr', 'udge'], ['af', 'fin'], ['but', 'cher'], ['bould', 'er'], ['dis', 'ruption'], ['twenty', '-'], ['gym', 'nas'], ['re', 'but'], ['ri', 'z'], ['un', 'equal'], ['apar', 'theid'], ['comp', 'el'], ['in', 'action'], ['univ', 'ision'], ['pa', '.'], ['1', '000']]\n",
      "[['start', '-up'], ['ham', 'burg'], ['met', 'abol'], ['mig', 'uel'], ['map', 'le'], ['rev', 'amp'], ['o', 'ge'], ['bur', 'nett'], ['sh', 'annon'], ['grid', 'lock'], ['l', 'ough'], ['bar', 'rett'], ['pitch', 'er'], ['can', \"'t\"], ['goal', 'keeper'], ['question', 'naire'], ['blizz', 'ard'], ['enc', 'il'], ['jo', 'hann'], ['ern', 'st'], ['ser', 'ena'], ['play', 'list'], ['round', 'up'], ['mach', 'ine'], ['tam', 'per'], ['leagu', 'es'], ['h', 'ound'], ['micro', 'be'], ['gy', 'psy'], ['paul', 'a'], ['zz', 'a'], ['col', 'ise'], ['cle', 'ans'], ['revital', 'iz'], ['block', 'ad'], ['ch', 'ul'], ['li', 'abilities'], ['gymnas', 'ium'], ['com', 'bust'], ['fam', 'ine'], ['alib', 'aba'], ['s', 'cann'], ['brag', 'ged'], ['neg', 'at'], ['der', 'm'], ['t', 'angl'], ['my', 'riad'], ['r', 'aft'], ['dou', 'ble'], ['su', 'z']]\n",
      "[['ben', 'ign'], ['in', 'el'], ['ard', 'ent'], ['com', 'cast'], ['up', 'bring'], ['co', 'hes'], ['comb', 'ative'], ['ae', 'des'], ['a', 'vert'], ['stri', 'ker'], ['lonel', 'iness'], ['mo', 'dule'], ['re', 'gress'], ['dw', 'ight'], ['cler', 'gy'], ['common', 'place'], ['per', 'k'], ['ab', 'des'], ['abdes', 'lam'], ['gil', 'mor'], ['d', 'jok'], ['re', 'written'], ['slip', 'per'], ['out', 'burst'], ['har', 'bour'], ['s', 'ark'], ['pol', 'ite'], ['tap', 'e'], ['satur', 'at'], ['c', 's'], ['leban', 'ese'], ['l', 'ance'], ['diver', 'g'], ['colise', 'um'], ['attr', 'action'], ['mis', 'understood'], ['epide', 'mi'], ['v', 're'], ['es', 'c'], ['rand', 'y'], ['im', 'print'], ['weal', 'thiest'], ['are', 's'], ['re', 'en'], ['magn', 'ate'], ['jen', 'ning'], ['pre', 'exist'], ['c', 'ctv'], ['book', 'store'], ['air', 'way']]\n",
      "iter_number :14250, voc_volume : 14185\n"
     ]
    },
    {
     "data": {
      "application/vnd.jupyter.widget-view+json": {
       "model_id": "42a6ff09837f4479ad10980caac4e7d1",
       "version_major": 2,
       "version_minor": 0
      },
      "text/plain": [
       "  0%|          | 0/250 [00:00<?, ?it/s]"
      ]
     },
     "metadata": {},
     "output_type": "display_data"
    },
    {
     "name": "stdout",
     "output_type": "stream",
     "text": [
      "[['op', 'aque'], ['wood', 'y'], ['fig', 'ures'], ['standard', 'iz'], ['ky', 'ung'], ['mak', 'eshift'], ['sat', 'irical'], ['hawai', 'ian'], ['york', 'shire'], ['k', 'owski'], ['ing', 'ham'], ['em', 'ia'], ['ma', 'o'], ['mur', 'ky'], ['cot', 'ta'], ['fun', 'nel'], ['quip', 'ped'], ['est', 'rang'], ['tweet', 's'], ['-', 'date'], ['d', 'm'], ['scr', 'aper'], ['cycl', 'ist'], ['em', 'a'], ['at', 'ur'], ['merr', 'ill'], ['lux', 'em'], ['vect', 'or'], ['upbring', 'ing'], ['be', 'et'], ['way', 'mo'], ['paradig', 'm'], ['emerg', 'encies'], ['djok', 'ovic'], ['e', 'ut'], ['k', 'ie'], ['rel', 'ish'], ['rack', 'et'], ['air', 'field'], ['whit', 'ney'], ['so', 'ak'], ['f', 'fin'], ['ep', 'stein'], ['m', 'app'], ['belief', 's'], ['stro', 'ke'], ['fisher', 'men'], ['tr', 'am'], ['m', 'ural'], ['air', 'bus']]\n",
      "[['n', 'ano'], ['compassion', 'ate'], ['an', 'arch'], ['hust', 'on'], ['chen', 'ey'], ['allow', 'ance'], ['shim', 'a'], ['boom', 'er'], ['sult', 'an'], ['ex', 'od'], ['ant', 'id'], ['mel', 'od'], ['pin', 'n'], ['ter', 'a'], ['by', 'ung-'], ['matur', 'ity'], ['bas', 'eline'], ['0', '4'], ['s', 'natch'], ['alger', 'ia'], ['incre', 'mental'], ['no', 'odle'], ['syn', 'agogue'], ['len', 'a'], ['dis', 'continu'], ['imp', 'ending'], ['bo', 'gus'], ['grac', 'ious'], ['liter', 'acy'], ['cul', 'inary'], ['as', 'y'], ['lob', 'bied'], ['pa', 'x'], ['sl', 'ing'], ['fail', 'ing'], ['solic', 'itor'], ['phenom', 'ena'], ['resil', 'ient'], ['sky', 'scraper'], ['seaf', 'ood'], ['scr', 'apped'], ['li', 'o'], ['190', '4'], ['tuber', 'cul'], ['what', 'sapp'], ['cy', 'lin'], ['kash', 'mir'], ['guar', 'ant'], ['le', 'igh'], ['c', 'p']]\n",
      "[['190', '1'], ['spring', 'steen'], ['bibli', 'o'], ['pal', 'myra'], ['involv', 'ement'], ['test', 's'], ['sympathi', 'z'], ['chip', 'otle'], ['cru', 'c'], ['euro', 'pa'], ['y', 'as'], ['astronom', 'y'], ['syn', 'thesis'], ['mon', 'archy'], ['tow', 'el'], ['scap', 'ego'], ['scapego', 'at'], ['all', 'igator'], ['out', 'ward'], ['al', 'p'], ['br', 'end'], ['esp', 'ous'], ['surv', 'ive'], ['mater', 'nal'], ['card', 'io'], ['thi', 'eves'], ['un', 'accompanied'], ['pal', 'pable'], ['bo', 'le'], ['clem', 'ency'], ['gener', 'ations'], ['vin', 'yl'], ['reli', 'ably'], ['ue', 'fa'], ['exod', 'us'], ['gl', 'oria'], ['ro', 'da'], ['p', 'unt'], ['co-', 'founder'], ['sur', 'face'], ['orient', 'al'], ['kur', 't'], ['tubercul', 'osis'], ['h', 'ok'], ['c', 'open'], ['gal', 'van'], ['promot', 'ion'], ['ho', 'op'], ['bal', 'k'], ['take', 'away']]\n",
      "[['nomine', 'es'], ['cha', 'os'], ['target', 's'], ['f', 'ib'], ['over', 'heat'], ['th', 'um'], ['gener', 'ator'], ['bar', 'ak'], ['archae', 'ologist'], ['clar', 'ification'], ['p', 'ablo'], ['it', 'ator'], ['fun', 'k'], ['prof', 'an'], ['move', 'on'], ['de', 'ference'], ['con', 'cluded'], ['100', 'th'], ['ron', 'aldo'], ['consen', 'sual'], ['cere', 'al'], ['sop', 'hom'], ['att', 'a'], ['savi', 'or'], ['de', 'ceptive'], ['scand', 'inav'], ['1970', 's'], ['re', 'invent'], ['cr', 'ut'], ['jud', 'y'], ['tu', 'be'], ['en', 'ig'], ['le', 'ck'], ['polic', 'eman'], ['ent', 'e'], ['re', 'us'], ['pre', 'car'], ['le', 'ed'], ['mor', 'rison'], ['gener', 'osity'], ['xen', 'ophobic'], ['miss', 'ing'], ['modif', 'y'], ['fer', 'nandez'], ['ad', 'rian'], ['script', 'ure'], ['off', 'spring'], ['lyn', 'don'], ['rul', 'er'], ['correct', 'ness']]\n",
      "[['art', 'icle'], ['per', 'ipher'], ['lu', 'cy'], ['s', 'ie'], ['repu', 'diat'], ['sp', 'or'], ['good', 'will'], ['j', 'iang'], ['ey', 'ew'], ['b', 'assist'], ['fel', 'ix'], ['de', 'bor'], ['ic', 'um'], ['hillary', 'clinton'], ['cl', 'ause'], ['id', 'l'], ['sens', 'ational'], ['vis', 'cer'], ['pl', 'as'], ['e', 'ul'], ['ju', 'di'], ['clay', 'ton'], ['af', 'a'], ['r', 'ama'], ['pin', 'ned'], ['net', 'te'], ['par', 'am'], ['bro', 's'], ['oc', 'ity'], ['form', 'ation'], ['demol', 'ished'], ['agre', 'ed'], ['cont', 'ag'], ['ide', 'ologies'], ['episcop', 'al'], ['onym', 'ous'], ['t', 'amp'], ['drag', 'g'], ['in', 'fus'], ['irregular', 'ities'], ['op', 'pressed'], ['b', 'az'], ['w', 'anna'], ['dar', 'ling'], ['ale', 'igh'], ['es', 'sa'], ['mut', 'at'], ['be', 'ek'], ['clo', 'thes'], ['sl', 'er']]\n",
      "iter_number :14500, voc_volume : 14433\n"
     ]
    },
    {
     "data": {
      "application/vnd.jupyter.widget-view+json": {
       "model_id": "39cf5f55775f4b41ac26af13497e904c",
       "version_major": 2,
       "version_minor": 0
      },
      "text/plain": [
       "  0%|          | 0/250 [00:00<?, ?it/s]"
      ]
     },
     "metadata": {},
     "output_type": "display_data"
    },
    {
     "name": "stdout",
     "output_type": "stream",
     "text": [
      "[['ba', 'e'], ['ra', 'i'], ['in', 'secure'], ['lo', 're'], ['z', 'hang'], ['tu', 'cker'], ['coff', 'in'], ['incap', 'able'], ['tut', 'or'], ['add', 'afi'], ['al', 'ito'], ['tr', 'ak'], ['u', 'ae'], ['matri', 'x'], ['..', '.'], ['f', 'm'], ['hav', 'oc'], ['ch', 'y'], ['mer', 'edith'], ['limb', 'augh'], ['cit', 'ation'], ['harm', 'less'], ['intim', 'acy'], ['mag', 'ist'], ['par', 'ach'], ['dur', 'st'], ['cad', 'dell'], ['im', 'balanc'], ['ken', 'yan'], ['am', 'ple'], ['trag', 'ed'], ['cock', 'pit'], ['o', 'op'], ['f', 'iat'], ['an', 'ian'], ['ty', 'coon'], ['us', 'da'], ['vag', 'ina'], ['ap', 'prehension'], ['car', 'roll'], ['ram', 'ification'], ['add', 'iction'], ['stag', 'nant'], ['lau', 'reate'], ['speak', 'ing'], ['re', 'built'], ['calcul', 'us'], ['anthropol', 'og'], ['ator', 'ial'], ['abduct', 'ed']]\n",
      "[['care', 'y'], ['blu', 'ff'], ['jenning', 's'], ['bl', 'ister'], ['t', 'one'], ['access', '-date'], ['n', 'udg'], ['d', 'b'], ['ground', 'breaking'], ['pres', 'by'], ['restr', 'ial'], ['man', 'power'], ['ty', 'ing'], ['ev', 'asion'], ['tell', 'er'], ['hard', 'y'], ['y', 'd'], ['soci', 'ologist'], ['ten', 'et'], ['su', 'icidal'], ['fian', 'c'], ['ni', 'h'], ['anthropol', 'ogy'], ['best', 'ow'], ['journal', 'istic'], ['state', '-'], ['pur', 'ity'], ['clar', 'a'], ['fl', 'ation'], ['first', '-year'], ['copen', 'hagen'], ['cre', 'st'], ['let', 'cher'], ['patt', 'on'], ['sl', 'ager'], ['individual', 's'], ['direct', 'ory'], ['dis', 'approval'], ['jav', 'a'], ['l', 'ington'], ['pro', 'clamation'], ['ah', 'an'], ['fl', 'op'], ['al', 'oud'], ['cal', 'ais'], ['run', 'g'], ['franco', 'is'], ['schwar', 'zen'], ['ground', 'work'], ['ten', 'ham']]\n",
      "[['v', 's'], ['annex', 'ation'], ['mock', 'ery'], ['discrim', 'inate'], ['as', 'ound'], ['r', 'aleigh'], ['fil', 'led'], ['check', 'list'], ['mo', 'se'], ['ne', 'hlen'], ['seat', 's'], ['popular', 'iz'], ['hur', 'ry'], ['reli', 'ability'], ['ir', 'rational'], ['eyew', 'it'], ['sever', 'ance'], ['drive', 'way'], ['invent', 'or'], ['cl', 'aud'], ['per', 'ch'], ['co', 'ke'], ['traged', 'ies'], ['hes', 'it'], ['dia', 'z'], ['20', '26'], ['lik', 'ened'], ['co', 'zy'], ['prud', 'ence'], ['v', 'ian'], ['fal', 'k'], ['m', 'ull'], ['modern', 'iz'], ['re', 'patriat'], ['r', 'er'], ['cerem', 'onial'], ['c', 'j'], ['act', 'ic'], ['k', 'ham'], ['auto', 'mobile'], ['don', 'n'], ['care', 'giver'], ['joy', 'ce'], ['ku', 'roda'], ['war', 'ner'], ['k', 'assam'], ['pesh', 'merga'], ['down', 'grad'], ['se', 'jong'], ['benefic', 'iary']]\n",
      "[['bol', 'ivia'], ['revers', 'ible'], ['g', 's'], ['per', 'e'], ['combat', 'ant'], ['dis', 'mal'], ['schneider', 'man'], ['y', 'ank'], ['sar', 'cast'], ['retro', 'active'], ['lo', 'co'], ['effect', 's'], ['authoritarian', 'ism'], ['45', 'th'], ['handcu', 'ff'], ['corro', 'bor'], ['de', 'pression'], ['encour', 'age'], ['i', 'ot'], ['gener', 'ational'], ['indif', 'ference'], ['bareun', 'mirae'], ['al', 'to'], ['lew', 'd'], ['air', 'space'], ['p', 'ter'], ['pre', 'ter'], ['asset', 's'], ['note', 'book'], ['overshadow', 'ed'], ['act', 'resses'], ['an', 'es'], ['d', 's'], ['dust', 'in'], ['agu', 'a'], ['discover', 'ies'], ['dis', 'respectful'], ['green', 'berg'], ['bengal', 'uru'], ['ab', 'bl'], ['bar', 'ric'], ['iat', 'ry'], ['fro', 'st'], ['dr', 'un'], ['eut', 'ic'], ['caf', 'eter'], ['ant', 'ine'], ['conceiv', 'able'], ['man', 'chin'], ['over', 'seen']]\n",
      "[['coun', 'c'], ['counc', 'illor'], ['schwarzen', 'egger'], ['broadcast', 'er'], ['line', 'age'], ['ske', 'leton'], ['viscer', 'al'], ['y', 'un'], ['f', 'fed'], ['j', 'c'], ['horizon', 'tal'], ['cinem', 'atic'], ['chur', 'n'], ['un', 'ab'], ['kr', 'aft'], ['bull', 'shit'], ['am', '.'], ['watch', 'er'], ['proc', 'ure'], ['mon', 'ter'], ['over', 'ride'], ['barr', 'ack'], ['sw', 'ick'], ['ci', 'bly'], ['ort', 'on'], ['consequ', 'ent'], ['bur', 'gl'], ['ton', 'ne'], ['pharm', 'ac'], ['am', 'mer'], ['subscriber', 's'], ['re', 'defin'], ['k', 'aka'], ['un', 'easy'], ['medal', 'ist'], ['amp', 'he'], ['amphe', 'tam'], ['el', 'icit'], ['pl', 'aque'], ['l', 'ng'], ['auto', 'biography'], ['sent', 'inel'], ['option', 'al'], ['ultr', 'asound'], ['ice', 'berg'], ['gin', 's'], ['ac', 'quit'], ['un', 'healthy'], ['subject', 'ive'], ['n', 'ex']]\n",
      "iter_number :14750, voc_volume : 14679\n"
     ]
    },
    {
     "data": {
      "application/vnd.jupyter.widget-view+json": {
       "model_id": "7fdd6ca3285e4247abd54710c59262c3",
       "version_major": 2,
       "version_minor": 0
      },
      "text/plain": [
       "  0%|          | 0/250 [00:00<?, ?it/s]"
      ]
     },
     "metadata": {},
     "output_type": "display_data"
    },
    {
     "name": "stdout",
     "output_type": "stream",
     "text": [
      "[['sch', 'u'], ['document', 'aries'], ['insu', 'lin'], ['pr', 'air'], ['turn', 'bull'], ['bu', 'b'], ['som', 'er'], ['under', 'dog'], ['v', 'augh'], ['foot', 'step'], ['ae', 'gypt'], ['ar', 'pa'], ['ep', 'onymous'], ['for', 'cibly'], ['sever', 'ity'], ['fernand', 'o'], ['cur', 'sor'], ['om', 'an'], ['precar', 'ious'], ['domestic', 'ally'], ['qu', 'in'], ['wood', 'land'], ['dismiss', 'ive'], ['luther', 'an'], ['ide', 'd'], ['tro', 'v'], ['hum', 'ans'], ['distr', 'action'], ['precip', 'itat'], ['cataly', 'st'], ['driv', 'ing'], ['sa', 'ul'], ['in', 'hal'], ['pl', 'ank'], ['squad', 'ron'], ['half', 'time'], ['mention', 'ed'], ['lef', 'tw'], ['gab', 'on'], ['les', 'ley'], ['gen', 'esis'], ['uru', 'guay'], ['ser', 'gio'], ['dr', 'ank'], ['sa', 'o'], ['r', 'wanda'], ['eng', 'ul'], ['op', 'hy'], ['iz', 'z'], ['nor', 'folk']]\n",
      "[['h', 'end'], ['construct', 'ion'], ['aegypt', 'i'], ['trav', 'ell'], ['n', 'sc'], ['-', 'hye'], ['oy', 'ster'], ['dis', 'cord'], ['on', 'i'], ['dis', 'k'], ['rem', 'nant'], ['tain', 'ted'], ['jordan', 'ian'], ['c', 'bc'], ['suit', 'case'], ['cic', 'cotta'], ['beg', 'g'], ['dani', 'ell'], ['ex', 'asper'], ['dav', 'os'], ['hospital', 'ity'], ['post', 'al'], ['volcan', 'ic'], ['di', 'xon'], ['nie', 'ce'], ['0', '6'], ['up', 'stairs'], ['ed', 'mund'], ['khal', 'id'], ['he', 'e-'], ['b', 'j'], ['tur', 'tle'], ['ref', 'lex'], ['wom', 'b'], ['popul', 'ous'], ['do', 'ver'], ['west', 'er'], ['vi', 'b'], ['tre', 'sp'], ['tim', 'et'], ['building', 's'], ['alcohol', 'ic'], ['vic', 'inity'], ['drun', 'ken'], ['pian', 'ist'], ['inherit', 'ance'], ['sh', 're'], ['obe', 'se'], ['ez', 'ra'], ['br', 'awl']]\n",
      "[['pro', 'be'], ['-', 'free'], ['mess', 'i'], ['che', 'mother'], ['mer', 'ce'], ['r', 'ivers'], ['0', '7'], ['bur', 'ton'], ['cade', 't'], ['appal', 'led'], ['paul', 'son'], ['ve', 'he'], ['vehe', 'ment'], ['roll', 'out'], ['kul', 'tur'], ['mor', 'ale'], ['sadd', 'l'], ['propel', 'led'], ['fore', 'head'], ['over', 'weight'], ['transform', 'ative'], ['z', 'ig'], ['kor', 'n'], ['pay', 'out'], ['hr', 'c'], ['lithu', 'ania'], ['an', 'oma'], ['bl', 'ame'], ['burgl', 'ary'], ['flag', 'ged'], ['fe', 'in'], ['o', 'di'], ['dent', 'on'], ['disappoint', 'ment'], ['freest', 'yl'], ['min', '-'], ['oc', 'ado'], ['gav', 'in'], ['four', 'teen'], ['s', 'cold'], ['sm', 'ack'], ['william', 's'], ['agent', 's'], ['ber', 'nat'], ['nic', 'ar'], ['expect', 'ancy'], ['ag', 'as'], ['de', 'pt'], ['do', 'v'], ['s', 'ley']]\n",
      "[['pr', 'us'], ['z', 'eta'], ['ist', 'on'], ['dor', 'sey'], ['gen', 'era'], ['el', 'ena'], ['em', 'ol'], ['gow', 'dy'], ['be', 'head'], ['cir', 'cular'], ['de', 'acon'], ['editor', '-in-chief'], ['le', 'ver'], ['amphetam', 'ine'], ['catch', 'es'], ['cafeter', 'ia'], ['good', 'man'], ['sca', 'thing'], ['soto', 'mayor'], ['the', 'odor'], ['brend', 'an'], ['gerry', 'mander'], ['pen', 'aliz'], ['demon', 'iz'], ['p', 'ga'], ['prair', 'ie'], ['rat', 'ified'], ['play', 'wright'], ['br', 'z'], ['brun', 'swick'], ['rah', 'man'], ['re', 'es'], ['stri', 'kes'], ['symbol', 'iz'], ['trick', 'l'], ['corner', 'stone'], ['obe', 'di'], ['obedi', 'ence'], ['n', 'ou'], ['ge', 'off'], ['assass', 'in'], ['luxem', 'bourg'], ['ham', 'let'], ['we', 'ep'], ['koh', 'l'], ['lur', 'k'], ['never', 'trump'], ['paraly', 'sis'], ['h', 'ano'], ['wid', 'th']]\n",
      "[['valid', 'ity'], ['cho', 'lester'], ['solv', 'ed'], ['re', 'am'], ['yaz', 'idi'], ['errat', 'ic'], ['mon', 'ast'], ['pen', 'chant'], ['ag', 'h'], ['olym', 'pian'], ['store', 's'], ['com', 'ply'], ['w', 'ounded'], ['correct', 'ional'], ['spec', 'ulative'], ['dis', 'car'], ['discar', 'ded'], ['inflam', 'mation'], ['hu', 'h'], ['s', 'cho'], ['alexand', 'ra'], ['re', 'play'], ['exist', 'ent'], ['decl', 'ared'], ['c', 'ies'], ['transfer', 'r'], ['bu', 'eno'], ['en', 'rag'], ['ship', 'building'], ['in', 'convenient'], ['shak', 'y'], ['10', '8'], ['flu', 'ence'], ['li', 'able'], ['wart', 'ime'], ['aut', 'istic'], ['vill', 'ager'], ['mes', 'o'], ['as', 'cent'], ['cl', 'ue'], ['go', 'of'], ['cr', 'ony'], ['at', 'z'], ['guy', 's'], ['equ', 'ation'], ['concept', 'ual'], ['merce', 'des'], ['lin', 'ess'], ['suscept', 'ible'], ['h', 'aus']]\n",
      "iter_number :15000, voc_volume : 14926\n"
     ]
    },
    {
     "data": {
      "application/vnd.jupyter.widget-view+json": {
       "model_id": "59876d48b9804221b29081f26b218a53",
       "version_major": 2,
       "version_minor": 0
      },
      "text/plain": [
       "  0%|          | 0/250 [00:00<?, ?it/s]"
      ]
     },
     "metadata": {},
     "output_type": "display_data"
    },
    {
     "name": "stdout",
     "output_type": "stream",
     "text": [
      "[['5', '50'], ['free', 'way'], ['d', 'arr'], ['str', 'ick'], ['monast', 'ery'], ['ian', 'hanchett'], ['as', 'su'], ['ko', 'so'], ['magist', 'rate'], ['soci', 'etal'], ['reserv', 'ed'], ['substantiat', 'ed'], ['cas', 'cad'], ['risk', 's'], ['ent', 'angl'], ['approx', 'imat'], ['ur', 'l'], ['chemother', 'apy'], ['k', 're'], ['id', 's'], ['zz', 'le'], ['debor', 'ah'], ['head', 'set'], ['cy', 'prus'], ['hano', 'i'], ['prud', 'ent'], ['cr', 'amp'], ['cheer', 'ful'], ['di', 'ameter'], ['gir', 'ardi'], ['diagno', 'stic'], ['quart', 'et'], ['laugh', 't'], ['un', 'qualified'], ['mad', 'agas'], ['colog', 'ist'], ['hom', 'age'], ['f', 'letcher'], ['far', 'ook'], ['whit', 'es'], ['wed', 'g'], ['arriv', 'ed'], ['mongol', 'ia'], ['astronom', 'ical'], ['gu', 'ang'], ['em', 'on'], ['arist', 'o'], ['h', 'ue'], ['2', '30'], ['p', 'encil']]\n",
      "[['ic', 'he'], ['g', 'au'], ['theore', 'm'], ['co', 'o'], ['strateg', 'ical'], ['emol', 'ument'], ['br', 'ash'], ['u', 'ally'], ['thes', 'iz'], ['embro', 'iled'], ['g', 'ly'], ['center', 'piece'], ['in', 'discriminate'], ['ort', 'e'], ['cholester', 'ol'], ['m', 'ama'], ['den', 'gue'], ['absent', 'ee'], ['ander', 's'], ['al', 'ison'], ['grocer', 'ies'], ['dy', 'stop'], ['fer', 'rar'], ['ov', 'y'], ['bar', 'be'], ['sub', 'set'], ['win', 's'], ['he', 'b'], ['second', 's'], ['h', 'aster'], ['slip', 'p'], ['by', '-'], ['hy', 'e-'], ['pin', 'ch'], ['190', '5'], ['d', 'us'], ['al', 'tar'], ['ear', 'ly'], ['monument', 'al'], ['gravit', 'ational'], ['ons', 'laught'], ['lud', 'ic'], ['ed', 'o'], ['gad', 'get'], ['k', 'op'], ['arpa', 'io'], ['mel', 'ody'], ['im', 'moral'], ['past', 'a'], ['scru', 'b']]\n",
      "[['appell', 'ate'], ['so', 'lem'], ['nam', 'ib'], ['se', 'ah'], ['fore', 'closure'], ['war', 's'], ['reson', 'ance'], ['sophom', 'ore'], ['skip', 'ped'], ['per', 'miss'], ['financi', 'er'], ['ri', 'hanna'], ['gr', 'iff'], ['al', 'u'], ['tit', 'le'], ['a', 'et'], ['entitle', 'ment'], ['l', 'ol'], ['e', 'ck'], ['arrog', 'ant'], ['for', 'tress'], ['ludic', 'rous'], ['neuro', 'logical'], ['ben', 'edict'], ['tw', 'ay'], ['vis', 'ibly'], ['myster', 'ies'], ['o', 'zy'], ['haster', 't'], ['b', 'pd'], ['parach', 'ut'], ['continu', 'ity'], ['k', 'om'], ['al', 'v'], ['t', 'ina'], ['n', 't'], ['di', 'zzy'], ['tumult', 'uous'], ['189', '6'], ['wend', 'y'], ['the', 'art'], ['mis', 'represent'], ['dol', 'an'], ['im', 'ply'], ['worth', 'while'], ['real', 'ign'], ['six', 'teen'], ['ad', 'en'], ['concern', 'ed'], ['stone', 'wall']]\n",
      "[['fitz', 'patrick'], ['ground', 's'], ['im', 'f'], ['2', '-'], ['pro', 'wess'], ['1', '19'], ['un', 'reliable'], ['car', 'rot'], ['mc', 'donnell'], ['sc', 'off'], ['c', 'espe'], ['cespe', 'des'], ['port', 'able'], ['ra', 'ul'], ['obsess', 'ive'], ['covet', 'ed'], ['cal', 'am'], ['down', 'fall'], ['ru', 'pert'], ['not', 'with'], ['notwith', 'standing'], ['l', 'ann'], ['co', 'hort'], ['body', 'guard'], ['re', 'e'], ['est', 'one'], ['n', 'our'], ['sc', 'ion'], ['vale', 'ant'], ['har', 'row'], ['fe', 'es'], ['lav', 'a'], ['com', 'press'], ['moroc', 'can'], ['al', 'ton'], ['gm', 't'], ['hand', 'y'], ['ett', 'i'], ['ro', 'bart'], ['ph', 'atic'], ['br', 'en'], ['occup', 'ant'], ['dh', 'aka'], ['fic', 'ial'], ['arrog', 'ance'], ['mort', 'on'], ['pr', 'ague'], ['stead', 'fast'], ['cl', 'out'], ['federal', 'ist']]\n",
      "[['star', 's'], ['gran', 'it'], ['weak', 'ness'], ['employ', 'ed'], ['ten', 'der'], ['snap', 'shot'], ['co', 'con'], ['hiro', 'shima'], ['adam', 'ant'], ['fire', 'storm'], ['att', 'ic'], ['predict', 'ability'], ['ale', 'c'], ['ant', 'ir'], ['hik', 'o'], ['un', 'substantiated'], ['believ', 'e'], ['cross', 'ing'], ['em', 'ulat'], ['stam', 'ina'], ['fert', 'ile'], ['water', 'front'], ['nit', 'rogen'], ['co', 'smo'], ['ball', 'room'], ['kham', 'ene'], ['khamene', 'i'], ['dis', 'array'], ['wick', 'ed'], ['christ', 'en'], ['bell', 'a'], ['oppress', 'ive'], ['pun', 'jab'], ['per', 'imeter'], ['t', 'ann'], ['ca', 'it'], ['h', 'hs'], ['dist', 'inction'], ['nam', '-do'], ['issu', 'ance'], ['therap', 'eutic'], ['super', 'ficial'], ['pilgrim', 'age'], ['pen', 'thouse'], ['hod', 'g'], ['lea', 'hy'], ['sam', 'm'], ['mov', 'ies'], ['sinc', 'er'], ['em', 'phatic']]\n",
      "iter_number :15250, voc_volume : 15171\n"
     ]
    },
    {
     "data": {
      "application/vnd.jupyter.widget-view+json": {
       "model_id": "91b14e03baa1457088fcae6af3361409",
       "version_major": 2,
       "version_minor": 0
      },
      "text/plain": [
       "  0%|          | 0/250 [00:00<?, ?it/s]"
      ]
     },
     "metadata": {},
     "output_type": "display_data"
    },
    {
     "name": "stdout",
     "output_type": "stream",
     "text": [
      "[['e', 'cology'], ['lock', 'heed'], ['per', 'jury'], ['f', 'dr'], ['be', 'he'], ['ranch', 'er'], ['os', 'born'], ['dupl', 'icat'], ['broker', 'age'], ['first-', 'class'], ['with', 'stand'], ['u', 'an'], ['hygi', 'ene'], ['ad', 'olf'], ['labor', 'atories'], ['oc', 'he'], ['sc', 'ence'], ['may', 'a'], ['he', 'mo'], ['cor', 'y'], ['inc', 'en'], ['mo', 'an'], ['tu', 'c'], ['aff', 'leck'], ['ital', 'y'], ['report', 'ing'], ['11', '3'], ['heart', 'broken'], ['i', '-'], ['symbol', 'ism'], ['lef', 'to'], ['n', 'apo'], ['homem', 'ade'], ['philanthrop', 'ist'], ['hom', 'ophobic'], ['samm', 'lung'], ['comm', 'ence'], ['barric', 'ad'], ['icul', 'ous'], ['ball', 'ad'], ['bac', 'he'], ['bi', 'kini'], ['il', 'o'], ['oster', 'one'], ['mc', 'ga'], ['mcga', 'hn'], ['out', 'weigh'], ['qu', 'a'], ['recall', 's'], ['criminal', 'iz']]\n",
      "[['g', 'is'], ['sub', 't'], ['glam', 'orous'], ['angu', 'ish'], ['dar', 'win'], ['ob', 'it'], ['ethan', 'ol'], ['wild', 'cat'], ['tr', 'acy'], ['am', 'trak'], ['mik', 'ro'], ['mikro', 'organism'], ['mikroorganism', 'en'], ['z', 'ed'], ['17', '5'], ['cynic', 'ism'], ['su', 't'], ['names', 'ake'], ['cl', 'on'], ['zell', 'kultur'], ['zellkultur', 'en'], ['murder', 'er'], ['mut', 'ilat'], ['spl', 'itting'], ['tunis', 'ian'], ['suc', 'cum'], ['pre', 'cursor'], ['ped', 'al'], ['re', 'assign'], ['christ', 'ina'], ['unit', 'ed'], ['il', 'ar'], ['wh', 'in'], ['learn', 'ed'], ['out', 'siz'], ['se', 'ism'], ['commun', 'al'], ['met', 'iculous'], ['pos', 'thum'], ['posthum', 'ous'], ['dimension', 'al'], ['may', 'o'], ['master', 'mind'], ['manip', 'ulator'], ['10', '3'], ['marx', 'ist'], ['dest', 'ined'], ['kur', 'tz'], ['neighborhood', 's'], ['de', 'viat']]\n",
      "[['converg', 'ence'], ['s', 'lovakia'], ['long', 'ev'], ['longev', 'ity'], ['lif', 'es'], ['bout', 'ique'], ['if', 'i'], ['h', 'umph'], ['behe', 'moth'], ['m', 'd.'], ['disc', 'iple'], ['plat', 'inum'], ['radio', 'active'], ['n', 'ul'], ['ch', 'am'], ['p', 'ity'], ['his', 'm'], ['val', 'ence'], ['bie', 'ber'], ['bo', 'died'], ['invol', 'unt'], ['ex', 'trav'], ['aur', 'ora'], ['pand', 'emic'], ['flor', 'a'], ['con', 'jur'], ['ko', 'ok'], ['ser', 'bian'], ['of', '-'], ['fun', 'ded'], ['re', 'membr'], ['hul', 'k'], ['kno', 'x'], ['opp', 'ing'], ['k', 'ab'], ['q', 'uran'], ['t', 'ama'], ['de', 'cried'], ['journalist', 's'], ['exon', 'erat'], ['fo', 'am'], ['fresh', 'water'], ['l', 'ily'], ['k', 'ern'], ['pig', 'eon'], ['ros', 'i'], ['ke', 'ef'], ['dre', 'amer'], ['20', '50'], ['divers', 'ify']]\n",
      "[['sadd', 'ened'], ['alum', 'inum'], ['col', 'i'], ['un', 'specified'], ['ne', 'ural'], ['test', 'osterone'], ['om', 'aha'], ['there', 'of'], ['k', 'amp'], ['g', 'het'], ['public', 'ist'], ['gas', 'p'], ['belong', 'ing'], ['entrepreneur', 'ship'], ['in', 'id'], ['dis', 'position'], ['13', '5'], ['ta', 'j'], ['bel', 'tway'], ['hand', 'book'], ['wh', 'opping'], ['apolog', 'ies'], ['3', '70'], ['casual', 'ty'], ['succum', 'b'], ['different', 'ial'], ['wiret', 'apped'], ['as', 'co'], ['road', 'block'], ['the', 'at'], ['by', 'rd'], ['nus', 'ra'], ['ast', 'ound'], ['mass', 'ag'], ['af', 'c'], ['balcon', 'y'], ['remembr', 'ance'], ['ish', 'a'], ['un', 'intentional'], ['by', 'z'], ['meet', 'ings'], ['water', 'shed'], ['prevent', 'ive'], ['ax', 'el'], ['val', 've'], ['defeat', 'ed'], ['buy', 'out'], ['col', 't'], ['patt', 'y'], ['fis', 'a']]\n",
      "[['ri', 'ley'], ['un', 'apolo'], ['bar', 'row'], ['1960', 's'], ['n', 'ug'], ['ieg', 'el'], ['hom', 'er'], ['pre', 'poster'], ['preposter', 'ous'], ['ain', 'ed'], ['sense', 'less'], ['ter', 'son'], ['protect', 'ed'], ['p', 'anda'], ['av', 'atar'], ['tar', 'a'], ['cl', 'y'], ['travel', 'led'], ['skill', 's'], ['barbe', 'cu'], ['avoid', 'able'], ['back', 'bone'], ['ch', 'romo'], ['sa', 'ic'], ['flo', 'yd'], ['ol', 'ith'], ['mid', 'way'], ['ade', 's'], ['salv', 'ag'], ['per', 'du'], ['donor', 's'], ['pul', 'pit'], ['f', 'x'], ['second', '-year'], ['har', 'u'], ['v', 'w'], ['dys', 'functional'], ['co', 'oney'], ['he', 'ung-'], ['doctor', 'al'], ['sic', 'ily'], ['un', 'noticed'], ['10', '6'], ['my', 'lan'], ['grim', 'm'], ['dick', 'erson'], ['gl', 'id'], ['the', 'guardian'], ['mind', 's'], ['m', 'oud']]\n",
      "iter_number :15500, voc_volume : 15414\n"
     ]
    },
    {
     "data": {
      "application/vnd.jupyter.widget-view+json": {
       "model_id": "49a8c933ea5340a6b8c2233c54a399cb",
       "version_major": 2,
       "version_minor": 0
      },
      "text/plain": [
       "  0%|          | 0/250 [00:00<?, ?it/s]"
      ]
     },
     "metadata": {},
     "output_type": "display_data"
    },
    {
     "name": "stdout",
     "output_type": "stream",
     "text": [
      "[['and', 'i'], ['x', 'in'], ['sub', 'division'], ['hyper', 'bole'], ['we', 'ir'], ['mist', 'rust'], ['we', 'instein'], ['panick', 'ed'], ['we', 'ber'], ['as', 'hed'], ['sa', 'in'], ['ga', 'el'], ['att', 'on'], ['order', 's'], ['friend', 'ly'], ['mour', 'inho'], ['presby', 'ter'], ['entr', 'ust'], ['th', 'igh'], ['turbul', 'ent'], ['av', 'an'], ['mid', 'land'], ['fac', 'et'], ['stir', 'red'], ['18', '70'], ['w', 'ann'], ['pal', 'antir'], ['bo', 'g'], ['v', 'ass'], ['ne', 'ander'], ['trip', 'p'], ['sne', 'aker'], ['call', 's'], ['emission', 's'], ['lo', 'com'], ['locom', 'ot'], ['al', 'ma'], ['ap', 'rio'], ['com', 'part'], ['iber', 'al'], ['pas', 'o'], ['fried', 'rich'], ['ghet', 'to'], ['iz', 'en'], ['1', '18'], ['light', 'weight'], ['ten', 'berg'], ['189', '8'], ['worth', 'less'], ['amb', 'ival']]\n",
      "[['brz', 'ez'], ['jackson', 'ville'], ['jol', 'ie'], ['char', 'ger'], ['timet', 'abl'], ['mc', 'g'], ['em', 'bodied'], ['h', 'ath'], ['pay', 'off'], ['ul', 'ip'], ['ry', 'u'], ['other', 'apy'], ['w', 'ada'], ['glo', 'om'], ['-', 'american'], ['amen', 'ities'], ['david', 'son'], ['mo', 'do'], ['persu', 'asion'], ['er', 'ed'], ['lob', 'ster'], ['vi', 'i'], ['rau', 'cous'], ['need', 'les'], ['bir', 'di'], ['I', 'n'], ['su', 'won'], ['affin', 'ity'], ['cam', 'el'], ['beck', 'er'], ['lim', 'a'], ['10', '2'], ['189', '7'], ['won', 'k'], ['phenomen', 'al'], ['chol', 'era'], ['brzez', 'inski'], ['av', 'id'], ['fire', 'fight'], ['arm', 'our'], ['pe', 'arson'], ['re', 'pt'], ['jon', 'es'], ['troop', 's'], ['network', 's'], ['sa', 'e'], ['cocon', 'ut'], ['point', 'less'], ['mim', 'ic'], ['stat', 'ure']]\n",
      "[['nis', 'san'], ['feder', 'er'], ['b', 'aid'], ['in', 'human'], ['spec', 'ter'], ['well', 'ington'], ['steel', 'er'], ['stir', 'r'], ['pollut', 'ant'], ['por', 'ch'], ['sm', 'ile'], ['ad', 'ventur'], ['no', 'aa'], ['gru', 'esome'], ['hand', 'out'], ['sy', 'rac'], ['syrac', 'use'], ['in', 'fighting'], ['epi', 'thet'], ['a', 'we'], ['chry', 'sler'], ['g', 'gle'], ['op', 'rah'], ['equ', 'ities'], ['black', 'berry'], ['sn', 'ark'], ['character', 's'], ['militant', 's'], ['ab', 'bre'], ['clean', 'up'], ['hur', 'st'], ['ab', 'by'], ['gym', 'nast'], ['short', 'fall'], ['dev', 'on'], ['audi', 'ble'], ['el', 'is'], ['w', 'ine'], ['ot', 'y'], ['as', 'an'], ['ver', 'te'], ['so', 'dium'], ['front', 'line'], ['mah', 'moud'], ['can', 'nes'], ['can', 'o'], ['oph', 'one'], ['sl', 'ick'], ['kap', 'lan'], ['du', 'el']]\n",
      "[['v', 'ick'], ['debunk', 'ed'], ['gar', 'rison'], ['ne', 'a'], ['tech', 'no'], ['do', 'yle'], ['dic', 'aprio'], ['gar', 'rett'], ['desp', 'icable'], ['seah', 'awk'], ['athe', 'd'], ['crut', 'cher'], ['ber', 'eav'], ['ig', 'o'], ['or', 'o'], ['presbyter', 'ian'], ['met', 'all'], ['over', 'flow'], ['ed', 'gar'], ['vi', 'ability'], ['rad', 'or'], ['ler', 'able'], ['at', '.'], ['af', 'flict'], ['gentle', 'men'], ['wi', 'e'], ['cros', 'by'], ['rig', 'g'], ['present', '-day'], ['shock', 'ing'], ['prefect', 'ure'], ['ev', 'ille'], ['not', 're'], ['me', 'cca'], ['par', 'amed'], ['m', 'ica'], ['n', 'ina'], ['ab', 'original'], ['libr', 'arian'], ['incen', 'diary'], ['lit', 'ig'], ['rehear', 'sal'], ['may', 'hem'], ['neander', 'thal'], ['ov', 'at'], ['shoot', 'ings'], ['client', 's'], ['optim', 'al'], ['tur', 'bo'], ['od', 'a']]\n",
      "[['ener', 'getic'], ['wy', 'n'], ['prag', 'mat'], ['k', 'ra'], ['impul', 'sive'], ['caf', 'e'], ['g', 'id'], ['peac', 'ek'], ['cook', 'book'], ['n', 'hs'], ['p', 'au'], ['fert', 'iliz'], ['olig', 'arch'], ['hand', 'ic'], ['spawn', 'ed'], ['be', 'wilder'], ['as', 'a'], ['cor', 'in'], ['god', 'dess'], ['mid', 'western'], ['hew', 'itt'], ['qu', 'eu'], ['os', 'an'], ['rep', 'ent'], ['san', 'itation'], ['em', 'bass'], ['embass', 'ies'], ['ik', 'i'], ['cr', 'ank'], ['em', 'aker'], ['vit', 'ri'], ['or', 'r'], ['exasper', 'at'], ['2', '60'], ['quick', 'er'], ['ing', 'o'], ['resurg', 'ence'], ['bull', 'pen'], ['flu', 'x'], ['ro', 'chester'], ['sh', 'iny'], ['to', 'ff'], ['mor', 'atorium'], ['card', 'board'], ['new', 'sc'], ['bah', 'ama'], ['dz', 'nussbaum'], ['rein', 'force'], ['list', 'ing'], ['acquit', 'tal']]\n",
      "iter_number :15750, voc_volume : 15661\n"
     ]
    },
    {
     "data": {
      "application/vnd.jupyter.widget-view+json": {
       "model_id": "d75176ba4bb94188a9ac54a85385edb6",
       "version_major": 2,
       "version_minor": 0
      },
      "text/plain": [
       "  0%|          | 0/250 [00:00<?, ?it/s]"
      ]
     },
     "metadata": {},
     "output_type": "display_data"
    },
    {
     "name": "stdout",
     "output_type": "stream",
     "text": [
      "[['ten', 'cent'], ['trans', 'mit'], ['3', '20'], ['min', 'a'], ['p', 'ud'], ['hef', 'ty'], ['multicultural', 'ism'], ['de', 'vi'], ['pat', 'terson'], ['non', 'existent'], ['publ', 'ica'], ['hein', 'ous'], ['so', 'oth'], ['spring', 'field'], ['twent', 'ieth'], ['decl', 'ine'], ['rib', 'bon'], ['ut', 't'], ['rel', 'ic'], ['x', 'av'], ['sloven', 'ia'], ['it', 'an'], ['bl', 'under'], ['en', 'burg'], ['cosm', 'ic'], ['mathematic', 'ian'], ['rap', 'e'], ['ik', 'er'], ['bl', 'att'], ['civ', 'ility'], ['in', 'experienc'], ['fantas', 'ies'], ['sa', 'usage'], ['doctor', 'ate'], ['ton', 'i'], ['da', 'o'], ['lefto', 'ver'], ['ter', 'ed'], ['eas', 'iest'], ['eth', 'os'], ['ill', 'at'], ['tar', 'mac'], ['tro', 'tt'], ['col', 'leagues'], ['under', 'ag'], ['-ho', 'on'], ['my', 'ung-'], ['mala', 'wi'], ['manifest', 'ation'], ['aber', 'deen']]\n",
      "[['wel', 'ch'], ['we', 'e'], ['pep', 'si'], ['por', 'zing'], ['porzing', 'is'], ['c', 'uses'], ['mc', 'mullin'], ['escap', 'e'], ['taiwan', 'ese'], ['exter', 'ior'], ['mar', 'ital'], ['y', 's'], ['wrong', 'ful'], ['au', 'ck'], ['to', 'lerant'], ['suf', 'fic'], ['stat', 'en'], ['peril', 'ous'], ['be', 'lar'], ['pr', 'a'], ['trans', 'l'], ['over', 'run'], ['pl', 'umb'], ['messag', 'es'], ['under', 'lin'], ['march', 'er'], ['enc', 'ia'], ['starv', 'ation'], ['ot', 'on'], ['pap', 'ua'], ['co', 'co'], ['she', 'ld'], ['ty', 'rant'], ['deterr', 'ence'], ['subscr', 'iption'], ['sc', 'ant'], ['dep', 'p'], ['fo', 'd'], ['haru', 'hiko'], ['tama', 'ulip'], ['tamaulip', 'as'], ['ir', 'vin'], ['del', 'v'], ['activist', 's'], ['dec', 'imat'], ['punct', 'uat'], ['ip', 'el'], ['tot', 'tenham'], ['tsa', 'i'], ['scr', 'iption']]\n",
      "[['koso', 'vo'], ['heart', 'beat'], ['bull', 'ies'], ['sp', 'iel'], ['psy', 'che'], ['ram', 'sey'], ['lo', 'at'], ['n', 'ier'], ['understand', 'ably'], ['aet', 'na'], ['arm', 'ie'], ['un', 'surprising'], ['preempt', 'ive'], ['siber', 'ia'], ['j', 'ia'], ['k', 'ad'], ['def', 'ied'], ['sky', 'line'], ['ow', 'l'], ['han', 'sen'], ['18', '60'], ['god', 'frey'], ['inter', 'twin'], ['inter', 'mitt'], ['intermitt', 'ent'], ['di', 'arr'], ['fr', 'a'], ['mascul', 'ine'], ['ok', 'ee'], ['ser', 'en'], ['up', 'setting'], ['tus', 'k'], ['no', 'xious'], ['190', '2'], ['came', 'o'], ['fa', 'thom'], ['fahren', 'heit'], ['lau', 'er'], ['nu', 'k'], ['corrobor', 'at'], ['8', '50'], ['charism', 'a'], ['go', 'es'], ['ass', 'ort'], ['stard', 'om'], ['av', 'ocado'], ['sub', '-'], ['mot', 'el'], ['it', 'es'], ['lat', 'via']]\n",
      "[['dispar', 'ate'], ['pay', 'pal'], ['predict', 'ably'], ['ner', 'd'], ['bet', 'ty'], ['sales', 'force'], ['mc', 'gr'], ['galvan', 'iz'], ['hein', 'rich'], ['occup', 'ational'], ['r', 'ink'], ['mini', 'ature'], ['emp', 'irical'], ['anarch', 'ist'], ['paper', 'back'], ['p', 'aw'], ['s', 'isi'], ['bre', 'yer'], ['lak', 'er'], ['categor', 'iz'], ['bor', 'g'], ['mus', 'cular'], ['susp', 'ense'], ['com', 'rade'], ['san', 'ford'], ['a', 'very'], ['nat', 'ali'], ['rac', 'es'], ['special', 'is'], ['my', 'ung'], ['re', 'organization'], ['gr', 'aft'], ['ell', 'ation'], ['under', 'gone'], ['e', 'instein'], ['un', 'even'], ['consult', 'ancy'], ['synonym', 'ous'], ['for', 'ay'], ['belar', 'us'], ['dist', 'ast'], ['f', 'field'], ['re', 'direct'], ['re', 'ally'], ['az', 'uz'], ['feder', 'ation'], ['appe', 'ared'], ['cali', 'brat'], ['upr', 'ight'], ['14', '5']]\n",
      "[['dur', 'able'], ['w', 'age'], ['gr', 'unt'], ['breath', 'taking'], ['val', 'eri'], ['congress', 'men'], ['jac', 'que'], ['ele', 'anor'], ['cf', 'pb'], ['gun', 'point'], ['palm', 'ieri'], ['by', 'rn'], ['bl', 'uster'], ['hust', 'l'], ['gyeong', 'nam'], ['wh', 'irl'], ['seam', 'less'], ['he', 'x'], ['hypo', 'critical'], ['bul', 'b'], ['m', 'ultim'], ['schizophren', 'ia'], ['lu', 'de'], ['n', 'ac'], ['p', 'all'], ['elli', 'ot'], ['ner', 'o'], ['pronoun', 'cement'], ['relationship', 's'], ['11', '1'], ['own', 'ers'], ['-', 'name'], ['black', 'out'], ['plant', 's'], ['legal', 'ity'], ['as', 'm'], ['jun', 'o'], ['apocaly', 'ptic'], ['philanthrop', 'y'], ['year', 'n'], ['sk', 'ipp'], ['tom', 'lin'], ['auth', 'ammer'], ['q', 'amish'], ['qamish', 'li'], ['princip', 'les'], ['dispos', 'able'], ['mal', 'function'], ['xav', 'ier'], ['re', 'cor']]\n",
      "iter_number :16000, voc_volume : 15905\n"
     ]
    },
    {
     "data": {
      "application/vnd.jupyter.widget-view+json": {
       "model_id": "9c5b6e86ea194d3ebd92e1902e9519b3",
       "version_major": 2,
       "version_minor": 0
      },
      "text/plain": [
       "  0%|          | 0/250 [00:00<?, ?it/s]"
      ]
     },
     "metadata": {},
     "output_type": "display_data"
    },
    {
     "name": "stdout",
     "output_type": "stream",
     "text": [
      "[['leon', 'ardo'], ['del', 'us'], ['fly', 'er'], ['bi', 'ome'], ['ci', 'ent'], ['planet', 'ary'], ['hard', 'core'], ['tuc', 'son'], ['v', 'amp'], ['hyster', 'ical'], ['y', 'ar'], ['h', 'aid'], ['mill', 'er'], ['heb', 'do'], ['fin', 'icum'], ['team', 's'], ['specific', 'ation'], ['harmon', 'ic'], ['ar', 'iat'], ['de', 'gener'], ['as', 'so'], ['ve', 'z'], ['pict', 'ures'], ['fan', 'atic'], ['wes', 'ley'], ['e', 'ater'], ['ar', 'che'], ['im', 'on'], ['struct', 'ure'], ['georg', 'ian'], ['gro', 'wer'], ['ab', 'hor'], ['s', 'inal'], ['sy', 'ed'], ['award', 's'], ['com', 'es'], ['de', 'lin'], ['in', 'hibit'], ['the', 'd'], ['yugoslav', 'ia'], ['hazard', 'ous'], ['as', 'th'], ['under', 'take'], ['ul', 'lah'], ['reimbur', 'se'], ['sum', 'med'], ['ul', 'ate'], ['keep', 'ing'], ['screen', 'shot'], ['roy', 'alty']]\n",
      "[['her', 'man'], ['f', 'gm'], ['mon', 'ten'], ['pro', 'publica'], ['b', 'led'], ['field', 's'], ['rav', 'ag'], ['personal', 'iz'], ['hua', 'wei'], ['mann', 'ed'], ['kilo', 'gram'], ['l', 'ank'], ['luck', 'ily'], ['fin', 'n'], ['tri', 'poli'], ['l', 'ub'], ['gam', 'bia'], ['def', 'lat'], ['campaign', 'er'], ['p', 'oul'], ['superior', 'ity'], ['ed', 'ic'], ['fer', 'ent'], ['mck', 'ay'], ['188', '5'], ['tribut', 'ary'], ['victor', 'ious'], ['u', 'ci'], ['jol', 't'], ['stal', 'wart'], ['ac', 'ek'], ['ust', 'on'], ['prim', 'etime'], ['paper', 's'], ['multi', 'pl'], ['he', 'em'], ['ep', 'it'], ['configur', 'ation'], ['ber', 'th'], ['dis', 'pleas'], ['el', 'ter'], ['seld', 'om'], ['obit', 'uary'], ['lat', 'ina'], ['sc', 'u'], ['clo', 'oney'], ['ninet', 'eenth'], ['upl', 'ift'], ['fighter', 's'], ['susp', 'ension']]\n",
      "[['sincer', 'ity'], ['uzbek', 'istan'], ['nad', 'al'], ['contem', 'por'], ['v', 'ex'], ['for', 'giv'], ['inf', 'ow'], ['insan', 'ity'], ['af', 'loat'], ['man', 'hunt'], ['land', 's'], ['ne', 'far'], ['nefar', 'ious'], ['vac', 'ancies'], ['baid', 'u'], ['nod', 'ded'], ['mal', 'i'], ['r', 'na'], ['caf', 'fe'], ['fod', 'der'], ['re', 'za'], ['district', 's'], ['prof', 'ic'], ['notice', 'able'], ['tox', 'in'], ['mc', 'gregor'], ['up', 'hill'], ['paramed', 'ic'], ['pix', 'el'], ['micro', 'scope'], ['run', 'away'], ['co', 'incidental'], ['di', 'as'], ['cheer', 'leader'], ['un', 'prepared'], ['cle', 'av'], ['mo', 'ss'], ['expert', 's'], ['up', 'scale'], ['kr', 'authammer'], ['promis', 'es'], ['fundrais', 'er'], ['y', 'g'], ['-', 'related'], ['ch', 'au'], ['gom', 'ez'], ['retro', 'spect'], ['hay', 'den'], ['s', 'me'], ['vern', 'on']]\n",
      "[['di', 'anne'], ['back', 'stage'], ['g', 'amer'], ['sp', 'artan'], ['v', 'c'], ['x', 'l'], ['aval', 'anche'], ['ber', 'gen'], ['place', 'bo'], ['dill', 'on'], ['quinn', 'ip'], ['quinnip', 'iac'], ['exe', 'c'], ['uk', '.'], ['rut', 'ger'], ['wp', 'games'], ['neighbor', 's'], ['kind', 'l'], ['not', 'at'], ['ga', 'e'], ['day', 'care'], ['bas', 'il'], ['ten', 'or'], ['l', 'ula'], ['mor', 'an'], ['ual', 'a'], ['jan', 'i'], ['bl', 'anc'], ['cr', 'am'], ['str', 'ife'], ['bush', 'es'], ['ec', 'centric'], ['l', 'omb'], ['har', 'med'], ['ang', 'st'], ['sh', 'um'], ['stump', 'f'], ['dif', 'fus'], ['priv', 'at'], ['sp', 'iegel'], ['madd', 'en'], ['pe', 'ck'], ['sun', 'k'], ['circum', 'vent'], ['po', 'ignant'], ['prof', 'its'], ['jeol', 'la'], ['tele', 'gram'], ['in', 'sensitive'], ['meth', 'amphetamine']]\n",
      "[['un', 'ethical'], ['ed', 'ison'], ['ie', 'ce'], ['reflect', 'ive'], ['madagas', 'car'], ['ce', 't'], ['warn', 'ed'], ['strong', 'man'], ['alex', 'a'], ['fr', 'as'], ['in', 'expl'], ['heart', 'en'], ['rod', 'ham'], ['de', 'pos'], ['propag', 'at'], ['so', 'o-'], ['sir', 'en'], ['voc', 'ation'], ['ow', 'ing'], ['auck', 'land'], ['in', 'flation'], ['yog', 'urt'], ['psychiat', 'ry'], ['rot', 'ten'], ['veget', 'arian'], ['sheld', 'on'], ['r', 'ice'], ['ma', 'hon'], ['mcca', 'be'], ['sinal', 'oa'], ['st', 'ant'], ['fallu', 'jah'], ['stri', 'king'], ['tor', 's'], ['un', 'hing'], ['cum', 'ulative'], ['express', 'way'], ['child', 'birth'], ['en', 'ary'], ['lun', 'cheon'], ['buoy', 'ed'], ['189', '5'], ['m', 'ow'], ['affect', 'ion'], ['news', 'week'], ['had', 'i'], ['don', 'o'], ['cr', 'ite'], ['tear', 's'], ['imperson', 'at']]\n",
      "iter_number :16250, voc_volume : 16152\n"
     ]
    },
    {
     "data": {
      "application/vnd.jupyter.widget-view+json": {
       "model_id": "bb5e5c83ec7c44a4a2bf5d596acf6bcb",
       "version_major": 2,
       "version_minor": 0
      },
      "text/plain": [
       "  0%|          | 0/250 [00:00<?, ?it/s]"
      ]
     },
     "metadata": {},
     "output_type": "display_data"
    },
    {
     "name": "stdout",
     "output_type": "stream",
     "text": [
      "[['n', 'ology'], ['par', 'cel'], ['uk', 'i'], ['sub', 'tropical'], ['if', 'ice'], ['b', 'auer'], ['cell', 'ular'], ['pam', 'ela'], ['archae', 'ology'], ['r', 'il'], ['sno', 'op'], ['hand', 'shake'], ['eval', 'uation'], ['inter', 'rog'], ['out', 'land'], ['outland', 'ish'], ['fer', 'ri'], ['conscious', 'ness'], ['pol', 'is'], ['ma', 'e'], ['con', 'cord'], ['resembl', 'ance'], ['amas', 'sed'], ['li', 'eu'], ['a', 'vers'], ['alex', 'i'], ['f', 'ate'], ['public', 'ly'], ['po', 'hang'], ['sens', 'ibility'], ['sh', 'run'], ['in', 'scription'], ['mas', 'cot'], ['j', 'og'], ['got', 't'], ['delus', 'ional'], ['neuro', 'science'], ['k', 'eral'], ['keral', 'a'], ['mc', 'cart'], ['gaff', 'ney'], ['oat', 'is'], ['migrant', 's'], ['cal', 'f'], ['sal', 'a'], ['ad', 'ol'], ['fac', 'ade'], ['mon', 'aco'], ['as', 'ant'], ['annoy', 'ed']]\n",
      "[['bu', 'ch'], ['infow', 'ars'], ['il', 'i'], ['indi', 'e'], ['horn', 'acek'], ['boo', 'z'], ['re', 'ced'], ['human', 'iz'], ['ar', 'am'], ['rand', 'all'], ['log', 'istical'], ['gu', 'bernat'], ['gubernat', 'orial'], ['po', 'etic'], ['medi', 'o'], ['occup', 'ies'], ['diet', 'ary'], ['sher', 'lock'], ['goth', 'ic'], ['comed', 'ies'], ['grand', 'ma'], ['road', 'way'], ['r', 's'], ['creat', 'ed'], ['adult', 's'], ['ro', 'oney'], ['nul', 'lif'], ['v', 'ince'], ['asth', 'ma'], ['dias', 'por'], ['bear', 'er'], ['solem', 'n'], ['in', 'ex'], ['ma', 'ver'], ['critic', 's'], ['enthusiastic', 'ally'], ['pe', 'z'], ['dis', 'satisfaction'], ['cunning', 'ham'], ['re', 'design'], ['park', 'inson'], ['petro', 'bras'], ['el', 'ia'], ['str', 'anahan'], ['key', 'not'], ['ko', 'o'], ['h', 'wa'], ['council', 'or'], ['eu', 'than'], ['bet', 'a']]\n",
      "[['jo', 'ckey'], ['on', 'screen'], ['pr', 'av'], ['nel', 'ly'], ['green', 'wich'], ['hort', 'on'], ['de', 'funct'], ['cardi', 'ac'], ['pessim', 'istic'], ['dam', 'on'], ['ion', 'ism'], ['sw', 'ung'], ['un', 'sustainable'], ['han', 'son'], ['mus', 'sol'], ['gu', 'ad'], ['pia', 'zza'], ['tele', 'prom'], ['wh', 'al'], ['fix', 'at'], ['slam', 'm'], ['down', 'stream'], ['schill', 'ing'], ['t', 'ad'], ['n', 'j'], ['mand', 'y'], ['per', 'ish'], ['an', 'u'], ['neuro', 'surgeon'], ['mar', 'r'], ['occup', 'ier'], ['solar', 'city'], ['y', 'i'], ['rivers', 'ide'], ['hesit', 'ant'], ['string', 'ent'], ['nicar', 'agua'], ['en', 'ko'], ['th', 'o'], ['treat', 'ed'], ['polit', 'ifact'], ['189', '2'], ['param', 'il'], ['nas', 'cent'], ['moment', 's'], ['fin', 'it'], ['sche', 'dule'], ['at', 'ives'], ['w', 'c'], ['ta', 'ek']]\n",
      "[['lock', 'down'], ['mussol', 'ini'], ['kum', 'ar'], ['ador', 'n'], ['impl', 'or'], ['han', 'wha'], ['sun', 'rise'], ['dilig', 'ence'], ['indif', 'ferent'], ['mu', 'barak'], ['resolut', 'e'], ['un', 'imaginable'], ['de', 'o'], ['b', 'ilt'], ['right', 'ful'], ['represent', 'ed'], ['un', 'load'], ['warner', 'th'], ['warnerth', 'uston'], ['rhy', 'm'], ['russian', 's'], ['heung-', 'min'], ['jo', 'on'], ['inval', 'id'], ['gentr', 'ification'], ['compl', 'ied'], ['bl', 'anch'], ['handcu', 'ffed'], ['dmit', 'ry'], ['job', 'less'], ['olog', 'ic'], ['ib', 'us'], ['an', 'gr'], ['sim', 'mer'], ['maver', 'ick'], ['lect', 'ic'], ['teleprom', 'pter'], ['water', 's'], ['ig', 'colonel'], ['rival', 's'], ['dis', 'integrat'], ['den', 'igrat'], ['heav', 'ier'], ['counter', 'measure'], ['un', 'manned'], ['al', 'am'], ['se', 'p'], ['sch', 'uster'], ['kor', 'an'], ['dip', 'ped']]\n",
      "[['gold', 'stein'], ['white', 'house'], ['le', 'page'], ['re', 'brand'], ['geome', 'try'], ['d', 'unk'], ['ed', 'en'], ['ind', 'a'], ['hospital', 'ization'], ['diarr', 'hea'], ['inclin', 'ation'], ['jo', 'aqu'], ['byz', 'antine'], ['reassur', 'ance'], ['o', 'as'], ['ay', 'atol'], ['ayatol', 'lah'], ['venge', 'ance'], ['wal', 'ton'], ['non', 'violent'], ['nam', 'o'], ['yan', 'uk'], ['sh', 'atter'], ['us', 'ky'], ['phil', 'ando'], ['ill', 'ustration'], ['social', 'iz'], ['na', 'j'], ['20', '24'], ['ind', 'ign'], ['t', 'ug'], ['ped', 'oph'], ['log', 'ged'], ['del', 'usion'], ['di', 'x'], ['bl', 'm'], ['fr', 'az'], ['mark', 'er'], ['follow', 'ed'], ['victim', 'iz'], ['effic', 'acy'], ['se', 'ong-'], ['mother', 'hood'], ['doubt', 'ful'], ['ber', 'ries'], ['gio', 'v'], ['do', 'b'], ['g', 'c'], ['ij', 'ah'], ['ol', 'iv']]\n",
      "iter_number :16500, voc_volume : 16393\n"
     ]
    },
    {
     "data": {
      "application/vnd.jupyter.widget-view+json": {
       "model_id": "18350c8d935247d89124aacdfe3d3153",
       "version_major": 2,
       "version_minor": 0
      },
      "text/plain": [
       "  0%|          | 0/250 [00:00<?, ?it/s]"
      ]
     },
     "metadata": {},
     "output_type": "display_data"
    },
    {
     "name": "stdout",
     "output_type": "stream",
     "text": [
      "[['ant', 'enna'], ['cat', 'o'], ['namib', 'ia'], ['ft', 'se'], ['cott', 'age'], ['c', 'ac'], ['qu', 'el'], ['speech', 'writer'], ['bar', 's'], ['promis', 'e'], ['fut', 'ur'], ['sof', 'a'], ['burden', 'some'], ['arch', 'ipel'], ['shr', 'imp'], ['lat', 'ed'], ['prof', 'ile'], ['diaspor', 'a'], ['om', 'ission'], ['py', 'ro'], ['krist', 'en'], ['privile', 'ge'], ['goog', 'le'], ['remov', 'ed'], ['su', 'its'], ['r', 'umbl'], ['d', 'azz'], ['tv', 's'], ['jo', 'on-'], ['won', '-'], ['buk', '-do'], ['locomot', 'ive'], ['cardio', 'vascular'], ['agu', 'ay'], ['ily', 'n'], ['ar', 'thr'], ['mund', 'ane'], ['el', 'vis'], ['sh', 'on'], ['te', 'pid'], ['payment', 's'], ['c', 'offer'], ['ide', 'ologue'], ['coal', 'esc'], ['best', 'seller'], ['unic', 'orn'], ['dispens', 'able'], ['in', 'do'], ['ord', 'ained'], ['err', 'one']]\n",
      "[['errone', 'ous'], ['adel', 'son'], ['griff', 'ith'], ['nest', 'l'], ['s', 'ikh'], ['smu', 'g'], ['brussel', 's'], ['re', 'organiz'], ['s', 'lander'], ['bod', 'ily'], ['sudan', 'ese'], ['liv', 'ed'], ['ench', 'on'], ['pack', 'et'], ['door', 'step'], ['syn', 'c'], ['om', 'en'], ['sn', 'iff'], ['sieg', 'el'], ['destroy', 'ed'], ['10', '4'], ['archipel', 'ago'], ['buil', 'dup'], ['mission', 'aries'], ['allerg', 'ies'], ['ch', 'rome'], ['thi', 'ef'], ['air', 'borne'], ['ak', 'u'], ['desk', 'top'], ['mobil', 'ization'], ['spr', 'out'], ['pre', 'valence'], ['x', 'y'], ['kg', 'b'], ['lu', 'ci'], ['spin', 'off'], ['in', 'defensible'], ['end', 'on'], ['cros', 'sover'], ['con', 'centr'], ['sh', 'unn'], ['son', 'ia'], ['walk', 'er'], ['sun', 'glasses'], ['des', 'cript'], ['sc', 'atter'], ['bread', 'th'], ['assert', 'ive'], ['ist', 's']]\n",
      "[['real', 'clear'], ['al', 'in'], ['q', '.'], ['mc', 'ado'], ['mcado', 'o'], ['collap', 'se'], ['re', 'mitt'], ['dist', 'ance'], ['road', 'side'], ['ess', 'on'], ['to', 'sh'], ['id', 'ian'], ['dal', 'ton'], ['re', 'print'], ['she', 'ffield'], ['c', '1'], ['project', 'ions'], ['scop', 'ic'], ['prefer', 'ential'], ['rep', 'ell'], ['daw', 'son'], ['ban', 'ter'], ['po', 'c'], ['st', 'ink'], ['w', 'ack'], ['re', 'mix'], ['prim', 'ate'], ['bra', 'very'], ['clue', 'less'], ['en', 'larg'], ['ming', 'l'], ['incar', 'nat'], ['bust', 'l'], ['g', 'b'], ['island', 'er'], ['exchang', 'e'], ['hy', 'mn'], ['per', 'plex'], ['bot', 'ched'], ['cond', 'ens'], ['ik', 'en'], ['gle', 'eful'], ['part', 's'], ['con', 'cussion'], ['moral', 'iz'], ['sl', 'apped'], ['ent', 'our'], ['bang', 'kok'], ['hum', 'orous'], ['h', 'ague']]\n",
      "[['18', '50'], ['chromo', 'some'], ['accredit', 'ed'], ['kend', 'all'], ['delight', 'ful'], ['und', 'one'], ['app', 'y'], ['s', 'cept'], ['radical', 'ism'], ['da', 'uman'], ['red', 'und'], ['liquid', 'ity'], ['1', '-'], ['cere', 'bral'], ['re', 'production'], ['metabol', 'ism'], ['ish', 'i'], ['ambi', 'que'], ['n', 'ah'], ['refer', 'ral'], ['respons', 'ibly'], ['al', 'ist'], ['dal', 'gle'], ['dalgle', 'ish'], ['lam', 'bast'], ['ye', 'ou'], ['criminal', 'ity'], ['al', 'mond'], ['az', 'iz'], ['ampl', 'ified'], ['so', 'chi'], ['hab', 'i'], ['f', 'au'], ['socio', 'economic'], ['sou', 'za'], ['pun', 'ished'], ['un', 'sc'], ['mal', 'ign'], ['tar', 'nish'], ['ward', 'robe'], ['mil', 'ton'], ['an', 'os'], ['ches', 'ape'], ['chesape', 'ake'], ['wag', 'es'], ['reform', 's'], ['retire', 'e'], ['str', 'angl'], ['al', 'k'], ['entour', 'age']]\n",
      "[['wil', 'bur'], ['50', 'th'], ['l', 'ush'], ['or', 'nament'], ['den', 'iable'], ['viewer', 'ship'], ['f', 'lier'], ['b', 'oun'], ['med', 'ina'], ['oc', 'ulus'], ['propri', 'etary'], ['der', 'dale'], ['a', 'ol'], ['haram', 'be'], ['humph', 'rey'], ['bel', 'ich'], ['te', 'bow'], ['sel', 'ma'], ['sn', 'ub'], ['rob', 'by'], ['c', 'ach'], ['re', 'surfac'], ['folk', 's'], ['traum', 'atiz'], ['wr', 'inkl'], ['spark', 'l'], ['rain', 'y'], ['moz', 'ambique'], ['pho', 'sp'], ['ci', 'ous'], ['11', '7'], ['fidel', 'ity'], ['bon', 'o'], ['188', '8'], ['aus', 'ch'], ['endur', 'ance'], ['over', 'ture'], ['s', 'bury'], ['ing', 'raham'], ['en', 'zi'], ['man', 'sion'], ['auster', 'ity'], ['an', 'om'], ['mar', 'ina'], ['ver', 'sat'], ['to', 'ire'], ['absurd', 'ity'], ['bulgar', 'ian'], ['op', 'el'], ['hod', 'ge']]\n",
      "iter_number :16750, voc_volume : 16638\n"
     ]
    },
    {
     "data": {
      "application/vnd.jupyter.widget-view+json": {
       "model_id": "11f1b401cec24dd390b8c78f1b6fb1ba",
       "version_major": 2,
       "version_minor": 0
      },
      "text/plain": [
       "  0%|          | 0/250 [00:00<?, ?it/s]"
      ]
     },
     "metadata": {},
     "output_type": "display_data"
    },
    {
     "name": "stdout",
     "output_type": "stream",
     "text": [
      "[['lo', 'qu'], ['su', 'itor'], ['fel', 'onies'], ['impro', 'pri'], ['st', 'av'], ['crow', 'ley'], ['rup', 'tur'], ['dav', 'ie'], ['non', 'stop'], ['grow', 'ing'], ['fashion', 'able'], ['connect', 'ivity'], ['un', 'available'], ['pediatric', 'ian'], ['john', 'ston'], ['ag', 'her'], ['rober', 'to'], ['per', 'sky'], ['am', 'ri'], ['ed', 'own'], ['um', 'ber'], ['belich', 'ick'], ['w', 'we'], ['al', 'pin'], ['dem', 'ur'], ['capt', 'ivat'], ['suf', 'fr'], ['tr', 'inid'], ['youth', 'ful'], ['in', 'ous'], ['repl', 'ica'], ['angr', 'ily'], ['ol', 'ivia'], ['antis', 'emit'], ['vander', 'bilt'], ['fre', 'sno'], ['ba', 'ja'], ['lo', 'ans'], ['full', '-time'], ['new', 'castle'], ['pr', 'en'], ['kne', 'el'], ['ax', 'e'], ['f', 'sb'], ['j', 'el'], ['glam', 'our'], ['189', '3'], ['warrant', 'ed'], ['tak', 'ata'], ['at', 'ing']]\n",
      "[['ar', 'ous'], ['den', 'se'], ['gain', 's'], ['vide', 'os'], ['ha', 'e'], ['har', 'r'], ['p', 'ony'], ['gar', 'lic'], ['g', 'and'], ['sub', 'vert'], ['el', 'ijah'], ['ba', 'ier'], ['syn', 'der'], ['f', 'allow'], ['fir', 'ing'], ['le', 'uk'], ['fa', 'ulty'], ['e', 'bay'], ['pret', 'ext'], ['t', 'ian'], ['x', '-'], ['land', 'fill'], ['ir', 'reversible'], ['jul', 'ius'], ['cl', 'if'], ['con', 'fluence'], ['bas', 'ement'], ['post', 'war'], ['de', 'fraud'], ['stad', 't'], ['st', 'un'], ['so', 're'], ['falk', 'land'], ['evac', 'uation'], ['n', 'ip'], ['fer', 'n'], ['ar', 'in'], ['s', 'ical'], ['in', 'eligible'], ['pal', 'e'], ['anth', 'ology'], ['fire', 'wall'], ['young', 'ster'], ['bl', 'iss'], ['pax', 'ton'], ['sand', 'usky'], ['le', 'in'], ['din', 'er'], ['rat', 'ings'], ['yeou', 'ido']]\n",
      "[['four', '-'], ['a', 'quar'], ['const', 'ellation'], ['h', 'ulu'], ['pl', 'otted'], ['z', 'ur'], ['bak', 'r'], ['bal', 'ance'], ['tor', 'ies'], ['realclear', 'politics'], ['br', 'ist'], ['w', 'itting'], ['yan', 'ez'], ['ade', 'll'], ['bl', 'er'], ['en', 'shr'], ['renov', 'a'], ['matt', 'ress'], ['lif', 'eline'], ['fire', 'place'], ['darr', 'en'], ['par', 'able'], ['mud', 'dy'], ['f', 'man'], ['anthropolog', 'ist'], ['break', 'out'], ['rh', 'ino'], ['silver', 'man'], ['par', 's'], ['mon', 'iker'], ['yanuk', 'ovy'], ['yanukovy', 'ch'], ['dall', 'as'], ['gre', 'es'], ['labor', 'er'], ['spr', 'inkl'], ['it', 'aries'], ['uter', 'us'], ['worth', 'iness'], ['intr', 'icate'], ['over', 'react'], ['list', 's'], ['over', 'lapp'], ['criminal', 's'], ['bereav', 'ed'], ['vel', 'ocity'], ['ref', 'urb'], ['arthr', 'itis'], ['king', 'ston'], ['synder', 'gaard']]\n",
      "[['sch', 'ul'], ['card', 's'], ['em', 'at'], ['este', 'em'], ['b', 'ild'], ['ev', 'ara'], ['tal', 'lest'], ['squ', 'ash'], ['skin', 'ny'], ['tempt', 'ed'], ['bur', 'un'], ['id', 'an'], ['rend', 'ition'], ['flash', 'back'], ['ho', 'be'], ['kaka', 'o'], ['shap', 'ed'], ['so', 'ok'], ['tire', 'less'], ['ad', 'ic'], ['wet', 'land'], ['pu', 'ff'], ['mans', 'our'], ['or', 'io'], ['j', 's'], ['no', 'se'], ['turbul', 'ence'], ['maid', 'en'], ['comput', 'ational'], ['bre', 'v'], ['point', 'ed'], ['dis', 'place'], ['natural', 'iz'], ['ha', 'e-'], ['vi', 'o'], ['y', 'am'], ['as', 'ym'], ['ec', 'to'], ['ten', 'se'], ['whis', 'key'], ['dis', 'information'], ['increas', 'e'], ['enshr', 'in'], ['eun', '-'], ['3', '-'], ['vik', 'tor'], ['quant', 'itative'], ['professional', 'ism'], ['stick', 'y'], ['patri', 'archy']]\n",
      "[['lump', 'ur'], ['tw', 'il'], ['gu', 'evara'], ['un', 'classified'], ['eigh', 'teen'], ['lim', 'p'], ['po', 'on'], ['cut', 'ter'], ['lau', 'derdale'], ['tumbl', 'r'], ['un', 'ease'], ['wi', 'i'], ['int', 'y'], ['bless', 'ing'], ['h', 'ater'], ['lik', 'ely'], ['assass', 'ination'], ['and', '-'], ['confidential', 'ity'], ['prim', 'itive'], ['re', 'par'], ['con', 'cil'], ['imagin', 'ary'], ['rest', 'less'], ['gl', 'itch'], ['ol', 'son'], ['red', 'oubt'], ['de', 'cry'], ['aven', 'ger'], ['under', 'tak'], ['normal', 'ization'], ['11', '6'], ['ne', 'on'], ['pro', 'dig'], ['n', 'ance'], ['s', 'se'], ['189', '9'], ['cl', 'amp'], ['predat', 'ory'], ['beg', 'ged'], ['amal', 'gam'], ['therap', 'ies'], ['screen', 'writer'], ['eng', 'el'], ['minis', 'eries'], ['head', 's'], ['interview', 's'], ['comm', 'uter'], ['meteor', 'ologist'], ['refurb', 'ish']]\n",
      "iter_number :17000, voc_volume : 16885\n"
     ]
    },
    {
     "data": {
      "application/vnd.jupyter.widget-view+json": {
       "model_id": "e0a8af7e214649cc87011eedcf3b2141",
       "version_major": 2,
       "version_minor": 0
      },
      "text/plain": [
       "  0%|          | 0/250 [00:00<?, ?it/s]"
      ]
     },
     "metadata": {},
     "output_type": "display_data"
    },
    {
     "name": "stdout",
     "output_type": "stream",
     "text": [
      "[['sew', 'age'], ['cy', 'rus'], ['m', 'itter'], ['her', 'n'], ['ann', 'ah'], ['semin', 'ary'], ['shad', 'y'], ['ab', 'i'], ['ambig', 'uity'], ['nor', 'dic'], ['m', 'ire'], ['fut', 'ile'], ['kim', 'ber'], ['188', '9'], ['ale', 'j'], ['den', 'ier'], ['p', 'ied'], ['ack', 'man'], ['re', 'ais'], ['pain', 'ter'], ['intr', 'ud'], ['it', 'ic'], ['laugh', 'able'], ['18', '62'], ['qu', 'ette'], ['shame', 'less'], ['web', 'ster'], ['tax', 'onom'], ['we', 'ary'], ['fair', 'fax'], ['newfound', 'land'], ['ch', 'ik'], ['fraz', 'ier'], ['laur', 'i'], ['right', 'wing'], ['confront', 'ational'], ['geun', '-hye'], ['depriv', 'ation'], ['dev', 'out'], ['unic', 'ef'], ['invent', 'ories'], ['angl', 'ican'], ['reg', 'ent'], ['gen', 'i'], ['wr', 'ench'], ['to', 'ma'], ['ant', 'agonist'], ['furn', 'ish'], ['whit', 'man'], ['post', 'ing']]\n",
      "[['shot', 's'], ['pick', 'l'], ['sub', 'titl'], ['ren', 'ounc'], ['develop', 'ed'], ['aqu', 'atic'], ['par', 'aguay'], ['en', 'za'], ['bl', 'asp'], ['ra', 'heem'], ['novel', 'ty'], ['st', 'in'], ['10', '9'], ['pe', 'ek'], ['hous', 'ing'], ['l', 'ick'], ['t', 'ink'], ['or', 's'], ['z', 'ack'], ['is', 'l'], ['sa', 'under'], ['to', 'k'], ['ou', 'ched'], ['un', 'finished'], ['cylin', 'der'], ['viol', 'a'], ['polic', 'emen'], ['spo', 'ok'], ['cour', 'ty'], ['interest', 'ed'], ['check', 'ed'], ['stig', 'mat'], ['plural', 'ity'], ['mc', 'cor'], ['sark', 'ozy'], ['place', '-name'], ['grant', 'ed'], ['embe', 'zzl'], ['sn', 's'], ['pe', 'i'], ['lux', 'ur'], ['hel', 'sink'], ['helsink', 'i'], ['any', 'a'], ['scan', 'ner'], ['on', 'dr'], ['goo', 'dell'], ['kob', 'ach'], ['tax', 'on'], ['train', 'er']]\n",
      "[['35', '.'], ['intern', 'ship'], ['f', 'ont'], ['respect', 'able'], ['brun', 'o'], ['bad', 'er'], ['fis', 'cher'], ['th', 'on'], ['d', 'ri'], ['cu', 'ous'], ['ang', 'lo'], ['exp', 'on'], ['expon', 'ential'], ['k', 'ah'], ['leg', 'ion'], ['clas', 'ses'], ['re', 'district'], ['sil', 'ence'], ['requirement', 's'], ['auth', 'ent'], ['H', 'y'], ['and', 'ra'], ['farm', 'land'], ['concentr', 'ation'], ['murder', 'ous'], ['un', 'deniable'], ['sar', 'in'], ['destruct', 'ion'], ['ham', 'burger'], ['on', 'er'], ['tre', 'acher'], ['ch', 'ir'], ['r', 'appro'], ['rappro', 'che'], ['act', 's'], ['less', 'en'], ['sy', 'rup'], ['sav', 'ory'], ['triumph', 'ant'], ['third', '-year'], ['budd', 'hism'], ['ac', 'ce'], ['d', 'pr'], ['bur', 'ma'], ['li', 'ang'], ['bell', 'iger'], ['ib', 'al'], ['vamp', 'ire'], ['fe', 'y'], ['alban', 'ia']]\n",
      "[['newsc', 'ast'], ['en', 'dear'], ['boy', 's'], ['inject', 'ion'], ['in', 'sin'], ['wo', 'ok'], ['v', 'ial'], ['tro', 'jan'], ['led', 'ger'], ['pri', 'ze'], ['188', '2'], ['sun', 'dance'], ['all', 'an'], ['show', 'time'], ['cig', 'ar'], ['con', 'stru'], ['suf', 'fo'], ['rescu', 'er'], ['dazz', 'l'], ['mountain', 'ous'], ['je', 'ong-'], ['al', 'ga'], ['sevent', 'een'], ['william', 'son'], ['40', '.'], ['eg', 'ro'], ['hall', 'uc'], ['tac', 'it'], ['ench', 'ant'], ['z', 'iel'], ['wall', 's'], ['veto', 'es'], ['abbre', 'viat'], ['dis', 'satisfied'], ['pro', '-'], ['bear', 'able'], ['sy', 'ner'], ['heart', 'ed'], ['un', 'seen'], ['mc', 'il'], ['c', 'ake'], ['en', 'zo'], ['ch', 'ow'], ['shir', 'ley'], ['cow', 'ork'], ['favor', 'ability'], ['rosen', 'berg'], ['rat', 'chet'], ['ak', 'bar'], ['al', 'bu']]\n",
      "[['entertain', 'er'], ['ye', 'o'], ['seism', 'ic'], ['doesn', \"'t\"], ['honey', 'moon'], ['bay', 'er'], ['at', 'um'], ['189', '4'], ['lim', 'its'], ['hand', 'le'], ['hy', 'a'], ['jes', 'uit'], ['incre', 'dul'], ['ick', 'er'], ['co', 'ahu'], ['coahu', 'ila'], ['under', 'perform'], ['out', 'pour'], ['per', 'mitt'], ['top', 'p'], ['gaz', 'ett'], ['rect', 'i'], ['-', '10'], ['re', 'preh'], ['in', 'dispensable'], ['unt', 'ouched'], ['sop', 'rano'], ['y', 'ok'], ['raz', 'or'], ['99', '.'], ['im', 'probable'], ['bright', 'est'], ['test', 'ed'], ['wol', 'ver'], ['detriment', 'al'], ['g', 'mail'], ['gl', 'itter'], ['mal', 'ay'], ['five', 'thirty'], ['fivethirty', 'eight'], ['call', 'ous'], ['good', 's'], ['dis', 'solut'], ['tro', 'oper'], ['ap', '.'], ['diss', 'ipat'], ['che', 'ol'], ['moist', 'ure'], ['serv', 'ed'], ['i', 'ard']]\n",
      "iter_number :17250, voc_volume : 17130\n"
     ]
    },
    {
     "data": {
      "application/vnd.jupyter.widget-view+json": {
       "model_id": "ecf90bc896a540829f3efc9974429ba9",
       "version_major": 2,
       "version_minor": 0
      },
      "text/plain": [
       "  0%|          | 0/250 [00:00<?, ?it/s]"
      ]
     },
     "metadata": {},
     "output_type": "display_data"
    },
    {
     "name": "stdout",
     "output_type": "stream",
     "text": [
      "[['m', 'ou'], ['new', 'town'], ['r', 'era'], ['pin', 'point'], ['un', 'resolved'], ['ge', 'ek'], ['anti', 'que'], ['ho', 'v'], ['fa', 'ul'], ['evol', 'ent'], ['p', 'awn'], ['out', 'perform'], ['d', 't'], ['appalach', 'ian'], ['p', 'ann'], ['de', 'grees'], ['headquarter', 's'], ['mot', 'if'], ['comp', 'uls'], ['compuls', 'ory'], ['ance', 'stral'], ['at', 'al'], ['con', 'feder'], ['clus', 'ivity'], ['jur', 'ist'], ['id', 'en'], ['iv', 'ist'], ['b', 'ce'], ['cause', 's'], ['deleg', 'ation'], ['gro', 'ov'], ['im', 'prompt'], ['g', 'ong'], ['n', 's'], ['in', 'flow'], ['pos', 'co'], ['trinid', 'ad'], ['ap', 'prais'], ['g', 'iz'], ['steal', 'th'], ['la', 'zar'], ['bed', 'rock'], ['hath', 'away'], ['discrep', 'ancy'], ['anim', 'us'], ['is', 'le'], ['k', 'ow'], ['f', 'aux'], ['mccart', 'ney'], ['w', 'ob']]\n",
      "[['pay', 'ne'], ['up', 'shot'], ['ida', 'e'], ['solut', 'ions'], ['follow', 'ers'], ['mal', 'ta'], ['thi', 'an'], ['provid', 'ence'], ['nostalg', 'ic'], ['ph', 'arma'], ['en', 'ne'], ['bio', 'grapher'], ['tuck', 'ed'], ['axel', 'rod'], ['hal', 'v'], ['re', 'generat'], ['rid', 'dl'], ['aug', 'mented'], ['k', 'c'], ['repreh', 'ensible'], ['addict', 'ive'], ['10', '7'], ['bi', 'j'], ['pic', 'nic'], ['nu', 'ck'], ['manage', 'able'], ['ob', 'scene'], ['so', 'ho'], ['qu', 'ell'], ['anecdot', 'al'], ['misogyn', 'ist'], ['fer', 'oci'], ['feroci', 'ous'], ['re', 'eve'], ['cast', 'illo'], ['am', 'put'], ['ten', 'able'], ['conversation', 's'], ['se', 'aside'], ['ut', 'tar'], ['termin', 'ology'], ['ang', 'us'], ['plagiar', 'ism'], ['cop', 'ied'], ['ap', 'est'], ['footh', 'old'], ['cris', 'pr'], ['ende', 'z'], ['return', 'ed'], ['com', 'ical']]\n",
      "[['elit', 'ist'], ['cal', 'gary'], ['gre', 'ens'], ['cle', 'ment'], ['spl', 'inter'], ['laugh', 'ing'], ['h', 'ance'], ['zen', 'ef'], ['ent', 'angle'], ['viewer', 's'], ['2', '25'], ['j', 'ing'], ['abdom', 'en'], ['rat', 'ification'], ['mir', 'ac'], ['shar', 'if'], ['con', 'rad'], ['con', 'current'], ['un', 'solved'], ['depend', 'ency'], ['b', 'rom'], ['c', 'indy'], ['caffe', 'ine'], ['en', 'closure'], ['william', 'sburg'], ['kel', 'ley'], ['shap', 'e'], ['weal', 'thier'], ['pound', 's'], ['abort', 'ions'], ['suffo', 'cat'], ['authent', 'icat'], ['cess', 'ation'], ['fix', 'ed'], ['y', 'up'], ['sm', 'en'], ['sale', 'h'], ['club', 'house'], ['super', 'natural'], ['sd', 'f'], ['str', 'ap'], ['ch', 'eng'], ['lay', 'out'], ['v', 'angu'], ['vangu', 'ard'], ['m', 'eryl'], ['new', 'port'], ['s', 'ism'], ['palat', 'able'], ['hero', 'ism']]\n",
      "[['fle', 'm'], ['br', 'atton'], ['un', 'welcom'], ['mid', 'day'], ['reflect', 'ion'], ['dust', 'y'], ['cour', 'ier'], ['pr', 'ist'], ['bud', 'apest'], ['h', 'p'], ['18', '30'], ['beet', 'le'], ['denom', 'inat'], ['enc', 'roach'], ['hut', 'chin'], ['experienc', 'es'], ['us', '-'], ['go', 'yang'], ['le', 'go'], ['v', 'ista'], ['e', 'el'], ['mar', 'ilyn'], ['vin', 'son'], ['neglig', 'ent'], ['compart', 'ment'], ['pu', 'e'], ['pl', 'ut'], ['cl', 'ap'], ['fi', 'ji'], ['lab', 'rador'], ['h', 'af'], ['soph', 'ie'], ['alban', 'ian'], ['in', 'un'], ['de', 'volv'], ['vap', 'or'], ['ar', 'ial'], ['li', 'que'], ['n', 'guy'], ['home', 'grown'], ['gi', 'bral'], ['be', 'i'], ['re', 'vert'], ['en', 'vy'], ['mon', 'et'], ['ad', 'mon'], ['di', 'aper'], ['sid', 'ney'], ['co', 'g'], ['ac', 'ial']]\n"
     ]
    }
   ],
   "source": [
    "from util_func import bpe_vocab_iteration\n",
    "\n",
    "def json_save(data, f_name):\n",
    "    import json\n",
    "    json = json.dumps(data)\n",
    "    with open(f_name +\".json\",\"w\") as f:\n",
    "        f.write(json) \n",
    "\n",
    "def json_read(f_name):\n",
    "    import json\n",
    "    with open(f_name) as f:\n",
    "        return json.load(f)\n",
    "\n",
    "\n",
    "path = 'data/bpe_iter/'\n",
    "\n",
    "step_from_start = 10000\n",
    "iter_size = 10000\n",
    "step_size = 250\n",
    "\n",
    "if step_from_start == 0:\n",
    "    vocabs = json_read('data/en_vocabs/vocabs.json')\n",
    "    vocabs = {' '.join([c for c in k]):v for k,v in vocabs.items()}\n",
    "    vocabs_freq = {}\n",
    "    json_save(vocabs,path+'vocabs'+str(0))\n",
    "    json_save(vocabs_freq,path+'vocs_freq'+str(0))\n",
    "\n",
    "new_bpe_vocabs, vocabs_freq =bpe_vocab_iteration(path, iter_size,step_from_start, step_size)"
   ]
  },
  {
   "cell_type": "code",
   "execution_count": null,
   "id": "advanced-destiny",
   "metadata": {},
   "outputs": [],
   "source": []
  }
 ],
 "metadata": {
  "kernelspec": {
   "display_name": "Python 3",
   "language": "python",
   "name": "python3"
  },
  "language_info": {
   "codemirror_mode": {
    "name": "ipython",
    "version": 3
   },
   "file_extension": ".py",
   "mimetype": "text/x-python",
   "name": "python",
   "nbconvert_exporter": "python",
   "pygments_lexer": "ipython3",
   "version": "3.7.9"
  }
 },
 "nbformat": 4,
 "nbformat_minor": 5
}
